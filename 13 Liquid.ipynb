{
 "cells": [
  {
   "cell_type": "markdown",
   "metadata": {
    "application/vnd.databricks.v1+cell": {
     "cellMetadata": {
      "byteLimit": 2048000,
      "rowLimit": 10000
     },
     "inputWidgets": {},
     "nuid": "3672252f-27a8-4d60-acc3-99a2f0e6fdbd",
     "showTitle": false,
     "tableResultSettingsMap": {},
     "title": ""
    }
   },
   "source": [
    "# It would be great if there could be\n",
    "- Incremental Clustering\n",
    "- Flexibility to change columns\n",
    "- Avoid rewriting all the data\n",
    "- Use better algorithm then Z order\n",
    "- Visibility for end user  in table definition , i.e  DESCRIBE DETAIL \n",
    "- Define optimization techniques  during  CREATE TABLE"
   ]
  },
  {
   "cell_type": "markdown",
   "metadata": {
    "application/vnd.databricks.v1+cell": {
     "cellMetadata": {
      "byteLimit": 2048000,
      "rowLimit": 10000
     },
     "inputWidgets": {},
     "nuid": "d67fe98a-b945-4c32-bb8e-ea438570ebea",
     "showTitle": false,
     "tableResultSettingsMap": {},
     "title": ""
    }
   },
   "source": [
    "#Hilburt curver \n",
    "a continuous fractal space-filling curve as a multi-dimensional clustering technique for Liquid , which significantly improves data skipping over ZORDER"
   ]
  },
  {
   "cell_type": "markdown",
   "metadata": {
    "application/vnd.databricks.v1+cell": {
     "cellMetadata": {
      "byteLimit": 2048000,
      "rowLimit": 10000
     },
     "inputWidgets": {},
     "nuid": "2ec983d6-f4dc-4616-8811-2211c55f644e",
     "showTitle": false,
     "tableResultSettingsMap": {},
     "title": ""
    }
   },
   "source": [
    "**Clustered Table**"
   ]
  },
  {
   "cell_type": "code",
   "execution_count": 0,
   "metadata": {
    "application/vnd.databricks.v1+cell": {
     "cellMetadata": {
      "byteLimit": 2048000,
      "rowLimit": 10000
     },
     "inputWidgets": {},
     "nuid": "21e137e6-403d-4ae8-b032-a46dc364f94f",
     "showTitle": false,
     "tableResultSettingsMap": {},
     "title": ""
    }
   },
   "outputs": [
    {
     "output_type": "execute_result",
     "data": {
      "text/plain": [
       "True"
      ]
     },
     "execution_count": 1,
     "metadata": {},
     "output_type": "execute_result"
    }
   ],
   "source": [
    "%python\n",
    "dbutils.fs.rm(\"dbfs:/user/hive/warehouse/flight_data_lc\",True)"
   ]
  },
  {
   "cell_type": "code",
   "execution_count": 0,
   "metadata": {
    "application/vnd.databricks.v1+cell": {
     "cellMetadata": {
      "byteLimit": 2048000,
      "rowLimit": 10000
     },
     "inputWidgets": {},
     "nuid": "1c02a51c-d713-497e-abdc-62a6475310cd",
     "showTitle": false,
     "tableResultSettingsMap": {},
     "title": ""
    }
   },
   "outputs": [
    {
     "output_type": "display_data",
     "data": {
      "text/html": [
       "<style scoped>\n",
       "  .table-result-container {\n",
       "    max-height: 300px;\n",
       "    overflow: auto;\n",
       "  }\n",
       "  table, th, td {\n",
       "    border: 1px solid black;\n",
       "    border-collapse: collapse;\n",
       "  }\n",
       "  th, td {\n",
       "    padding: 5px;\n",
       "  }\n",
       "  th {\n",
       "    text-align: left;\n",
       "  }\n",
       "</style><div class='table-result-container'><table class='table-result'><thead style='background-color: white'><tr></tr></thead><tbody></tbody></table></div>"
      ]
     },
     "metadata": {
      "application/vnd.databricks.v1+output": {
       "addedWidgets": {},
       "aggData": [],
       "aggError": "",
       "aggOverflow": false,
       "aggSchema": [],
       "aggSeriesLimitReached": false,
       "aggType": "",
       "arguments": {},
       "columnCustomDisplayInfos": {},
       "data": [],
       "datasetInfos": [],
       "dbfsResultPath": null,
       "isJsonSchema": true,
       "metadata": {
        "isDbfsCommandResult": false
       },
       "overflow": false,
       "plotOptions": {
        "customPlotOptions": {},
        "displayType": "table",
        "pivotAggregation": null,
        "pivotColumns": null,
        "xColumns": null,
        "yColumns": null
       },
       "removedWidgets": [],
       "schema": [],
       "type": "table"
      }
     },
     "output_type": "display_data"
    }
   ],
   "source": [
    "%sql\n",
    "DROP TABLE IF EXISTS flight_data_lc;\n",
    "\n",
    "CREATE TABLE flight_data_lc(\n",
    "  Year INT,Month INT,DayofMonth INT,DayofWeek INT,DepTime STRING, CRSDepTime INT,ArrTime STRING,CRSArrTime INT,UniqueCarrier STRING, FlightNum INT, TailNum STRING, ActualElapsedTime STRING,CRSElapsedTime STRING,AirTime STRING,\n",
    "  ArrDelay STRING, DepDelay STRING, Origin STRING,Dest STRING,Distance INT, TaxiIn STRING,TaxiOut STRING,Cancelled INT, CancellationCode STRING, Diverted INT,CarrierDelay STRING, WeatherDelay STRING, NASDelay STRING, SecurityDelay STRING,LateAircraftDelay STRING)\n",
    "  CLUSTER BY (Year,Dest);"
   ]
  },
  {
   "cell_type": "code",
   "execution_count": 0,
   "metadata": {
    "application/vnd.databricks.v1+cell": {
     "cellMetadata": {
      "byteLimit": 2048000,
      "rowLimit": 10000
     },
     "inputWidgets": {},
     "nuid": "2215b38a-b4b0-44c4-b7f9-1f51f5c42b70",
     "showTitle": false,
     "tableResultSettingsMap": {},
     "title": ""
    }
   },
   "outputs": [],
   "source": [
    "%python\n",
    "spark.read.csv(\"dbfs:/databricks-datasets/asa/airlines/2*.csv\",header=True,inferSchema=True)\\\n",
    "    .write.mode(\"append\").saveAsTable(\"flight_data_lc\")"
   ]
  },
  {
   "cell_type": "code",
   "execution_count": 0,
   "metadata": {
    "application/vnd.databricks.v1+cell": {
     "cellMetadata": {
      "byteLimit": 2048000,
      "rowLimit": 10000
     },
     "inputWidgets": {},
     "nuid": "9a5b3819-f5f4-43c1-985e-040339f20111",
     "showTitle": false,
     "tableResultSettingsMap": {},
     "title": ""
    }
   },
   "outputs": [
    {
     "output_type": "display_data",
     "data": {
      "text/html": [
       "<style scoped>\n",
       "  .table-result-container {\n",
       "    max-height: 300px;\n",
       "    overflow: auto;\n",
       "  }\n",
       "  table, th, td {\n",
       "    border: 1px solid black;\n",
       "    border-collapse: collapse;\n",
       "  }\n",
       "  th, td {\n",
       "    padding: 5px;\n",
       "  }\n",
       "  th {\n",
       "    text-align: left;\n",
       "  }\n",
       "</style><div class='table-result-container'><table class='table-result'><thead style='background-color: white'><tr><th>format</th><th>id</th><th>name</th><th>description</th><th>location</th><th>createdAt</th><th>lastModified</th><th>partitionColumns</th><th>clusteringColumns</th><th>numFiles</th><th>sizeInBytes</th><th>properties</th><th>minReaderVersion</th><th>minWriterVersion</th><th>tableFeatures</th><th>statistics</th></tr></thead><tbody><tr><td>delta</td><td>0a2666f2-5c27-4aca-a3bf-f9464c4d1de0</td><td>spark_catalog.default.flight_data_lc</td><td>null</td><td>dbfs:/user/hive/warehouse/flight_data_lc</td><td>2025-02-08T19:04:26.23Z</td><td>2025-02-08T19:28:32Z</td><td>List()</td><td>List(Year, Dest)</td><td>25</td><td>924920753</td><td>Map(delta.enableDeletionVectors -> true, delta.enableRowTracking -> true, delta.checkpointPolicy -> v2, delta.rowTracking.materializedRowCommitVersionColumnName -> _row-commit-version-col-a4f1e202-e704-4644-bd46-fd5e78fac0da, delta.rowTracking.materializedRowIdColumnName -> _row-id-col-1363daad-70ca-46c7-8b14-dd84bece8caa)</td><td>3</td><td>7</td><td>List(clustering, deletionVectors, domainMetadata, rowTracking, v2Checkpoint)</td><td>Map(numRowsDeletedByDeletionVectors -> 0, numDeletionVectors -> 0)</td></tr></tbody></table></div>"
      ]
     },
     "metadata": {
      "application/vnd.databricks.v1+output": {
       "addedWidgets": {},
       "aggData": [],
       "aggError": "",
       "aggOverflow": false,
       "aggSchema": [],
       "aggSeriesLimitReached": false,
       "aggType": "",
       "arguments": {},
       "columnCustomDisplayInfos": {},
       "data": [
        [
         "delta",
         "0a2666f2-5c27-4aca-a3bf-f9464c4d1de0",
         "spark_catalog.default.flight_data_lc",
         null,
         "dbfs:/user/hive/warehouse/flight_data_lc",
         "2025-02-08T19:04:26.23Z",
         "2025-02-08T19:28:32Z",
         [],
         [
          "Year",
          "Dest"
         ],
         25,
         924920753,
         {
          "delta.checkpointPolicy": "v2",
          "delta.enableDeletionVectors": "true",
          "delta.enableRowTracking": "true",
          "delta.rowTracking.materializedRowCommitVersionColumnName": "_row-commit-version-col-a4f1e202-e704-4644-bd46-fd5e78fac0da",
          "delta.rowTracking.materializedRowIdColumnName": "_row-id-col-1363daad-70ca-46c7-8b14-dd84bece8caa"
         },
         3,
         7,
         [
          "clustering",
          "deletionVectors",
          "domainMetadata",
          "rowTracking",
          "v2Checkpoint"
         ],
         {
          "numDeletionVectors": 0,
          "numRowsDeletedByDeletionVectors": 0
         }
        ]
       ],
       "datasetInfos": [],
       "dbfsResultPath": null,
       "isJsonSchema": true,
       "metadata": {
        "isDbfsCommandResult": false
       },
       "overflow": false,
       "plotOptions": {
        "customPlotOptions": {},
        "displayType": "table",
        "pivotAggregation": null,
        "pivotColumns": null,
        "xColumns": null,
        "yColumns": null
       },
       "removedWidgets": [],
       "schema": [
        {
         "metadata": "{}",
         "name": "format",
         "type": "\"string\""
        },
        {
         "metadata": "{}",
         "name": "id",
         "type": "\"string\""
        },
        {
         "metadata": "{}",
         "name": "name",
         "type": "\"string\""
        },
        {
         "metadata": "{}",
         "name": "description",
         "type": "\"string\""
        },
        {
         "metadata": "{}",
         "name": "location",
         "type": "\"string\""
        },
        {
         "metadata": "{}",
         "name": "createdAt",
         "type": "\"timestamp\""
        },
        {
         "metadata": "{}",
         "name": "lastModified",
         "type": "\"timestamp\""
        },
        {
         "metadata": "{}",
         "name": "partitionColumns",
         "type": "{\"type\":\"array\",\"elementType\":\"string\",\"containsNull\":true}"
        },
        {
         "metadata": "{}",
         "name": "clusteringColumns",
         "type": "{\"type\":\"array\",\"elementType\":\"string\",\"containsNull\":true}"
        },
        {
         "metadata": "{}",
         "name": "numFiles",
         "type": "\"long\""
        },
        {
         "metadata": "{}",
         "name": "sizeInBytes",
         "type": "\"long\""
        },
        {
         "metadata": "{}",
         "name": "properties",
         "type": "{\"type\":\"map\",\"keyType\":\"string\",\"valueType\":\"string\",\"valueContainsNull\":true}"
        },
        {
         "metadata": "{}",
         "name": "minReaderVersion",
         "type": "\"integer\""
        },
        {
         "metadata": "{}",
         "name": "minWriterVersion",
         "type": "\"integer\""
        },
        {
         "metadata": "{}",
         "name": "tableFeatures",
         "type": "{\"type\":\"array\",\"elementType\":\"string\",\"containsNull\":true}"
        },
        {
         "metadata": "{}",
         "name": "statistics",
         "type": "{\"type\":\"map\",\"keyType\":\"string\",\"valueType\":\"long\",\"valueContainsNull\":true}"
        }
       ],
       "type": "table"
      }
     },
     "output_type": "display_data"
    }
   ],
   "source": [
    "%sql\n",
    "DESC DETAIL flight_data_lc;\n",
    "-- checking that if the liquid clustering is being done or not is quite easier compared to bloom filters and Zorder"
   ]
  },
  {
   "cell_type": "markdown",
   "metadata": {
    "application/vnd.databricks.v1+cell": {
     "cellMetadata": {
      "byteLimit": 2048000,
      "rowLimit": 10000
     },
     "inputWidgets": {},
     "nuid": "a053476d-dd17-4a4f-b482-27400437c027",
     "showTitle": false,
     "tableResultSettingsMap": {},
     "title": ""
    }
   },
   "source": [
    "Here we can see the file size is small compared to the Z order"
   ]
  },
  {
   "cell_type": "code",
   "execution_count": 0,
   "metadata": {
    "application/vnd.databricks.v1+cell": {
     "cellMetadata": {
      "byteLimit": 2048000,
      "rowLimit": 10000
     },
     "inputWidgets": {},
     "nuid": "f35d699b-fd61-4881-89f6-721c65ae1681",
     "showTitle": false,
     "tableResultSettingsMap": {},
     "title": ""
    }
   },
   "outputs": [
    {
     "output_type": "display_data",
     "data": {
      "text/html": [
       "<style scoped>\n",
       "  .table-result-container {\n",
       "    max-height: 300px;\n",
       "    overflow: auto;\n",
       "  }\n",
       "  table, th, td {\n",
       "    border: 1px solid black;\n",
       "    border-collapse: collapse;\n",
       "  }\n",
       "  th, td {\n",
       "    padding: 5px;\n",
       "  }\n",
       "  th {\n",
       "    text-align: left;\n",
       "  }\n",
       "</style><div class='table-result-container'><table class='table-result'><thead style='background-color: white'><tr><th>path</th><th>name</th><th>size</th><th>modificationTime</th></tr></thead><tbody><tr><td>dbfs:/user/hive/warehouse/flight_data_lc/_delta_log/</td><td>_delta_log/</td><td>0</td><td>0</td></tr><tr><td>dbfs:/user/hive/warehouse/flight_data_lc/part-00000-a5fc3fa9-62ff-4314-875e-c200dedbb457-c000.snappy.parquet</td><td>part-00000-a5fc3fa9-62ff-4314-875e-c200dedbb457-c000.snappy.parquet</td><td>41335843</td><td>1739042546000</td></tr><tr><td>dbfs:/user/hive/warehouse/flight_data_lc/part-00001-9fdc89bd-f0c5-4b9f-bde5-5274ec0b16bd-c000.snappy.parquet</td><td>part-00001-9fdc89bd-f0c5-4b9f-bde5-5274ec0b16bd-c000.snappy.parquet</td><td>33945509</td><td>1739042758000</td></tr><tr><td>dbfs:/user/hive/warehouse/flight_data_lc/part-00002-5d386d10-2c57-450f-8680-4b6da5ced224-c000.snappy.parquet</td><td>part-00002-5d386d10-2c57-450f-8680-4b6da5ced224-c000.snappy.parquet</td><td>33599513</td><td>1739042867000</td></tr><tr><td>dbfs:/user/hive/warehouse/flight_data_lc/part-00003-f62eae3c-281a-4d82-97ff-2a8c933e5fdb-c000.snappy.parquet</td><td>part-00003-f62eae3c-281a-4d82-97ff-2a8c933e5fdb-c000.snappy.parquet</td><td>37189521</td><td>1739042770000</td></tr><tr><td>dbfs:/user/hive/warehouse/flight_data_lc/part-00004-3c63f81d-88cf-4e8a-abc2-5275285680a4-c000.snappy.parquet</td><td>part-00004-3c63f81d-88cf-4e8a-abc2-5275285680a4-c000.snappy.parquet</td><td>39377483</td><td>1739042710000</td></tr><tr><td>dbfs:/user/hive/warehouse/flight_data_lc/part-00005-5a51881b-8f1d-4be6-857d-639842a669da-c000.snappy.parquet</td><td>part-00005-5a51881b-8f1d-4be6-857d-639842a669da-c000.snappy.parquet</td><td>38231554</td><td>1739042711000</td></tr><tr><td>dbfs:/user/hive/warehouse/flight_data_lc/part-00006-6c0d53e0-ff84-4cbd-8b64-90f39ea2e0a2-c000.snappy.parquet</td><td>part-00006-6c0d53e0-ff84-4cbd-8b64-90f39ea2e0a2-c000.snappy.parquet</td><td>43258975</td><td>1739042546000</td></tr><tr><td>dbfs:/user/hive/warehouse/flight_data_lc/part-00007-75a0b69d-a870-4dce-811c-36281956c24d-c000.snappy.parquet</td><td>part-00007-75a0b69d-a870-4dce-811c-36281956c24d-c000.snappy.parquet</td><td>43913708</td><td>1739042555000</td></tr><tr><td>dbfs:/user/hive/warehouse/flight_data_lc/part-00008-8d6d8bc6-da97-4e7f-861f-6a4ecdddcb94-c000.snappy.parquet</td><td>part-00008-8d6d8bc6-da97-4e7f-861f-6a4ecdddcb94-c000.snappy.parquet</td><td>43840333</td><td>1739042552000</td></tr><tr><td>dbfs:/user/hive/warehouse/flight_data_lc/part-00009-dd6ba794-885e-492b-9fc4-cef2cb3c425e-c000.snappy.parquet</td><td>part-00009-dd6ba794-885e-492b-9fc4-cef2cb3c425e-c000.snappy.parquet</td><td>27828336</td><td>1739042903000</td></tr><tr><td>dbfs:/user/hive/warehouse/flight_data_lc/part-00010-0750de3a-6475-4b81-8c3b-915f23966601-c000.snappy.parquet</td><td>part-00010-0750de3a-6475-4b81-8c3b-915f23966601-c000.snappy.parquet</td><td>26084606</td><td>1739042911000</td></tr><tr><td>dbfs:/user/hive/warehouse/flight_data_lc/part-00011-ed5bc0af-a89b-4d4e-8897-8a13b50f6447-c000.snappy.parquet</td><td>part-00011-ed5bc0af-a89b-4d4e-8897-8a13b50f6447-c000.snappy.parquet</td><td>46419759</td><td>1739042550000</td></tr><tr><td>dbfs:/user/hive/warehouse/flight_data_lc/part-00012-fa98cfb9-bdf3-4311-95a2-73ffbacf1fc5-c000.snappy.parquet</td><td>part-00012-fa98cfb9-bdf3-4311-95a2-73ffbacf1fc5-c000.snappy.parquet</td><td>40878523</td><td>1739042721000</td></tr><tr><td>dbfs:/user/hive/warehouse/flight_data_lc/part-00013-7764cf16-6f4e-44cc-8c0f-423f75a608ef-c000.snappy.parquet</td><td>part-00013-7764cf16-6f4e-44cc-8c0f-423f75a608ef-c000.snappy.parquet</td><td>50417709</td><td>1739042602000</td></tr><tr><td>dbfs:/user/hive/warehouse/flight_data_lc/part-00014-79a09751-6be7-4970-9013-b1c93bc50763-c000.snappy.parquet</td><td>part-00014-79a09751-6be7-4970-9013-b1c93bc50763-c000.snappy.parquet</td><td>41531144</td><td>1739042604000</td></tr><tr><td>dbfs:/user/hive/warehouse/flight_data_lc/part-00015-1832ace5-dbaf-4ec8-9d65-1a89c0f508f2-c000.snappy.parquet</td><td>part-00015-1832ace5-dbaf-4ec8-9d65-1a89c0f508f2-c000.snappy.parquet</td><td>28450661</td><td>1739042888000</td></tr><tr><td>dbfs:/user/hive/warehouse/flight_data_lc/part-00016-221039ac-bd58-480f-ad5c-bcf5d2502d62-c000.snappy.parquet</td><td>part-00016-221039ac-bd58-480f-ad5c-bcf5d2502d62-c000.snappy.parquet</td><td>32944659</td><td>1739042899000</td></tr><tr><td>dbfs:/user/hive/warehouse/flight_data_lc/part-00017-5c5e95b5-e747-4f79-bec4-2139c2f57679-c000.snappy.parquet</td><td>part-00017-5c5e95b5-e747-4f79-bec4-2139c2f57679-c000.snappy.parquet</td><td>33911535</td><td>1739042853000</td></tr><tr><td>dbfs:/user/hive/warehouse/flight_data_lc/part-00018-e76da79c-5f5a-4659-a7c9-ddcdf5c04b78-c000.snappy.parquet</td><td>part-00018-e76da79c-5f5a-4659-a7c9-ddcdf5c04b78-c000.snappy.parquet</td><td>33341273</td><td>1739042801000</td></tr><tr><td>dbfs:/user/hive/warehouse/flight_data_lc/part-00019-9fd1f413-bb56-4634-915a-fe2f8c755397-c000.snappy.parquet</td><td>part-00019-9fd1f413-bb56-4634-915a-fe2f8c755397-c000.snappy.parquet</td><td>29602285</td><td>1739042881000</td></tr><tr><td>dbfs:/user/hive/warehouse/flight_data_lc/part-00020-672c61a1-190a-4d16-a6cc-55e9aba5f5d2-c000.snappy.parquet</td><td>part-00020-672c61a1-190a-4d16-a6cc-55e9aba5f5d2-c000.snappy.parquet</td><td>27943323</td><td>1739042905000</td></tr><tr><td>dbfs:/user/hive/warehouse/flight_data_lc/part-00021-497b928f-dd86-4f0f-99f5-fe03e66bbad7-c000.snappy.parquet</td><td>part-00021-497b928f-dd86-4f0f-99f5-fe03e66bbad7-c000.snappy.parquet</td><td>29671647</td><td>1739042886000</td></tr><tr><td>dbfs:/user/hive/warehouse/flight_data_lc/part-00022-afdff259-3104-426c-8630-aef7b56db845-c000.snappy.parquet</td><td>part-00022-afdff259-3104-426c-8630-aef7b56db845-c000.snappy.parquet</td><td>34530482</td><td>1739042755000</td></tr><tr><td>dbfs:/user/hive/warehouse/flight_data_lc/part-00023-6b9ad56d-9104-4747-a784-b98160f92486-c000.snappy.parquet</td><td>part-00023-6b9ad56d-9104-4747-a784-b98160f92486-c000.snappy.parquet</td><td>53298091</td><td>1739042611000</td></tr><tr><td>dbfs:/user/hive/warehouse/flight_data_lc/part-00024-ac94bdb1-dcdb-45e0-b3f0-8a03b87237e8-c000.snappy.parquet</td><td>part-00024-ac94bdb1-dcdb-45e0-b3f0-8a03b87237e8-c000.snappy.parquet</td><td>33374281</td><td>1739042800000</td></tr></tbody></table></div>"
      ]
     },
     "metadata": {
      "application/vnd.databricks.v1+output": {
       "addedWidgets": {},
       "aggData": [],
       "aggError": "",
       "aggOverflow": false,
       "aggSchema": [],
       "aggSeriesLimitReached": false,
       "aggType": "",
       "arguments": {},
       "columnCustomDisplayInfos": {},
       "data": [
        [
         "dbfs:/user/hive/warehouse/flight_data_lc/_delta_log/",
         "_delta_log/",
         0,
         0
        ],
        [
         "dbfs:/user/hive/warehouse/flight_data_lc/part-00000-a5fc3fa9-62ff-4314-875e-c200dedbb457-c000.snappy.parquet",
         "part-00000-a5fc3fa9-62ff-4314-875e-c200dedbb457-c000.snappy.parquet",
         41335843,
         1739042546000
        ],
        [
         "dbfs:/user/hive/warehouse/flight_data_lc/part-00001-9fdc89bd-f0c5-4b9f-bde5-5274ec0b16bd-c000.snappy.parquet",
         "part-00001-9fdc89bd-f0c5-4b9f-bde5-5274ec0b16bd-c000.snappy.parquet",
         33945509,
         1739042758000
        ],
        [
         "dbfs:/user/hive/warehouse/flight_data_lc/part-00002-5d386d10-2c57-450f-8680-4b6da5ced224-c000.snappy.parquet",
         "part-00002-5d386d10-2c57-450f-8680-4b6da5ced224-c000.snappy.parquet",
         33599513,
         1739042867000
        ],
        [
         "dbfs:/user/hive/warehouse/flight_data_lc/part-00003-f62eae3c-281a-4d82-97ff-2a8c933e5fdb-c000.snappy.parquet",
         "part-00003-f62eae3c-281a-4d82-97ff-2a8c933e5fdb-c000.snappy.parquet",
         37189521,
         1739042770000
        ],
        [
         "dbfs:/user/hive/warehouse/flight_data_lc/part-00004-3c63f81d-88cf-4e8a-abc2-5275285680a4-c000.snappy.parquet",
         "part-00004-3c63f81d-88cf-4e8a-abc2-5275285680a4-c000.snappy.parquet",
         39377483,
         1739042710000
        ],
        [
         "dbfs:/user/hive/warehouse/flight_data_lc/part-00005-5a51881b-8f1d-4be6-857d-639842a669da-c000.snappy.parquet",
         "part-00005-5a51881b-8f1d-4be6-857d-639842a669da-c000.snappy.parquet",
         38231554,
         1739042711000
        ],
        [
         "dbfs:/user/hive/warehouse/flight_data_lc/part-00006-6c0d53e0-ff84-4cbd-8b64-90f39ea2e0a2-c000.snappy.parquet",
         "part-00006-6c0d53e0-ff84-4cbd-8b64-90f39ea2e0a2-c000.snappy.parquet",
         43258975,
         1739042546000
        ],
        [
         "dbfs:/user/hive/warehouse/flight_data_lc/part-00007-75a0b69d-a870-4dce-811c-36281956c24d-c000.snappy.parquet",
         "part-00007-75a0b69d-a870-4dce-811c-36281956c24d-c000.snappy.parquet",
         43913708,
         1739042555000
        ],
        [
         "dbfs:/user/hive/warehouse/flight_data_lc/part-00008-8d6d8bc6-da97-4e7f-861f-6a4ecdddcb94-c000.snappy.parquet",
         "part-00008-8d6d8bc6-da97-4e7f-861f-6a4ecdddcb94-c000.snappy.parquet",
         43840333,
         1739042552000
        ],
        [
         "dbfs:/user/hive/warehouse/flight_data_lc/part-00009-dd6ba794-885e-492b-9fc4-cef2cb3c425e-c000.snappy.parquet",
         "part-00009-dd6ba794-885e-492b-9fc4-cef2cb3c425e-c000.snappy.parquet",
         27828336,
         1739042903000
        ],
        [
         "dbfs:/user/hive/warehouse/flight_data_lc/part-00010-0750de3a-6475-4b81-8c3b-915f23966601-c000.snappy.parquet",
         "part-00010-0750de3a-6475-4b81-8c3b-915f23966601-c000.snappy.parquet",
         26084606,
         1739042911000
        ],
        [
         "dbfs:/user/hive/warehouse/flight_data_lc/part-00011-ed5bc0af-a89b-4d4e-8897-8a13b50f6447-c000.snappy.parquet",
         "part-00011-ed5bc0af-a89b-4d4e-8897-8a13b50f6447-c000.snappy.parquet",
         46419759,
         1739042550000
        ],
        [
         "dbfs:/user/hive/warehouse/flight_data_lc/part-00012-fa98cfb9-bdf3-4311-95a2-73ffbacf1fc5-c000.snappy.parquet",
         "part-00012-fa98cfb9-bdf3-4311-95a2-73ffbacf1fc5-c000.snappy.parquet",
         40878523,
         1739042721000
        ],
        [
         "dbfs:/user/hive/warehouse/flight_data_lc/part-00013-7764cf16-6f4e-44cc-8c0f-423f75a608ef-c000.snappy.parquet",
         "part-00013-7764cf16-6f4e-44cc-8c0f-423f75a608ef-c000.snappy.parquet",
         50417709,
         1739042602000
        ],
        [
         "dbfs:/user/hive/warehouse/flight_data_lc/part-00014-79a09751-6be7-4970-9013-b1c93bc50763-c000.snappy.parquet",
         "part-00014-79a09751-6be7-4970-9013-b1c93bc50763-c000.snappy.parquet",
         41531144,
         1739042604000
        ],
        [
         "dbfs:/user/hive/warehouse/flight_data_lc/part-00015-1832ace5-dbaf-4ec8-9d65-1a89c0f508f2-c000.snappy.parquet",
         "part-00015-1832ace5-dbaf-4ec8-9d65-1a89c0f508f2-c000.snappy.parquet",
         28450661,
         1739042888000
        ],
        [
         "dbfs:/user/hive/warehouse/flight_data_lc/part-00016-221039ac-bd58-480f-ad5c-bcf5d2502d62-c000.snappy.parquet",
         "part-00016-221039ac-bd58-480f-ad5c-bcf5d2502d62-c000.snappy.parquet",
         32944659,
         1739042899000
        ],
        [
         "dbfs:/user/hive/warehouse/flight_data_lc/part-00017-5c5e95b5-e747-4f79-bec4-2139c2f57679-c000.snappy.parquet",
         "part-00017-5c5e95b5-e747-4f79-bec4-2139c2f57679-c000.snappy.parquet",
         33911535,
         1739042853000
        ],
        [
         "dbfs:/user/hive/warehouse/flight_data_lc/part-00018-e76da79c-5f5a-4659-a7c9-ddcdf5c04b78-c000.snappy.parquet",
         "part-00018-e76da79c-5f5a-4659-a7c9-ddcdf5c04b78-c000.snappy.parquet",
         33341273,
         1739042801000
        ],
        [
         "dbfs:/user/hive/warehouse/flight_data_lc/part-00019-9fd1f413-bb56-4634-915a-fe2f8c755397-c000.snappy.parquet",
         "part-00019-9fd1f413-bb56-4634-915a-fe2f8c755397-c000.snappy.parquet",
         29602285,
         1739042881000
        ],
        [
         "dbfs:/user/hive/warehouse/flight_data_lc/part-00020-672c61a1-190a-4d16-a6cc-55e9aba5f5d2-c000.snappy.parquet",
         "part-00020-672c61a1-190a-4d16-a6cc-55e9aba5f5d2-c000.snappy.parquet",
         27943323,
         1739042905000
        ],
        [
         "dbfs:/user/hive/warehouse/flight_data_lc/part-00021-497b928f-dd86-4f0f-99f5-fe03e66bbad7-c000.snappy.parquet",
         "part-00021-497b928f-dd86-4f0f-99f5-fe03e66bbad7-c000.snappy.parquet",
         29671647,
         1739042886000
        ],
        [
         "dbfs:/user/hive/warehouse/flight_data_lc/part-00022-afdff259-3104-426c-8630-aef7b56db845-c000.snappy.parquet",
         "part-00022-afdff259-3104-426c-8630-aef7b56db845-c000.snappy.parquet",
         34530482,
         1739042755000
        ],
        [
         "dbfs:/user/hive/warehouse/flight_data_lc/part-00023-6b9ad56d-9104-4747-a784-b98160f92486-c000.snappy.parquet",
         "part-00023-6b9ad56d-9104-4747-a784-b98160f92486-c000.snappy.parquet",
         53298091,
         1739042611000
        ],
        [
         "dbfs:/user/hive/warehouse/flight_data_lc/part-00024-ac94bdb1-dcdb-45e0-b3f0-8a03b87237e8-c000.snappy.parquet",
         "part-00024-ac94bdb1-dcdb-45e0-b3f0-8a03b87237e8-c000.snappy.parquet",
         33374281,
         1739042800000
        ]
       ],
       "datasetInfos": [],
       "dbfsResultPath": null,
       "isJsonSchema": true,
       "metadata": {
        "isDbfsCommandResult": false
       },
       "overflow": false,
       "plotOptions": {
        "customPlotOptions": {},
        "displayType": "table",
        "pivotAggregation": null,
        "pivotColumns": null,
        "xColumns": null,
        "yColumns": null
       },
       "removedWidgets": [],
       "schema": [
        {
         "metadata": "{}",
         "name": "path",
         "type": "\"string\""
        },
        {
         "metadata": "{}",
         "name": "name",
         "type": "\"string\""
        },
        {
         "metadata": "{}",
         "name": "size",
         "type": "\"long\""
        },
        {
         "metadata": "{}",
         "name": "modificationTime",
         "type": "\"long\""
        }
       ],
       "type": "table"
      }
     },
     "output_type": "display_data"
    }
   ],
   "source": [
    "%fs ls dbfs:/user/hive/warehouse/flight_data_lc\n"
   ]
  },
  {
   "cell_type": "code",
   "execution_count": 0,
   "metadata": {
    "application/vnd.databricks.v1+cell": {
     "cellMetadata": {
      "byteLimit": 2048000,
      "rowLimit": 10000
     },
     "inputWidgets": {},
     "nuid": "a9d0fcf5-e108-4872-8a5f-6ca4ef5a5e87",
     "showTitle": false,
     "tableResultSettingsMap": {},
     "title": ""
    }
   },
   "outputs": [
    {
     "output_type": "display_data",
     "data": {
      "text/html": [
       "<style scoped>\n",
       "  .table-result-container {\n",
       "    max-height: 300px;\n",
       "    overflow: auto;\n",
       "  }\n",
       "  table, th, td {\n",
       "    border: 1px solid black;\n",
       "    border-collapse: collapse;\n",
       "  }\n",
       "  th, td {\n",
       "    padding: 5px;\n",
       "  }\n",
       "  th {\n",
       "    text-align: left;\n",
       "  }\n",
       "</style><div class='table-result-container'><table class='table-result'><thead style='background-color: white'><tr><th>path</th><th>metrics</th></tr></thead><tbody><tr><td>dbfs:/user/hive/warehouse/flight_data_lc</td><td>List(0, 0, List(null, null, 0.0, 0, 0), List(null, null, 0.0, 0, 0), 0, null, null, 0, 0, 25, 0, false, 0, 0, 1739042935514, 1739043062251, 8, 0, null, List(0, 0), 29, 29, 0, 0, List(924920753, true, false, 0, 6, 211687951, 211687951, 19, 713232802, 713232802, null, log, 16777216, 268435456, 8, 0, 0, 0, 0, 0, 0, 0, 0, 0, 0, 0, 0, 0, 0, 0, 0, 0, 0, List(510, 170, 0, 0, 0, 119141), 2, 1, 5, sizeAware))</td></tr></tbody></table></div>"
      ]
     },
     "metadata": {
      "application/vnd.databricks.v1+output": {
       "addedWidgets": {},
       "aggData": [],
       "aggError": "",
       "aggOverflow": false,
       "aggSchema": [],
       "aggSeriesLimitReached": false,
       "aggType": "",
       "arguments": {},
       "columnCustomDisplayInfos": {},
       "data": [
        [
         "dbfs:/user/hive/warehouse/flight_data_lc",
         [
          0,
          0,
          [
           null,
           null,
           0.0,
           0,
           0
          ],
          [
           null,
           null,
           0.0,
           0,
           0
          ],
          0,
          null,
          null,
          0,
          0,
          25,
          0,
          false,
          0,
          0,
          1739042935514,
          1739043062251,
          8,
          0,
          null,
          [
           0,
           0
          ],
          29,
          29,
          0,
          0,
          [
           924920753,
           true,
           false,
           0,
           6,
           211687951,
           211687951,
           19,
           713232802,
           713232802,
           null,
           "log",
           16777216,
           268435456,
           8,
           0,
           0,
           0,
           0,
           0,
           0,
           0,
           0,
           0,
           0,
           0,
           0,
           0,
           0,
           0,
           0,
           0,
           0,
           [
            510,
            170,
            0,
            0,
            0,
            119141
           ],
           2,
           1,
           5,
           "sizeAware"
          ]
         ]
        ]
       ],
       "datasetInfos": [],
       "dbfsResultPath": null,
       "isJsonSchema": true,
       "metadata": {},
       "overflow": false,
       "plotOptions": {
        "customPlotOptions": {},
        "displayType": "table",
        "pivotAggregation": null,
        "pivotColumns": null,
        "xColumns": null,
        "yColumns": null
       },
       "removedWidgets": [],
       "schema": [
        {
         "metadata": "{}",
         "name": "path",
         "type": "\"string\""
        },
        {
         "metadata": "{}",
         "name": "metrics",
         "type": "{\"type\":\"struct\",\"fields\":[{\"name\":\"numFilesAdded\",\"type\":\"long\",\"nullable\":false,\"metadata\":{}},{\"name\":\"numFilesRemoved\",\"type\":\"long\",\"nullable\":false,\"metadata\":{}},{\"name\":\"filesAdded\",\"type\":{\"type\":\"struct\",\"fields\":[{\"name\":\"min\",\"type\":\"long\",\"nullable\":true,\"metadata\":{}},{\"name\":\"max\",\"type\":\"long\",\"nullable\":true,\"metadata\":{}},{\"name\":\"avg\",\"type\":\"double\",\"nullable\":false,\"metadata\":{}},{\"name\":\"totalFiles\",\"type\":\"long\",\"nullable\":false,\"metadata\":{}},{\"name\":\"totalSize\",\"type\":\"long\",\"nullable\":false,\"metadata\":{}}]},\"nullable\":true,\"metadata\":{}},{\"name\":\"filesRemoved\",\"type\":{\"type\":\"struct\",\"fields\":[{\"name\":\"min\",\"type\":\"long\",\"nullable\":true,\"metadata\":{}},{\"name\":\"max\",\"type\":\"long\",\"nullable\":true,\"metadata\":{}},{\"name\":\"avg\",\"type\":\"double\",\"nullable\":false,\"metadata\":{}},{\"name\":\"totalFiles\",\"type\":\"long\",\"nullable\":false,\"metadata\":{}},{\"name\":\"totalSize\",\"type\":\"long\",\"nullable\":false,\"metadata\":{}}]},\"nullable\":true,\"metadata\":{}},{\"name\":\"partitionsOptimized\",\"type\":\"long\",\"nullable\":false,\"metadata\":{}},{\"name\":\"zOrderStats\",\"type\":{\"type\":\"struct\",\"fields\":[{\"name\":\"strategyName\",\"type\":\"string\",\"nullable\":true,\"metadata\":{}},{\"name\":\"inputCubeFiles\",\"type\":{\"type\":\"struct\",\"fields\":[{\"name\":\"num\",\"type\":\"long\",\"nullable\":false,\"metadata\":{}},{\"name\":\"size\",\"type\":\"long\",\"nullable\":false,\"metadata\":{}}]},\"nullable\":true,\"metadata\":{}},{\"name\":\"inputOtherFiles\",\"type\":{\"type\":\"struct\",\"fields\":[{\"name\":\"num\",\"type\":\"long\",\"nullable\":false,\"metadata\":{}},{\"name\":\"size\",\"type\":\"long\",\"nullable\":false,\"metadata\":{}}]},\"nullable\":true,\"metadata\":{}},{\"name\":\"inputNumCubes\",\"type\":\"long\",\"nullable\":false,\"metadata\":{}},{\"name\":\"mergedFiles\",\"type\":{\"type\":\"struct\",\"fields\":[{\"name\":\"num\",\"type\":\"long\",\"nullable\":false,\"metadata\":{}},{\"name\":\"size\",\"type\":\"long\",\"nullable\":false,\"metadata\":{}}]},\"nullable\":true,\"metadata\":{}},{\"name\":\"numOutputCubes\",\"type\":\"long\",\"nullable\":false,\"metadata\":{}},{\"name\":\"mergedNumCubes\",\"type\":\"long\",\"nullable\":true,\"metadata\":{}}]},\"nullable\":true,\"metadata\":{}},{\"name\":\"clusteringStats\",\"type\":{\"type\":\"struct\",\"fields\":[{\"name\":\"inputZCubeFiles\",\"type\":{\"type\":\"struct\",\"fields\":[{\"name\":\"numFiles\",\"type\":\"long\",\"nullable\":false,\"metadata\":{}},{\"name\":\"size\",\"type\":\"long\",\"nullable\":false,\"metadata\":{}}]},\"nullable\":true,\"metadata\":{}},{\"name\":\"inputOtherFiles\",\"type\":{\"type\":\"struct\",\"fields\":[{\"name\":\"numFiles\",\"type\":\"long\",\"nullable\":false,\"metadata\":{}},{\"name\":\"size\",\"type\":\"long\",\"nullable\":false,\"metadata\":{}}]},\"nullable\":true,\"metadata\":{}},{\"name\":\"inputNumZCubes\",\"type\":\"long\",\"nullable\":false,\"metadata\":{}},{\"name\":\"mergedFiles\",\"type\":{\"type\":\"struct\",\"fields\":[{\"name\":\"numFiles\",\"type\":\"long\",\"nullable\":false,\"metadata\":{}},{\"name\":\"size\",\"type\":\"long\",\"nullable\":false,\"metadata\":{}}]},\"nullable\":true,\"metadata\":{}},{\"name\":\"numOutputZCubes\",\"type\":\"long\",\"nullable\":false,\"metadata\":{}}]},\"nullable\":true,\"metadata\":{}},{\"name\":\"numBins\",\"type\":\"long\",\"nullable\":false,\"metadata\":{}},{\"name\":\"numBatches\",\"type\":\"long\",\"nullable\":false,\"metadata\":{}},{\"name\":\"totalConsideredFiles\",\"type\":\"long\",\"nullable\":false,\"metadata\":{}},{\"name\":\"totalFilesSkipped\",\"type\":\"long\",\"nullable\":false,\"metadata\":{}},{\"name\":\"preserveInsertionOrder\",\"type\":\"boolean\",\"nullable\":false,\"metadata\":{}},{\"name\":\"numFilesSkippedToReduceWriteAmplification\",\"type\":\"long\",\"nullable\":false,\"metadata\":{}},{\"name\":\"numBytesSkippedToReduceWriteAmplification\",\"type\":\"long\",\"nullable\":false,\"metadata\":{}},{\"name\":\"startTimeMs\",\"type\":\"long\",\"nullable\":false,\"metadata\":{}},{\"name\":\"endTimeMs\",\"type\":\"long\",\"nullable\":false,\"metadata\":{}},{\"name\":\"totalClusterParallelism\",\"type\":\"long\",\"nullable\":false,\"metadata\":{}},{\"name\":\"totalScheduledTasks\",\"type\":\"long\",\"nullable\":false,\"metadata\":{}},{\"name\":\"autoCompactParallelismStats\",\"type\":{\"type\":\"struct\",\"fields\":[{\"name\":\"maxClusterActiveParallelism\",\"type\":\"long\",\"nullable\":true,\"metadata\":{}},{\"name\":\"minClusterActiveParallelism\",\"type\":\"long\",\"nullable\":true,\"metadata\":{}},{\"name\":\"maxSessionActiveParallelism\",\"type\":\"long\",\"nullable\":true,\"metadata\":{}},{\"name\":\"minSessionActiveParallelism\",\"type\":\"long\",\"nullable\":true,\"metadata\":{}}]},\"nullable\":true,\"metadata\":{}},{\"name\":\"deletionVectorStats\",\"type\":{\"type\":\"struct\",\"fields\":[{\"name\":\"numDeletionVectorsRemoved\",\"type\":\"long\",\"nullable\":false,\"metadata\":{}},{\"name\":\"numDeletionVectorRowsRemoved\",\"type\":\"long\",\"nullable\":false,\"metadata\":{}}]},\"nullable\":true,\"metadata\":{}},{\"name\":\"numTableColumns\",\"type\":\"long\",\"nullable\":false,\"metadata\":{}},{\"name\":\"numTableColumnsWithStats\",\"type\":\"long\",\"nullable\":false,\"metadata\":{}},{\"name\":\"totalTaskExecutionTimeMs\",\"type\":\"long\",\"nullable\":false,\"metadata\":{}},{\"name\":\"skippedArchivedFiles\",\"type\":\"long\",\"nullable\":false,\"metadata\":{}},{\"name\":\"clusteringMetrics\",\"type\":{\"type\":\"struct\",\"fields\":[{\"name\":\"sizeOfTableInBytesBeforeLazyClustering\",\"type\":\"long\",\"nullable\":false,\"metadata\":{}},{\"name\":\"isNewMetadataCreated\",\"type\":\"boolean\",\"nullable\":false,\"metadata\":{}},{\"name\":\"isPOTriggered\",\"type\":\"boolean\",\"nullable\":false,\"metadata\":{}},{\"name\":\"numFilesSkippedWithoutStats\",\"type\":\"long\",\"nullable\":false,\"metadata\":{}},{\"name\":\"numFilesClassifiedToIntermediateNodes\",\"type\":\"long\",\"nullable\":false,\"metadata\":{}},{\"name\":\"sizeOfFilesClassifiedToIntermediateNodesInBytes\",\"type\":\"long\",\"nullable\":false,\"metadata\":{}},{\"name\":\"logicalSizeOfFilesClassifiedToIntermediateNodesInBytes\",\"type\":\"long\",\"nullable\":false,\"metadata\":{}},{\"name\":\"numFilesClassifiedToLeafNodes\",\"type\":\"long\",\"nullable\":false,\"metadata\":{}},{\"name\":\"sizeOfFilesClassifiedToLeafNodesInBytes\",\"type\":\"long\",\"nullable\":false,\"metadata\":{}},{\"name\":\"logicalSizeOfFilesClassifiedToLeafNodesInBytes\",\"type\":\"long\",\"nullable\":false,\"metadata\":{}},{\"name\":\"numThreadsForClassifier\",\"type\":\"integer\",\"nullable\":true,\"metadata\":{}},{\"name\":\"clusterThresholdStrategy\",\"type\":\"string\",\"nullable\":true,\"metadata\":{}},{\"name\":\"minFileSize\",\"type\":\"long\",\"nullable\":false,\"metadata\":{}},{\"name\":\"maxFileSize\",\"type\":\"long\",\"nullable\":false,\"metadata\":{}},{\"name\":\"nodeMinNumFilesToCompact\",\"type\":\"long\",\"nullable\":false,\"metadata\":{}},{\"name\":\"numIdealFiles\",\"type\":\"long\",\"nullable\":false,\"metadata\":{}},{\"name\":\"numClusteringTasksPlanned\",\"type\":\"integer\",\"nullable\":false,\"metadata\":{}},{\"name\":\"numCompactionTasksPlanned\",\"type\":\"integer\",\"nullable\":false,\"metadata\":{}},{\"name\":\"numOptimizeBatchesPlanned\",\"type\":\"integer\",\"nullable\":false,\"metadata\":{}},{\"name\":\"numLeafNodesExpanded\",\"type\":\"long\",\"nullable\":false,\"metadata\":{}},{\"name\":\"numLeafNodesClustered\",\"type\":\"long\",\"nullable\":false,\"metadata\":{}},{\"name\":\"numGetFilesForNodeCalls\",\"type\":\"long\",\"nullable\":false,\"metadata\":{}},{\"name\":\"numSamplingJobs\",\"type\":\"long\",\"nullable\":false,\"metadata\":{}},{\"name\":\"numLeafNodesCompacted\",\"type\":\"long\",\"nullable\":false,\"metadata\":{}},{\"name\":\"numIntermediateNodesCompacted\",\"type\":\"long\",\"nullable\":false,\"metadata\":{}},{\"name\":\"totalSizeOfDataToCompactInBytes\",\"type\":\"long\",\"nullable\":false,\"metadata\":{}},{\"name\":\"totalLogicalSizeOfDataToCompactInBytes\",\"type\":\"long\",\"nullable\":false,\"metadata\":{}},{\"name\":\"numIntermediateNodesClustered\",\"type\":\"long\",\"nullable\":false,\"metadata\":{}},{\"name\":\"numFilesSkippedAfterExpansion\",\"type\":\"long\",\"nullable\":false,\"metadata\":{}},{\"name\":\"totalSizeOfFilesSkippedAfterExpansionInBytes\",\"type\":\"long\",\"nullable\":false,\"metadata\":{}},{\"name\":\"totalLogicalSizeOfFilesSkippedAfterExpansionInBytes\",\"type\":\"long\",\"nullable\":false,\"metadata\":{}},{\"name\":\"totalSizeOfDataToRewriteInBytes\",\"type\":\"long\",\"nullable\":false,\"metadata\":{}},{\"name\":\"totalLogicalSizeOfDataToRewriteInBytes\",\"type\":\"long\",\"nullable\":false,\"metadata\":{}},{\"name\":\"timeMetrics\",\"type\":{\"type\":\"struct\",\"fields\":[{\"name\":\"classifierTimeMs\",\"type\":\"long\",\"nullable\":false,\"metadata\":{}},{\"name\":\"optimizerTimeMs\",\"type\":\"long\",\"nullable\":false,\"metadata\":{}},{\"name\":\"metadataLoadTimeMs\",\"type\":\"long\",\"nullable\":false,\"metadata\":{}},{\"name\":\"totalGetFilesForNodeCallsTimeMs\",\"type\":\"long\",\"nullable\":false,\"metadata\":{}},{\"name\":\"totalSamplingTimeMs\",\"type\":\"long\",\"nullable\":false,\"metadata\":{}},{\"name\":\"metadataCreationTimeMs\",\"type\":\"long\",\"nullable\":false,\"metadata\":{}}]},\"nullable\":true,\"metadata\":{}},{\"name\":\"maxOptimizeBatchesInParallel\",\"type\":\"long\",\"nullable\":false,\"metadata\":{}},{\"name\":\"currentIteration\",\"type\":\"integer\",\"nullable\":false,\"metadata\":{}},{\"name\":\"maxIterations\",\"type\":\"integer\",\"nullable\":false,\"metadata\":{}},{\"name\":\"clusteringStrategy\",\"type\":\"string\",\"nullable\":true,\"metadata\":{}}]},\"nullable\":true,\"metadata\":{}}]}"
        }
       ],
       "type": "table"
      }
     },
     "output_type": "display_data"
    }
   ],
   "source": [
    "%sql\n",
    "OPTIMIZE flight_data_lc"
   ]
  },
  {
   "cell_type": "markdown",
   "metadata": {
    "application/vnd.databricks.v1+cell": {
     "cellMetadata": {
      "byteLimit": 2048000,
      "rowLimit": 10000
     },
     "inputWidgets": {},
     "nuid": "c8afb359-68b5-4f4b-974e-9e4ad746350c",
     "showTitle": false,
     "tableResultSettingsMap": {},
     "title": ""
    }
   },
   "source": [
    "lets see if the incremental clustering happened or not in the last write option"
   ]
  },
  {
   "cell_type": "code",
   "execution_count": 0,
   "metadata": {
    "application/vnd.databricks.v1+cell": {
     "cellMetadata": {
      "byteLimit": 2048000,
      "rowLimit": 10000
     },
     "inputWidgets": {},
     "nuid": "a440f2d7-7473-4f2d-b189-a2c84a46429a",
     "showTitle": false,
     "tableResultSettingsMap": {},
     "title": ""
    }
   },
   "outputs": [
    {
     "output_type": "display_data",
     "data": {
      "text/html": [
       "<style scoped>\n",
       "  .table-result-container {\n",
       "    max-height: 300px;\n",
       "    overflow: auto;\n",
       "  }\n",
       "  table, th, td {\n",
       "    border: 1px solid black;\n",
       "    border-collapse: collapse;\n",
       "  }\n",
       "  th, td {\n",
       "    padding: 5px;\n",
       "  }\n",
       "  th {\n",
       "    text-align: left;\n",
       "  }\n",
       "</style><div class='table-result-container'><table class='table-result'><thead style='background-color: white'><tr><th>num_affected_rows</th><th>num_inserted_rows</th></tr></thead><tbody></tbody></table></div>"
      ]
     },
     "metadata": {
      "application/vnd.databricks.v1+output": {
       "addedWidgets": {},
       "aggData": [],
       "aggError": "",
       "aggOverflow": false,
       "aggSchema": [],
       "aggSeriesLimitReached": false,
       "aggType": "",
       "arguments": {},
       "columnCustomDisplayInfos": {},
       "data": [],
       "datasetInfos": [],
       "dbfsResultPath": null,
       "isJsonSchema": true,
       "metadata": {
        "isDbfsCommandResult": false
       },
       "overflow": false,
       "plotOptions": {
        "customPlotOptions": {},
        "displayType": "table",
        "pivotAggregation": null,
        "pivotColumns": null,
        "xColumns": null,
        "yColumns": null
       },
       "removedWidgets": [],
       "schema": [
        {
         "metadata": "{}",
         "name": "num_affected_rows",
         "type": "\"long\""
        },
        {
         "metadata": "{}",
         "name": "num_inserted_rows",
         "type": "\"long\""
        }
       ],
       "type": "table"
      }
     },
     "output_type": "display_data"
    }
   ],
   "source": [
    "%sql\n",
    "INSERT INTO flight_data_lc\n",
    "SELECT *\n",
    "FROM flight_data_lc\n",
    "LIMIT 100"
   ]
  },
  {
   "cell_type": "markdown",
   "metadata": {
    "application/vnd.databricks.v1+cell": {
     "cellMetadata": {
      "byteLimit": 2048000,
      "rowLimit": 10000
     },
     "inputWidgets": {},
     "nuid": "6ce1ba62-c0d7-4643-bb80-13731aa7997b",
     "showTitle": false,
     "tableResultSettingsMap": {},
     "title": ""
    }
   },
   "source": [
    "lets see if the incremental clustering happened or not in the last write option"
   ]
  },
  {
   "cell_type": "code",
   "execution_count": 0,
   "metadata": {
    "application/vnd.databricks.v1+cell": {
     "cellMetadata": {
      "byteLimit": 2048000,
      "rowLimit": 10000
     },
     "inputWidgets": {},
     "nuid": "fd8e35fb-b2f4-4eb0-9046-9558d7bf0e74",
     "showTitle": false,
     "tableResultSettingsMap": {},
     "title": ""
    }
   },
   "outputs": [
    {
     "output_type": "display_data",
     "data": {
      "text/html": [
       "<style scoped>\n",
       "  .table-result-container {\n",
       "    max-height: 300px;\n",
       "    overflow: auto;\n",
       "  }\n",
       "  table, th, td {\n",
       "    border: 1px solid black;\n",
       "    border-collapse: collapse;\n",
       "  }\n",
       "  th, td {\n",
       "    padding: 5px;\n",
       "  }\n",
       "  th {\n",
       "    text-align: left;\n",
       "  }\n",
       "</style><div class='table-result-container'><table class='table-result'><thead style='background-color: white'><tr><th>num_affected_rows</th><th>num_inserted_rows</th></tr></thead><tbody></tbody></table></div>"
      ]
     },
     "metadata": {
      "application/vnd.databricks.v1+output": {
       "addedWidgets": {},
       "aggData": [],
       "aggError": "",
       "aggOverflow": false,
       "aggSchema": [],
       "aggSeriesLimitReached": false,
       "aggType": "",
       "arguments": {},
       "columnCustomDisplayInfos": {},
       "data": [],
       "datasetInfos": [],
       "dbfsResultPath": null,
       "isJsonSchema": true,
       "metadata": {
        "isDbfsCommandResult": false
       },
       "overflow": false,
       "plotOptions": {
        "customPlotOptions": {},
        "displayType": "table",
        "pivotAggregation": null,
        "pivotColumns": null,
        "xColumns": null,
        "yColumns": null
       },
       "removedWidgets": [],
       "schema": [
        {
         "metadata": "{}",
         "name": "num_affected_rows",
         "type": "\"long\""
        },
        {
         "metadata": "{}",
         "name": "num_inserted_rows",
         "type": "\"long\""
        }
       ],
       "type": "table"
      }
     },
     "output_type": "display_data"
    }
   ],
   "source": [
    "%sql\n",
    "INSERT INTO flight_data_lc\n",
    "SELECT * \n",
    "FROM flight_data_lc\n",
    "UNION \n",
    "SELECT * \n",
    "FROM flight_data_lc\n",
    "UNION \n",
    "SELECT * \n",
    "FROM flight_data_lc\n",
    "UNION \n",
    "SELECT * \n",
    "FROM flight_data_lc"
   ]
  },
  {
   "cell_type": "code",
   "execution_count": 0,
   "metadata": {
    "application/vnd.databricks.v1+cell": {
     "cellMetadata": {
      "byteLimit": 2048000,
      "rowLimit": 10000
     },
     "inputWidgets": {},
     "nuid": "09c04cfc-fce9-45b6-b89f-88bfbc3cafef",
     "showTitle": false,
     "tableResultSettingsMap": {},
     "title": ""
    }
   },
   "outputs": [
    {
     "output_type": "display_data",
     "data": {
      "text/html": [
       "<style scoped>\n",
       "  .table-result-container {\n",
       "    max-height: 300px;\n",
       "    overflow: auto;\n",
       "  }\n",
       "  table, th, td {\n",
       "    border: 1px solid black;\n",
       "    border-collapse: collapse;\n",
       "  }\n",
       "  th, td {\n",
       "    padding: 5px;\n",
       "  }\n",
       "  th {\n",
       "    text-align: left;\n",
       "  }\n",
       "</style><div class='table-result-container'><table class='table-result'><thead style='background-color: white'><tr><th>version</th><th>timestamp</th><th>userId</th><th>userName</th><th>operation</th><th>operationParameters</th><th>job</th><th>notebook</th><th>clusterId</th><th>readVersion</th><th>isolationLevel</th><th>isBlindAppend</th><th>operationMetrics</th><th>userMetadata</th><th>engineInfo</th></tr></thead><tbody><tr><td>4</td><td>2025-02-08T19:48:36Z</td><td>5755764547042441</td><td>inaya998877@gmail.com</td><td>WRITE</td><td>Map(partitionBy -> [], clusterBy -> [\"Year\",\"Dest\"], statsOnLoad -> false, mode -> Append, clusteringOnWriteStatus -> late-stage clustering triggered)</td><td>null</td><td>List(4173628358241809)</td><td>0208-184909-i1tqnfgq</td><td>3</td><td>WriteSerializable</td><td>false</td><td>Map(numFiles -> 10, numOutputRows -> 59285380, numOutputBytes -> 1314316622)</td><td>null</td><td>Databricks-Runtime/15.4.x-scala2.12</td></tr><tr><td>3</td><td>2025-02-08T19:31:18Z</td><td>5755764547042441</td><td>inaya998877@gmail.com</td><td>WRITE</td><td>Map(partitionBy -> [], clusterBy -> [\"Year\",\"Dest\"], statsOnLoad -> false, mode -> Append, clusteringOnWriteStatus -> late-stage clustering triggered)</td><td>null</td><td>List(4173628358241809)</td><td>0208-184909-i1tqnfgq</td><td>2</td><td>WriteSerializable</td><td>false</td><td>Map(numFiles -> 1, numOutputRows -> 100, numOutputBytes -> 12440)</td><td>null</td><td>Databricks-Runtime/15.4.x-scala2.12</td></tr><tr><td>2</td><td>2025-02-08T19:30:58Z</td><td>5755764547042441</td><td>inaya998877@gmail.com</td><td>OPTIMIZE</td><td>Map(predicate -> [], auto -> false, clusterBy -> [\"Year\",\"Dest\"], zOrderBy -> [], batchId -> -1)</td><td>null</td><td>List(4173628358241809)</td><td>0208-184909-i1tqnfgq</td><td>1</td><td>SnapshotIsolation</td><td>true</td><td>Map()</td><td>null</td><td>Databricks-Runtime/15.4.x-scala2.12</td></tr><tr><td>1</td><td>2025-02-08T19:28:32Z</td><td>5755764547042441</td><td>inaya998877@gmail.com</td><td>WRITE</td><td>Map(partitionBy -> [], clusterBy -> [\"Year\",\"Dest\"], statsOnLoad -> false, mode -> Append, clusteringOnWriteStatus -> kdtree triggered)</td><td>null</td><td>List(4173628358241809)</td><td>0208-184909-i1tqnfgq</td><td>0</td><td>WriteSerializable</td><td>true</td><td>Map(numFiles -> 25, numOutputRows -> 59285457, numOutputBytes -> 924920753)</td><td>null</td><td>Databricks-Runtime/15.4.x-scala2.12</td></tr><tr><td>0</td><td>2025-02-08T19:04:29Z</td><td>5755764547042441</td><td>inaya998877@gmail.com</td><td>CREATE TABLE</td><td>Map(partitionBy -> [], clusterBy -> [\"Year\",\"Dest\"], description -> null, isManaged -> true, properties -> {\"delta.enableDeletionVectors\":\"true\",\"delta.enableRowTracking\":\"true\",\"delta.checkpointPolicy\":\"v2\",\"delta.rowTracking.materializedRowCommitVersionColumnName\":\"_row-commit-version-col-a4f1e202-e704-4644-bd46-fd5e78fac0da\",\"delta.rowTracking.materializedRowIdColumnName\":\"_row-id-col-1363daad-70ca-46c7-8b14-dd84bece8caa\"}, statsOnLoad -> false)</td><td>null</td><td>List(4173628358241809)</td><td>0208-184909-i1tqnfgq</td><td>null</td><td>WriteSerializable</td><td>true</td><td>Map()</td><td>null</td><td>Databricks-Runtime/15.4.x-scala2.12</td></tr></tbody></table></div>"
      ]
     },
     "metadata": {
      "application/vnd.databricks.v1+output": {
       "addedWidgets": {},
       "aggData": [],
       "aggError": "",
       "aggOverflow": false,
       "aggSchema": [],
       "aggSeriesLimitReached": false,
       "aggType": "",
       "arguments": {},
       "columnCustomDisplayInfos": {},
       "data": [
        [
         4,
         "2025-02-08T19:48:36Z",
         "5755764547042441",
         "inaya998877@gmail.com",
         "WRITE",
         {
          "clusterBy": "[\"Year\",\"Dest\"]",
          "clusteringOnWriteStatus": "late-stage clustering triggered",
          "mode": "Append",
          "partitionBy": "[]",
          "statsOnLoad": "false"
         },
         null,
         [
          "4173628358241809"
         ],
         "0208-184909-i1tqnfgq",
         3,
         "WriteSerializable",
         false,
         {
          "numFiles": "10",
          "numOutputBytes": "1314316622",
          "numOutputRows": "59285380"
         },
         null,
         "Databricks-Runtime/15.4.x-scala2.12"
        ],
        [
         3,
         "2025-02-08T19:31:18Z",
         "5755764547042441",
         "inaya998877@gmail.com",
         "WRITE",
         {
          "clusterBy": "[\"Year\",\"Dest\"]",
          "clusteringOnWriteStatus": "late-stage clustering triggered",
          "mode": "Append",
          "partitionBy": "[]",
          "statsOnLoad": "false"
         },
         null,
         [
          "4173628358241809"
         ],
         "0208-184909-i1tqnfgq",
         2,
         "WriteSerializable",
         false,
         {
          "numFiles": "1",
          "numOutputBytes": "12440",
          "numOutputRows": "100"
         },
         null,
         "Databricks-Runtime/15.4.x-scala2.12"
        ],
        [
         2,
         "2025-02-08T19:30:58Z",
         "5755764547042441",
         "inaya998877@gmail.com",
         "OPTIMIZE",
         {
          "auto": "false",
          "batchId": "-1",
          "clusterBy": "[\"Year\",\"Dest\"]",
          "predicate": "[]",
          "zOrderBy": "[]"
         },
         null,
         [
          "4173628358241809"
         ],
         "0208-184909-i1tqnfgq",
         1,
         "SnapshotIsolation",
         true,
         {},
         null,
         "Databricks-Runtime/15.4.x-scala2.12"
        ],
        [
         1,
         "2025-02-08T19:28:32Z",
         "5755764547042441",
         "inaya998877@gmail.com",
         "WRITE",
         {
          "clusterBy": "[\"Year\",\"Dest\"]",
          "clusteringOnWriteStatus": "kdtree triggered",
          "mode": "Append",
          "partitionBy": "[]",
          "statsOnLoad": "false"
         },
         null,
         [
          "4173628358241809"
         ],
         "0208-184909-i1tqnfgq",
         0,
         "WriteSerializable",
         true,
         {
          "numFiles": "25",
          "numOutputBytes": "924920753",
          "numOutputRows": "59285457"
         },
         null,
         "Databricks-Runtime/15.4.x-scala2.12"
        ],
        [
         0,
         "2025-02-08T19:04:29Z",
         "5755764547042441",
         "inaya998877@gmail.com",
         "CREATE TABLE",
         {
          "clusterBy": "[\"Year\",\"Dest\"]",
          "description": null,
          "isManaged": "true",
          "partitionBy": "[]",
          "properties": "{\"delta.enableDeletionVectors\":\"true\",\"delta.enableRowTracking\":\"true\",\"delta.checkpointPolicy\":\"v2\",\"delta.rowTracking.materializedRowCommitVersionColumnName\":\"_row-commit-version-col-a4f1e202-e704-4644-bd46-fd5e78fac0da\",\"delta.rowTracking.materializedRowIdColumnName\":\"_row-id-col-1363daad-70ca-46c7-8b14-dd84bece8caa\"}",
          "statsOnLoad": "false"
         },
         null,
         [
          "4173628358241809"
         ],
         "0208-184909-i1tqnfgq",
         null,
         "WriteSerializable",
         true,
         {},
         null,
         "Databricks-Runtime/15.4.x-scala2.12"
        ]
       ],
       "datasetInfos": [],
       "dbfsResultPath": null,
       "isJsonSchema": true,
       "metadata": {
        "isDbfsCommandResult": false
       },
       "overflow": false,
       "plotOptions": {
        "customPlotOptions": {},
        "displayType": "table",
        "pivotAggregation": null,
        "pivotColumns": null,
        "xColumns": null,
        "yColumns": null
       },
       "removedWidgets": [],
       "schema": [
        {
         "metadata": "{}",
         "name": "version",
         "type": "\"long\""
        },
        {
         "metadata": "{}",
         "name": "timestamp",
         "type": "\"timestamp\""
        },
        {
         "metadata": "{}",
         "name": "userId",
         "type": "\"string\""
        },
        {
         "metadata": "{}",
         "name": "userName",
         "type": "\"string\""
        },
        {
         "metadata": "{}",
         "name": "operation",
         "type": "\"string\""
        },
        {
         "metadata": "{}",
         "name": "operationParameters",
         "type": "{\"type\":\"map\",\"keyType\":\"string\",\"valueType\":\"string\",\"valueContainsNull\":true}"
        },
        {
         "metadata": "{}",
         "name": "job",
         "type": "{\"type\":\"struct\",\"fields\":[{\"name\":\"jobId\",\"type\":\"string\",\"nullable\":true,\"metadata\":{}},{\"name\":\"jobName\",\"type\":\"string\",\"nullable\":true,\"metadata\":{}},{\"name\":\"jobRunId\",\"type\":\"string\",\"nullable\":true,\"metadata\":{}},{\"name\":\"runId\",\"type\":\"string\",\"nullable\":true,\"metadata\":{}},{\"name\":\"jobOwnerId\",\"type\":\"string\",\"nullable\":true,\"metadata\":{}},{\"name\":\"triggerType\",\"type\":\"string\",\"nullable\":true,\"metadata\":{}}]}"
        },
        {
         "metadata": "{}",
         "name": "notebook",
         "type": "{\"type\":\"struct\",\"fields\":[{\"name\":\"notebookId\",\"type\":\"string\",\"nullable\":true,\"metadata\":{}}]}"
        },
        {
         "metadata": "{}",
         "name": "clusterId",
         "type": "\"string\""
        },
        {
         "metadata": "{}",
         "name": "readVersion",
         "type": "\"long\""
        },
        {
         "metadata": "{}",
         "name": "isolationLevel",
         "type": "\"string\""
        },
        {
         "metadata": "{}",
         "name": "isBlindAppend",
         "type": "\"boolean\""
        },
        {
         "metadata": "{}",
         "name": "operationMetrics",
         "type": "{\"type\":\"map\",\"keyType\":\"string\",\"valueType\":\"string\",\"valueContainsNull\":true}"
        },
        {
         "metadata": "{}",
         "name": "userMetadata",
         "type": "\"string\""
        },
        {
         "metadata": "{}",
         "name": "engineInfo",
         "type": "\"string\""
        }
       ],
       "type": "table"
      }
     },
     "output_type": "display_data"
    }
   ],
   "source": [
    "%sql\n",
    "DESC HISTORY flight_data_lc"
   ]
  },
  {
   "cell_type": "code",
   "execution_count": 0,
   "metadata": {
    "application/vnd.databricks.v1+cell": {
     "cellMetadata": {
      "byteLimit": 2048000,
      "rowLimit": 10000
     },
     "inputWidgets": {},
     "nuid": "c1b06cd3-4b5d-4dc8-a620-db55d8b3c7d0",
     "showTitle": false,
     "tableResultSettingsMap": {},
     "title": ""
    }
   },
   "outputs": [
    {
     "output_type": "display_data",
     "data": {
      "text/html": [
       "<style scoped>\n",
       "  .table-result-container {\n",
       "    max-height: 300px;\n",
       "    overflow: auto;\n",
       "  }\n",
       "  table, th, td {\n",
       "    border: 1px solid black;\n",
       "    border-collapse: collapse;\n",
       "  }\n",
       "  th, td {\n",
       "    padding: 5px;\n",
       "  }\n",
       "  th {\n",
       "    text-align: left;\n",
       "  }\n",
       "</style><div class='table-result-container'><table class='table-result'><thead style='background-color: white'><tr><th>path</th><th>name</th><th>size</th><th>modificationTime</th></tr></thead><tbody><tr><td>dbfs:/user/hive/warehouse/flight_data_lc/_delta_log/</td><td>_delta_log/</td><td>0</td><td>0</td></tr><tr><td>dbfs:/user/hive/warehouse/flight_data_lc/part-00000-08d43bba-4381-4e7a-8a6a-0a98e664de98-c000.snappy.parquet</td><td>part-00000-08d43bba-4381-4e7a-8a6a-0a98e664de98-c000.snappy.parquet</td><td>136948490</td><td>1739044039000</td></tr><tr><td>dbfs:/user/hive/warehouse/flight_data_lc/part-00000-35003a93-feb8-4238-ae91-55fc60db3010-c000.snappy.parquet</td><td>part-00000-35003a93-feb8-4238-ae91-55fc60db3010-c000.snappy.parquet</td><td>12440</td><td>1739043077000</td></tr><tr><td>dbfs:/user/hive/warehouse/flight_data_lc/part-00000-a5fc3fa9-62ff-4314-875e-c200dedbb457-c000.snappy.parquet</td><td>part-00000-a5fc3fa9-62ff-4314-875e-c200dedbb457-c000.snappy.parquet</td><td>41335843</td><td>1739042546000</td></tr><tr><td>dbfs:/user/hive/warehouse/flight_data_lc/part-00001-9fdc89bd-f0c5-4b9f-bde5-5274ec0b16bd-c000.snappy.parquet</td><td>part-00001-9fdc89bd-f0c5-4b9f-bde5-5274ec0b16bd-c000.snappy.parquet</td><td>33945509</td><td>1739042758000</td></tr><tr><td>dbfs:/user/hive/warehouse/flight_data_lc/part-00001-dba9d071-5793-4e72-9ff1-6b1f72291a47-c000.snappy.parquet</td><td>part-00001-dba9d071-5793-4e72-9ff1-6b1f72291a47-c000.snappy.parquet</td><td>158825581</td><td>1739044084000</td></tr><tr><td>dbfs:/user/hive/warehouse/flight_data_lc/part-00002-5d386d10-2c57-450f-8680-4b6da5ced224-c000.snappy.parquet</td><td>part-00002-5d386d10-2c57-450f-8680-4b6da5ced224-c000.snappy.parquet</td><td>33599513</td><td>1739042867000</td></tr><tr><td>dbfs:/user/hive/warehouse/flight_data_lc/part-00002-759d6ec5-47df-4ff5-bf8e-985107f9e382-c000.snappy.parquet</td><td>part-00002-759d6ec5-47df-4ff5-bf8e-985107f9e382-c000.snappy.parquet</td><td>98112111</td><td>1739043939000</td></tr><tr><td>dbfs:/user/hive/warehouse/flight_data_lc/part-00003-0dec6772-8edf-4baf-aece-771acc08e037-c000.snappy.parquet</td><td>part-00003-0dec6772-8edf-4baf-aece-771acc08e037-c000.snappy.parquet</td><td>148575046</td><td>1739044059000</td></tr><tr><td>dbfs:/user/hive/warehouse/flight_data_lc/part-00003-f62eae3c-281a-4d82-97ff-2a8c933e5fdb-c000.snappy.parquet</td><td>part-00003-f62eae3c-281a-4d82-97ff-2a8c933e5fdb-c000.snappy.parquet</td><td>37189521</td><td>1739042770000</td></tr><tr><td>dbfs:/user/hive/warehouse/flight_data_lc/part-00004-3c63f81d-88cf-4e8a-abc2-5275285680a4-c000.snappy.parquet</td><td>part-00004-3c63f81d-88cf-4e8a-abc2-5275285680a4-c000.snappy.parquet</td><td>39377483</td><td>1739042710000</td></tr><tr><td>dbfs:/user/hive/warehouse/flight_data_lc/part-00004-9afb86e7-81fc-42ba-a4ac-480e7a305234-c000.snappy.parquet</td><td>part-00004-9afb86e7-81fc-42ba-a4ac-480e7a305234-c000.snappy.parquet</td><td>97457247</td><td>1739043935000</td></tr><tr><td>dbfs:/user/hive/warehouse/flight_data_lc/part-00005-5a51881b-8f1d-4be6-857d-639842a669da-c000.snappy.parquet</td><td>part-00005-5a51881b-8f1d-4be6-857d-639842a669da-c000.snappy.parquet</td><td>38231554</td><td>1739042711000</td></tr><tr><td>dbfs:/user/hive/warehouse/flight_data_lc/part-00005-d4f25422-594d-4d24-bb10-2e97490c69d9-c000.snappy.parquet</td><td>part-00005-d4f25422-594d-4d24-bb10-2e97490c69d9-c000.snappy.parquet</td><td>147218190</td><td>1739044039000</td></tr><tr><td>dbfs:/user/hive/warehouse/flight_data_lc/part-00006-091e47d0-1cfd-4c72-9953-d9f404226081-c000.snappy.parquet</td><td>part-00006-091e47d0-1cfd-4c72-9953-d9f404226081-c000.snappy.parquet</td><td>155707708</td><td>1739044074000</td></tr><tr><td>dbfs:/user/hive/warehouse/flight_data_lc/part-00006-6c0d53e0-ff84-4cbd-8b64-90f39ea2e0a2-c000.snappy.parquet</td><td>part-00006-6c0d53e0-ff84-4cbd-8b64-90f39ea2e0a2-c000.snappy.parquet</td><td>43258975</td><td>1739042546000</td></tr><tr><td>dbfs:/user/hive/warehouse/flight_data_lc/part-00007-75a0b69d-a870-4dce-811c-36281956c24d-c000.snappy.parquet</td><td>part-00007-75a0b69d-a870-4dce-811c-36281956c24d-c000.snappy.parquet</td><td>43913708</td><td>1739042555000</td></tr><tr><td>dbfs:/user/hive/warehouse/flight_data_lc/part-00007-fa5b8c81-18c5-45c7-b417-2718a74a2c87-c000.snappy.parquet</td><td>part-00007-fa5b8c81-18c5-45c7-b417-2718a74a2c87-c000.snappy.parquet</td><td>86991781</td><td>1739044108000</td></tr><tr><td>dbfs:/user/hive/warehouse/flight_data_lc/part-00008-5a60cae7-ebb2-43b8-852d-3993cb2e0a94-c000.snappy.parquet</td><td>part-00008-5a60cae7-ebb2-43b8-852d-3993cb2e0a94-c000.snappy.parquet</td><td>100232765</td><td>1739044115000</td></tr><tr><td>dbfs:/user/hive/warehouse/flight_data_lc/part-00008-8d6d8bc6-da97-4e7f-861f-6a4ecdddcb94-c000.snappy.parquet</td><td>part-00008-8d6d8bc6-da97-4e7f-861f-6a4ecdddcb94-c000.snappy.parquet</td><td>43840333</td><td>1739042552000</td></tr><tr><td>dbfs:/user/hive/warehouse/flight_data_lc/part-00009-0ffdda65-e82d-4e97-b259-161f719344bf-c000.snappy.parquet</td><td>part-00009-0ffdda65-e82d-4e97-b259-161f719344bf-c000.snappy.parquet</td><td>184247703</td><td>1739044099000</td></tr><tr><td>dbfs:/user/hive/warehouse/flight_data_lc/part-00009-dd6ba794-885e-492b-9fc4-cef2cb3c425e-c000.snappy.parquet</td><td>part-00009-dd6ba794-885e-492b-9fc4-cef2cb3c425e-c000.snappy.parquet</td><td>27828336</td><td>1739042903000</td></tr><tr><td>dbfs:/user/hive/warehouse/flight_data_lc/part-00010-0750de3a-6475-4b81-8c3b-915f23966601-c000.snappy.parquet</td><td>part-00010-0750de3a-6475-4b81-8c3b-915f23966601-c000.snappy.parquet</td><td>26084606</td><td>1739042911000</td></tr><tr><td>dbfs:/user/hive/warehouse/flight_data_lc/part-00011-ed5bc0af-a89b-4d4e-8897-8a13b50f6447-c000.snappy.parquet</td><td>part-00011-ed5bc0af-a89b-4d4e-8897-8a13b50f6447-c000.snappy.parquet</td><td>46419759</td><td>1739042550000</td></tr><tr><td>dbfs:/user/hive/warehouse/flight_data_lc/part-00012-fa98cfb9-bdf3-4311-95a2-73ffbacf1fc5-c000.snappy.parquet</td><td>part-00012-fa98cfb9-bdf3-4311-95a2-73ffbacf1fc5-c000.snappy.parquet</td><td>40878523</td><td>1739042721000</td></tr><tr><td>dbfs:/user/hive/warehouse/flight_data_lc/part-00013-7764cf16-6f4e-44cc-8c0f-423f75a608ef-c000.snappy.parquet</td><td>part-00013-7764cf16-6f4e-44cc-8c0f-423f75a608ef-c000.snappy.parquet</td><td>50417709</td><td>1739042602000</td></tr><tr><td>dbfs:/user/hive/warehouse/flight_data_lc/part-00014-79a09751-6be7-4970-9013-b1c93bc50763-c000.snappy.parquet</td><td>part-00014-79a09751-6be7-4970-9013-b1c93bc50763-c000.snappy.parquet</td><td>41531144</td><td>1739042604000</td></tr><tr><td>dbfs:/user/hive/warehouse/flight_data_lc/part-00015-1832ace5-dbaf-4ec8-9d65-1a89c0f508f2-c000.snappy.parquet</td><td>part-00015-1832ace5-dbaf-4ec8-9d65-1a89c0f508f2-c000.snappy.parquet</td><td>28450661</td><td>1739042888000</td></tr><tr><td>dbfs:/user/hive/warehouse/flight_data_lc/part-00016-221039ac-bd58-480f-ad5c-bcf5d2502d62-c000.snappy.parquet</td><td>part-00016-221039ac-bd58-480f-ad5c-bcf5d2502d62-c000.snappy.parquet</td><td>32944659</td><td>1739042899000</td></tr><tr><td>dbfs:/user/hive/warehouse/flight_data_lc/part-00017-5c5e95b5-e747-4f79-bec4-2139c2f57679-c000.snappy.parquet</td><td>part-00017-5c5e95b5-e747-4f79-bec4-2139c2f57679-c000.snappy.parquet</td><td>33911535</td><td>1739042853000</td></tr><tr><td>dbfs:/user/hive/warehouse/flight_data_lc/part-00018-e76da79c-5f5a-4659-a7c9-ddcdf5c04b78-c000.snappy.parquet</td><td>part-00018-e76da79c-5f5a-4659-a7c9-ddcdf5c04b78-c000.snappy.parquet</td><td>33341273</td><td>1739042801000</td></tr><tr><td>dbfs:/user/hive/warehouse/flight_data_lc/part-00019-9fd1f413-bb56-4634-915a-fe2f8c755397-c000.snappy.parquet</td><td>part-00019-9fd1f413-bb56-4634-915a-fe2f8c755397-c000.snappy.parquet</td><td>29602285</td><td>1739042881000</td></tr><tr><td>dbfs:/user/hive/warehouse/flight_data_lc/part-00020-672c61a1-190a-4d16-a6cc-55e9aba5f5d2-c000.snappy.parquet</td><td>part-00020-672c61a1-190a-4d16-a6cc-55e9aba5f5d2-c000.snappy.parquet</td><td>27943323</td><td>1739042905000</td></tr><tr><td>dbfs:/user/hive/warehouse/flight_data_lc/part-00021-497b928f-dd86-4f0f-99f5-fe03e66bbad7-c000.snappy.parquet</td><td>part-00021-497b928f-dd86-4f0f-99f5-fe03e66bbad7-c000.snappy.parquet</td><td>29671647</td><td>1739042886000</td></tr><tr><td>dbfs:/user/hive/warehouse/flight_data_lc/part-00022-afdff259-3104-426c-8630-aef7b56db845-c000.snappy.parquet</td><td>part-00022-afdff259-3104-426c-8630-aef7b56db845-c000.snappy.parquet</td><td>34530482</td><td>1739042755000</td></tr><tr><td>dbfs:/user/hive/warehouse/flight_data_lc/part-00023-6b9ad56d-9104-4747-a784-b98160f92486-c000.snappy.parquet</td><td>part-00023-6b9ad56d-9104-4747-a784-b98160f92486-c000.snappy.parquet</td><td>53298091</td><td>1739042611000</td></tr><tr><td>dbfs:/user/hive/warehouse/flight_data_lc/part-00024-ac94bdb1-dcdb-45e0-b3f0-8a03b87237e8-c000.snappy.parquet</td><td>part-00024-ac94bdb1-dcdb-45e0-b3f0-8a03b87237e8-c000.snappy.parquet</td><td>33374281</td><td>1739042800000</td></tr></tbody></table></div>"
      ]
     },
     "metadata": {
      "application/vnd.databricks.v1+output": {
       "addedWidgets": {},
       "aggData": [],
       "aggError": "",
       "aggOverflow": false,
       "aggSchema": [],
       "aggSeriesLimitReached": false,
       "aggType": "",
       "arguments": {},
       "columnCustomDisplayInfos": {},
       "data": [
        [
         "dbfs:/user/hive/warehouse/flight_data_lc/_delta_log/",
         "_delta_log/",
         0,
         0
        ],
        [
         "dbfs:/user/hive/warehouse/flight_data_lc/part-00000-08d43bba-4381-4e7a-8a6a-0a98e664de98-c000.snappy.parquet",
         "part-00000-08d43bba-4381-4e7a-8a6a-0a98e664de98-c000.snappy.parquet",
         136948490,
         1739044039000
        ],
        [
         "dbfs:/user/hive/warehouse/flight_data_lc/part-00000-35003a93-feb8-4238-ae91-55fc60db3010-c000.snappy.parquet",
         "part-00000-35003a93-feb8-4238-ae91-55fc60db3010-c000.snappy.parquet",
         12440,
         1739043077000
        ],
        [
         "dbfs:/user/hive/warehouse/flight_data_lc/part-00000-a5fc3fa9-62ff-4314-875e-c200dedbb457-c000.snappy.parquet",
         "part-00000-a5fc3fa9-62ff-4314-875e-c200dedbb457-c000.snappy.parquet",
         41335843,
         1739042546000
        ],
        [
         "dbfs:/user/hive/warehouse/flight_data_lc/part-00001-9fdc89bd-f0c5-4b9f-bde5-5274ec0b16bd-c000.snappy.parquet",
         "part-00001-9fdc89bd-f0c5-4b9f-bde5-5274ec0b16bd-c000.snappy.parquet",
         33945509,
         1739042758000
        ],
        [
         "dbfs:/user/hive/warehouse/flight_data_lc/part-00001-dba9d071-5793-4e72-9ff1-6b1f72291a47-c000.snappy.parquet",
         "part-00001-dba9d071-5793-4e72-9ff1-6b1f72291a47-c000.snappy.parquet",
         158825581,
         1739044084000
        ],
        [
         "dbfs:/user/hive/warehouse/flight_data_lc/part-00002-5d386d10-2c57-450f-8680-4b6da5ced224-c000.snappy.parquet",
         "part-00002-5d386d10-2c57-450f-8680-4b6da5ced224-c000.snappy.parquet",
         33599513,
         1739042867000
        ],
        [
         "dbfs:/user/hive/warehouse/flight_data_lc/part-00002-759d6ec5-47df-4ff5-bf8e-985107f9e382-c000.snappy.parquet",
         "part-00002-759d6ec5-47df-4ff5-bf8e-985107f9e382-c000.snappy.parquet",
         98112111,
         1739043939000
        ],
        [
         "dbfs:/user/hive/warehouse/flight_data_lc/part-00003-0dec6772-8edf-4baf-aece-771acc08e037-c000.snappy.parquet",
         "part-00003-0dec6772-8edf-4baf-aece-771acc08e037-c000.snappy.parquet",
         148575046,
         1739044059000
        ],
        [
         "dbfs:/user/hive/warehouse/flight_data_lc/part-00003-f62eae3c-281a-4d82-97ff-2a8c933e5fdb-c000.snappy.parquet",
         "part-00003-f62eae3c-281a-4d82-97ff-2a8c933e5fdb-c000.snappy.parquet",
         37189521,
         1739042770000
        ],
        [
         "dbfs:/user/hive/warehouse/flight_data_lc/part-00004-3c63f81d-88cf-4e8a-abc2-5275285680a4-c000.snappy.parquet",
         "part-00004-3c63f81d-88cf-4e8a-abc2-5275285680a4-c000.snappy.parquet",
         39377483,
         1739042710000
        ],
        [
         "dbfs:/user/hive/warehouse/flight_data_lc/part-00004-9afb86e7-81fc-42ba-a4ac-480e7a305234-c000.snappy.parquet",
         "part-00004-9afb86e7-81fc-42ba-a4ac-480e7a305234-c000.snappy.parquet",
         97457247,
         1739043935000
        ],
        [
         "dbfs:/user/hive/warehouse/flight_data_lc/part-00005-5a51881b-8f1d-4be6-857d-639842a669da-c000.snappy.parquet",
         "part-00005-5a51881b-8f1d-4be6-857d-639842a669da-c000.snappy.parquet",
         38231554,
         1739042711000
        ],
        [
         "dbfs:/user/hive/warehouse/flight_data_lc/part-00005-d4f25422-594d-4d24-bb10-2e97490c69d9-c000.snappy.parquet",
         "part-00005-d4f25422-594d-4d24-bb10-2e97490c69d9-c000.snappy.parquet",
         147218190,
         1739044039000
        ],
        [
         "dbfs:/user/hive/warehouse/flight_data_lc/part-00006-091e47d0-1cfd-4c72-9953-d9f404226081-c000.snappy.parquet",
         "part-00006-091e47d0-1cfd-4c72-9953-d9f404226081-c000.snappy.parquet",
         155707708,
         1739044074000
        ],
        [
         "dbfs:/user/hive/warehouse/flight_data_lc/part-00006-6c0d53e0-ff84-4cbd-8b64-90f39ea2e0a2-c000.snappy.parquet",
         "part-00006-6c0d53e0-ff84-4cbd-8b64-90f39ea2e0a2-c000.snappy.parquet",
         43258975,
         1739042546000
        ],
        [
         "dbfs:/user/hive/warehouse/flight_data_lc/part-00007-75a0b69d-a870-4dce-811c-36281956c24d-c000.snappy.parquet",
         "part-00007-75a0b69d-a870-4dce-811c-36281956c24d-c000.snappy.parquet",
         43913708,
         1739042555000
        ],
        [
         "dbfs:/user/hive/warehouse/flight_data_lc/part-00007-fa5b8c81-18c5-45c7-b417-2718a74a2c87-c000.snappy.parquet",
         "part-00007-fa5b8c81-18c5-45c7-b417-2718a74a2c87-c000.snappy.parquet",
         86991781,
         1739044108000
        ],
        [
         "dbfs:/user/hive/warehouse/flight_data_lc/part-00008-5a60cae7-ebb2-43b8-852d-3993cb2e0a94-c000.snappy.parquet",
         "part-00008-5a60cae7-ebb2-43b8-852d-3993cb2e0a94-c000.snappy.parquet",
         100232765,
         1739044115000
        ],
        [
         "dbfs:/user/hive/warehouse/flight_data_lc/part-00008-8d6d8bc6-da97-4e7f-861f-6a4ecdddcb94-c000.snappy.parquet",
         "part-00008-8d6d8bc6-da97-4e7f-861f-6a4ecdddcb94-c000.snappy.parquet",
         43840333,
         1739042552000
        ],
        [
         "dbfs:/user/hive/warehouse/flight_data_lc/part-00009-0ffdda65-e82d-4e97-b259-161f719344bf-c000.snappy.parquet",
         "part-00009-0ffdda65-e82d-4e97-b259-161f719344bf-c000.snappy.parquet",
         184247703,
         1739044099000
        ],
        [
         "dbfs:/user/hive/warehouse/flight_data_lc/part-00009-dd6ba794-885e-492b-9fc4-cef2cb3c425e-c000.snappy.parquet",
         "part-00009-dd6ba794-885e-492b-9fc4-cef2cb3c425e-c000.snappy.parquet",
         27828336,
         1739042903000
        ],
        [
         "dbfs:/user/hive/warehouse/flight_data_lc/part-00010-0750de3a-6475-4b81-8c3b-915f23966601-c000.snappy.parquet",
         "part-00010-0750de3a-6475-4b81-8c3b-915f23966601-c000.snappy.parquet",
         26084606,
         1739042911000
        ],
        [
         "dbfs:/user/hive/warehouse/flight_data_lc/part-00011-ed5bc0af-a89b-4d4e-8897-8a13b50f6447-c000.snappy.parquet",
         "part-00011-ed5bc0af-a89b-4d4e-8897-8a13b50f6447-c000.snappy.parquet",
         46419759,
         1739042550000
        ],
        [
         "dbfs:/user/hive/warehouse/flight_data_lc/part-00012-fa98cfb9-bdf3-4311-95a2-73ffbacf1fc5-c000.snappy.parquet",
         "part-00012-fa98cfb9-bdf3-4311-95a2-73ffbacf1fc5-c000.snappy.parquet",
         40878523,
         1739042721000
        ],
        [
         "dbfs:/user/hive/warehouse/flight_data_lc/part-00013-7764cf16-6f4e-44cc-8c0f-423f75a608ef-c000.snappy.parquet",
         "part-00013-7764cf16-6f4e-44cc-8c0f-423f75a608ef-c000.snappy.parquet",
         50417709,
         1739042602000
        ],
        [
         "dbfs:/user/hive/warehouse/flight_data_lc/part-00014-79a09751-6be7-4970-9013-b1c93bc50763-c000.snappy.parquet",
         "part-00014-79a09751-6be7-4970-9013-b1c93bc50763-c000.snappy.parquet",
         41531144,
         1739042604000
        ],
        [
         "dbfs:/user/hive/warehouse/flight_data_lc/part-00015-1832ace5-dbaf-4ec8-9d65-1a89c0f508f2-c000.snappy.parquet",
         "part-00015-1832ace5-dbaf-4ec8-9d65-1a89c0f508f2-c000.snappy.parquet",
         28450661,
         1739042888000
        ],
        [
         "dbfs:/user/hive/warehouse/flight_data_lc/part-00016-221039ac-bd58-480f-ad5c-bcf5d2502d62-c000.snappy.parquet",
         "part-00016-221039ac-bd58-480f-ad5c-bcf5d2502d62-c000.snappy.parquet",
         32944659,
         1739042899000
        ],
        [
         "dbfs:/user/hive/warehouse/flight_data_lc/part-00017-5c5e95b5-e747-4f79-bec4-2139c2f57679-c000.snappy.parquet",
         "part-00017-5c5e95b5-e747-4f79-bec4-2139c2f57679-c000.snappy.parquet",
         33911535,
         1739042853000
        ],
        [
         "dbfs:/user/hive/warehouse/flight_data_lc/part-00018-e76da79c-5f5a-4659-a7c9-ddcdf5c04b78-c000.snappy.parquet",
         "part-00018-e76da79c-5f5a-4659-a7c9-ddcdf5c04b78-c000.snappy.parquet",
         33341273,
         1739042801000
        ],
        [
         "dbfs:/user/hive/warehouse/flight_data_lc/part-00019-9fd1f413-bb56-4634-915a-fe2f8c755397-c000.snappy.parquet",
         "part-00019-9fd1f413-bb56-4634-915a-fe2f8c755397-c000.snappy.parquet",
         29602285,
         1739042881000
        ],
        [
         "dbfs:/user/hive/warehouse/flight_data_lc/part-00020-672c61a1-190a-4d16-a6cc-55e9aba5f5d2-c000.snappy.parquet",
         "part-00020-672c61a1-190a-4d16-a6cc-55e9aba5f5d2-c000.snappy.parquet",
         27943323,
         1739042905000
        ],
        [
         "dbfs:/user/hive/warehouse/flight_data_lc/part-00021-497b928f-dd86-4f0f-99f5-fe03e66bbad7-c000.snappy.parquet",
         "part-00021-497b928f-dd86-4f0f-99f5-fe03e66bbad7-c000.snappy.parquet",
         29671647,
         1739042886000
        ],
        [
         "dbfs:/user/hive/warehouse/flight_data_lc/part-00022-afdff259-3104-426c-8630-aef7b56db845-c000.snappy.parquet",
         "part-00022-afdff259-3104-426c-8630-aef7b56db845-c000.snappy.parquet",
         34530482,
         1739042755000
        ],
        [
         "dbfs:/user/hive/warehouse/flight_data_lc/part-00023-6b9ad56d-9104-4747-a784-b98160f92486-c000.snappy.parquet",
         "part-00023-6b9ad56d-9104-4747-a784-b98160f92486-c000.snappy.parquet",
         53298091,
         1739042611000
        ],
        [
         "dbfs:/user/hive/warehouse/flight_data_lc/part-00024-ac94bdb1-dcdb-45e0-b3f0-8a03b87237e8-c000.snappy.parquet",
         "part-00024-ac94bdb1-dcdb-45e0-b3f0-8a03b87237e8-c000.snappy.parquet",
         33374281,
         1739042800000
        ]
       ],
       "datasetInfos": [],
       "dbfsResultPath": null,
       "isJsonSchema": true,
       "metadata": {
        "isDbfsCommandResult": false
       },
       "overflow": false,
       "plotOptions": {
        "customPlotOptions": {},
        "displayType": "table",
        "pivotAggregation": null,
        "pivotColumns": null,
        "xColumns": null,
        "yColumns": null
       },
       "removedWidgets": [],
       "schema": [
        {
         "metadata": "{}",
         "name": "path",
         "type": "\"string\""
        },
        {
         "metadata": "{}",
         "name": "name",
         "type": "\"string\""
        },
        {
         "metadata": "{}",
         "name": "size",
         "type": "\"long\""
        },
        {
         "metadata": "{}",
         "name": "modificationTime",
         "type": "\"long\""
        }
       ],
       "type": "table"
      }
     },
     "output_type": "display_data"
    }
   ],
   "source": [
    "%fs ls dbfs:/user/hive/warehouse/flight_data_lc"
   ]
  },
  {
   "cell_type": "code",
   "execution_count": 0,
   "metadata": {
    "application/vnd.databricks.v1+cell": {
     "cellMetadata": {
      "byteLimit": 2048000,
      "rowLimit": 10000
     },
     "inputWidgets": {},
     "nuid": "43b0b63c-d8f4-44fe-8936-efb34abe1d02",
     "showTitle": false,
     "tableResultSettingsMap": {},
     "title": ""
    }
   },
   "outputs": [
    {
     "output_type": "display_data",
     "data": {
      "text/html": [
       "<style scoped>\n",
       "  .table-result-container {\n",
       "    max-height: 300px;\n",
       "    overflow: auto;\n",
       "  }\n",
       "  table, th, td {\n",
       "    border: 1px solid black;\n",
       "    border-collapse: collapse;\n",
       "  }\n",
       "  th, td {\n",
       "    padding: 5px;\n",
       "  }\n",
       "  th {\n",
       "    text-align: left;\n",
       "  }\n",
       "</style><div class='table-result-container'><table class='table-result'><thead style='background-color: white'><tr><th>path</th><th>metrics</th></tr></thead><tbody><tr><td>dbfs:/user/hive/warehouse/flight_data_lc</td><td>List(0, 0, List(null, null, 0.0, 0, 0), List(null, null, 0.0, 0, 0), 0, null, null, 0, 0, 36, 0, false, 0, 0, 1739044123554, 1739044129335, 8, 0, null, List(0, 0), 29, 29, 0, 0, List(2239249815, false, false, 0, 6, 211687951, 211687951, 30, 2027561864, 2027561864, null, log, 16777216, 268435456, 8, 0, 0, 0, 0, 0, 0, 0, 0, 0, 0, 0, 0, 0, 0, 0, 0, 0, 0, List(456, 25, 1445, 0, 0, 0), 2, 1, 5, sizeAware))</td></tr></tbody></table></div>"
      ]
     },
     "metadata": {
      "application/vnd.databricks.v1+output": {
       "addedWidgets": {},
       "aggData": [],
       "aggError": "",
       "aggOverflow": false,
       "aggSchema": [],
       "aggSeriesLimitReached": false,
       "aggType": "",
       "arguments": {},
       "columnCustomDisplayInfos": {},
       "data": [
        [
         "dbfs:/user/hive/warehouse/flight_data_lc",
         [
          0,
          0,
          [
           null,
           null,
           0.0,
           0,
           0
          ],
          [
           null,
           null,
           0.0,
           0,
           0
          ],
          0,
          null,
          null,
          0,
          0,
          36,
          0,
          false,
          0,
          0,
          1739044123554,
          1739044129335,
          8,
          0,
          null,
          [
           0,
           0
          ],
          29,
          29,
          0,
          0,
          [
           2239249815,
           false,
           false,
           0,
           6,
           211687951,
           211687951,
           30,
           2027561864,
           2027561864,
           null,
           "log",
           16777216,
           268435456,
           8,
           0,
           0,
           0,
           0,
           0,
           0,
           0,
           0,
           0,
           0,
           0,
           0,
           0,
           0,
           0,
           0,
           0,
           0,
           [
            456,
            25,
            1445,
            0,
            0,
            0
           ],
           2,
           1,
           5,
           "sizeAware"
          ]
         ]
        ]
       ],
       "datasetInfos": [],
       "dbfsResultPath": null,
       "isJsonSchema": true,
       "metadata": {},
       "overflow": false,
       "plotOptions": {
        "customPlotOptions": {},
        "displayType": "table",
        "pivotAggregation": null,
        "pivotColumns": null,
        "xColumns": null,
        "yColumns": null
       },
       "removedWidgets": [],
       "schema": [
        {
         "metadata": "{}",
         "name": "path",
         "type": "\"string\""
        },
        {
         "metadata": "{}",
         "name": "metrics",
         "type": "{\"type\":\"struct\",\"fields\":[{\"name\":\"numFilesAdded\",\"type\":\"long\",\"nullable\":false,\"metadata\":{}},{\"name\":\"numFilesRemoved\",\"type\":\"long\",\"nullable\":false,\"metadata\":{}},{\"name\":\"filesAdded\",\"type\":{\"type\":\"struct\",\"fields\":[{\"name\":\"min\",\"type\":\"long\",\"nullable\":true,\"metadata\":{}},{\"name\":\"max\",\"type\":\"long\",\"nullable\":true,\"metadata\":{}},{\"name\":\"avg\",\"type\":\"double\",\"nullable\":false,\"metadata\":{}},{\"name\":\"totalFiles\",\"type\":\"long\",\"nullable\":false,\"metadata\":{}},{\"name\":\"totalSize\",\"type\":\"long\",\"nullable\":false,\"metadata\":{}}]},\"nullable\":true,\"metadata\":{}},{\"name\":\"filesRemoved\",\"type\":{\"type\":\"struct\",\"fields\":[{\"name\":\"min\",\"type\":\"long\",\"nullable\":true,\"metadata\":{}},{\"name\":\"max\",\"type\":\"long\",\"nullable\":true,\"metadata\":{}},{\"name\":\"avg\",\"type\":\"double\",\"nullable\":false,\"metadata\":{}},{\"name\":\"totalFiles\",\"type\":\"long\",\"nullable\":false,\"metadata\":{}},{\"name\":\"totalSize\",\"type\":\"long\",\"nullable\":false,\"metadata\":{}}]},\"nullable\":true,\"metadata\":{}},{\"name\":\"partitionsOptimized\",\"type\":\"long\",\"nullable\":false,\"metadata\":{}},{\"name\":\"zOrderStats\",\"type\":{\"type\":\"struct\",\"fields\":[{\"name\":\"strategyName\",\"type\":\"string\",\"nullable\":true,\"metadata\":{}},{\"name\":\"inputCubeFiles\",\"type\":{\"type\":\"struct\",\"fields\":[{\"name\":\"num\",\"type\":\"long\",\"nullable\":false,\"metadata\":{}},{\"name\":\"size\",\"type\":\"long\",\"nullable\":false,\"metadata\":{}}]},\"nullable\":true,\"metadata\":{}},{\"name\":\"inputOtherFiles\",\"type\":{\"type\":\"struct\",\"fields\":[{\"name\":\"num\",\"type\":\"long\",\"nullable\":false,\"metadata\":{}},{\"name\":\"size\",\"type\":\"long\",\"nullable\":false,\"metadata\":{}}]},\"nullable\":true,\"metadata\":{}},{\"name\":\"inputNumCubes\",\"type\":\"long\",\"nullable\":false,\"metadata\":{}},{\"name\":\"mergedFiles\",\"type\":{\"type\":\"struct\",\"fields\":[{\"name\":\"num\",\"type\":\"long\",\"nullable\":false,\"metadata\":{}},{\"name\":\"size\",\"type\":\"long\",\"nullable\":false,\"metadata\":{}}]},\"nullable\":true,\"metadata\":{}},{\"name\":\"numOutputCubes\",\"type\":\"long\",\"nullable\":false,\"metadata\":{}},{\"name\":\"mergedNumCubes\",\"type\":\"long\",\"nullable\":true,\"metadata\":{}}]},\"nullable\":true,\"metadata\":{}},{\"name\":\"clusteringStats\",\"type\":{\"type\":\"struct\",\"fields\":[{\"name\":\"inputZCubeFiles\",\"type\":{\"type\":\"struct\",\"fields\":[{\"name\":\"numFiles\",\"type\":\"long\",\"nullable\":false,\"metadata\":{}},{\"name\":\"size\",\"type\":\"long\",\"nullable\":false,\"metadata\":{}}]},\"nullable\":true,\"metadata\":{}},{\"name\":\"inputOtherFiles\",\"type\":{\"type\":\"struct\",\"fields\":[{\"name\":\"numFiles\",\"type\":\"long\",\"nullable\":false,\"metadata\":{}},{\"name\":\"size\",\"type\":\"long\",\"nullable\":false,\"metadata\":{}}]},\"nullable\":true,\"metadata\":{}},{\"name\":\"inputNumZCubes\",\"type\":\"long\",\"nullable\":false,\"metadata\":{}},{\"name\":\"mergedFiles\",\"type\":{\"type\":\"struct\",\"fields\":[{\"name\":\"numFiles\",\"type\":\"long\",\"nullable\":false,\"metadata\":{}},{\"name\":\"size\",\"type\":\"long\",\"nullable\":false,\"metadata\":{}}]},\"nullable\":true,\"metadata\":{}},{\"name\":\"numOutputZCubes\",\"type\":\"long\",\"nullable\":false,\"metadata\":{}}]},\"nullable\":true,\"metadata\":{}},{\"name\":\"numBins\",\"type\":\"long\",\"nullable\":false,\"metadata\":{}},{\"name\":\"numBatches\",\"type\":\"long\",\"nullable\":false,\"metadata\":{}},{\"name\":\"totalConsideredFiles\",\"type\":\"long\",\"nullable\":false,\"metadata\":{}},{\"name\":\"totalFilesSkipped\",\"type\":\"long\",\"nullable\":false,\"metadata\":{}},{\"name\":\"preserveInsertionOrder\",\"type\":\"boolean\",\"nullable\":false,\"metadata\":{}},{\"name\":\"numFilesSkippedToReduceWriteAmplification\",\"type\":\"long\",\"nullable\":false,\"metadata\":{}},{\"name\":\"numBytesSkippedToReduceWriteAmplification\",\"type\":\"long\",\"nullable\":false,\"metadata\":{}},{\"name\":\"startTimeMs\",\"type\":\"long\",\"nullable\":false,\"metadata\":{}},{\"name\":\"endTimeMs\",\"type\":\"long\",\"nullable\":false,\"metadata\":{}},{\"name\":\"totalClusterParallelism\",\"type\":\"long\",\"nullable\":false,\"metadata\":{}},{\"name\":\"totalScheduledTasks\",\"type\":\"long\",\"nullable\":false,\"metadata\":{}},{\"name\":\"autoCompactParallelismStats\",\"type\":{\"type\":\"struct\",\"fields\":[{\"name\":\"maxClusterActiveParallelism\",\"type\":\"long\",\"nullable\":true,\"metadata\":{}},{\"name\":\"minClusterActiveParallelism\",\"type\":\"long\",\"nullable\":true,\"metadata\":{}},{\"name\":\"maxSessionActiveParallelism\",\"type\":\"long\",\"nullable\":true,\"metadata\":{}},{\"name\":\"minSessionActiveParallelism\",\"type\":\"long\",\"nullable\":true,\"metadata\":{}}]},\"nullable\":true,\"metadata\":{}},{\"name\":\"deletionVectorStats\",\"type\":{\"type\":\"struct\",\"fields\":[{\"name\":\"numDeletionVectorsRemoved\",\"type\":\"long\",\"nullable\":false,\"metadata\":{}},{\"name\":\"numDeletionVectorRowsRemoved\",\"type\":\"long\",\"nullable\":false,\"metadata\":{}}]},\"nullable\":true,\"metadata\":{}},{\"name\":\"numTableColumns\",\"type\":\"long\",\"nullable\":false,\"metadata\":{}},{\"name\":\"numTableColumnsWithStats\",\"type\":\"long\",\"nullable\":false,\"metadata\":{}},{\"name\":\"totalTaskExecutionTimeMs\",\"type\":\"long\",\"nullable\":false,\"metadata\":{}},{\"name\":\"skippedArchivedFiles\",\"type\":\"long\",\"nullable\":false,\"metadata\":{}},{\"name\":\"clusteringMetrics\",\"type\":{\"type\":\"struct\",\"fields\":[{\"name\":\"sizeOfTableInBytesBeforeLazyClustering\",\"type\":\"long\",\"nullable\":false,\"metadata\":{}},{\"name\":\"isNewMetadataCreated\",\"type\":\"boolean\",\"nullable\":false,\"metadata\":{}},{\"name\":\"isPOTriggered\",\"type\":\"boolean\",\"nullable\":false,\"metadata\":{}},{\"name\":\"numFilesSkippedWithoutStats\",\"type\":\"long\",\"nullable\":false,\"metadata\":{}},{\"name\":\"numFilesClassifiedToIntermediateNodes\",\"type\":\"long\",\"nullable\":false,\"metadata\":{}},{\"name\":\"sizeOfFilesClassifiedToIntermediateNodesInBytes\",\"type\":\"long\",\"nullable\":false,\"metadata\":{}},{\"name\":\"logicalSizeOfFilesClassifiedToIntermediateNodesInBytes\",\"type\":\"long\",\"nullable\":false,\"metadata\":{}},{\"name\":\"numFilesClassifiedToLeafNodes\",\"type\":\"long\",\"nullable\":false,\"metadata\":{}},{\"name\":\"sizeOfFilesClassifiedToLeafNodesInBytes\",\"type\":\"long\",\"nullable\":false,\"metadata\":{}},{\"name\":\"logicalSizeOfFilesClassifiedToLeafNodesInBytes\",\"type\":\"long\",\"nullable\":false,\"metadata\":{}},{\"name\":\"numThreadsForClassifier\",\"type\":\"integer\",\"nullable\":true,\"metadata\":{}},{\"name\":\"clusterThresholdStrategy\",\"type\":\"string\",\"nullable\":true,\"metadata\":{}},{\"name\":\"minFileSize\",\"type\":\"long\",\"nullable\":false,\"metadata\":{}},{\"name\":\"maxFileSize\",\"type\":\"long\",\"nullable\":false,\"metadata\":{}},{\"name\":\"nodeMinNumFilesToCompact\",\"type\":\"long\",\"nullable\":false,\"metadata\":{}},{\"name\":\"numIdealFiles\",\"type\":\"long\",\"nullable\":false,\"metadata\":{}},{\"name\":\"numClusteringTasksPlanned\",\"type\":\"integer\",\"nullable\":false,\"metadata\":{}},{\"name\":\"numCompactionTasksPlanned\",\"type\":\"integer\",\"nullable\":false,\"metadata\":{}},{\"name\":\"numOptimizeBatchesPlanned\",\"type\":\"integer\",\"nullable\":false,\"metadata\":{}},{\"name\":\"numLeafNodesExpanded\",\"type\":\"long\",\"nullable\":false,\"metadata\":{}},{\"name\":\"numLeafNodesClustered\",\"type\":\"long\",\"nullable\":false,\"metadata\":{}},{\"name\":\"numGetFilesForNodeCalls\",\"type\":\"long\",\"nullable\":false,\"metadata\":{}},{\"name\":\"numSamplingJobs\",\"type\":\"long\",\"nullable\":false,\"metadata\":{}},{\"name\":\"numLeafNodesCompacted\",\"type\":\"long\",\"nullable\":false,\"metadata\":{}},{\"name\":\"numIntermediateNodesCompacted\",\"type\":\"long\",\"nullable\":false,\"metadata\":{}},{\"name\":\"totalSizeOfDataToCompactInBytes\",\"type\":\"long\",\"nullable\":false,\"metadata\":{}},{\"name\":\"totalLogicalSizeOfDataToCompactInBytes\",\"type\":\"long\",\"nullable\":false,\"metadata\":{}},{\"name\":\"numIntermediateNodesClustered\",\"type\":\"long\",\"nullable\":false,\"metadata\":{}},{\"name\":\"numFilesSkippedAfterExpansion\",\"type\":\"long\",\"nullable\":false,\"metadata\":{}},{\"name\":\"totalSizeOfFilesSkippedAfterExpansionInBytes\",\"type\":\"long\",\"nullable\":false,\"metadata\":{}},{\"name\":\"totalLogicalSizeOfFilesSkippedAfterExpansionInBytes\",\"type\":\"long\",\"nullable\":false,\"metadata\":{}},{\"name\":\"totalSizeOfDataToRewriteInBytes\",\"type\":\"long\",\"nullable\":false,\"metadata\":{}},{\"name\":\"totalLogicalSizeOfDataToRewriteInBytes\",\"type\":\"long\",\"nullable\":false,\"metadata\":{}},{\"name\":\"timeMetrics\",\"type\":{\"type\":\"struct\",\"fields\":[{\"name\":\"classifierTimeMs\",\"type\":\"long\",\"nullable\":false,\"metadata\":{}},{\"name\":\"optimizerTimeMs\",\"type\":\"long\",\"nullable\":false,\"metadata\":{}},{\"name\":\"metadataLoadTimeMs\",\"type\":\"long\",\"nullable\":false,\"metadata\":{}},{\"name\":\"totalGetFilesForNodeCallsTimeMs\",\"type\":\"long\",\"nullable\":false,\"metadata\":{}},{\"name\":\"totalSamplingTimeMs\",\"type\":\"long\",\"nullable\":false,\"metadata\":{}},{\"name\":\"metadataCreationTimeMs\",\"type\":\"long\",\"nullable\":false,\"metadata\":{}}]},\"nullable\":true,\"metadata\":{}},{\"name\":\"maxOptimizeBatchesInParallel\",\"type\":\"long\",\"nullable\":false,\"metadata\":{}},{\"name\":\"currentIteration\",\"type\":\"integer\",\"nullable\":false,\"metadata\":{}},{\"name\":\"maxIterations\",\"type\":\"integer\",\"nullable\":false,\"metadata\":{}},{\"name\":\"clusteringStrategy\",\"type\":\"string\",\"nullable\":true,\"metadata\":{}}]},\"nullable\":true,\"metadata\":{}}]}"
        }
       ],
       "type": "table"
      }
     },
     "output_type": "display_data"
    }
   ],
   "source": [
    "%sql\n",
    "OPTIMIZE flight_data_lc\n",
    "-- if some files are removed then optimized has change some cluster in our table"
   ]
  },
  {
   "cell_type": "code",
   "execution_count": 0,
   "metadata": {
    "application/vnd.databricks.v1+cell": {
     "cellMetadata": {
      "byteLimit": 2048000,
      "rowLimit": 10000
     },
     "inputWidgets": {},
     "nuid": "3dcc6318-0227-415c-8465-87d67b78f7b0",
     "showTitle": false,
     "tableResultSettingsMap": {},
     "title": ""
    }
   },
   "outputs": [
    {
     "output_type": "display_data",
     "data": {
      "text/html": [
       "<style scoped>\n",
       "  .table-result-container {\n",
       "    max-height: 300px;\n",
       "    overflow: auto;\n",
       "  }\n",
       "  table, th, td {\n",
       "    border: 1px solid black;\n",
       "    border-collapse: collapse;\n",
       "  }\n",
       "  th, td {\n",
       "    padding: 5px;\n",
       "  }\n",
       "  th {\n",
       "    text-align: left;\n",
       "  }\n",
       "</style><div class='table-result-container'><table class='table-result'><thead style='background-color: white'><tr><th>path</th></tr></thead><tbody><tr><td>dbfs:/user/hive/warehouse/flight_data_lc</td></tr></tbody></table></div>"
      ]
     },
     "metadata": {
      "application/vnd.databricks.v1+output": {
       "addedWidgets": {},
       "aggData": [],
       "aggError": "",
       "aggOverflow": false,
       "aggSchema": [],
       "aggSeriesLimitReached": false,
       "aggType": "",
       "arguments": {},
       "columnCustomDisplayInfos": {},
       "data": [
        [
         "dbfs:/user/hive/warehouse/flight_data_lc"
        ]
       ],
       "datasetInfos": [],
       "dbfsResultPath": null,
       "isJsonSchema": true,
       "metadata": {
        "isDbfsCommandResult": false
       },
       "overflow": false,
       "plotOptions": {
        "customPlotOptions": {},
        "displayType": "table",
        "pivotAggregation": null,
        "pivotColumns": null,
        "xColumns": null,
        "yColumns": null
       },
       "removedWidgets": [],
       "schema": [
        {
         "metadata": "{}",
         "name": "path",
         "type": "\"string\""
        }
       ],
       "type": "table"
      }
     },
     "output_type": "display_data"
    }
   ],
   "source": [
    "%sql\n",
    "SET spark.databricks.delta.retentionDurationCheck.enabled=false;\n",
    "\n",
    "VACUUM flight_data_lc RETAIN 0 HOURS;\n",
    "\n",
    "--removing the unnecessary files"
   ]
  },
  {
   "cell_type": "code",
   "execution_count": 0,
   "metadata": {
    "application/vnd.databricks.v1+cell": {
     "cellMetadata": {
      "byteLimit": 2048000,
      "rowLimit": 10000
     },
     "inputWidgets": {},
     "nuid": "55b87197-ec99-45d4-9b06-f5b65c9c8ded",
     "showTitle": false,
     "tableResultSettingsMap": {},
     "title": ""
    }
   },
   "outputs": [
    {
     "output_type": "display_data",
     "data": {
      "text/html": [
       "<style scoped>\n",
       "  .table-result-container {\n",
       "    max-height: 300px;\n",
       "    overflow: auto;\n",
       "  }\n",
       "  table, th, td {\n",
       "    border: 1px solid black;\n",
       "    border-collapse: collapse;\n",
       "  }\n",
       "  th, td {\n",
       "    padding: 5px;\n",
       "  }\n",
       "  th {\n",
       "    text-align: left;\n",
       "  }\n",
       "</style><div class='table-result-container'><table class='table-result'><thead style='background-color: white'><tr><th>path</th><th>name</th><th>size</th><th>modificationTime</th></tr></thead><tbody><tr><td>dbfs:/user/hive/warehouse/flight_data_lc/_delta_log/</td><td>_delta_log/</td><td>0</td><td>0</td></tr><tr><td>dbfs:/user/hive/warehouse/flight_data_lc/part-00000-08d43bba-4381-4e7a-8a6a-0a98e664de98-c000.snappy.parquet</td><td>part-00000-08d43bba-4381-4e7a-8a6a-0a98e664de98-c000.snappy.parquet</td><td>136948490</td><td>1739044039000</td></tr><tr><td>dbfs:/user/hive/warehouse/flight_data_lc/part-00000-35003a93-feb8-4238-ae91-55fc60db3010-c000.snappy.parquet</td><td>part-00000-35003a93-feb8-4238-ae91-55fc60db3010-c000.snappy.parquet</td><td>12440</td><td>1739043077000</td></tr><tr><td>dbfs:/user/hive/warehouse/flight_data_lc/part-00000-a5fc3fa9-62ff-4314-875e-c200dedbb457-c000.snappy.parquet</td><td>part-00000-a5fc3fa9-62ff-4314-875e-c200dedbb457-c000.snappy.parquet</td><td>41335843</td><td>1739042546000</td></tr><tr><td>dbfs:/user/hive/warehouse/flight_data_lc/part-00001-9fdc89bd-f0c5-4b9f-bde5-5274ec0b16bd-c000.snappy.parquet</td><td>part-00001-9fdc89bd-f0c5-4b9f-bde5-5274ec0b16bd-c000.snappy.parquet</td><td>33945509</td><td>1739042758000</td></tr><tr><td>dbfs:/user/hive/warehouse/flight_data_lc/part-00001-dba9d071-5793-4e72-9ff1-6b1f72291a47-c000.snappy.parquet</td><td>part-00001-dba9d071-5793-4e72-9ff1-6b1f72291a47-c000.snappy.parquet</td><td>158825581</td><td>1739044084000</td></tr><tr><td>dbfs:/user/hive/warehouse/flight_data_lc/part-00002-5d386d10-2c57-450f-8680-4b6da5ced224-c000.snappy.parquet</td><td>part-00002-5d386d10-2c57-450f-8680-4b6da5ced224-c000.snappy.parquet</td><td>33599513</td><td>1739042867000</td></tr><tr><td>dbfs:/user/hive/warehouse/flight_data_lc/part-00002-759d6ec5-47df-4ff5-bf8e-985107f9e382-c000.snappy.parquet</td><td>part-00002-759d6ec5-47df-4ff5-bf8e-985107f9e382-c000.snappy.parquet</td><td>98112111</td><td>1739043939000</td></tr><tr><td>dbfs:/user/hive/warehouse/flight_data_lc/part-00003-0dec6772-8edf-4baf-aece-771acc08e037-c000.snappy.parquet</td><td>part-00003-0dec6772-8edf-4baf-aece-771acc08e037-c000.snappy.parquet</td><td>148575046</td><td>1739044059000</td></tr><tr><td>dbfs:/user/hive/warehouse/flight_data_lc/part-00003-f62eae3c-281a-4d82-97ff-2a8c933e5fdb-c000.snappy.parquet</td><td>part-00003-f62eae3c-281a-4d82-97ff-2a8c933e5fdb-c000.snappy.parquet</td><td>37189521</td><td>1739042770000</td></tr><tr><td>dbfs:/user/hive/warehouse/flight_data_lc/part-00004-3c63f81d-88cf-4e8a-abc2-5275285680a4-c000.snappy.parquet</td><td>part-00004-3c63f81d-88cf-4e8a-abc2-5275285680a4-c000.snappy.parquet</td><td>39377483</td><td>1739042710000</td></tr><tr><td>dbfs:/user/hive/warehouse/flight_data_lc/part-00004-9afb86e7-81fc-42ba-a4ac-480e7a305234-c000.snappy.parquet</td><td>part-00004-9afb86e7-81fc-42ba-a4ac-480e7a305234-c000.snappy.parquet</td><td>97457247</td><td>1739043935000</td></tr><tr><td>dbfs:/user/hive/warehouse/flight_data_lc/part-00005-5a51881b-8f1d-4be6-857d-639842a669da-c000.snappy.parquet</td><td>part-00005-5a51881b-8f1d-4be6-857d-639842a669da-c000.snappy.parquet</td><td>38231554</td><td>1739042711000</td></tr><tr><td>dbfs:/user/hive/warehouse/flight_data_lc/part-00005-d4f25422-594d-4d24-bb10-2e97490c69d9-c000.snappy.parquet</td><td>part-00005-d4f25422-594d-4d24-bb10-2e97490c69d9-c000.snappy.parquet</td><td>147218190</td><td>1739044039000</td></tr><tr><td>dbfs:/user/hive/warehouse/flight_data_lc/part-00006-091e47d0-1cfd-4c72-9953-d9f404226081-c000.snappy.parquet</td><td>part-00006-091e47d0-1cfd-4c72-9953-d9f404226081-c000.snappy.parquet</td><td>155707708</td><td>1739044074000</td></tr><tr><td>dbfs:/user/hive/warehouse/flight_data_lc/part-00006-6c0d53e0-ff84-4cbd-8b64-90f39ea2e0a2-c000.snappy.parquet</td><td>part-00006-6c0d53e0-ff84-4cbd-8b64-90f39ea2e0a2-c000.snappy.parquet</td><td>43258975</td><td>1739042546000</td></tr><tr><td>dbfs:/user/hive/warehouse/flight_data_lc/part-00007-75a0b69d-a870-4dce-811c-36281956c24d-c000.snappy.parquet</td><td>part-00007-75a0b69d-a870-4dce-811c-36281956c24d-c000.snappy.parquet</td><td>43913708</td><td>1739042555000</td></tr><tr><td>dbfs:/user/hive/warehouse/flight_data_lc/part-00007-fa5b8c81-18c5-45c7-b417-2718a74a2c87-c000.snappy.parquet</td><td>part-00007-fa5b8c81-18c5-45c7-b417-2718a74a2c87-c000.snappy.parquet</td><td>86991781</td><td>1739044108000</td></tr><tr><td>dbfs:/user/hive/warehouse/flight_data_lc/part-00008-5a60cae7-ebb2-43b8-852d-3993cb2e0a94-c000.snappy.parquet</td><td>part-00008-5a60cae7-ebb2-43b8-852d-3993cb2e0a94-c000.snappy.parquet</td><td>100232765</td><td>1739044115000</td></tr><tr><td>dbfs:/user/hive/warehouse/flight_data_lc/part-00008-8d6d8bc6-da97-4e7f-861f-6a4ecdddcb94-c000.snappy.parquet</td><td>part-00008-8d6d8bc6-da97-4e7f-861f-6a4ecdddcb94-c000.snappy.parquet</td><td>43840333</td><td>1739042552000</td></tr><tr><td>dbfs:/user/hive/warehouse/flight_data_lc/part-00009-0ffdda65-e82d-4e97-b259-161f719344bf-c000.snappy.parquet</td><td>part-00009-0ffdda65-e82d-4e97-b259-161f719344bf-c000.snappy.parquet</td><td>184247703</td><td>1739044099000</td></tr><tr><td>dbfs:/user/hive/warehouse/flight_data_lc/part-00009-dd6ba794-885e-492b-9fc4-cef2cb3c425e-c000.snappy.parquet</td><td>part-00009-dd6ba794-885e-492b-9fc4-cef2cb3c425e-c000.snappy.parquet</td><td>27828336</td><td>1739042903000</td></tr><tr><td>dbfs:/user/hive/warehouse/flight_data_lc/part-00010-0750de3a-6475-4b81-8c3b-915f23966601-c000.snappy.parquet</td><td>part-00010-0750de3a-6475-4b81-8c3b-915f23966601-c000.snappy.parquet</td><td>26084606</td><td>1739042911000</td></tr><tr><td>dbfs:/user/hive/warehouse/flight_data_lc/part-00011-ed5bc0af-a89b-4d4e-8897-8a13b50f6447-c000.snappy.parquet</td><td>part-00011-ed5bc0af-a89b-4d4e-8897-8a13b50f6447-c000.snappy.parquet</td><td>46419759</td><td>1739042550000</td></tr><tr><td>dbfs:/user/hive/warehouse/flight_data_lc/part-00012-fa98cfb9-bdf3-4311-95a2-73ffbacf1fc5-c000.snappy.parquet</td><td>part-00012-fa98cfb9-bdf3-4311-95a2-73ffbacf1fc5-c000.snappy.parquet</td><td>40878523</td><td>1739042721000</td></tr><tr><td>dbfs:/user/hive/warehouse/flight_data_lc/part-00013-7764cf16-6f4e-44cc-8c0f-423f75a608ef-c000.snappy.parquet</td><td>part-00013-7764cf16-6f4e-44cc-8c0f-423f75a608ef-c000.snappy.parquet</td><td>50417709</td><td>1739042602000</td></tr><tr><td>dbfs:/user/hive/warehouse/flight_data_lc/part-00014-79a09751-6be7-4970-9013-b1c93bc50763-c000.snappy.parquet</td><td>part-00014-79a09751-6be7-4970-9013-b1c93bc50763-c000.snappy.parquet</td><td>41531144</td><td>1739042604000</td></tr><tr><td>dbfs:/user/hive/warehouse/flight_data_lc/part-00015-1832ace5-dbaf-4ec8-9d65-1a89c0f508f2-c000.snappy.parquet</td><td>part-00015-1832ace5-dbaf-4ec8-9d65-1a89c0f508f2-c000.snappy.parquet</td><td>28450661</td><td>1739042888000</td></tr><tr><td>dbfs:/user/hive/warehouse/flight_data_lc/part-00016-221039ac-bd58-480f-ad5c-bcf5d2502d62-c000.snappy.parquet</td><td>part-00016-221039ac-bd58-480f-ad5c-bcf5d2502d62-c000.snappy.parquet</td><td>32944659</td><td>1739042899000</td></tr><tr><td>dbfs:/user/hive/warehouse/flight_data_lc/part-00017-5c5e95b5-e747-4f79-bec4-2139c2f57679-c000.snappy.parquet</td><td>part-00017-5c5e95b5-e747-4f79-bec4-2139c2f57679-c000.snappy.parquet</td><td>33911535</td><td>1739042853000</td></tr><tr><td>dbfs:/user/hive/warehouse/flight_data_lc/part-00018-e76da79c-5f5a-4659-a7c9-ddcdf5c04b78-c000.snappy.parquet</td><td>part-00018-e76da79c-5f5a-4659-a7c9-ddcdf5c04b78-c000.snappy.parquet</td><td>33341273</td><td>1739042801000</td></tr><tr><td>dbfs:/user/hive/warehouse/flight_data_lc/part-00019-9fd1f413-bb56-4634-915a-fe2f8c755397-c000.snappy.parquet</td><td>part-00019-9fd1f413-bb56-4634-915a-fe2f8c755397-c000.snappy.parquet</td><td>29602285</td><td>1739042881000</td></tr><tr><td>dbfs:/user/hive/warehouse/flight_data_lc/part-00020-672c61a1-190a-4d16-a6cc-55e9aba5f5d2-c000.snappy.parquet</td><td>part-00020-672c61a1-190a-4d16-a6cc-55e9aba5f5d2-c000.snappy.parquet</td><td>27943323</td><td>1739042905000</td></tr><tr><td>dbfs:/user/hive/warehouse/flight_data_lc/part-00021-497b928f-dd86-4f0f-99f5-fe03e66bbad7-c000.snappy.parquet</td><td>part-00021-497b928f-dd86-4f0f-99f5-fe03e66bbad7-c000.snappy.parquet</td><td>29671647</td><td>1739042886000</td></tr><tr><td>dbfs:/user/hive/warehouse/flight_data_lc/part-00022-afdff259-3104-426c-8630-aef7b56db845-c000.snappy.parquet</td><td>part-00022-afdff259-3104-426c-8630-aef7b56db845-c000.snappy.parquet</td><td>34530482</td><td>1739042755000</td></tr><tr><td>dbfs:/user/hive/warehouse/flight_data_lc/part-00023-6b9ad56d-9104-4747-a784-b98160f92486-c000.snappy.parquet</td><td>part-00023-6b9ad56d-9104-4747-a784-b98160f92486-c000.snappy.parquet</td><td>53298091</td><td>1739042611000</td></tr><tr><td>dbfs:/user/hive/warehouse/flight_data_lc/part-00024-ac94bdb1-dcdb-45e0-b3f0-8a03b87237e8-c000.snappy.parquet</td><td>part-00024-ac94bdb1-dcdb-45e0-b3f0-8a03b87237e8-c000.snappy.parquet</td><td>33374281</td><td>1739042800000</td></tr></tbody></table></div>"
      ]
     },
     "metadata": {
      "application/vnd.databricks.v1+output": {
       "addedWidgets": {},
       "aggData": [],
       "aggError": "",
       "aggOverflow": false,
       "aggSchema": [],
       "aggSeriesLimitReached": false,
       "aggType": "",
       "arguments": {},
       "columnCustomDisplayInfos": {},
       "data": [
        [
         "dbfs:/user/hive/warehouse/flight_data_lc/_delta_log/",
         "_delta_log/",
         0,
         0
        ],
        [
         "dbfs:/user/hive/warehouse/flight_data_lc/part-00000-08d43bba-4381-4e7a-8a6a-0a98e664de98-c000.snappy.parquet",
         "part-00000-08d43bba-4381-4e7a-8a6a-0a98e664de98-c000.snappy.parquet",
         136948490,
         1739044039000
        ],
        [
         "dbfs:/user/hive/warehouse/flight_data_lc/part-00000-35003a93-feb8-4238-ae91-55fc60db3010-c000.snappy.parquet",
         "part-00000-35003a93-feb8-4238-ae91-55fc60db3010-c000.snappy.parquet",
         12440,
         1739043077000
        ],
        [
         "dbfs:/user/hive/warehouse/flight_data_lc/part-00000-a5fc3fa9-62ff-4314-875e-c200dedbb457-c000.snappy.parquet",
         "part-00000-a5fc3fa9-62ff-4314-875e-c200dedbb457-c000.snappy.parquet",
         41335843,
         1739042546000
        ],
        [
         "dbfs:/user/hive/warehouse/flight_data_lc/part-00001-9fdc89bd-f0c5-4b9f-bde5-5274ec0b16bd-c000.snappy.parquet",
         "part-00001-9fdc89bd-f0c5-4b9f-bde5-5274ec0b16bd-c000.snappy.parquet",
         33945509,
         1739042758000
        ],
        [
         "dbfs:/user/hive/warehouse/flight_data_lc/part-00001-dba9d071-5793-4e72-9ff1-6b1f72291a47-c000.snappy.parquet",
         "part-00001-dba9d071-5793-4e72-9ff1-6b1f72291a47-c000.snappy.parquet",
         158825581,
         1739044084000
        ],
        [
         "dbfs:/user/hive/warehouse/flight_data_lc/part-00002-5d386d10-2c57-450f-8680-4b6da5ced224-c000.snappy.parquet",
         "part-00002-5d386d10-2c57-450f-8680-4b6da5ced224-c000.snappy.parquet",
         33599513,
         1739042867000
        ],
        [
         "dbfs:/user/hive/warehouse/flight_data_lc/part-00002-759d6ec5-47df-4ff5-bf8e-985107f9e382-c000.snappy.parquet",
         "part-00002-759d6ec5-47df-4ff5-bf8e-985107f9e382-c000.snappy.parquet",
         98112111,
         1739043939000
        ],
        [
         "dbfs:/user/hive/warehouse/flight_data_lc/part-00003-0dec6772-8edf-4baf-aece-771acc08e037-c000.snappy.parquet",
         "part-00003-0dec6772-8edf-4baf-aece-771acc08e037-c000.snappy.parquet",
         148575046,
         1739044059000
        ],
        [
         "dbfs:/user/hive/warehouse/flight_data_lc/part-00003-f62eae3c-281a-4d82-97ff-2a8c933e5fdb-c000.snappy.parquet",
         "part-00003-f62eae3c-281a-4d82-97ff-2a8c933e5fdb-c000.snappy.parquet",
         37189521,
         1739042770000
        ],
        [
         "dbfs:/user/hive/warehouse/flight_data_lc/part-00004-3c63f81d-88cf-4e8a-abc2-5275285680a4-c000.snappy.parquet",
         "part-00004-3c63f81d-88cf-4e8a-abc2-5275285680a4-c000.snappy.parquet",
         39377483,
         1739042710000
        ],
        [
         "dbfs:/user/hive/warehouse/flight_data_lc/part-00004-9afb86e7-81fc-42ba-a4ac-480e7a305234-c000.snappy.parquet",
         "part-00004-9afb86e7-81fc-42ba-a4ac-480e7a305234-c000.snappy.parquet",
         97457247,
         1739043935000
        ],
        [
         "dbfs:/user/hive/warehouse/flight_data_lc/part-00005-5a51881b-8f1d-4be6-857d-639842a669da-c000.snappy.parquet",
         "part-00005-5a51881b-8f1d-4be6-857d-639842a669da-c000.snappy.parquet",
         38231554,
         1739042711000
        ],
        [
         "dbfs:/user/hive/warehouse/flight_data_lc/part-00005-d4f25422-594d-4d24-bb10-2e97490c69d9-c000.snappy.parquet",
         "part-00005-d4f25422-594d-4d24-bb10-2e97490c69d9-c000.snappy.parquet",
         147218190,
         1739044039000
        ],
        [
         "dbfs:/user/hive/warehouse/flight_data_lc/part-00006-091e47d0-1cfd-4c72-9953-d9f404226081-c000.snappy.parquet",
         "part-00006-091e47d0-1cfd-4c72-9953-d9f404226081-c000.snappy.parquet",
         155707708,
         1739044074000
        ],
        [
         "dbfs:/user/hive/warehouse/flight_data_lc/part-00006-6c0d53e0-ff84-4cbd-8b64-90f39ea2e0a2-c000.snappy.parquet",
         "part-00006-6c0d53e0-ff84-4cbd-8b64-90f39ea2e0a2-c000.snappy.parquet",
         43258975,
         1739042546000
        ],
        [
         "dbfs:/user/hive/warehouse/flight_data_lc/part-00007-75a0b69d-a870-4dce-811c-36281956c24d-c000.snappy.parquet",
         "part-00007-75a0b69d-a870-4dce-811c-36281956c24d-c000.snappy.parquet",
         43913708,
         1739042555000
        ],
        [
         "dbfs:/user/hive/warehouse/flight_data_lc/part-00007-fa5b8c81-18c5-45c7-b417-2718a74a2c87-c000.snappy.parquet",
         "part-00007-fa5b8c81-18c5-45c7-b417-2718a74a2c87-c000.snappy.parquet",
         86991781,
         1739044108000
        ],
        [
         "dbfs:/user/hive/warehouse/flight_data_lc/part-00008-5a60cae7-ebb2-43b8-852d-3993cb2e0a94-c000.snappy.parquet",
         "part-00008-5a60cae7-ebb2-43b8-852d-3993cb2e0a94-c000.snappy.parquet",
         100232765,
         1739044115000
        ],
        [
         "dbfs:/user/hive/warehouse/flight_data_lc/part-00008-8d6d8bc6-da97-4e7f-861f-6a4ecdddcb94-c000.snappy.parquet",
         "part-00008-8d6d8bc6-da97-4e7f-861f-6a4ecdddcb94-c000.snappy.parquet",
         43840333,
         1739042552000
        ],
        [
         "dbfs:/user/hive/warehouse/flight_data_lc/part-00009-0ffdda65-e82d-4e97-b259-161f719344bf-c000.snappy.parquet",
         "part-00009-0ffdda65-e82d-4e97-b259-161f719344bf-c000.snappy.parquet",
         184247703,
         1739044099000
        ],
        [
         "dbfs:/user/hive/warehouse/flight_data_lc/part-00009-dd6ba794-885e-492b-9fc4-cef2cb3c425e-c000.snappy.parquet",
         "part-00009-dd6ba794-885e-492b-9fc4-cef2cb3c425e-c000.snappy.parquet",
         27828336,
         1739042903000
        ],
        [
         "dbfs:/user/hive/warehouse/flight_data_lc/part-00010-0750de3a-6475-4b81-8c3b-915f23966601-c000.snappy.parquet",
         "part-00010-0750de3a-6475-4b81-8c3b-915f23966601-c000.snappy.parquet",
         26084606,
         1739042911000
        ],
        [
         "dbfs:/user/hive/warehouse/flight_data_lc/part-00011-ed5bc0af-a89b-4d4e-8897-8a13b50f6447-c000.snappy.parquet",
         "part-00011-ed5bc0af-a89b-4d4e-8897-8a13b50f6447-c000.snappy.parquet",
         46419759,
         1739042550000
        ],
        [
         "dbfs:/user/hive/warehouse/flight_data_lc/part-00012-fa98cfb9-bdf3-4311-95a2-73ffbacf1fc5-c000.snappy.parquet",
         "part-00012-fa98cfb9-bdf3-4311-95a2-73ffbacf1fc5-c000.snappy.parquet",
         40878523,
         1739042721000
        ],
        [
         "dbfs:/user/hive/warehouse/flight_data_lc/part-00013-7764cf16-6f4e-44cc-8c0f-423f75a608ef-c000.snappy.parquet",
         "part-00013-7764cf16-6f4e-44cc-8c0f-423f75a608ef-c000.snappy.parquet",
         50417709,
         1739042602000
        ],
        [
         "dbfs:/user/hive/warehouse/flight_data_lc/part-00014-79a09751-6be7-4970-9013-b1c93bc50763-c000.snappy.parquet",
         "part-00014-79a09751-6be7-4970-9013-b1c93bc50763-c000.snappy.parquet",
         41531144,
         1739042604000
        ],
        [
         "dbfs:/user/hive/warehouse/flight_data_lc/part-00015-1832ace5-dbaf-4ec8-9d65-1a89c0f508f2-c000.snappy.parquet",
         "part-00015-1832ace5-dbaf-4ec8-9d65-1a89c0f508f2-c000.snappy.parquet",
         28450661,
         1739042888000
        ],
        [
         "dbfs:/user/hive/warehouse/flight_data_lc/part-00016-221039ac-bd58-480f-ad5c-bcf5d2502d62-c000.snappy.parquet",
         "part-00016-221039ac-bd58-480f-ad5c-bcf5d2502d62-c000.snappy.parquet",
         32944659,
         1739042899000
        ],
        [
         "dbfs:/user/hive/warehouse/flight_data_lc/part-00017-5c5e95b5-e747-4f79-bec4-2139c2f57679-c000.snappy.parquet",
         "part-00017-5c5e95b5-e747-4f79-bec4-2139c2f57679-c000.snappy.parquet",
         33911535,
         1739042853000
        ],
        [
         "dbfs:/user/hive/warehouse/flight_data_lc/part-00018-e76da79c-5f5a-4659-a7c9-ddcdf5c04b78-c000.snappy.parquet",
         "part-00018-e76da79c-5f5a-4659-a7c9-ddcdf5c04b78-c000.snappy.parquet",
         33341273,
         1739042801000
        ],
        [
         "dbfs:/user/hive/warehouse/flight_data_lc/part-00019-9fd1f413-bb56-4634-915a-fe2f8c755397-c000.snappy.parquet",
         "part-00019-9fd1f413-bb56-4634-915a-fe2f8c755397-c000.snappy.parquet",
         29602285,
         1739042881000
        ],
        [
         "dbfs:/user/hive/warehouse/flight_data_lc/part-00020-672c61a1-190a-4d16-a6cc-55e9aba5f5d2-c000.snappy.parquet",
         "part-00020-672c61a1-190a-4d16-a6cc-55e9aba5f5d2-c000.snappy.parquet",
         27943323,
         1739042905000
        ],
        [
         "dbfs:/user/hive/warehouse/flight_data_lc/part-00021-497b928f-dd86-4f0f-99f5-fe03e66bbad7-c000.snappy.parquet",
         "part-00021-497b928f-dd86-4f0f-99f5-fe03e66bbad7-c000.snappy.parquet",
         29671647,
         1739042886000
        ],
        [
         "dbfs:/user/hive/warehouse/flight_data_lc/part-00022-afdff259-3104-426c-8630-aef7b56db845-c000.snappy.parquet",
         "part-00022-afdff259-3104-426c-8630-aef7b56db845-c000.snappy.parquet",
         34530482,
         1739042755000
        ],
        [
         "dbfs:/user/hive/warehouse/flight_data_lc/part-00023-6b9ad56d-9104-4747-a784-b98160f92486-c000.snappy.parquet",
         "part-00023-6b9ad56d-9104-4747-a784-b98160f92486-c000.snappy.parquet",
         53298091,
         1739042611000
        ],
        [
         "dbfs:/user/hive/warehouse/flight_data_lc/part-00024-ac94bdb1-dcdb-45e0-b3f0-8a03b87237e8-c000.snappy.parquet",
         "part-00024-ac94bdb1-dcdb-45e0-b3f0-8a03b87237e8-c000.snappy.parquet",
         33374281,
         1739042800000
        ]
       ],
       "datasetInfos": [],
       "dbfsResultPath": null,
       "isJsonSchema": true,
       "metadata": {
        "isDbfsCommandResult": false
       },
       "overflow": false,
       "plotOptions": {
        "customPlotOptions": {},
        "displayType": "table",
        "pivotAggregation": null,
        "pivotColumns": null,
        "xColumns": null,
        "yColumns": null
       },
       "removedWidgets": [],
       "schema": [
        {
         "metadata": "{}",
         "name": "path",
         "type": "\"string\""
        },
        {
         "metadata": "{}",
         "name": "name",
         "type": "\"string\""
        },
        {
         "metadata": "{}",
         "name": "size",
         "type": "\"long\""
        },
        {
         "metadata": "{}",
         "name": "modificationTime",
         "type": "\"long\""
        }
       ],
       "type": "table"
      }
     },
     "output_type": "display_data"
    }
   ],
   "source": [
    "%fs ls dbfs:/user/hive/warehouse/flight_data_lc"
   ]
  },
  {
   "cell_type": "markdown",
   "metadata": {
    "application/vnd.databricks.v1+cell": {
     "cellMetadata": {
      "byteLimit": 2048000,
      "rowLimit": 10000
     },
     "inputWidgets": {},
     "nuid": "34b6b618-0790-41d3-bb18-f7874da7f524",
     "showTitle": false,
     "tableResultSettingsMap": {},
     "title": ""
    }
   },
   "source": [
    "- we can see the size of the largest file is larger than the largest file of previous table\n",
    "- This is the liquid thing, clustering will be changing the re-clustering the files as long as it will not achieve stable size , after achieving a stable size ,clustering both incremental clustering as well as the clustering triggered by optimization will stop touching those files, will leave them alone and moving forward will focus only on  clustering smaller files and new data, but the old data which already has been clustered and achieved stable size will not rewritten unless we delete some past data, and thats the difference between liquid clustering and the Z order\n",
    "- In Z order it will rewrite all the data every time no matter how big the file,table is"
   ]
  },
  {
   "cell_type": "markdown",
   "metadata": {
    "application/vnd.databricks.v1+cell": {
     "cellMetadata": {
      "byteLimit": 2048000,
      "rowLimit": 10000
     },
     "inputWidgets": {},
     "nuid": "8d354dba-557e-4ffe-8d0c-05615b939723",
     "showTitle": false,
     "tableResultSettingsMap": {},
     "title": ""
    }
   },
   "source": [
    "#changing clustering columns"
   ]
  },
  {
   "cell_type": "markdown",
   "metadata": {
    "application/vnd.databricks.v1+cell": {
     "cellMetadata": {
      "byteLimit": 2048000,
      "rowLimit": 10000
     },
     "inputWidgets": {},
     "nuid": "c29da6a7-ebaa-4da6-ad63-720c7970bc0d",
     "showTitle": false,
     "tableResultSettingsMap": {},
     "title": ""
    }
   },
   "source": [
    "- In case of clustering we can change the clusters but,\n",
    "- We cant change the cluster if we have the data in the table which is already well clustered and has achieved the stable size it will not change those cluster, it will not rewrite those files\n",
    "- It will apply a new clustering for the new coming data, or for the data which already exist but are in the small files and yet not able to achive the stable size"
   ]
  },
  {
   "cell_type": "code",
   "execution_count": 0,
   "metadata": {
    "application/vnd.databricks.v1+cell": {
     "cellMetadata": {
      "byteLimit": 2048000,
      "rowLimit": 10000
     },
     "inputWidgets": {},
     "nuid": "e4609d9e-2d51-4e86-b79e-0e53c3212bbc",
     "showTitle": false,
     "tableResultSettingsMap": {},
     "title": ""
    }
   },
   "outputs": [
    {
     "output_type": "display_data",
     "data": {
      "text/html": [
       "<style scoped>\n",
       "  .table-result-container {\n",
       "    max-height: 300px;\n",
       "    overflow: auto;\n",
       "  }\n",
       "  table, th, td {\n",
       "    border: 1px solid black;\n",
       "    border-collapse: collapse;\n",
       "  }\n",
       "  th, td {\n",
       "    padding: 5px;\n",
       "  }\n",
       "  th {\n",
       "    text-align: left;\n",
       "  }\n",
       "</style><div class='table-result-container'><table class='table-result'><thead style='background-color: white'><tr></tr></thead><tbody></tbody></table></div>"
      ]
     },
     "metadata": {
      "application/vnd.databricks.v1+output": {
       "addedWidgets": {},
       "aggData": [],
       "aggError": "",
       "aggOverflow": false,
       "aggSchema": [],
       "aggSeriesLimitReached": false,
       "aggType": "",
       "arguments": {},
       "columnCustomDisplayInfos": {},
       "data": [],
       "datasetInfos": [],
       "dbfsResultPath": null,
       "isJsonSchema": true,
       "metadata": {
        "isDbfsCommandResult": false
       },
       "overflow": false,
       "plotOptions": {
        "customPlotOptions": {},
        "displayType": "table",
        "pivotAggregation": null,
        "pivotColumns": null,
        "xColumns": null,
        "yColumns": null
       },
       "removedWidgets": [],
       "schema": [],
       "type": "table"
      }
     },
     "output_type": "display_data"
    }
   ],
   "source": [
    "%sql\n",
    "ALTER TABLE flight_data_lc \n",
    "CLUSTER BY (Month);"
   ]
  },
  {
   "cell_type": "code",
   "execution_count": 0,
   "metadata": {
    "application/vnd.databricks.v1+cell": {
     "cellMetadata": {
      "byteLimit": 2048000,
      "rowLimit": 10000
     },
     "inputWidgets": {},
     "nuid": "ae32029e-9919-4bb4-8fd3-740b95b27f74",
     "showTitle": false,
     "tableResultSettingsMap": {},
     "title": ""
    }
   },
   "outputs": [
    {
     "output_type": "display_data",
     "data": {
      "text/html": [
       "<style scoped>\n",
       "  .table-result-container {\n",
       "    max-height: 300px;\n",
       "    overflow: auto;\n",
       "  }\n",
       "  table, th, td {\n",
       "    border: 1px solid black;\n",
       "    border-collapse: collapse;\n",
       "  }\n",
       "  th, td {\n",
       "    padding: 5px;\n",
       "  }\n",
       "  th {\n",
       "    text-align: left;\n",
       "  }\n",
       "</style><div class='table-result-container'><table class='table-result'><thead style='background-color: white'><tr><th>path</th><th>metrics</th></tr></thead><tbody><tr><td>dbfs:/user/hive/warehouse/flight_data_lc</td><td>List(12, 35, List(187056247, 204323511, 1.9858013091666666E8, 12, 2382961571), List(26084606, 184247703, 6.397821071428572E7, 35, 2239237375), 0, null, null, 0, 1, 36, 0, false, 0, 0, 1739044170238, 1739046489743, 8, 1, null, List(0, 0), 29, 29, 7029219, 0, List(2239249815, true, false, 0, 35, 2239237375, 2239237375, 1, 12440, 12440, null, log, 16777216, 268435456, 8, 0, 1, 0, 1, 0, 0, 2, 0, 0, 0, 0, 0, 1, 0, 0, 0, 2239237375, 2239237375, List(252, 226332, 1242, 226132, 0, 256201), 2, 1, 5, sizeAware))</td></tr><tr><td>dbfs:/user/hive/warehouse/flight_data_lc</td><td>List(0, 0, List(null, null, 0.0, 0, 0), List(null, null, 0.0, 0, 0), 0, null, null, 0, 0, 13, 0, false, 0, 0, 1739046489894, 1739046495004, 8, 0, null, List(0, 0), 29, 29, 0, 0, List(2382974011, false, false, 0, 0, 0, 0, 1, 12440, 12440, null, log, 16777216, 268435456, 8, 0, 0, 0, 0, 0, 0, 0, 0, 0, 0, 0, 0, 0, 0, 0, 0, 0, 0, List(309, 43, 988, 0, 0, 0), 2, 2, 5, sizeAware))</td></tr></tbody></table></div>"
      ]
     },
     "metadata": {
      "application/vnd.databricks.v1+output": {
       "addedWidgets": {},
       "aggData": [],
       "aggError": "",
       "aggOverflow": false,
       "aggSchema": [],
       "aggSeriesLimitReached": false,
       "aggType": "",
       "arguments": {},
       "columnCustomDisplayInfos": {},
       "data": [
        [
         "dbfs:/user/hive/warehouse/flight_data_lc",
         [
          12,
          35,
          [
           187056247,
           204323511,
           1.9858013091666666E8,
           12,
           2382961571
          ],
          [
           26084606,
           184247703,
           6.397821071428572E7,
           35,
           2239237375
          ],
          0,
          null,
          null,
          0,
          1,
          36,
          0,
          false,
          0,
          0,
          1739044170238,
          1739046489743,
          8,
          1,
          null,
          [
           0,
           0
          ],
          29,
          29,
          7029219,
          0,
          [
           2239249815,
           true,
           false,
           0,
           35,
           2239237375,
           2239237375,
           1,
           12440,
           12440,
           null,
           "log",
           16777216,
           268435456,
           8,
           0,
           1,
           0,
           1,
           0,
           0,
           2,
           0,
           0,
           0,
           0,
           0,
           1,
           0,
           0,
           0,
           2239237375,
           2239237375,
           [
            252,
            226332,
            1242,
            226132,
            0,
            256201
           ],
           2,
           1,
           5,
           "sizeAware"
          ]
         ]
        ],
        [
         "dbfs:/user/hive/warehouse/flight_data_lc",
         [
          0,
          0,
          [
           null,
           null,
           0.0,
           0,
           0
          ],
          [
           null,
           null,
           0.0,
           0,
           0
          ],
          0,
          null,
          null,
          0,
          0,
          13,
          0,
          false,
          0,
          0,
          1739046489894,
          1739046495004,
          8,
          0,
          null,
          [
           0,
           0
          ],
          29,
          29,
          0,
          0,
          [
           2382974011,
           false,
           false,
           0,
           0,
           0,
           0,
           1,
           12440,
           12440,
           null,
           "log",
           16777216,
           268435456,
           8,
           0,
           0,
           0,
           0,
           0,
           0,
           0,
           0,
           0,
           0,
           0,
           0,
           0,
           0,
           0,
           0,
           0,
           0,
           [
            309,
            43,
            988,
            0,
            0,
            0
           ],
           2,
           2,
           5,
           "sizeAware"
          ]
         ]
        ]
       ],
       "datasetInfos": [],
       "dbfsResultPath": null,
       "isJsonSchema": true,
       "metadata": {},
       "overflow": false,
       "plotOptions": {
        "customPlotOptions": {},
        "displayType": "table",
        "pivotAggregation": null,
        "pivotColumns": null,
        "xColumns": null,
        "yColumns": null
       },
       "removedWidgets": [],
       "schema": [
        {
         "metadata": "{}",
         "name": "path",
         "type": "\"string\""
        },
        {
         "metadata": "{}",
         "name": "metrics",
         "type": "{\"type\":\"struct\",\"fields\":[{\"name\":\"numFilesAdded\",\"type\":\"long\",\"nullable\":false,\"metadata\":{}},{\"name\":\"numFilesRemoved\",\"type\":\"long\",\"nullable\":false,\"metadata\":{}},{\"name\":\"filesAdded\",\"type\":{\"type\":\"struct\",\"fields\":[{\"name\":\"min\",\"type\":\"long\",\"nullable\":true,\"metadata\":{}},{\"name\":\"max\",\"type\":\"long\",\"nullable\":true,\"metadata\":{}},{\"name\":\"avg\",\"type\":\"double\",\"nullable\":false,\"metadata\":{}},{\"name\":\"totalFiles\",\"type\":\"long\",\"nullable\":false,\"metadata\":{}},{\"name\":\"totalSize\",\"type\":\"long\",\"nullable\":false,\"metadata\":{}}]},\"nullable\":true,\"metadata\":{}},{\"name\":\"filesRemoved\",\"type\":{\"type\":\"struct\",\"fields\":[{\"name\":\"min\",\"type\":\"long\",\"nullable\":true,\"metadata\":{}},{\"name\":\"max\",\"type\":\"long\",\"nullable\":true,\"metadata\":{}},{\"name\":\"avg\",\"type\":\"double\",\"nullable\":false,\"metadata\":{}},{\"name\":\"totalFiles\",\"type\":\"long\",\"nullable\":false,\"metadata\":{}},{\"name\":\"totalSize\",\"type\":\"long\",\"nullable\":false,\"metadata\":{}}]},\"nullable\":true,\"metadata\":{}},{\"name\":\"partitionsOptimized\",\"type\":\"long\",\"nullable\":false,\"metadata\":{}},{\"name\":\"zOrderStats\",\"type\":{\"type\":\"struct\",\"fields\":[{\"name\":\"strategyName\",\"type\":\"string\",\"nullable\":true,\"metadata\":{}},{\"name\":\"inputCubeFiles\",\"type\":{\"type\":\"struct\",\"fields\":[{\"name\":\"num\",\"type\":\"long\",\"nullable\":false,\"metadata\":{}},{\"name\":\"size\",\"type\":\"long\",\"nullable\":false,\"metadata\":{}}]},\"nullable\":true,\"metadata\":{}},{\"name\":\"inputOtherFiles\",\"type\":{\"type\":\"struct\",\"fields\":[{\"name\":\"num\",\"type\":\"long\",\"nullable\":false,\"metadata\":{}},{\"name\":\"size\",\"type\":\"long\",\"nullable\":false,\"metadata\":{}}]},\"nullable\":true,\"metadata\":{}},{\"name\":\"inputNumCubes\",\"type\":\"long\",\"nullable\":false,\"metadata\":{}},{\"name\":\"mergedFiles\",\"type\":{\"type\":\"struct\",\"fields\":[{\"name\":\"num\",\"type\":\"long\",\"nullable\":false,\"metadata\":{}},{\"name\":\"size\",\"type\":\"long\",\"nullable\":false,\"metadata\":{}}]},\"nullable\":true,\"metadata\":{}},{\"name\":\"numOutputCubes\",\"type\":\"long\",\"nullable\":false,\"metadata\":{}},{\"name\":\"mergedNumCubes\",\"type\":\"long\",\"nullable\":true,\"metadata\":{}}]},\"nullable\":true,\"metadata\":{}},{\"name\":\"clusteringStats\",\"type\":{\"type\":\"struct\",\"fields\":[{\"name\":\"inputZCubeFiles\",\"type\":{\"type\":\"struct\",\"fields\":[{\"name\":\"numFiles\",\"type\":\"long\",\"nullable\":false,\"metadata\":{}},{\"name\":\"size\",\"type\":\"long\",\"nullable\":false,\"metadata\":{}}]},\"nullable\":true,\"metadata\":{}},{\"name\":\"inputOtherFiles\",\"type\":{\"type\":\"struct\",\"fields\":[{\"name\":\"numFiles\",\"type\":\"long\",\"nullable\":false,\"metadata\":{}},{\"name\":\"size\",\"type\":\"long\",\"nullable\":false,\"metadata\":{}}]},\"nullable\":true,\"metadata\":{}},{\"name\":\"inputNumZCubes\",\"type\":\"long\",\"nullable\":false,\"metadata\":{}},{\"name\":\"mergedFiles\",\"type\":{\"type\":\"struct\",\"fields\":[{\"name\":\"numFiles\",\"type\":\"long\",\"nullable\":false,\"metadata\":{}},{\"name\":\"size\",\"type\":\"long\",\"nullable\":false,\"metadata\":{}}]},\"nullable\":true,\"metadata\":{}},{\"name\":\"numOutputZCubes\",\"type\":\"long\",\"nullable\":false,\"metadata\":{}}]},\"nullable\":true,\"metadata\":{}},{\"name\":\"numBins\",\"type\":\"long\",\"nullable\":false,\"metadata\":{}},{\"name\":\"numBatches\",\"type\":\"long\",\"nullable\":false,\"metadata\":{}},{\"name\":\"totalConsideredFiles\",\"type\":\"long\",\"nullable\":false,\"metadata\":{}},{\"name\":\"totalFilesSkipped\",\"type\":\"long\",\"nullable\":false,\"metadata\":{}},{\"name\":\"preserveInsertionOrder\",\"type\":\"boolean\",\"nullable\":false,\"metadata\":{}},{\"name\":\"numFilesSkippedToReduceWriteAmplification\",\"type\":\"long\",\"nullable\":false,\"metadata\":{}},{\"name\":\"numBytesSkippedToReduceWriteAmplification\",\"type\":\"long\",\"nullable\":false,\"metadata\":{}},{\"name\":\"startTimeMs\",\"type\":\"long\",\"nullable\":false,\"metadata\":{}},{\"name\":\"endTimeMs\",\"type\":\"long\",\"nullable\":false,\"metadata\":{}},{\"name\":\"totalClusterParallelism\",\"type\":\"long\",\"nullable\":false,\"metadata\":{}},{\"name\":\"totalScheduledTasks\",\"type\":\"long\",\"nullable\":false,\"metadata\":{}},{\"name\":\"autoCompactParallelismStats\",\"type\":{\"type\":\"struct\",\"fields\":[{\"name\":\"maxClusterActiveParallelism\",\"type\":\"long\",\"nullable\":true,\"metadata\":{}},{\"name\":\"minClusterActiveParallelism\",\"type\":\"long\",\"nullable\":true,\"metadata\":{}},{\"name\":\"maxSessionActiveParallelism\",\"type\":\"long\",\"nullable\":true,\"metadata\":{}},{\"name\":\"minSessionActiveParallelism\",\"type\":\"long\",\"nullable\":true,\"metadata\":{}}]},\"nullable\":true,\"metadata\":{}},{\"name\":\"deletionVectorStats\",\"type\":{\"type\":\"struct\",\"fields\":[{\"name\":\"numDeletionVectorsRemoved\",\"type\":\"long\",\"nullable\":false,\"metadata\":{}},{\"name\":\"numDeletionVectorRowsRemoved\",\"type\":\"long\",\"nullable\":false,\"metadata\":{}}]},\"nullable\":true,\"metadata\":{}},{\"name\":\"numTableColumns\",\"type\":\"long\",\"nullable\":false,\"metadata\":{}},{\"name\":\"numTableColumnsWithStats\",\"type\":\"long\",\"nullable\":false,\"metadata\":{}},{\"name\":\"totalTaskExecutionTimeMs\",\"type\":\"long\",\"nullable\":false,\"metadata\":{}},{\"name\":\"skippedArchivedFiles\",\"type\":\"long\",\"nullable\":false,\"metadata\":{}},{\"name\":\"clusteringMetrics\",\"type\":{\"type\":\"struct\",\"fields\":[{\"name\":\"sizeOfTableInBytesBeforeLazyClustering\",\"type\":\"long\",\"nullable\":false,\"metadata\":{}},{\"name\":\"isNewMetadataCreated\",\"type\":\"boolean\",\"nullable\":false,\"metadata\":{}},{\"name\":\"isPOTriggered\",\"type\":\"boolean\",\"nullable\":false,\"metadata\":{}},{\"name\":\"numFilesSkippedWithoutStats\",\"type\":\"long\",\"nullable\":false,\"metadata\":{}},{\"name\":\"numFilesClassifiedToIntermediateNodes\",\"type\":\"long\",\"nullable\":false,\"metadata\":{}},{\"name\":\"sizeOfFilesClassifiedToIntermediateNodesInBytes\",\"type\":\"long\",\"nullable\":false,\"metadata\":{}},{\"name\":\"logicalSizeOfFilesClassifiedToIntermediateNodesInBytes\",\"type\":\"long\",\"nullable\":false,\"metadata\":{}},{\"name\":\"numFilesClassifiedToLeafNodes\",\"type\":\"long\",\"nullable\":false,\"metadata\":{}},{\"name\":\"sizeOfFilesClassifiedToLeafNodesInBytes\",\"type\":\"long\",\"nullable\":false,\"metadata\":{}},{\"name\":\"logicalSizeOfFilesClassifiedToLeafNodesInBytes\",\"type\":\"long\",\"nullable\":false,\"metadata\":{}},{\"name\":\"numThreadsForClassifier\",\"type\":\"integer\",\"nullable\":true,\"metadata\":{}},{\"name\":\"clusterThresholdStrategy\",\"type\":\"string\",\"nullable\":true,\"metadata\":{}},{\"name\":\"minFileSize\",\"type\":\"long\",\"nullable\":false,\"metadata\":{}},{\"name\":\"maxFileSize\",\"type\":\"long\",\"nullable\":false,\"metadata\":{}},{\"name\":\"nodeMinNumFilesToCompact\",\"type\":\"long\",\"nullable\":false,\"metadata\":{}},{\"name\":\"numIdealFiles\",\"type\":\"long\",\"nullable\":false,\"metadata\":{}},{\"name\":\"numClusteringTasksPlanned\",\"type\":\"integer\",\"nullable\":false,\"metadata\":{}},{\"name\":\"numCompactionTasksPlanned\",\"type\":\"integer\",\"nullable\":false,\"metadata\":{}},{\"name\":\"numOptimizeBatchesPlanned\",\"type\":\"integer\",\"nullable\":false,\"metadata\":{}},{\"name\":\"numLeafNodesExpanded\",\"type\":\"long\",\"nullable\":false,\"metadata\":{}},{\"name\":\"numLeafNodesClustered\",\"type\":\"long\",\"nullable\":false,\"metadata\":{}},{\"name\":\"numGetFilesForNodeCalls\",\"type\":\"long\",\"nullable\":false,\"metadata\":{}},{\"name\":\"numSamplingJobs\",\"type\":\"long\",\"nullable\":false,\"metadata\":{}},{\"name\":\"numLeafNodesCompacted\",\"type\":\"long\",\"nullable\":false,\"metadata\":{}},{\"name\":\"numIntermediateNodesCompacted\",\"type\":\"long\",\"nullable\":false,\"metadata\":{}},{\"name\":\"totalSizeOfDataToCompactInBytes\",\"type\":\"long\",\"nullable\":false,\"metadata\":{}},{\"name\":\"totalLogicalSizeOfDataToCompactInBytes\",\"type\":\"long\",\"nullable\":false,\"metadata\":{}},{\"name\":\"numIntermediateNodesClustered\",\"type\":\"long\",\"nullable\":false,\"metadata\":{}},{\"name\":\"numFilesSkippedAfterExpansion\",\"type\":\"long\",\"nullable\":false,\"metadata\":{}},{\"name\":\"totalSizeOfFilesSkippedAfterExpansionInBytes\",\"type\":\"long\",\"nullable\":false,\"metadata\":{}},{\"name\":\"totalLogicalSizeOfFilesSkippedAfterExpansionInBytes\",\"type\":\"long\",\"nullable\":false,\"metadata\":{}},{\"name\":\"totalSizeOfDataToRewriteInBytes\",\"type\":\"long\",\"nullable\":false,\"metadata\":{}},{\"name\":\"totalLogicalSizeOfDataToRewriteInBytes\",\"type\":\"long\",\"nullable\":false,\"metadata\":{}},{\"name\":\"timeMetrics\",\"type\":{\"type\":\"struct\",\"fields\":[{\"name\":\"classifierTimeMs\",\"type\":\"long\",\"nullable\":false,\"metadata\":{}},{\"name\":\"optimizerTimeMs\",\"type\":\"long\",\"nullable\":false,\"metadata\":{}},{\"name\":\"metadataLoadTimeMs\",\"type\":\"long\",\"nullable\":false,\"metadata\":{}},{\"name\":\"totalGetFilesForNodeCallsTimeMs\",\"type\":\"long\",\"nullable\":false,\"metadata\":{}},{\"name\":\"totalSamplingTimeMs\",\"type\":\"long\",\"nullable\":false,\"metadata\":{}},{\"name\":\"metadataCreationTimeMs\",\"type\":\"long\",\"nullable\":false,\"metadata\":{}}]},\"nullable\":true,\"metadata\":{}},{\"name\":\"maxOptimizeBatchesInParallel\",\"type\":\"long\",\"nullable\":false,\"metadata\":{}},{\"name\":\"currentIteration\",\"type\":\"integer\",\"nullable\":false,\"metadata\":{}},{\"name\":\"maxIterations\",\"type\":\"integer\",\"nullable\":false,\"metadata\":{}},{\"name\":\"clusteringStrategy\",\"type\":\"string\",\"nullable\":true,\"metadata\":{}}]},\"nullable\":true,\"metadata\":{}}]}"
        }
       ],
       "type": "table"
      }
     },
     "output_type": "display_data"
    }
   ],
   "source": [
    "%sql\n",
    "OPTIMIZE flight_data_lc"
   ]
  },
  {
   "cell_type": "code",
   "execution_count": 0,
   "metadata": {
    "application/vnd.databricks.v1+cell": {
     "cellMetadata": {
      "byteLimit": 2048000,
      "rowLimit": 10000
     },
     "inputWidgets": {},
     "nuid": "c2c6aa22-afeb-4b9d-af58-d4fbab1f8077",
     "showTitle": false,
     "tableResultSettingsMap": {},
     "title": ""
    }
   },
   "outputs": [
    {
     "output_type": "display_data",
     "data": {
      "text/html": [
       "<style scoped>\n",
       "  .table-result-container {\n",
       "    max-height: 300px;\n",
       "    overflow: auto;\n",
       "  }\n",
       "  table, th, td {\n",
       "    border: 1px solid black;\n",
       "    border-collapse: collapse;\n",
       "  }\n",
       "  th, td {\n",
       "    padding: 5px;\n",
       "  }\n",
       "  th {\n",
       "    text-align: left;\n",
       "  }\n",
       "</style><div class='table-result-container'><table class='table-result'><thead style='background-color: white'><tr><th>path</th></tr></thead><tbody><tr><td>dbfs:/user/hive/warehouse/flight_data_lc</td></tr></tbody></table></div>"
      ]
     },
     "metadata": {
      "application/vnd.databricks.v1+output": {
       "addedWidgets": {},
       "aggData": [],
       "aggError": "",
       "aggOverflow": false,
       "aggSchema": [],
       "aggSeriesLimitReached": false,
       "aggType": "",
       "arguments": {},
       "columnCustomDisplayInfos": {},
       "data": [
        [
         "dbfs:/user/hive/warehouse/flight_data_lc"
        ]
       ],
       "datasetInfos": [],
       "dbfsResultPath": null,
       "isJsonSchema": true,
       "metadata": {
        "isDbfsCommandResult": false
       },
       "overflow": false,
       "plotOptions": {
        "customPlotOptions": {},
        "displayType": "table",
        "pivotAggregation": null,
        "pivotColumns": null,
        "xColumns": null,
        "yColumns": null
       },
       "removedWidgets": [],
       "schema": [
        {
         "metadata": "{}",
         "name": "path",
         "type": "\"string\""
        }
       ],
       "type": "table"
      }
     },
     "output_type": "display_data"
    }
   ],
   "source": [
    "%sql\n",
    "SET spark.databricks.delta.retentionDurationCheck.enabled=false;\n",
    "\n",
    "VACUUM flight_data_lc RETAIN 0 HOURS;"
   ]
  },
  {
   "cell_type": "code",
   "execution_count": 0,
   "metadata": {
    "application/vnd.databricks.v1+cell": {
     "cellMetadata": {
      "byteLimit": 2048000,
      "rowLimit": 10000
     },
     "inputWidgets": {},
     "nuid": "d599cdd6-43f0-4795-8084-a05d6e56a10d",
     "showTitle": false,
     "tableResultSettingsMap": {},
     "title": ""
    }
   },
   "outputs": [
    {
     "output_type": "display_data",
     "data": {
      "text/html": [
       "<style scoped>\n",
       "  .table-result-container {\n",
       "    max-height: 300px;\n",
       "    overflow: auto;\n",
       "  }\n",
       "  table, th, td {\n",
       "    border: 1px solid black;\n",
       "    border-collapse: collapse;\n",
       "  }\n",
       "  th, td {\n",
       "    padding: 5px;\n",
       "  }\n",
       "  th {\n",
       "    text-align: left;\n",
       "  }\n",
       "</style><div class='table-result-container'><table class='table-result'><thead style='background-color: white'><tr><th>path</th><th>name</th><th>size</th><th>modificationTime</th></tr></thead><tbody><tr><td>dbfs:/user/hive/warehouse/flight_data_lc/_delta_log/</td><td>_delta_log/</td><td>0</td><td>0</td></tr><tr><td>dbfs:/user/hive/warehouse/flight_data_lc/part-00000-35003a93-feb8-4238-ae91-55fc60db3010-c000.snappy.parquet</td><td>part-00000-35003a93-feb8-4238-ae91-55fc60db3010-c000.snappy.parquet</td><td>12440</td><td>1739043077000</td></tr><tr><td>dbfs:/user/hive/warehouse/flight_data_lc/part-00000-a3501465-aab4-47e7-864f-91120a2d483d-c000.snappy.parquet</td><td>part-00000-a3501465-aab4-47e7-864f-91120a2d483d-c000.snappy.parquet</td><td>187056247</td><td>1739046482000</td></tr><tr><td>dbfs:/user/hive/warehouse/flight_data_lc/part-00001-e62bf7eb-1c80-41e8-b781-2fd0d0473eeb-c000.snappy.parquet</td><td>part-00001-e62bf7eb-1c80-41e8-b781-2fd0d0473eeb-c000.snappy.parquet</td><td>191304739</td><td>1739046485000</td></tr><tr><td>dbfs:/user/hive/warehouse/flight_data_lc/part-00002-d0b1d9ea-f793-4975-b54c-15676c11deac-c000.snappy.parquet</td><td>part-00002-d0b1d9ea-f793-4975-b54c-15676c11deac-c000.snappy.parquet</td><td>203335420</td><td>1739046447000</td></tr><tr><td>dbfs:/user/hive/warehouse/flight_data_lc/part-00003-84690e60-4543-4f28-82cb-da3d29c41cc6-c000.snappy.parquet</td><td>part-00003-84690e60-4543-4f28-82cb-da3d29c41cc6-c000.snappy.parquet</td><td>196427074</td><td>1739046144000</td></tr><tr><td>dbfs:/user/hive/warehouse/flight_data_lc/part-00004-6597fdc0-4013-4b86-9173-aeea5edc8534-c000.snappy.parquet</td><td>part-00004-6597fdc0-4013-4b86-9173-aeea5edc8534-c000.snappy.parquet</td><td>203549418</td><td>1739046182000</td></tr><tr><td>dbfs:/user/hive/warehouse/flight_data_lc/part-00005-3958e182-1cd6-438d-8492-3560a152dbb6-c000.snappy.parquet</td><td>part-00005-3958e182-1cd6-438d-8492-3560a152dbb6-c000.snappy.parquet</td><td>191480142</td><td>1739046474000</td></tr><tr><td>dbfs:/user/hive/warehouse/flight_data_lc/part-00006-0ab42d34-d1c5-4c84-aad8-80a25bf02bb2-c000.snappy.parquet</td><td>part-00006-0ab42d34-d1c5-4c84-aad8-80a25bf02bb2-c000.snappy.parquet</td><td>204093871</td><td>1739046092000</td></tr><tr><td>dbfs:/user/hive/warehouse/flight_data_lc/part-00007-43b256dd-1f28-43c4-8925-47b7ae280a3e-c000.snappy.parquet</td><td>part-00007-43b256dd-1f28-43c4-8925-47b7ae280a3e-c000.snappy.parquet</td><td>203891771</td><td>1739046124000</td></tr><tr><td>dbfs:/user/hive/warehouse/flight_data_lc/part-00008-01678cff-59af-432e-b61b-297d876d9a51-c000.snappy.parquet</td><td>part-00008-01678cff-59af-432e-b61b-297d876d9a51-c000.snappy.parquet</td><td>204323511</td><td>1739046183000</td></tr><tr><td>dbfs:/user/hive/warehouse/flight_data_lc/part-00009-8e78f62e-8380-43c1-a2b2-6811876df656-c000.snappy.parquet</td><td>part-00009-8e78f62e-8380-43c1-a2b2-6811876df656-c000.snappy.parquet</td><td>195102452</td><td>1739046150000</td></tr><tr><td>dbfs:/user/hive/warehouse/flight_data_lc/part-00010-d9e1548d-be73-41f6-9075-8e4fed65bc56-c000.snappy.parquet</td><td>part-00010-d9e1548d-be73-41f6-9075-8e4fed65bc56-c000.snappy.parquet</td><td>203066680</td><td>1739046037000</td></tr><tr><td>dbfs:/user/hive/warehouse/flight_data_lc/part-00011-6b527361-5ba4-4186-b632-a68ca63ab72d-c000.snappy.parquet</td><td>part-00011-6b527361-5ba4-4186-b632-a68ca63ab72d-c000.snappy.parquet</td><td>199330246</td><td>1739046154000</td></tr></tbody></table></div>"
      ]
     },
     "metadata": {
      "application/vnd.databricks.v1+output": {
       "addedWidgets": {},
       "aggData": [],
       "aggError": "",
       "aggOverflow": false,
       "aggSchema": [],
       "aggSeriesLimitReached": false,
       "aggType": "",
       "arguments": {},
       "columnCustomDisplayInfos": {},
       "data": [
        [
         "dbfs:/user/hive/warehouse/flight_data_lc/_delta_log/",
         "_delta_log/",
         0,
         0
        ],
        [
         "dbfs:/user/hive/warehouse/flight_data_lc/part-00000-35003a93-feb8-4238-ae91-55fc60db3010-c000.snappy.parquet",
         "part-00000-35003a93-feb8-4238-ae91-55fc60db3010-c000.snappy.parquet",
         12440,
         1739043077000
        ],
        [
         "dbfs:/user/hive/warehouse/flight_data_lc/part-00000-a3501465-aab4-47e7-864f-91120a2d483d-c000.snappy.parquet",
         "part-00000-a3501465-aab4-47e7-864f-91120a2d483d-c000.snappy.parquet",
         187056247,
         1739046482000
        ],
        [
         "dbfs:/user/hive/warehouse/flight_data_lc/part-00001-e62bf7eb-1c80-41e8-b781-2fd0d0473eeb-c000.snappy.parquet",
         "part-00001-e62bf7eb-1c80-41e8-b781-2fd0d0473eeb-c000.snappy.parquet",
         191304739,
         1739046485000
        ],
        [
         "dbfs:/user/hive/warehouse/flight_data_lc/part-00002-d0b1d9ea-f793-4975-b54c-15676c11deac-c000.snappy.parquet",
         "part-00002-d0b1d9ea-f793-4975-b54c-15676c11deac-c000.snappy.parquet",
         203335420,
         1739046447000
        ],
        [
         "dbfs:/user/hive/warehouse/flight_data_lc/part-00003-84690e60-4543-4f28-82cb-da3d29c41cc6-c000.snappy.parquet",
         "part-00003-84690e60-4543-4f28-82cb-da3d29c41cc6-c000.snappy.parquet",
         196427074,
         1739046144000
        ],
        [
         "dbfs:/user/hive/warehouse/flight_data_lc/part-00004-6597fdc0-4013-4b86-9173-aeea5edc8534-c000.snappy.parquet",
         "part-00004-6597fdc0-4013-4b86-9173-aeea5edc8534-c000.snappy.parquet",
         203549418,
         1739046182000
        ],
        [
         "dbfs:/user/hive/warehouse/flight_data_lc/part-00005-3958e182-1cd6-438d-8492-3560a152dbb6-c000.snappy.parquet",
         "part-00005-3958e182-1cd6-438d-8492-3560a152dbb6-c000.snappy.parquet",
         191480142,
         1739046474000
        ],
        [
         "dbfs:/user/hive/warehouse/flight_data_lc/part-00006-0ab42d34-d1c5-4c84-aad8-80a25bf02bb2-c000.snappy.parquet",
         "part-00006-0ab42d34-d1c5-4c84-aad8-80a25bf02bb2-c000.snappy.parquet",
         204093871,
         1739046092000
        ],
        [
         "dbfs:/user/hive/warehouse/flight_data_lc/part-00007-43b256dd-1f28-43c4-8925-47b7ae280a3e-c000.snappy.parquet",
         "part-00007-43b256dd-1f28-43c4-8925-47b7ae280a3e-c000.snappy.parquet",
         203891771,
         1739046124000
        ],
        [
         "dbfs:/user/hive/warehouse/flight_data_lc/part-00008-01678cff-59af-432e-b61b-297d876d9a51-c000.snappy.parquet",
         "part-00008-01678cff-59af-432e-b61b-297d876d9a51-c000.snappy.parquet",
         204323511,
         1739046183000
        ],
        [
         "dbfs:/user/hive/warehouse/flight_data_lc/part-00009-8e78f62e-8380-43c1-a2b2-6811876df656-c000.snappy.parquet",
         "part-00009-8e78f62e-8380-43c1-a2b2-6811876df656-c000.snappy.parquet",
         195102452,
         1739046150000
        ],
        [
         "dbfs:/user/hive/warehouse/flight_data_lc/part-00010-d9e1548d-be73-41f6-9075-8e4fed65bc56-c000.snappy.parquet",
         "part-00010-d9e1548d-be73-41f6-9075-8e4fed65bc56-c000.snappy.parquet",
         203066680,
         1739046037000
        ],
        [
         "dbfs:/user/hive/warehouse/flight_data_lc/part-00011-6b527361-5ba4-4186-b632-a68ca63ab72d-c000.snappy.parquet",
         "part-00011-6b527361-5ba4-4186-b632-a68ca63ab72d-c000.snappy.parquet",
         199330246,
         1739046154000
        ]
       ],
       "datasetInfos": [],
       "dbfsResultPath": null,
       "isJsonSchema": true,
       "metadata": {
        "isDbfsCommandResult": false
       },
       "overflow": false,
       "plotOptions": {
        "customPlotOptions": {},
        "displayType": "table",
        "pivotAggregation": null,
        "pivotColumns": null,
        "xColumns": null,
        "yColumns": null
       },
       "removedWidgets": [],
       "schema": [
        {
         "metadata": "{}",
         "name": "path",
         "type": "\"string\""
        },
        {
         "metadata": "{}",
         "name": "name",
         "type": "\"string\""
        },
        {
         "metadata": "{}",
         "name": "size",
         "type": "\"long\""
        },
        {
         "metadata": "{}",
         "name": "modificationTime",
         "type": "\"long\""
        }
       ],
       "type": "table"
      }
     },
     "output_type": "display_data"
    }
   ],
   "source": [
    "%fs ls dbfs:/user/hive/warehouse/flight_data_lc"
   ]
  },
  {
   "cell_type": "markdown",
   "metadata": {
    "application/vnd.databricks.v1+cell": {
     "cellMetadata": {
      "byteLimit": 2048000,
      "rowLimit": 10000
     },
     "inputWidgets": {},
     "nuid": "a556ad3e-b409-409c-bea6-9af6aaf2fab0",
     "showTitle": false,
     "tableResultSettingsMap": {},
     "title": ""
    }
   },
   "source": [
    "here we can see if some file size is same as of last table, because they achieved the stable size"
   ]
  },
  {
   "cell_type": "code",
   "execution_count": 0,
   "metadata": {
    "application/vnd.databricks.v1+cell": {
     "cellMetadata": {
      "byteLimit": 2048000,
      "rowLimit": 10000
     },
     "inputWidgets": {},
     "nuid": "b84bacaf-ea1c-4b33-a364-017f187e1fbc",
     "showTitle": false,
     "tableResultSettingsMap": {},
     "title": ""
    }
   },
   "outputs": [
    {
     "output_type": "display_data",
     "data": {
      "text/html": [
       "<style scoped>\n",
       "  .table-result-container {\n",
       "    max-height: 300px;\n",
       "    overflow: auto;\n",
       "  }\n",
       "  table, th, td {\n",
       "    border: 1px solid black;\n",
       "    border-collapse: collapse;\n",
       "  }\n",
       "  th, td {\n",
       "    padding: 5px;\n",
       "  }\n",
       "  th {\n",
       "    text-align: left;\n",
       "  }\n",
       "</style><div class='table-result-container'><table class='table-result'><thead style='background-color: white'><tr><th>path</th><th>metrics</th></tr></thead><tbody><tr><td>dbfs:/user/hive/warehouse/flight_data_lc</td><td>List(0, 0, List(null, null, 0.0, 0, 0), List(null, null, 0.0, 0, 0), 0, null, null, 0, 0, 13, 0, false, 0, 0, 1739046529585, 1739046537465, 8, 0, null, List(0, 0), 29, 29, 0, 0, List(2382974011, true, false, 0, 0, 0, 0, 1, 12440, 12440, null, log, 16777216, 268435456, 8, 0, 0, 0, 0, 0, 0, 0, 0, 0, 0, 0, 0, 0, 0, 0, 0, 0, 0, List(406, 16, 916, 0, 0, 1074), 2, 1, 5, sizeAware))</td></tr></tbody></table></div>"
      ]
     },
     "metadata": {
      "application/vnd.databricks.v1+output": {
       "addedWidgets": {},
       "aggData": [],
       "aggError": "",
       "aggOverflow": false,
       "aggSchema": [],
       "aggSeriesLimitReached": false,
       "aggType": "",
       "arguments": {},
       "columnCustomDisplayInfos": {},
       "data": [
        [
         "dbfs:/user/hive/warehouse/flight_data_lc",
         [
          0,
          0,
          [
           null,
           null,
           0.0,
           0,
           0
          ],
          [
           null,
           null,
           0.0,
           0,
           0
          ],
          0,
          null,
          null,
          0,
          0,
          13,
          0,
          false,
          0,
          0,
          1739046529585,
          1739046537465,
          8,
          0,
          null,
          [
           0,
           0
          ],
          29,
          29,
          0,
          0,
          [
           2382974011,
           true,
           false,
           0,
           0,
           0,
           0,
           1,
           12440,
           12440,
           null,
           "log",
           16777216,
           268435456,
           8,
           0,
           0,
           0,
           0,
           0,
           0,
           0,
           0,
           0,
           0,
           0,
           0,
           0,
           0,
           0,
           0,
           0,
           0,
           [
            406,
            16,
            916,
            0,
            0,
            1074
           ],
           2,
           1,
           5,
           "sizeAware"
          ]
         ]
        ]
       ],
       "datasetInfos": [],
       "dbfsResultPath": null,
       "isJsonSchema": true,
       "metadata": {},
       "overflow": false,
       "plotOptions": {
        "customPlotOptions": {},
        "displayType": "table",
        "pivotAggregation": null,
        "pivotColumns": null,
        "xColumns": null,
        "yColumns": null
       },
       "removedWidgets": [],
       "schema": [
        {
         "metadata": "{}",
         "name": "path",
         "type": "\"string\""
        },
        {
         "metadata": "{}",
         "name": "metrics",
         "type": "{\"type\":\"struct\",\"fields\":[{\"name\":\"numFilesAdded\",\"type\":\"long\",\"nullable\":false,\"metadata\":{}},{\"name\":\"numFilesRemoved\",\"type\":\"long\",\"nullable\":false,\"metadata\":{}},{\"name\":\"filesAdded\",\"type\":{\"type\":\"struct\",\"fields\":[{\"name\":\"min\",\"type\":\"long\",\"nullable\":true,\"metadata\":{}},{\"name\":\"max\",\"type\":\"long\",\"nullable\":true,\"metadata\":{}},{\"name\":\"avg\",\"type\":\"double\",\"nullable\":false,\"metadata\":{}},{\"name\":\"totalFiles\",\"type\":\"long\",\"nullable\":false,\"metadata\":{}},{\"name\":\"totalSize\",\"type\":\"long\",\"nullable\":false,\"metadata\":{}}]},\"nullable\":true,\"metadata\":{}},{\"name\":\"filesRemoved\",\"type\":{\"type\":\"struct\",\"fields\":[{\"name\":\"min\",\"type\":\"long\",\"nullable\":true,\"metadata\":{}},{\"name\":\"max\",\"type\":\"long\",\"nullable\":true,\"metadata\":{}},{\"name\":\"avg\",\"type\":\"double\",\"nullable\":false,\"metadata\":{}},{\"name\":\"totalFiles\",\"type\":\"long\",\"nullable\":false,\"metadata\":{}},{\"name\":\"totalSize\",\"type\":\"long\",\"nullable\":false,\"metadata\":{}}]},\"nullable\":true,\"metadata\":{}},{\"name\":\"partitionsOptimized\",\"type\":\"long\",\"nullable\":false,\"metadata\":{}},{\"name\":\"zOrderStats\",\"type\":{\"type\":\"struct\",\"fields\":[{\"name\":\"strategyName\",\"type\":\"string\",\"nullable\":true,\"metadata\":{}},{\"name\":\"inputCubeFiles\",\"type\":{\"type\":\"struct\",\"fields\":[{\"name\":\"num\",\"type\":\"long\",\"nullable\":false,\"metadata\":{}},{\"name\":\"size\",\"type\":\"long\",\"nullable\":false,\"metadata\":{}}]},\"nullable\":true,\"metadata\":{}},{\"name\":\"inputOtherFiles\",\"type\":{\"type\":\"struct\",\"fields\":[{\"name\":\"num\",\"type\":\"long\",\"nullable\":false,\"metadata\":{}},{\"name\":\"size\",\"type\":\"long\",\"nullable\":false,\"metadata\":{}}]},\"nullable\":true,\"metadata\":{}},{\"name\":\"inputNumCubes\",\"type\":\"long\",\"nullable\":false,\"metadata\":{}},{\"name\":\"mergedFiles\",\"type\":{\"type\":\"struct\",\"fields\":[{\"name\":\"num\",\"type\":\"long\",\"nullable\":false,\"metadata\":{}},{\"name\":\"size\",\"type\":\"long\",\"nullable\":false,\"metadata\":{}}]},\"nullable\":true,\"metadata\":{}},{\"name\":\"numOutputCubes\",\"type\":\"long\",\"nullable\":false,\"metadata\":{}},{\"name\":\"mergedNumCubes\",\"type\":\"long\",\"nullable\":true,\"metadata\":{}}]},\"nullable\":true,\"metadata\":{}},{\"name\":\"clusteringStats\",\"type\":{\"type\":\"struct\",\"fields\":[{\"name\":\"inputZCubeFiles\",\"type\":{\"type\":\"struct\",\"fields\":[{\"name\":\"numFiles\",\"type\":\"long\",\"nullable\":false,\"metadata\":{}},{\"name\":\"size\",\"type\":\"long\",\"nullable\":false,\"metadata\":{}}]},\"nullable\":true,\"metadata\":{}},{\"name\":\"inputOtherFiles\",\"type\":{\"type\":\"struct\",\"fields\":[{\"name\":\"numFiles\",\"type\":\"long\",\"nullable\":false,\"metadata\":{}},{\"name\":\"size\",\"type\":\"long\",\"nullable\":false,\"metadata\":{}}]},\"nullable\":true,\"metadata\":{}},{\"name\":\"inputNumZCubes\",\"type\":\"long\",\"nullable\":false,\"metadata\":{}},{\"name\":\"mergedFiles\",\"type\":{\"type\":\"struct\",\"fields\":[{\"name\":\"numFiles\",\"type\":\"long\",\"nullable\":false,\"metadata\":{}},{\"name\":\"size\",\"type\":\"long\",\"nullable\":false,\"metadata\":{}}]},\"nullable\":true,\"metadata\":{}},{\"name\":\"numOutputZCubes\",\"type\":\"long\",\"nullable\":false,\"metadata\":{}}]},\"nullable\":true,\"metadata\":{}},{\"name\":\"numBins\",\"type\":\"long\",\"nullable\":false,\"metadata\":{}},{\"name\":\"numBatches\",\"type\":\"long\",\"nullable\":false,\"metadata\":{}},{\"name\":\"totalConsideredFiles\",\"type\":\"long\",\"nullable\":false,\"metadata\":{}},{\"name\":\"totalFilesSkipped\",\"type\":\"long\",\"nullable\":false,\"metadata\":{}},{\"name\":\"preserveInsertionOrder\",\"type\":\"boolean\",\"nullable\":false,\"metadata\":{}},{\"name\":\"numFilesSkippedToReduceWriteAmplification\",\"type\":\"long\",\"nullable\":false,\"metadata\":{}},{\"name\":\"numBytesSkippedToReduceWriteAmplification\",\"type\":\"long\",\"nullable\":false,\"metadata\":{}},{\"name\":\"startTimeMs\",\"type\":\"long\",\"nullable\":false,\"metadata\":{}},{\"name\":\"endTimeMs\",\"type\":\"long\",\"nullable\":false,\"metadata\":{}},{\"name\":\"totalClusterParallelism\",\"type\":\"long\",\"nullable\":false,\"metadata\":{}},{\"name\":\"totalScheduledTasks\",\"type\":\"long\",\"nullable\":false,\"metadata\":{}},{\"name\":\"autoCompactParallelismStats\",\"type\":{\"type\":\"struct\",\"fields\":[{\"name\":\"maxClusterActiveParallelism\",\"type\":\"long\",\"nullable\":true,\"metadata\":{}},{\"name\":\"minClusterActiveParallelism\",\"type\":\"long\",\"nullable\":true,\"metadata\":{}},{\"name\":\"maxSessionActiveParallelism\",\"type\":\"long\",\"nullable\":true,\"metadata\":{}},{\"name\":\"minSessionActiveParallelism\",\"type\":\"long\",\"nullable\":true,\"metadata\":{}}]},\"nullable\":true,\"metadata\":{}},{\"name\":\"deletionVectorStats\",\"type\":{\"type\":\"struct\",\"fields\":[{\"name\":\"numDeletionVectorsRemoved\",\"type\":\"long\",\"nullable\":false,\"metadata\":{}},{\"name\":\"numDeletionVectorRowsRemoved\",\"type\":\"long\",\"nullable\":false,\"metadata\":{}}]},\"nullable\":true,\"metadata\":{}},{\"name\":\"numTableColumns\",\"type\":\"long\",\"nullable\":false,\"metadata\":{}},{\"name\":\"numTableColumnsWithStats\",\"type\":\"long\",\"nullable\":false,\"metadata\":{}},{\"name\":\"totalTaskExecutionTimeMs\",\"type\":\"long\",\"nullable\":false,\"metadata\":{}},{\"name\":\"skippedArchivedFiles\",\"type\":\"long\",\"nullable\":false,\"metadata\":{}},{\"name\":\"clusteringMetrics\",\"type\":{\"type\":\"struct\",\"fields\":[{\"name\":\"sizeOfTableInBytesBeforeLazyClustering\",\"type\":\"long\",\"nullable\":false,\"metadata\":{}},{\"name\":\"isNewMetadataCreated\",\"type\":\"boolean\",\"nullable\":false,\"metadata\":{}},{\"name\":\"isPOTriggered\",\"type\":\"boolean\",\"nullable\":false,\"metadata\":{}},{\"name\":\"numFilesSkippedWithoutStats\",\"type\":\"long\",\"nullable\":false,\"metadata\":{}},{\"name\":\"numFilesClassifiedToIntermediateNodes\",\"type\":\"long\",\"nullable\":false,\"metadata\":{}},{\"name\":\"sizeOfFilesClassifiedToIntermediateNodesInBytes\",\"type\":\"long\",\"nullable\":false,\"metadata\":{}},{\"name\":\"logicalSizeOfFilesClassifiedToIntermediateNodesInBytes\",\"type\":\"long\",\"nullable\":false,\"metadata\":{}},{\"name\":\"numFilesClassifiedToLeafNodes\",\"type\":\"long\",\"nullable\":false,\"metadata\":{}},{\"name\":\"sizeOfFilesClassifiedToLeafNodesInBytes\",\"type\":\"long\",\"nullable\":false,\"metadata\":{}},{\"name\":\"logicalSizeOfFilesClassifiedToLeafNodesInBytes\",\"type\":\"long\",\"nullable\":false,\"metadata\":{}},{\"name\":\"numThreadsForClassifier\",\"type\":\"integer\",\"nullable\":true,\"metadata\":{}},{\"name\":\"clusterThresholdStrategy\",\"type\":\"string\",\"nullable\":true,\"metadata\":{}},{\"name\":\"minFileSize\",\"type\":\"long\",\"nullable\":false,\"metadata\":{}},{\"name\":\"maxFileSize\",\"type\":\"long\",\"nullable\":false,\"metadata\":{}},{\"name\":\"nodeMinNumFilesToCompact\",\"type\":\"long\",\"nullable\":false,\"metadata\":{}},{\"name\":\"numIdealFiles\",\"type\":\"long\",\"nullable\":false,\"metadata\":{}},{\"name\":\"numClusteringTasksPlanned\",\"type\":\"integer\",\"nullable\":false,\"metadata\":{}},{\"name\":\"numCompactionTasksPlanned\",\"type\":\"integer\",\"nullable\":false,\"metadata\":{}},{\"name\":\"numOptimizeBatchesPlanned\",\"type\":\"integer\",\"nullable\":false,\"metadata\":{}},{\"name\":\"numLeafNodesExpanded\",\"type\":\"long\",\"nullable\":false,\"metadata\":{}},{\"name\":\"numLeafNodesClustered\",\"type\":\"long\",\"nullable\":false,\"metadata\":{}},{\"name\":\"numGetFilesForNodeCalls\",\"type\":\"long\",\"nullable\":false,\"metadata\":{}},{\"name\":\"numSamplingJobs\",\"type\":\"long\",\"nullable\":false,\"metadata\":{}},{\"name\":\"numLeafNodesCompacted\",\"type\":\"long\",\"nullable\":false,\"metadata\":{}},{\"name\":\"numIntermediateNodesCompacted\",\"type\":\"long\",\"nullable\":false,\"metadata\":{}},{\"name\":\"totalSizeOfDataToCompactInBytes\",\"type\":\"long\",\"nullable\":false,\"metadata\":{}},{\"name\":\"totalLogicalSizeOfDataToCompactInBytes\",\"type\":\"long\",\"nullable\":false,\"metadata\":{}},{\"name\":\"numIntermediateNodesClustered\",\"type\":\"long\",\"nullable\":false,\"metadata\":{}},{\"name\":\"numFilesSkippedAfterExpansion\",\"type\":\"long\",\"nullable\":false,\"metadata\":{}},{\"name\":\"totalSizeOfFilesSkippedAfterExpansionInBytes\",\"type\":\"long\",\"nullable\":false,\"metadata\":{}},{\"name\":\"totalLogicalSizeOfFilesSkippedAfterExpansionInBytes\",\"type\":\"long\",\"nullable\":false,\"metadata\":{}},{\"name\":\"totalSizeOfDataToRewriteInBytes\",\"type\":\"long\",\"nullable\":false,\"metadata\":{}},{\"name\":\"totalLogicalSizeOfDataToRewriteInBytes\",\"type\":\"long\",\"nullable\":false,\"metadata\":{}},{\"name\":\"timeMetrics\",\"type\":{\"type\":\"struct\",\"fields\":[{\"name\":\"classifierTimeMs\",\"type\":\"long\",\"nullable\":false,\"metadata\":{}},{\"name\":\"optimizerTimeMs\",\"type\":\"long\",\"nullable\":false,\"metadata\":{}},{\"name\":\"metadataLoadTimeMs\",\"type\":\"long\",\"nullable\":false,\"metadata\":{}},{\"name\":\"totalGetFilesForNodeCallsTimeMs\",\"type\":\"long\",\"nullable\":false,\"metadata\":{}},{\"name\":\"totalSamplingTimeMs\",\"type\":\"long\",\"nullable\":false,\"metadata\":{}},{\"name\":\"metadataCreationTimeMs\",\"type\":\"long\",\"nullable\":false,\"metadata\":{}}]},\"nullable\":true,\"metadata\":{}},{\"name\":\"maxOptimizeBatchesInParallel\",\"type\":\"long\",\"nullable\":false,\"metadata\":{}},{\"name\":\"currentIteration\",\"type\":\"integer\",\"nullable\":false,\"metadata\":{}},{\"name\":\"maxIterations\",\"type\":\"integer\",\"nullable\":false,\"metadata\":{}},{\"name\":\"clusteringStrategy\",\"type\":\"string\",\"nullable\":true,\"metadata\":{}}]},\"nullable\":true,\"metadata\":{}}]}"
        }
       ],
       "type": "table"
      }
     },
     "output_type": "display_data"
    }
   ],
   "source": [
    "%sql\n",
    "ALTER TABLE flight_data_lc CLUSTER BY (UniqueCarrier, TailNum);\n",
    "OPTIMIZE flight_data_lc"
   ]
  },
  {
   "cell_type": "code",
   "execution_count": 0,
   "metadata": {
    "application/vnd.databricks.v1+cell": {
     "cellMetadata": {
      "byteLimit": 2048000,
      "rowLimit": 10000
     },
     "inputWidgets": {},
     "nuid": "bb466951-e526-46f3-9043-70a59d34f9f4",
     "showTitle": false,
     "tableResultSettingsMap": {},
     "title": ""
    }
   },
   "outputs": [
    {
     "output_type": "display_data",
     "data": {
      "text/html": [
       "<style scoped>\n",
       "  .table-result-container {\n",
       "    max-height: 300px;\n",
       "    overflow: auto;\n",
       "  }\n",
       "  table, th, td {\n",
       "    border: 1px solid black;\n",
       "    border-collapse: collapse;\n",
       "  }\n",
       "  th, td {\n",
       "    padding: 5px;\n",
       "  }\n",
       "  th {\n",
       "    text-align: left;\n",
       "  }\n",
       "</style><div class='table-result-container'><table class='table-result'><thead style='background-color: white'><tr><th>path</th></tr></thead><tbody><tr><td>dbfs:/user/hive/warehouse/flight_data_lc</td></tr></tbody></table></div>"
      ]
     },
     "metadata": {
      "application/vnd.databricks.v1+output": {
       "addedWidgets": {},
       "aggData": [],
       "aggError": "",
       "aggOverflow": false,
       "aggSchema": [],
       "aggSeriesLimitReached": false,
       "aggType": "",
       "arguments": {},
       "columnCustomDisplayInfos": {},
       "data": [
        [
         "dbfs:/user/hive/warehouse/flight_data_lc"
        ]
       ],
       "datasetInfos": [],
       "dbfsResultPath": null,
       "isJsonSchema": true,
       "metadata": {
        "isDbfsCommandResult": false
       },
       "overflow": false,
       "plotOptions": {
        "customPlotOptions": {},
        "displayType": "table",
        "pivotAggregation": null,
        "pivotColumns": null,
        "xColumns": null,
        "yColumns": null
       },
       "removedWidgets": [],
       "schema": [
        {
         "metadata": "{}",
         "name": "path",
         "type": "\"string\""
        }
       ],
       "type": "table"
      }
     },
     "output_type": "display_data"
    }
   ],
   "source": [
    "%sql\n",
    "SET spark.databricks.delta.retentionDurationCheck.enabled=false;\n",
    "\n",
    "VACUUM flight_data_lc RETAIN 0 HOURS;"
   ]
  },
  {
   "cell_type": "code",
   "execution_count": 0,
   "metadata": {
    "application/vnd.databricks.v1+cell": {
     "cellMetadata": {
      "byteLimit": 2048000,
      "rowLimit": 10000
     },
     "inputWidgets": {},
     "nuid": "c7f0fcb8-2e15-4593-90a9-6d18f6daa284",
     "showTitle": false,
     "tableResultSettingsMap": {},
     "title": ""
    }
   },
   "outputs": [
    {
     "output_type": "display_data",
     "data": {
      "text/html": [
       "<style scoped>\n",
       "  .table-result-container {\n",
       "    max-height: 300px;\n",
       "    overflow: auto;\n",
       "  }\n",
       "  table, th, td {\n",
       "    border: 1px solid black;\n",
       "    border-collapse: collapse;\n",
       "  }\n",
       "  th, td {\n",
       "    padding: 5px;\n",
       "  }\n",
       "  th {\n",
       "    text-align: left;\n",
       "  }\n",
       "</style><div class='table-result-container'><table class='table-result'><thead style='background-color: white'><tr><th>path</th><th>name</th><th>size</th><th>modificationTime</th></tr></thead><tbody><tr><td>dbfs:/user/hive/warehouse/flight_data_lc/_delta_log/</td><td>_delta_log/</td><td>0</td><td>0</td></tr><tr><td>dbfs:/user/hive/warehouse/flight_data_lc/part-00000-35003a93-feb8-4238-ae91-55fc60db3010-c000.snappy.parquet</td><td>part-00000-35003a93-feb8-4238-ae91-55fc60db3010-c000.snappy.parquet</td><td>12440</td><td>1739043077000</td></tr><tr><td>dbfs:/user/hive/warehouse/flight_data_lc/part-00000-a3501465-aab4-47e7-864f-91120a2d483d-c000.snappy.parquet</td><td>part-00000-a3501465-aab4-47e7-864f-91120a2d483d-c000.snappy.parquet</td><td>187056247</td><td>1739046482000</td></tr><tr><td>dbfs:/user/hive/warehouse/flight_data_lc/part-00001-e62bf7eb-1c80-41e8-b781-2fd0d0473eeb-c000.snappy.parquet</td><td>part-00001-e62bf7eb-1c80-41e8-b781-2fd0d0473eeb-c000.snappy.parquet</td><td>191304739</td><td>1739046485000</td></tr><tr><td>dbfs:/user/hive/warehouse/flight_data_lc/part-00002-d0b1d9ea-f793-4975-b54c-15676c11deac-c000.snappy.parquet</td><td>part-00002-d0b1d9ea-f793-4975-b54c-15676c11deac-c000.snappy.parquet</td><td>203335420</td><td>1739046447000</td></tr><tr><td>dbfs:/user/hive/warehouse/flight_data_lc/part-00003-84690e60-4543-4f28-82cb-da3d29c41cc6-c000.snappy.parquet</td><td>part-00003-84690e60-4543-4f28-82cb-da3d29c41cc6-c000.snappy.parquet</td><td>196427074</td><td>1739046144000</td></tr><tr><td>dbfs:/user/hive/warehouse/flight_data_lc/part-00004-6597fdc0-4013-4b86-9173-aeea5edc8534-c000.snappy.parquet</td><td>part-00004-6597fdc0-4013-4b86-9173-aeea5edc8534-c000.snappy.parquet</td><td>203549418</td><td>1739046182000</td></tr><tr><td>dbfs:/user/hive/warehouse/flight_data_lc/part-00005-3958e182-1cd6-438d-8492-3560a152dbb6-c000.snappy.parquet</td><td>part-00005-3958e182-1cd6-438d-8492-3560a152dbb6-c000.snappy.parquet</td><td>191480142</td><td>1739046474000</td></tr><tr><td>dbfs:/user/hive/warehouse/flight_data_lc/part-00006-0ab42d34-d1c5-4c84-aad8-80a25bf02bb2-c000.snappy.parquet</td><td>part-00006-0ab42d34-d1c5-4c84-aad8-80a25bf02bb2-c000.snappy.parquet</td><td>204093871</td><td>1739046092000</td></tr><tr><td>dbfs:/user/hive/warehouse/flight_data_lc/part-00007-43b256dd-1f28-43c4-8925-47b7ae280a3e-c000.snappy.parquet</td><td>part-00007-43b256dd-1f28-43c4-8925-47b7ae280a3e-c000.snappy.parquet</td><td>203891771</td><td>1739046124000</td></tr><tr><td>dbfs:/user/hive/warehouse/flight_data_lc/part-00008-01678cff-59af-432e-b61b-297d876d9a51-c000.snappy.parquet</td><td>part-00008-01678cff-59af-432e-b61b-297d876d9a51-c000.snappy.parquet</td><td>204323511</td><td>1739046183000</td></tr><tr><td>dbfs:/user/hive/warehouse/flight_data_lc/part-00009-8e78f62e-8380-43c1-a2b2-6811876df656-c000.snappy.parquet</td><td>part-00009-8e78f62e-8380-43c1-a2b2-6811876df656-c000.snappy.parquet</td><td>195102452</td><td>1739046150000</td></tr><tr><td>dbfs:/user/hive/warehouse/flight_data_lc/part-00010-d9e1548d-be73-41f6-9075-8e4fed65bc56-c000.snappy.parquet</td><td>part-00010-d9e1548d-be73-41f6-9075-8e4fed65bc56-c000.snappy.parquet</td><td>203066680</td><td>1739046037000</td></tr><tr><td>dbfs:/user/hive/warehouse/flight_data_lc/part-00011-6b527361-5ba4-4186-b632-a68ca63ab72d-c000.snappy.parquet</td><td>part-00011-6b527361-5ba4-4186-b632-a68ca63ab72d-c000.snappy.parquet</td><td>199330246</td><td>1739046154000</td></tr></tbody></table></div>"
      ]
     },
     "metadata": {
      "application/vnd.databricks.v1+output": {
       "addedWidgets": {},
       "aggData": [],
       "aggError": "",
       "aggOverflow": false,
       "aggSchema": [],
       "aggSeriesLimitReached": false,
       "aggType": "",
       "arguments": {},
       "columnCustomDisplayInfos": {},
       "data": [
        [
         "dbfs:/user/hive/warehouse/flight_data_lc/_delta_log/",
         "_delta_log/",
         0,
         0
        ],
        [
         "dbfs:/user/hive/warehouse/flight_data_lc/part-00000-35003a93-feb8-4238-ae91-55fc60db3010-c000.snappy.parquet",
         "part-00000-35003a93-feb8-4238-ae91-55fc60db3010-c000.snappy.parquet",
         12440,
         1739043077000
        ],
        [
         "dbfs:/user/hive/warehouse/flight_data_lc/part-00000-a3501465-aab4-47e7-864f-91120a2d483d-c000.snappy.parquet",
         "part-00000-a3501465-aab4-47e7-864f-91120a2d483d-c000.snappy.parquet",
         187056247,
         1739046482000
        ],
        [
         "dbfs:/user/hive/warehouse/flight_data_lc/part-00001-e62bf7eb-1c80-41e8-b781-2fd0d0473eeb-c000.snappy.parquet",
         "part-00001-e62bf7eb-1c80-41e8-b781-2fd0d0473eeb-c000.snappy.parquet",
         191304739,
         1739046485000
        ],
        [
         "dbfs:/user/hive/warehouse/flight_data_lc/part-00002-d0b1d9ea-f793-4975-b54c-15676c11deac-c000.snappy.parquet",
         "part-00002-d0b1d9ea-f793-4975-b54c-15676c11deac-c000.snappy.parquet",
         203335420,
         1739046447000
        ],
        [
         "dbfs:/user/hive/warehouse/flight_data_lc/part-00003-84690e60-4543-4f28-82cb-da3d29c41cc6-c000.snappy.parquet",
         "part-00003-84690e60-4543-4f28-82cb-da3d29c41cc6-c000.snappy.parquet",
         196427074,
         1739046144000
        ],
        [
         "dbfs:/user/hive/warehouse/flight_data_lc/part-00004-6597fdc0-4013-4b86-9173-aeea5edc8534-c000.snappy.parquet",
         "part-00004-6597fdc0-4013-4b86-9173-aeea5edc8534-c000.snappy.parquet",
         203549418,
         1739046182000
        ],
        [
         "dbfs:/user/hive/warehouse/flight_data_lc/part-00005-3958e182-1cd6-438d-8492-3560a152dbb6-c000.snappy.parquet",
         "part-00005-3958e182-1cd6-438d-8492-3560a152dbb6-c000.snappy.parquet",
         191480142,
         1739046474000
        ],
        [
         "dbfs:/user/hive/warehouse/flight_data_lc/part-00006-0ab42d34-d1c5-4c84-aad8-80a25bf02bb2-c000.snappy.parquet",
         "part-00006-0ab42d34-d1c5-4c84-aad8-80a25bf02bb2-c000.snappy.parquet",
         204093871,
         1739046092000
        ],
        [
         "dbfs:/user/hive/warehouse/flight_data_lc/part-00007-43b256dd-1f28-43c4-8925-47b7ae280a3e-c000.snappy.parquet",
         "part-00007-43b256dd-1f28-43c4-8925-47b7ae280a3e-c000.snappy.parquet",
         203891771,
         1739046124000
        ],
        [
         "dbfs:/user/hive/warehouse/flight_data_lc/part-00008-01678cff-59af-432e-b61b-297d876d9a51-c000.snappy.parquet",
         "part-00008-01678cff-59af-432e-b61b-297d876d9a51-c000.snappy.parquet",
         204323511,
         1739046183000
        ],
        [
         "dbfs:/user/hive/warehouse/flight_data_lc/part-00009-8e78f62e-8380-43c1-a2b2-6811876df656-c000.snappy.parquet",
         "part-00009-8e78f62e-8380-43c1-a2b2-6811876df656-c000.snappy.parquet",
         195102452,
         1739046150000
        ],
        [
         "dbfs:/user/hive/warehouse/flight_data_lc/part-00010-d9e1548d-be73-41f6-9075-8e4fed65bc56-c000.snappy.parquet",
         "part-00010-d9e1548d-be73-41f6-9075-8e4fed65bc56-c000.snappy.parquet",
         203066680,
         1739046037000
        ],
        [
         "dbfs:/user/hive/warehouse/flight_data_lc/part-00011-6b527361-5ba4-4186-b632-a68ca63ab72d-c000.snappy.parquet",
         "part-00011-6b527361-5ba4-4186-b632-a68ca63ab72d-c000.snappy.parquet",
         199330246,
         1739046154000
        ]
       ],
       "datasetInfos": [],
       "dbfsResultPath": null,
       "isJsonSchema": true,
       "metadata": {
        "isDbfsCommandResult": false
       },
       "overflow": false,
       "plotOptions": {
        "customPlotOptions": {},
        "displayType": "table",
        "pivotAggregation": null,
        "pivotColumns": null,
        "xColumns": null,
        "yColumns": null
       },
       "removedWidgets": [],
       "schema": [
        {
         "metadata": "{}",
         "name": "path",
         "type": "\"string\""
        },
        {
         "metadata": "{}",
         "name": "name",
         "type": "\"string\""
        },
        {
         "metadata": "{}",
         "name": "size",
         "type": "\"long\""
        },
        {
         "metadata": "{}",
         "name": "modificationTime",
         "type": "\"long\""
        }
       ],
       "type": "table"
      }
     },
     "output_type": "display_data"
    }
   ],
   "source": [
    "%fs ls dbfs:/user/hive/warehouse/flight_data_lc"
   ]
  },
  {
   "cell_type": "markdown",
   "metadata": {
    "application/vnd.databricks.v1+cell": {
     "cellMetadata": {
      "byteLimit": 2048000,
      "rowLimit": 10000
     },
     "inputWidgets": {},
     "nuid": "af588c9a-2a7f-495c-93db-f31277b3a14b",
     "showTitle": false,
     "tableResultSettingsMap": {},
     "title": ""
    }
   },
   "source": [
    "**Removing Clustering**"
   ]
  },
  {
   "cell_type": "code",
   "execution_count": 0,
   "metadata": {
    "application/vnd.databricks.v1+cell": {
     "cellMetadata": {
      "byteLimit": 2048000,
      "rowLimit": 10000
     },
     "inputWidgets": {},
     "nuid": "eb5998ef-84fb-4900-8918-d7e8d86ef9a8",
     "showTitle": false,
     "tableResultSettingsMap": {},
     "title": ""
    }
   },
   "outputs": [
    {
     "output_type": "display_data",
     "data": {
      "text/html": [
       "<style scoped>\n",
       "  .table-result-container {\n",
       "    max-height: 300px;\n",
       "    overflow: auto;\n",
       "  }\n",
       "  table, th, td {\n",
       "    border: 1px solid black;\n",
       "    border-collapse: collapse;\n",
       "  }\n",
       "  th, td {\n",
       "    padding: 5px;\n",
       "  }\n",
       "  th {\n",
       "    text-align: left;\n",
       "  }\n",
       "</style><div class='table-result-container'><table class='table-result'><thead style='background-color: white'><tr></tr></thead><tbody></tbody></table></div>"
      ]
     },
     "metadata": {
      "application/vnd.databricks.v1+output": {
       "addedWidgets": {},
       "aggData": [],
       "aggError": "",
       "aggOverflow": false,
       "aggSchema": [],
       "aggSeriesLimitReached": false,
       "aggType": "",
       "arguments": {},
       "columnCustomDisplayInfos": {},
       "data": [],
       "datasetInfos": [],
       "dbfsResultPath": null,
       "isJsonSchema": true,
       "metadata": {
        "isDbfsCommandResult": false
       },
       "overflow": false,
       "plotOptions": {
        "customPlotOptions": {},
        "displayType": "table",
        "pivotAggregation": null,
        "pivotColumns": null,
        "xColumns": null,
        "yColumns": null
       },
       "removedWidgets": [],
       "schema": [],
       "type": "table"
      }
     },
     "output_type": "display_data"
    }
   ],
   "source": [
    "%sql\n",
    "ALTER TABLE flight_data_lc\n",
    "CLUSTER BY NONE;"
   ]
  }
 ],
 "metadata": {
  "application/vnd.databricks.v1+notebook": {
   "computePreferences": null,
   "dashboards": [],
   "environmentMetadata": {
    "base_environment": "",
    "client": "1"
   },
   "language": "python",
   "notebookMetadata": {
    "mostRecentlyExecutedCommandWithImplicitDF": {
     "commandId": 142819875671605,
     "dataframes": [
      "_sqldf"
     ]
    },
    "pythonIndentUnit": 4
   },
   "notebookName": "13 Liquid",
   "widgets": {}
  }
 },
 "nbformat": 4,
 "nbformat_minor": 0
}
