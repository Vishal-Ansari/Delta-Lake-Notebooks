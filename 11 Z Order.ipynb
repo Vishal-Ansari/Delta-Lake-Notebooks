{
 "cells": [
  {
   "cell_type": "code",
   "execution_count": 0,
   "metadata": {
    "application/vnd.databricks.v1+cell": {
     "cellMetadata": {
      "byteLimit": 2048000,
      "rowLimit": 10000
     },
     "inputWidgets": {},
     "nuid": "9d3f6555-e435-4cc7-845f-b80e154f637f",
     "showTitle": false,
     "tableResultSettingsMap": {},
     "title": ""
    }
   },
   "outputs": [],
   "source": [
    "%python\n",
    "spark.conf.set(\"spark.databricks.io.cache.enabled\",False)"
   ]
  },
  {
   "cell_type": "markdown",
   "metadata": {
    "application/vnd.databricks.v1+cell": {
     "cellMetadata": {
      "byteLimit": 2048000,
      "rowLimit": 10000
     },
     "inputWidgets": {},
     "nuid": "2094ebe1-5297-4a5d-bf15-1365b6d17b5b",
     "showTitle": false,
     "tableResultSettingsMap": {},
     "title": ""
    }
   },
   "source": [
    "Loading Data"
   ]
  },
  {
   "cell_type": "code",
   "execution_count": 0,
   "metadata": {
    "application/vnd.databricks.v1+cell": {
     "cellMetadata": {
      "byteLimit": 2048000,
      "rowLimit": 10000
     },
     "inputWidgets": {},
     "nuid": "2385ea18-987c-4dce-9520-ac008c80c87b",
     "showTitle": false,
     "tableResultSettingsMap": {},
     "title": ""
    }
   },
   "outputs": [
    {
     "output_type": "execute_result",
     "data": {
      "text/plain": [
       "True"
      ]
     },
     "execution_count": 2,
     "metadata": {},
     "output_type": "execute_result"
    }
   ],
   "source": [
    "%python\n",
    "dbutils.fs.rm(\"dbfs:/user/hive/warehouse/flight_data_z\",True)"
   ]
  },
  {
   "cell_type": "code",
   "execution_count": 0,
   "metadata": {
    "application/vnd.databricks.v1+cell": {
     "cellMetadata": {
      "byteLimit": 2048000,
      "rowLimit": 10000
     },
     "inputWidgets": {},
     "nuid": "13aeee98-dffb-4916-8fb2-694851ea9e10",
     "showTitle": false,
     "tableResultSettingsMap": {},
     "title": ""
    }
   },
   "outputs": [
    {
     "output_type": "display_data",
     "data": {
      "text/html": [
       "<style scoped>\n",
       "  .table-result-container {\n",
       "    max-height: 300px;\n",
       "    overflow: auto;\n",
       "  }\n",
       "  table, th, td {\n",
       "    border: 1px solid black;\n",
       "    border-collapse: collapse;\n",
       "  }\n",
       "  th, td {\n",
       "    padding: 5px;\n",
       "  }\n",
       "  th {\n",
       "    text-align: left;\n",
       "  }\n",
       "</style><div class='table-result-container'><table class='table-result'><thead style='background-color: white'><tr></tr></thead><tbody></tbody></table></div>"
      ]
     },
     "metadata": {
      "application/vnd.databricks.v1+output": {
       "addedWidgets": {},
       "aggData": [],
       "aggError": "",
       "aggOverflow": false,
       "aggSchema": [],
       "aggSeriesLimitReached": false,
       "aggType": "",
       "arguments": {},
       "columnCustomDisplayInfos": {},
       "data": [],
       "datasetInfos": [],
       "dbfsResultPath": null,
       "isJsonSchema": true,
       "metadata": {
        "isDbfsCommandResult": false
       },
       "overflow": false,
       "plotOptions": {
        "customPlotOptions": {},
        "displayType": "table",
        "pivotAggregation": null,
        "pivotColumns": null,
        "xColumns": null,
        "yColumns": null
       },
       "removedWidgets": [],
       "schema": [],
       "type": "table"
      }
     },
     "output_type": "display_data"
    }
   ],
   "source": [
    "%sql\n",
    "DROP TABLE IF EXISTS flight_data_z;\n",
    "CREATE TABLE flight_data_z(\n",
    "  Year INT,Month INT,DayofMonth INT,DayofWeek INT,DepTime STRING, CRSDepTime INT,ArrTime STRING,CRSArrTime INT,UniqueCarrier STRING, FlightNum INT, TailNum STRING, ActualElapsedTime STRING,CRSElapsedTime STRING,AirTime STRING,\n",
    "  ArrDelay STRING, DepDelay STRING, Origin STRING,Dest STRING,Distance INT, TaxiIn STRING,TaxiOut STRING,Cancelled INT, CancellationCode STRING, Diverted INT,CarrierDelay STRING, WeatherDelay STRING, NASDelay STRING, SecurityDelay STRING,LateAircraftDelay STRING);"
   ]
  },
  {
   "cell_type": "code",
   "execution_count": 0,
   "metadata": {
    "application/vnd.databricks.v1+cell": {
     "cellMetadata": {
      "byteLimit": 2048000,
      "rowLimit": 10000
     },
     "inputWidgets": {},
     "nuid": "93098d30-e31f-4bb2-a7f1-fcd1cbf9184b",
     "showTitle": false,
     "tableResultSettingsMap": {},
     "title": ""
    }
   },
   "outputs": [],
   "source": [
    "%python\n",
    "spark.read.csv(\"dbfs:/databricks-datasets/asa/airlines/2*.csv\",header=True,inferSchema=True)\\\n",
    "    .write.mode(\"append\").saveAsTable(\"flight_data_z\")"
   ]
  },
  {
   "cell_type": "markdown",
   "metadata": {
    "application/vnd.databricks.v1+cell": {
     "cellMetadata": {
      "byteLimit": 2048000,
      "rowLimit": 10000
     },
     "inputWidgets": {},
     "nuid": "53d662d0-6097-4672-ae2c-a11658b5dfcb",
     "showTitle": false,
     "tableResultSettingsMap": {},
     "title": ""
    }
   },
   "source": [
    "Z order by Year and Origin"
   ]
  },
  {
   "cell_type": "code",
   "execution_count": 0,
   "metadata": {
    "application/vnd.databricks.v1+cell": {
     "cellMetadata": {
      "byteLimit": 2048000,
      "rowLimit": 10000
     },
     "inputWidgets": {},
     "nuid": "3d6cbb6a-d836-4cf9-a97a-7edcee8e88e1",
     "showTitle": false,
     "tableResultSettingsMap": {},
     "title": ""
    }
   },
   "outputs": [
    {
     "output_type": "display_data",
     "data": {
      "text/html": [
       "<style scoped>\n",
       "  .table-result-container {\n",
       "    max-height: 300px;\n",
       "    overflow: auto;\n",
       "  }\n",
       "  table, th, td {\n",
       "    border: 1px solid black;\n",
       "    border-collapse: collapse;\n",
       "  }\n",
       "  th, td {\n",
       "    padding: 5px;\n",
       "  }\n",
       "  th {\n",
       "    text-align: left;\n",
       "  }\n",
       "</style><div class='table-result-container'><table class='table-result'><thead style='background-color: white'><tr><th>path</th><th>metrics</th></tr></thead><tbody><tr><td>dbfs:/user/hive/warehouse/flight_data_z</td><td>List(3, 47, List(309484081, 322596443, 3.17805019E8, 3, 953415057), List(213796, 26211765, 2.000750576595745E7, 47, 940352771), 0, List(minCubeSize(107374182400), List(0, 0), List(47, 940352771), 0, List(47, 940352771), 1, null), null, 0, 1, 47, 0, false, 0, 0, 1738829232229, 1738830046716, 8, 1, null, List(0, 0), 29, 29, 1399463, 0, null)</td></tr></tbody></table></div>"
      ]
     },
     "metadata": {
      "application/vnd.databricks.v1+output": {
       "addedWidgets": {},
       "aggData": [],
       "aggError": "",
       "aggOverflow": false,
       "aggSchema": [],
       "aggSeriesLimitReached": false,
       "aggType": "",
       "arguments": {},
       "columnCustomDisplayInfos": {},
       "data": [
        [
         "dbfs:/user/hive/warehouse/flight_data_z",
         [
          3,
          47,
          [
           309484081,
           322596443,
           3.17805019E8,
           3,
           953415057
          ],
          [
           213796,
           26211765,
           2.000750576595745E7,
           47,
           940352771
          ],
          0,
          [
           "minCubeSize(107374182400)",
           [
            0,
            0
           ],
           [
            47,
            940352771
           ],
           0,
           [
            47,
            940352771
           ],
           1,
           null
          ],
          null,
          0,
          1,
          47,
          0,
          false,
          0,
          0,
          1738829232229,
          1738830046716,
          8,
          1,
          null,
          [
           0,
           0
          ],
          29,
          29,
          1399463,
          0,
          null
         ]
        ]
       ],
       "datasetInfos": [],
       "dbfsResultPath": null,
       "isJsonSchema": true,
       "metadata": {},
       "overflow": false,
       "plotOptions": {
        "customPlotOptions": {},
        "displayType": "table",
        "pivotAggregation": null,
        "pivotColumns": null,
        "xColumns": null,
        "yColumns": null
       },
       "removedWidgets": [],
       "schema": [
        {
         "metadata": "{}",
         "name": "path",
         "type": "\"string\""
        },
        {
         "metadata": "{}",
         "name": "metrics",
         "type": "{\"type\":\"struct\",\"fields\":[{\"name\":\"numFilesAdded\",\"type\":\"long\",\"nullable\":false,\"metadata\":{}},{\"name\":\"numFilesRemoved\",\"type\":\"long\",\"nullable\":false,\"metadata\":{}},{\"name\":\"filesAdded\",\"type\":{\"type\":\"struct\",\"fields\":[{\"name\":\"min\",\"type\":\"long\",\"nullable\":true,\"metadata\":{}},{\"name\":\"max\",\"type\":\"long\",\"nullable\":true,\"metadata\":{}},{\"name\":\"avg\",\"type\":\"double\",\"nullable\":false,\"metadata\":{}},{\"name\":\"totalFiles\",\"type\":\"long\",\"nullable\":false,\"metadata\":{}},{\"name\":\"totalSize\",\"type\":\"long\",\"nullable\":false,\"metadata\":{}}]},\"nullable\":true,\"metadata\":{}},{\"name\":\"filesRemoved\",\"type\":{\"type\":\"struct\",\"fields\":[{\"name\":\"min\",\"type\":\"long\",\"nullable\":true,\"metadata\":{}},{\"name\":\"max\",\"type\":\"long\",\"nullable\":true,\"metadata\":{}},{\"name\":\"avg\",\"type\":\"double\",\"nullable\":false,\"metadata\":{}},{\"name\":\"totalFiles\",\"type\":\"long\",\"nullable\":false,\"metadata\":{}},{\"name\":\"totalSize\",\"type\":\"long\",\"nullable\":false,\"metadata\":{}}]},\"nullable\":true,\"metadata\":{}},{\"name\":\"partitionsOptimized\",\"type\":\"long\",\"nullable\":false,\"metadata\":{}},{\"name\":\"zOrderStats\",\"type\":{\"type\":\"struct\",\"fields\":[{\"name\":\"strategyName\",\"type\":\"string\",\"nullable\":true,\"metadata\":{}},{\"name\":\"inputCubeFiles\",\"type\":{\"type\":\"struct\",\"fields\":[{\"name\":\"num\",\"type\":\"long\",\"nullable\":false,\"metadata\":{}},{\"name\":\"size\",\"type\":\"long\",\"nullable\":false,\"metadata\":{}}]},\"nullable\":true,\"metadata\":{}},{\"name\":\"inputOtherFiles\",\"type\":{\"type\":\"struct\",\"fields\":[{\"name\":\"num\",\"type\":\"long\",\"nullable\":false,\"metadata\":{}},{\"name\":\"size\",\"type\":\"long\",\"nullable\":false,\"metadata\":{}}]},\"nullable\":true,\"metadata\":{}},{\"name\":\"inputNumCubes\",\"type\":\"long\",\"nullable\":false,\"metadata\":{}},{\"name\":\"mergedFiles\",\"type\":{\"type\":\"struct\",\"fields\":[{\"name\":\"num\",\"type\":\"long\",\"nullable\":false,\"metadata\":{}},{\"name\":\"size\",\"type\":\"long\",\"nullable\":false,\"metadata\":{}}]},\"nullable\":true,\"metadata\":{}},{\"name\":\"numOutputCubes\",\"type\":\"long\",\"nullable\":false,\"metadata\":{}},{\"name\":\"mergedNumCubes\",\"type\":\"long\",\"nullable\":true,\"metadata\":{}}]},\"nullable\":true,\"metadata\":{}},{\"name\":\"clusteringStats\",\"type\":{\"type\":\"struct\",\"fields\":[{\"name\":\"inputZCubeFiles\",\"type\":{\"type\":\"struct\",\"fields\":[{\"name\":\"numFiles\",\"type\":\"long\",\"nullable\":false,\"metadata\":{}},{\"name\":\"size\",\"type\":\"long\",\"nullable\":false,\"metadata\":{}}]},\"nullable\":true,\"metadata\":{}},{\"name\":\"inputOtherFiles\",\"type\":{\"type\":\"struct\",\"fields\":[{\"name\":\"numFiles\",\"type\":\"long\",\"nullable\":false,\"metadata\":{}},{\"name\":\"size\",\"type\":\"long\",\"nullable\":false,\"metadata\":{}}]},\"nullable\":true,\"metadata\":{}},{\"name\":\"inputNumZCubes\",\"type\":\"long\",\"nullable\":false,\"metadata\":{}},{\"name\":\"mergedFiles\",\"type\":{\"type\":\"struct\",\"fields\":[{\"name\":\"numFiles\",\"type\":\"long\",\"nullable\":false,\"metadata\":{}},{\"name\":\"size\",\"type\":\"long\",\"nullable\":false,\"metadata\":{}}]},\"nullable\":true,\"metadata\":{}},{\"name\":\"numOutputZCubes\",\"type\":\"long\",\"nullable\":false,\"metadata\":{}}]},\"nullable\":true,\"metadata\":{}},{\"name\":\"numBins\",\"type\":\"long\",\"nullable\":false,\"metadata\":{}},{\"name\":\"numBatches\",\"type\":\"long\",\"nullable\":false,\"metadata\":{}},{\"name\":\"totalConsideredFiles\",\"type\":\"long\",\"nullable\":false,\"metadata\":{}},{\"name\":\"totalFilesSkipped\",\"type\":\"long\",\"nullable\":false,\"metadata\":{}},{\"name\":\"preserveInsertionOrder\",\"type\":\"boolean\",\"nullable\":false,\"metadata\":{}},{\"name\":\"numFilesSkippedToReduceWriteAmplification\",\"type\":\"long\",\"nullable\":false,\"metadata\":{}},{\"name\":\"numBytesSkippedToReduceWriteAmplification\",\"type\":\"long\",\"nullable\":false,\"metadata\":{}},{\"name\":\"startTimeMs\",\"type\":\"long\",\"nullable\":false,\"metadata\":{}},{\"name\":\"endTimeMs\",\"type\":\"long\",\"nullable\":false,\"metadata\":{}},{\"name\":\"totalClusterParallelism\",\"type\":\"long\",\"nullable\":false,\"metadata\":{}},{\"name\":\"totalScheduledTasks\",\"type\":\"long\",\"nullable\":false,\"metadata\":{}},{\"name\":\"autoCompactParallelismStats\",\"type\":{\"type\":\"struct\",\"fields\":[{\"name\":\"maxClusterActiveParallelism\",\"type\":\"long\",\"nullable\":true,\"metadata\":{}},{\"name\":\"minClusterActiveParallelism\",\"type\":\"long\",\"nullable\":true,\"metadata\":{}},{\"name\":\"maxSessionActiveParallelism\",\"type\":\"long\",\"nullable\":true,\"metadata\":{}},{\"name\":\"minSessionActiveParallelism\",\"type\":\"long\",\"nullable\":true,\"metadata\":{}}]},\"nullable\":true,\"metadata\":{}},{\"name\":\"deletionVectorStats\",\"type\":{\"type\":\"struct\",\"fields\":[{\"name\":\"numDeletionVectorsRemoved\",\"type\":\"long\",\"nullable\":false,\"metadata\":{}},{\"name\":\"numDeletionVectorRowsRemoved\",\"type\":\"long\",\"nullable\":false,\"metadata\":{}}]},\"nullable\":true,\"metadata\":{}},{\"name\":\"numTableColumns\",\"type\":\"long\",\"nullable\":false,\"metadata\":{}},{\"name\":\"numTableColumnsWithStats\",\"type\":\"long\",\"nullable\":false,\"metadata\":{}},{\"name\":\"totalTaskExecutionTimeMs\",\"type\":\"long\",\"nullable\":false,\"metadata\":{}},{\"name\":\"skippedArchivedFiles\",\"type\":\"long\",\"nullable\":false,\"metadata\":{}},{\"name\":\"clusteringMetrics\",\"type\":{\"type\":\"struct\",\"fields\":[{\"name\":\"sizeOfTableInBytesBeforeLazyClustering\",\"type\":\"long\",\"nullable\":false,\"metadata\":{}},{\"name\":\"isNewMetadataCreated\",\"type\":\"boolean\",\"nullable\":false,\"metadata\":{}},{\"name\":\"isPOTriggered\",\"type\":\"boolean\",\"nullable\":false,\"metadata\":{}},{\"name\":\"numFilesSkippedWithoutStats\",\"type\":\"long\",\"nullable\":false,\"metadata\":{}},{\"name\":\"numFilesClassifiedToIntermediateNodes\",\"type\":\"long\",\"nullable\":false,\"metadata\":{}},{\"name\":\"sizeOfFilesClassifiedToIntermediateNodesInBytes\",\"type\":\"long\",\"nullable\":false,\"metadata\":{}},{\"name\":\"logicalSizeOfFilesClassifiedToIntermediateNodesInBytes\",\"type\":\"long\",\"nullable\":false,\"metadata\":{}},{\"name\":\"numFilesClassifiedToLeafNodes\",\"type\":\"long\",\"nullable\":false,\"metadata\":{}},{\"name\":\"sizeOfFilesClassifiedToLeafNodesInBytes\",\"type\":\"long\",\"nullable\":false,\"metadata\":{}},{\"name\":\"logicalSizeOfFilesClassifiedToLeafNodesInBytes\",\"type\":\"long\",\"nullable\":false,\"metadata\":{}},{\"name\":\"numThreadsForClassifier\",\"type\":\"integer\",\"nullable\":true,\"metadata\":{}},{\"name\":\"clusterThresholdStrategy\",\"type\":\"string\",\"nullable\":true,\"metadata\":{}},{\"name\":\"minFileSize\",\"type\":\"long\",\"nullable\":false,\"metadata\":{}},{\"name\":\"maxFileSize\",\"type\":\"long\",\"nullable\":false,\"metadata\":{}},{\"name\":\"nodeMinNumFilesToCompact\",\"type\":\"long\",\"nullable\":false,\"metadata\":{}},{\"name\":\"numIdealFiles\",\"type\":\"long\",\"nullable\":false,\"metadata\":{}},{\"name\":\"numClusteringTasksPlanned\",\"type\":\"integer\",\"nullable\":false,\"metadata\":{}},{\"name\":\"numCompactionTasksPlanned\",\"type\":\"integer\",\"nullable\":false,\"metadata\":{}},{\"name\":\"numOptimizeBatchesPlanned\",\"type\":\"integer\",\"nullable\":false,\"metadata\":{}},{\"name\":\"numLeafNodesExpanded\",\"type\":\"long\",\"nullable\":false,\"metadata\":{}},{\"name\":\"numLeafNodesClustered\",\"type\":\"long\",\"nullable\":false,\"metadata\":{}},{\"name\":\"numGetFilesForNodeCalls\",\"type\":\"long\",\"nullable\":false,\"metadata\":{}},{\"name\":\"numSamplingJobs\",\"type\":\"long\",\"nullable\":false,\"metadata\":{}},{\"name\":\"numLeafNodesCompacted\",\"type\":\"long\",\"nullable\":false,\"metadata\":{}},{\"name\":\"numIntermediateNodesCompacted\",\"type\":\"long\",\"nullable\":false,\"metadata\":{}},{\"name\":\"totalSizeOfDataToCompactInBytes\",\"type\":\"long\",\"nullable\":false,\"metadata\":{}},{\"name\":\"totalLogicalSizeOfDataToCompactInBytes\",\"type\":\"long\",\"nullable\":false,\"metadata\":{}},{\"name\":\"numIntermediateNodesClustered\",\"type\":\"long\",\"nullable\":false,\"metadata\":{}},{\"name\":\"numFilesSkippedAfterExpansion\",\"type\":\"long\",\"nullable\":false,\"metadata\":{}},{\"name\":\"totalSizeOfFilesSkippedAfterExpansionInBytes\",\"type\":\"long\",\"nullable\":false,\"metadata\":{}},{\"name\":\"totalLogicalSizeOfFilesSkippedAfterExpansionInBytes\",\"type\":\"long\",\"nullable\":false,\"metadata\":{}},{\"name\":\"totalSizeOfDataToRewriteInBytes\",\"type\":\"long\",\"nullable\":false,\"metadata\":{}},{\"name\":\"totalLogicalSizeOfDataToRewriteInBytes\",\"type\":\"long\",\"nullable\":false,\"metadata\":{}},{\"name\":\"timeMetrics\",\"type\":{\"type\":\"struct\",\"fields\":[{\"name\":\"classifierTimeMs\",\"type\":\"long\",\"nullable\":false,\"metadata\":{}},{\"name\":\"optimizerTimeMs\",\"type\":\"long\",\"nullable\":false,\"metadata\":{}},{\"name\":\"metadataLoadTimeMs\",\"type\":\"long\",\"nullable\":false,\"metadata\":{}},{\"name\":\"totalGetFilesForNodeCallsTimeMs\",\"type\":\"long\",\"nullable\":false,\"metadata\":{}},{\"name\":\"totalSamplingTimeMs\",\"type\":\"long\",\"nullable\":false,\"metadata\":{}},{\"name\":\"metadataCreationTimeMs\",\"type\":\"long\",\"nullable\":false,\"metadata\":{}}]},\"nullable\":true,\"metadata\":{}},{\"name\":\"maxOptimizeBatchesInParallel\",\"type\":\"long\",\"nullable\":false,\"metadata\":{}},{\"name\":\"currentIteration\",\"type\":\"integer\",\"nullable\":false,\"metadata\":{}},{\"name\":\"maxIterations\",\"type\":\"integer\",\"nullable\":false,\"metadata\":{}},{\"name\":\"clusteringStrategy\",\"type\":\"string\",\"nullable\":true,\"metadata\":{}}]},\"nullable\":true,\"metadata\":{}}]}"
        }
       ],
       "type": "table"
      }
     },
     "output_type": "display_data"
    }
   ],
   "source": [
    "%sql\n",
    "OPTIMIZE flight_data_z\n",
    "ZORDER BY (Year,Origin) \n",
    "-- takes times , its a expensive operation"
   ]
  },
  {
   "cell_type": "code",
   "execution_count": 0,
   "metadata": {
    "application/vnd.databricks.v1+cell": {
     "cellMetadata": {
      "byteLimit": 2048000,
      "rowLimit": 10000
     },
     "inputWidgets": {},
     "nuid": "6d3b01cf-f1c6-494c-9a91-ee81cfe1552e",
     "showTitle": false,
     "tableResultSettingsMap": {},
     "title": ""
    }
   },
   "outputs": [
    {
     "output_type": "display_data",
     "data": {
      "text/html": [
       "<style scoped>\n",
       "  .table-result-container {\n",
       "    max-height: 300px;\n",
       "    overflow: auto;\n",
       "  }\n",
       "  table, th, td {\n",
       "    border: 1px solid black;\n",
       "    border-collapse: collapse;\n",
       "  }\n",
       "  th, td {\n",
       "    padding: 5px;\n",
       "  }\n",
       "  th {\n",
       "    text-align: left;\n",
       "  }\n",
       "</style><div class='table-result-container'><table class='table-result'><thead style='background-color: white'><tr><th>format</th><th>id</th><th>name</th><th>description</th><th>location</th><th>createdAt</th><th>lastModified</th><th>partitionColumns</th><th>clusteringColumns</th><th>numFiles</th><th>sizeInBytes</th><th>properties</th><th>minReaderVersion</th><th>minWriterVersion</th><th>tableFeatures</th><th>statistics</th></tr></thead><tbody><tr><td>delta</td><td>c86147f8-a8df-48b7-9502-99a385cd7934</td><td>spark_catalog.default.flight_data_z</td><td>null</td><td>dbfs:/user/hive/warehouse/flight_data_z</td><td>2025-02-06T07:49:47.279Z</td><td>2025-02-06T08:20:44Z</td><td>List()</td><td>List()</td><td>3</td><td>953415057</td><td>Map()</td><td>1</td><td>2</td><td>List(appendOnly, invariants)</td><td>Map()</td></tr></tbody></table></div>"
      ]
     },
     "metadata": {
      "application/vnd.databricks.v1+output": {
       "addedWidgets": {},
       "aggData": [],
       "aggError": "",
       "aggOverflow": false,
       "aggSchema": [],
       "aggSeriesLimitReached": false,
       "aggType": "",
       "arguments": {},
       "columnCustomDisplayInfos": {},
       "data": [
        [
         "delta",
         "c86147f8-a8df-48b7-9502-99a385cd7934",
         "spark_catalog.default.flight_data_z",
         null,
         "dbfs:/user/hive/warehouse/flight_data_z",
         "2025-02-06T07:49:47.279Z",
         "2025-02-06T08:20:44Z",
         [],
         [],
         3,
         953415057,
         {},
         1,
         2,
         [
          "appendOnly",
          "invariants"
         ],
         {}
        ]
       ],
       "datasetInfos": [],
       "dbfsResultPath": null,
       "isJsonSchema": true,
       "metadata": {
        "isDbfsCommandResult": false
       },
       "overflow": false,
       "plotOptions": {
        "customPlotOptions": {},
        "displayType": "table",
        "pivotAggregation": null,
        "pivotColumns": null,
        "xColumns": null,
        "yColumns": null
       },
       "removedWidgets": [],
       "schema": [
        {
         "metadata": "{}",
         "name": "format",
         "type": "\"string\""
        },
        {
         "metadata": "{}",
         "name": "id",
         "type": "\"string\""
        },
        {
         "metadata": "{}",
         "name": "name",
         "type": "\"string\""
        },
        {
         "metadata": "{}",
         "name": "description",
         "type": "\"string\""
        },
        {
         "metadata": "{}",
         "name": "location",
         "type": "\"string\""
        },
        {
         "metadata": "{}",
         "name": "createdAt",
         "type": "\"timestamp\""
        },
        {
         "metadata": "{}",
         "name": "lastModified",
         "type": "\"timestamp\""
        },
        {
         "metadata": "{}",
         "name": "partitionColumns",
         "type": "{\"type\":\"array\",\"elementType\":\"string\",\"containsNull\":true}"
        },
        {
         "metadata": "{}",
         "name": "clusteringColumns",
         "type": "{\"type\":\"array\",\"elementType\":\"string\",\"containsNull\":true}"
        },
        {
         "metadata": "{}",
         "name": "numFiles",
         "type": "\"long\""
        },
        {
         "metadata": "{}",
         "name": "sizeInBytes",
         "type": "\"long\""
        },
        {
         "metadata": "{}",
         "name": "properties",
         "type": "{\"type\":\"map\",\"keyType\":\"string\",\"valueType\":\"string\",\"valueContainsNull\":true}"
        },
        {
         "metadata": "{}",
         "name": "minReaderVersion",
         "type": "\"integer\""
        },
        {
         "metadata": "{}",
         "name": "minWriterVersion",
         "type": "\"integer\""
        },
        {
         "metadata": "{}",
         "name": "tableFeatures",
         "type": "{\"type\":\"array\",\"elementType\":\"string\",\"containsNull\":true}"
        },
        {
         "metadata": "{}",
         "name": "statistics",
         "type": "{\"type\":\"map\",\"keyType\":\"string\",\"valueType\":\"long\",\"valueContainsNull\":true}"
        }
       ],
       "type": "table"
      }
     },
     "output_type": "display_data"
    }
   ],
   "source": [
    "%sql\n",
    "DESC DETAIL flight_data_z"
   ]
  },
  {
   "cell_type": "code",
   "execution_count": 0,
   "metadata": {
    "application/vnd.databricks.v1+cell": {
     "cellMetadata": {
      "byteLimit": 2048000,
      "rowLimit": 10000
     },
     "inputWidgets": {},
     "nuid": "6c52c5ee-9f08-45b4-ad89-73497d443913",
     "showTitle": false,
     "tableResultSettingsMap": {},
     "title": ""
    }
   },
   "outputs": [
    {
     "output_type": "display_data",
     "data": {
      "text/html": [
       "<style scoped>\n",
       "  .table-result-container {\n",
       "    max-height: 300px;\n",
       "    overflow: auto;\n",
       "  }\n",
       "  table, th, td {\n",
       "    border: 1px solid black;\n",
       "    border-collapse: collapse;\n",
       "  }\n",
       "  th, td {\n",
       "    padding: 5px;\n",
       "  }\n",
       "  th {\n",
       "    text-align: left;\n",
       "  }\n",
       "</style><div class='table-result-container'><table class='table-result'><thead style='background-color: white'><tr><th>version</th><th>timestamp</th><th>userId</th><th>userName</th><th>operation</th><th>operationParameters</th><th>job</th><th>notebook</th><th>clusterId</th><th>readVersion</th><th>isolationLevel</th><th>isBlindAppend</th><th>operationMetrics</th><th>userMetadata</th><th>engineInfo</th></tr></thead><tbody><tr><td>2</td><td>2025-02-06T08:20:44Z</td><td>5755764547042441</td><td>inaya998877@gmail.com</td><td>OPTIMIZE</td><td>Map(predicate -> [], auto -> false, clusterBy -> [], zOrderBy -> [\"Year\",\"Origin\"], batchId -> 0)</td><td>null</td><td>List(4081512079520275)</td><td>0206-074511-wna9kc41</td><td>1</td><td>SnapshotIsolation</td><td>false</td><td>Map(numRemovedFiles -> 47, numRemovedBytes -> 940352771, p25FileSize -> 309484081, numDeletionVectorsRemoved -> 0, minFileSize -> 309484081, numAddedFiles -> 3, maxFileSize -> 322596443, p75FileSize -> 322596443, p50FileSize -> 321334533, numAddedBytes -> 953415057)</td><td>null</td><td>Databricks-Runtime/15.4.x-scala2.12</td></tr><tr><td>1</td><td>2025-02-06T08:07:07Z</td><td>5755764547042441</td><td>inaya998877@gmail.com</td><td>WRITE</td><td>Map(mode -> Append, statsOnLoad -> false, partitionBy -> [])</td><td>null</td><td>List(4081512079520275)</td><td>0206-074511-wna9kc41</td><td>0</td><td>WriteSerializable</td><td>true</td><td>Map(numFiles -> 47, numOutputRows -> 59285457, numOutputBytes -> 940352771)</td><td>null</td><td>Databricks-Runtime/15.4.x-scala2.12</td></tr><tr><td>0</td><td>2025-02-06T07:49:49Z</td><td>5755764547042441</td><td>inaya998877@gmail.com</td><td>CREATE TABLE</td><td>Map(partitionBy -> [], clusterBy -> [], description -> null, isManaged -> true, properties -> {}, statsOnLoad -> false)</td><td>null</td><td>List(4081512079520275)</td><td>0206-074511-wna9kc41</td><td>null</td><td>WriteSerializable</td><td>true</td><td>Map()</td><td>null</td><td>Databricks-Runtime/15.4.x-scala2.12</td></tr></tbody></table></div>"
      ]
     },
     "metadata": {
      "application/vnd.databricks.v1+output": {
       "addedWidgets": {},
       "aggData": [],
       "aggError": "",
       "aggOverflow": false,
       "aggSchema": [],
       "aggSeriesLimitReached": false,
       "aggType": "",
       "arguments": {},
       "columnCustomDisplayInfos": {},
       "data": [
        [
         2,
         "2025-02-06T08:20:44Z",
         "5755764547042441",
         "inaya998877@gmail.com",
         "OPTIMIZE",
         {
          "auto": "false",
          "batchId": "0",
          "clusterBy": "[]",
          "predicate": "[]",
          "zOrderBy": "[\"Year\",\"Origin\"]"
         },
         null,
         [
          "4081512079520275"
         ],
         "0206-074511-wna9kc41",
         1,
         "SnapshotIsolation",
         false,
         {
          "maxFileSize": "322596443",
          "minFileSize": "309484081",
          "numAddedBytes": "953415057",
          "numAddedFiles": "3",
          "numDeletionVectorsRemoved": "0",
          "numRemovedBytes": "940352771",
          "numRemovedFiles": "47",
          "p25FileSize": "309484081",
          "p50FileSize": "321334533",
          "p75FileSize": "322596443"
         },
         null,
         "Databricks-Runtime/15.4.x-scala2.12"
        ],
        [
         1,
         "2025-02-06T08:07:07Z",
         "5755764547042441",
         "inaya998877@gmail.com",
         "WRITE",
         {
          "mode": "Append",
          "partitionBy": "[]",
          "statsOnLoad": "false"
         },
         null,
         [
          "4081512079520275"
         ],
         "0206-074511-wna9kc41",
         0,
         "WriteSerializable",
         true,
         {
          "numFiles": "47",
          "numOutputBytes": "940352771",
          "numOutputRows": "59285457"
         },
         null,
         "Databricks-Runtime/15.4.x-scala2.12"
        ],
        [
         0,
         "2025-02-06T07:49:49Z",
         "5755764547042441",
         "inaya998877@gmail.com",
         "CREATE TABLE",
         {
          "clusterBy": "[]",
          "description": null,
          "isManaged": "true",
          "partitionBy": "[]",
          "properties": "{}",
          "statsOnLoad": "false"
         },
         null,
         [
          "4081512079520275"
         ],
         "0206-074511-wna9kc41",
         null,
         "WriteSerializable",
         true,
         {},
         null,
         "Databricks-Runtime/15.4.x-scala2.12"
        ]
       ],
       "datasetInfos": [],
       "dbfsResultPath": null,
       "isJsonSchema": true,
       "metadata": {
        "isDbfsCommandResult": false
       },
       "overflow": false,
       "plotOptions": {
        "customPlotOptions": {},
        "displayType": "table",
        "pivotAggregation": null,
        "pivotColumns": null,
        "xColumns": null,
        "yColumns": null
       },
       "removedWidgets": [],
       "schema": [
        {
         "metadata": "{}",
         "name": "version",
         "type": "\"long\""
        },
        {
         "metadata": "{}",
         "name": "timestamp",
         "type": "\"timestamp\""
        },
        {
         "metadata": "{}",
         "name": "userId",
         "type": "\"string\""
        },
        {
         "metadata": "{}",
         "name": "userName",
         "type": "\"string\""
        },
        {
         "metadata": "{}",
         "name": "operation",
         "type": "\"string\""
        },
        {
         "metadata": "{}",
         "name": "operationParameters",
         "type": "{\"type\":\"map\",\"keyType\":\"string\",\"valueType\":\"string\",\"valueContainsNull\":true}"
        },
        {
         "metadata": "{}",
         "name": "job",
         "type": "{\"type\":\"struct\",\"fields\":[{\"name\":\"jobId\",\"type\":\"string\",\"nullable\":true,\"metadata\":{}},{\"name\":\"jobName\",\"type\":\"string\",\"nullable\":true,\"metadata\":{}},{\"name\":\"jobRunId\",\"type\":\"string\",\"nullable\":true,\"metadata\":{}},{\"name\":\"runId\",\"type\":\"string\",\"nullable\":true,\"metadata\":{}},{\"name\":\"jobOwnerId\",\"type\":\"string\",\"nullable\":true,\"metadata\":{}},{\"name\":\"triggerType\",\"type\":\"string\",\"nullable\":true,\"metadata\":{}}]}"
        },
        {
         "metadata": "{}",
         "name": "notebook",
         "type": "{\"type\":\"struct\",\"fields\":[{\"name\":\"notebookId\",\"type\":\"string\",\"nullable\":true,\"metadata\":{}}]}"
        },
        {
         "metadata": "{}",
         "name": "clusterId",
         "type": "\"string\""
        },
        {
         "metadata": "{}",
         "name": "readVersion",
         "type": "\"long\""
        },
        {
         "metadata": "{}",
         "name": "isolationLevel",
         "type": "\"string\""
        },
        {
         "metadata": "{}",
         "name": "isBlindAppend",
         "type": "\"boolean\""
        },
        {
         "metadata": "{}",
         "name": "operationMetrics",
         "type": "{\"type\":\"map\",\"keyType\":\"string\",\"valueType\":\"string\",\"valueContainsNull\":true}"
        },
        {
         "metadata": "{}",
         "name": "userMetadata",
         "type": "\"string\""
        },
        {
         "metadata": "{}",
         "name": "engineInfo",
         "type": "\"string\""
        }
       ],
       "type": "table"
      }
     },
     "output_type": "display_data"
    }
   ],
   "source": [
    "%sql\n",
    "DESCRIBE HISTORY flight_data_z"
   ]
  },
  {
   "cell_type": "code",
   "execution_count": 0,
   "metadata": {
    "application/vnd.databricks.v1+cell": {
     "cellMetadata": {
      "byteLimit": 2048000,
      "rowLimit": 10000
     },
     "inputWidgets": {},
     "nuid": "220557fc-5262-448c-8406-0f4b37316db2",
     "showTitle": false,
     "tableResultSettingsMap": {},
     "title": ""
    }
   },
   "outputs": [
    {
     "output_type": "display_data",
     "data": {
      "text/html": [
       "<style scoped>\n",
       "  .table-result-container {\n",
       "    max-height: 300px;\n",
       "    overflow: auto;\n",
       "  }\n",
       "  table, th, td {\n",
       "    border: 1px solid black;\n",
       "    border-collapse: collapse;\n",
       "  }\n",
       "  th, td {\n",
       "    padding: 5px;\n",
       "  }\n",
       "  th {\n",
       "    text-align: left;\n",
       "  }\n",
       "</style><div class='table-result-container'><table class='table-result'><thead style='background-color: white'><tr><th>path</th></tr></thead><tbody><tr><td>dbfs:/user/hive/warehouse/flight_data_z</td></tr></tbody></table></div>"
      ]
     },
     "metadata": {
      "application/vnd.databricks.v1+output": {
       "addedWidgets": {},
       "aggData": [],
       "aggError": "",
       "aggOverflow": false,
       "aggSchema": [],
       "aggSeriesLimitReached": false,
       "aggType": "",
       "arguments": {},
       "columnCustomDisplayInfos": {},
       "data": [
        [
         "dbfs:/user/hive/warehouse/flight_data_z"
        ]
       ],
       "datasetInfos": [],
       "dbfsResultPath": null,
       "isJsonSchema": true,
       "metadata": {
        "isDbfsCommandResult": false
       },
       "overflow": false,
       "plotOptions": {
        "customPlotOptions": {},
        "displayType": "table",
        "pivotAggregation": null,
        "pivotColumns": null,
        "xColumns": null,
        "yColumns": null
       },
       "removedWidgets": [],
       "schema": [
        {
         "metadata": "{}",
         "name": "path",
         "type": "\"string\""
        }
       ],
       "type": "table"
      }
     },
     "output_type": "display_data"
    }
   ],
   "source": [
    "%sql\n",
    "SET spark.databricks.delta.retentionDurationCheck.enabled=false;\n",
    "VACUUM flight_data_z RETAIN 0 HOURS;"
   ]
  },
  {
   "cell_type": "code",
   "execution_count": 0,
   "metadata": {
    "application/vnd.databricks.v1+cell": {
     "cellMetadata": {
      "byteLimit": 2048000,
      "rowLimit": 10000
     },
     "inputWidgets": {},
     "nuid": "4fa76543-51ba-4e0d-b4f0-b97a4682cb0f",
     "showTitle": false,
     "tableResultSettingsMap": {},
     "title": ""
    }
   },
   "outputs": [
    {
     "output_type": "display_data",
     "data": {
      "text/html": [
       "<style scoped>\n",
       "  .table-result-container {\n",
       "    max-height: 300px;\n",
       "    overflow: auto;\n",
       "  }\n",
       "  table, th, td {\n",
       "    border: 1px solid black;\n",
       "    border-collapse: collapse;\n",
       "  }\n",
       "  th, td {\n",
       "    padding: 5px;\n",
       "  }\n",
       "  th {\n",
       "    text-align: left;\n",
       "  }\n",
       "</style><div class='table-result-container'><table class='table-result'><thead style='background-color: white'><tr><th>path</th><th>name</th><th>size</th><th>modificationTime</th></tr></thead><tbody><tr><td>dbfs:/user/hive/warehouse/flight_data_z/_delta_log/</td><td>_delta_log/</td><td>0</td><td>0</td></tr><tr><td>dbfs:/user/hive/warehouse/flight_data_z/part-00000-eaba37fb-967c-4a82-928b-8f86364eb0ff-c000.snappy.parquet</td><td>part-00000-eaba37fb-967c-4a82-928b-8f86364eb0ff-c000.snappy.parquet</td><td>322596443</td><td>1738830029000</td></tr><tr><td>dbfs:/user/hive/warehouse/flight_data_z/part-00001-3456dff5-858f-462c-af0d-d8a35ee04c43-c000.snappy.parquet</td><td>part-00001-3456dff5-858f-462c-af0d-d8a35ee04c43-c000.snappy.parquet</td><td>321334533</td><td>1738830041000</td></tr><tr><td>dbfs:/user/hive/warehouse/flight_data_z/part-00002-d9fb0979-78b0-4430-8c36-12f91e886e36-c000.snappy.parquet</td><td>part-00002-d9fb0979-78b0-4430-8c36-12f91e886e36-c000.snappy.parquet</td><td>309484081</td><td>1738830036000</td></tr></tbody></table></div>"
      ]
     },
     "metadata": {
      "application/vnd.databricks.v1+output": {
       "addedWidgets": {},
       "aggData": [],
       "aggError": "",
       "aggOverflow": false,
       "aggSchema": [],
       "aggSeriesLimitReached": false,
       "aggType": "",
       "arguments": {},
       "columnCustomDisplayInfos": {},
       "data": [
        [
         "dbfs:/user/hive/warehouse/flight_data_z/_delta_log/",
         "_delta_log/",
         0,
         0
        ],
        [
         "dbfs:/user/hive/warehouse/flight_data_z/part-00000-eaba37fb-967c-4a82-928b-8f86364eb0ff-c000.snappy.parquet",
         "part-00000-eaba37fb-967c-4a82-928b-8f86364eb0ff-c000.snappy.parquet",
         322596443,
         1738830029000
        ],
        [
         "dbfs:/user/hive/warehouse/flight_data_z/part-00001-3456dff5-858f-462c-af0d-d8a35ee04c43-c000.snappy.parquet",
         "part-00001-3456dff5-858f-462c-af0d-d8a35ee04c43-c000.snappy.parquet",
         321334533,
         1738830041000
        ],
        [
         "dbfs:/user/hive/warehouse/flight_data_z/part-00002-d9fb0979-78b0-4430-8c36-12f91e886e36-c000.snappy.parquet",
         "part-00002-d9fb0979-78b0-4430-8c36-12f91e886e36-c000.snappy.parquet",
         309484081,
         1738830036000
        ]
       ],
       "datasetInfos": [],
       "dbfsResultPath": null,
       "isJsonSchema": true,
       "metadata": {
        "isDbfsCommandResult": false
       },
       "overflow": false,
       "plotOptions": {
        "customPlotOptions": {},
        "displayType": "table",
        "pivotAggregation": null,
        "pivotColumns": null,
        "xColumns": null,
        "yColumns": null
       },
       "removedWidgets": [],
       "schema": [
        {
         "metadata": "{}",
         "name": "path",
         "type": "\"string\""
        },
        {
         "metadata": "{}",
         "name": "name",
         "type": "\"string\""
        },
        {
         "metadata": "{}",
         "name": "size",
         "type": "\"long\""
        },
        {
         "metadata": "{}",
         "name": "modificationTime",
         "type": "\"long\""
        }
       ],
       "type": "table"
      }
     },
     "output_type": "display_data"
    }
   ],
   "source": [
    "%fs ls dbfs:/user/hive/warehouse/flight_data_z"
   ]
  },
  {
   "cell_type": "code",
   "execution_count": 0,
   "metadata": {
    "application/vnd.databricks.v1+cell": {
     "cellMetadata": {
      "byteLimit": 2048000,
      "rowLimit": 10000
     },
     "inputWidgets": {},
     "nuid": "8db70779-b3e4-4d8a-b295-78598f7ac0b3",
     "showTitle": false,
     "tableResultSettingsMap": {},
     "title": ""
    }
   },
   "outputs": [
    {
     "output_type": "display_data",
     "data": {
      "text/html": [
       "<style scoped>\n",
       "  .table-result-container {\n",
       "    max-height: 300px;\n",
       "    overflow: auto;\n",
       "  }\n",
       "  table, th, td {\n",
       "    border: 1px solid black;\n",
       "    border-collapse: collapse;\n",
       "  }\n",
       "  th, td {\n",
       "    padding: 5px;\n",
       "  }\n",
       "  th {\n",
       "    text-align: left;\n",
       "  }\n",
       "</style><div class='table-result-container'><table class='table-result'><thead style='background-color: white'><tr><th>path</th><th>name</th><th>size</th><th>modificationTime</th></tr></thead><tbody><tr><td>dbfs:/user/hive/warehouse/flight_data_z/_delta_log/00000000000000000000.crc</td><td>00000000000000000000.crc</td><td>4136</td><td>1738828207000</td></tr><tr><td>dbfs:/user/hive/warehouse/flight_data_z/_delta_log/00000000000000000000.json</td><td>00000000000000000000.json</td><td>3159</td><td>1738828189000</td></tr><tr><td>dbfs:/user/hive/warehouse/flight_data_z/_delta_log/00000000000000000001.crc</td><td>00000000000000000001.crc</td><td>100646</td><td>1738829231000</td></tr><tr><td>dbfs:/user/hive/warehouse/flight_data_z/_delta_log/00000000000000000001.json</td><td>00000000000000000001.json</td><td>97391</td><td>1738829227000</td></tr><tr><td>dbfs:/user/hive/warehouse/flight_data_z/_delta_log/00000000000000000002.crc</td><td>00000000000000000002.crc</td><td>10725</td><td>1738830047000</td></tr><tr><td>dbfs:/user/hive/warehouse/flight_data_z/_delta_log/00000000000000000002.json</td><td>00000000000000000002.json</td><td>26351</td><td>1738830044000</td></tr><tr><td>dbfs:/user/hive/warehouse/flight_data_z/_delta_log/_commits/</td><td>_commits/</td><td>0</td><td>0</td></tr></tbody></table></div>"
      ]
     },
     "metadata": {
      "application/vnd.databricks.v1+output": {
       "addedWidgets": {},
       "aggData": [],
       "aggError": "",
       "aggOverflow": false,
       "aggSchema": [],
       "aggSeriesLimitReached": false,
       "aggType": "",
       "arguments": {},
       "columnCustomDisplayInfos": {},
       "data": [
        [
         "dbfs:/user/hive/warehouse/flight_data_z/_delta_log/00000000000000000000.crc",
         "00000000000000000000.crc",
         4136,
         1738828207000
        ],
        [
         "dbfs:/user/hive/warehouse/flight_data_z/_delta_log/00000000000000000000.json",
         "00000000000000000000.json",
         3159,
         1738828189000
        ],
        [
         "dbfs:/user/hive/warehouse/flight_data_z/_delta_log/00000000000000000001.crc",
         "00000000000000000001.crc",
         100646,
         1738829231000
        ],
        [
         "dbfs:/user/hive/warehouse/flight_data_z/_delta_log/00000000000000000001.json",
         "00000000000000000001.json",
         97391,
         1738829227000
        ],
        [
         "dbfs:/user/hive/warehouse/flight_data_z/_delta_log/00000000000000000002.crc",
         "00000000000000000002.crc",
         10725,
         1738830047000
        ],
        [
         "dbfs:/user/hive/warehouse/flight_data_z/_delta_log/00000000000000000002.json",
         "00000000000000000002.json",
         26351,
         1738830044000
        ],
        [
         "dbfs:/user/hive/warehouse/flight_data_z/_delta_log/_commits/",
         "_commits/",
         0,
         0
        ]
       ],
       "datasetInfos": [],
       "dbfsResultPath": null,
       "isJsonSchema": true,
       "metadata": {
        "isDbfsCommandResult": false
       },
       "overflow": false,
       "plotOptions": {
        "customPlotOptions": {},
        "displayType": "table",
        "pivotAggregation": null,
        "pivotColumns": null,
        "xColumns": null,
        "yColumns": null
       },
       "removedWidgets": [],
       "schema": [
        {
         "metadata": "{}",
         "name": "path",
         "type": "\"string\""
        },
        {
         "metadata": "{}",
         "name": "name",
         "type": "\"string\""
        },
        {
         "metadata": "{}",
         "name": "size",
         "type": "\"long\""
        },
        {
         "metadata": "{}",
         "name": "modificationTime",
         "type": "\"long\""
        }
       ],
       "type": "table"
      }
     },
     "output_type": "display_data"
    }
   ],
   "source": [
    "%fs ls dbfs:/user/hive/warehouse/flight_data_z/_delta_log"
   ]
  },
  {
   "cell_type": "code",
   "execution_count": 0,
   "metadata": {
    "application/vnd.databricks.v1+cell": {
     "cellMetadata": {
      "byteLimit": 2048000,
      "rowLimit": 10000
     },
     "inputWidgets": {},
     "nuid": "2c1abd36-c6f9-458c-887a-0c7759351d56",
     "showTitle": false,
     "tableResultSettingsMap": {},
     "title": ""
    }
   },
   "outputs": [
    {
     "output_type": "display_data",
     "data": {
      "text/html": [
       "<style scoped>\n",
       "  .table-result-container {\n",
       "    max-height: 300px;\n",
       "    overflow: auto;\n",
       "  }\n",
       "  table, th, td {\n",
       "    border: 1px solid black;\n",
       "    border-collapse: collapse;\n",
       "  }\n",
       "  th, td {\n",
       "    padding: 5px;\n",
       "  }\n",
       "  th {\n",
       "    text-align: left;\n",
       "  }\n",
       "</style><div class='table-result-container'><table class='table-result'><thead style='background-color: white'><tr><th>add</th><th>commitInfo</th><th>remove</th></tr></thead><tbody><tr><td>null</td><td>List(0206-074511-wna9kc41, Databricks-Runtime/15.4.x-scala2.12, false, SnapshotIsolation, List(4081512079520275), OPTIMIZE, List(322596443, 309484081, 953415057, 3, 0, 940352771, 47, 309484081, 321334533, 322596443), List(false, 0, [], [], [\"Year\",\"Origin\"]), 1, List(false), 1738830043157, 57837a43-e2d6-4922-a40e-467125e85c5a, 5755764547042441, inaya998877@gmail.com)</td><td>null</td></tr><tr><td>null</td><td>null</td><td>List(false, 1738829236392, true, part-00000-0ca1daff-eb28-4d7e-9bd3-a360407adbee-c000.snappy.parquet, 16372673, {\"numRecords\":1341343}, List(1738828509000000, 1738828509000000, 1738828509000000, 268435456))</td></tr><tr><td>null</td><td>null</td><td>List(false, 1738829236392, true, part-00001-240819c0-9c71-46c2-8601-b57b4abfbf6b-c000.snappy.parquet, 16604637, {\"numRecords\":1341441}, List(1738828509000001, 1738828509000001, 1738828509000001, 268435456))</td></tr><tr><td>null</td><td>null</td><td>List(false, 1738829236392, true, part-00002-e0b48976-9650-4467-8879-b2add0e7aff0-c000.snappy.parquet, 16365219, {\"numRecords\":1341457}, List(1738828509000002, 1738828509000002, 1738828509000002, 268435456))</td></tr><tr><td>null</td><td>null</td><td>List(false, 1738829236392, true, part-00003-4557258a-5982-4c45-8f63-5b14c1f84689-c000.snappy.parquet, 16389598, {\"numRecords\":1329597}, List(1738828509000003, 1738828509000003, 1738828509000003, 268435456))</td></tr><tr><td>null</td><td>null</td><td>List(false, 1738829236392, true, part-00004-b6cd5e3b-10ac-410c-8cc9-91725fb1cd97-c000.snappy.parquet, 4108562, {\"numRecords\":329209}, List(1738828509000004, 1738828509000004, 1738828509000004, 268435456))</td></tr><tr><td>null</td><td>null</td><td>List(false, 1738829236392, true, part-00005-26912275-dbf0-46f1-837e-cbdc5813d40a-c000.snappy.parquet, 16218924, {\"numRecords\":1337521}, List(1738828509000005, 1738828509000005, 1738828509000005, 268435456))</td></tr><tr><td>null</td><td>null</td><td>List(false, 1738829236392, true, part-00006-2f22e9e8-4e54-44ae-af83-c64fcb2072d5-c000.snappy.parquet, 16100740, {\"numRecords\":1336204}, List(1738828509000006, 1738828509000006, 1738828509000006, 268435456))</td></tr><tr><td>null</td><td>null</td><td>List(false, 1738829236392, true, part-00007-76b4a7f8-88ac-4431-b7e0-7128d2b77b70-c000.snappy.parquet, 16155979, {\"numRecords\":1335997}, List(1738828509000007, 1738828509000007, 1738828509000007, 268435456))</td></tr><tr><td>null</td><td>null</td><td>List(false, 1738829236392, true, part-00008-ae4bd135-ba0c-4c52-85bc-024879eac2ee-c000.snappy.parquet, 16047557, {\"numRecords\":1333645}, List(1738828509000008, 1738828509000008, 1738828509000008, 268435456))</td></tr><tr><td>null</td><td>null</td><td>List(false, 1738829236392, true, part-00009-ad54b98f-47ac-45bb-a2f3-427ca146e754-c000.snappy.parquet, 7674021, {\"numRecords\":624413}, List(1738828509000009, 1738828509000009, 1738828509000009, 268435456))</td></tr><tr><td>null</td><td>null</td><td>List(false, 1738829236392, true, part-00010-ea01d17a-bf6b-4740-bb19-eac3338f8e2f-c000.snappy.parquet, 16551969, {\"numRecords\":1336166}, List(1738828509000010, 1738828509000010, 1738828509000010, 268435456))</td></tr><tr><td>null</td><td>null</td><td>List(false, 1738829236392, true, part-00011-f9e9eeee-1a2d-4921-a8c0-7a055e3794bb-c000.snappy.parquet, 17861780, {\"numRecords\":1338210}, List(1738828509000011, 1738828509000011, 1738828509000011, 268435456))</td></tr><tr><td>null</td><td>null</td><td>List(false, 1738829236392, true, part-00012-76caef66-1da2-4dbc-8721-918124c2e052-c000.snappy.parquet, 17660686, {\"numRecords\":1335766}, List(1738828509000012, 1738828509000012, 1738828509000012, 268435456))</td></tr><tr><td>null</td><td>null</td><td>List(false, 1738829236392, true, part-00013-1f944c1c-e2a3-47ed-a9f5-2019849bac7c-c000.snappy.parquet, 16591128, {\"numRecords\":1261217}, List(1738828509000013, 1738828509000013, 1738828509000013, 268435456))</td></tr><tr><td>null</td><td>null</td><td>List(false, 1738829236392, true, part-00014-8fb08078-4ecb-46b3-b9e7-3181ce25f0f8-c000.snappy.parquet, 18818172, {\"numRecords\":1341171}, List(1738828509000014, 1738828509000014, 1738828509000014, 268435456))</td></tr><tr><td>null</td><td>null</td><td>List(false, 1738829236392, true, part-00015-ace53a90-ab20-48ae-bc54-633936343d2a-c000.snappy.parquet, 18633500, {\"numRecords\":1335299}, List(1738828509000015, 1738828509000015, 1738828509000015, 268435456))</td></tr><tr><td>null</td><td>null</td><td>List(false, 1738829236392, true, part-00016-aa8519a2-60ac-4b5e-95fb-2d3f30a2e4d7-c000.snappy.parquet, 22520476, {\"numRecords\":1436203}, List(1738828509000016, 1738828509000016, 1738828509000016, 268435456))</td></tr><tr><td>null</td><td>null</td><td>List(false, 1738829236392, true, part-00017-48b6bde4-980f-47e7-8da7-db57d90a7610-c000.snappy.parquet, 22991453, {\"numRecords\":1428103}, List(1738828509000017, 1738828509000017, 1738828509000017, 268435456))</td></tr><tr><td>null</td><td>null</td><td>List(false, 1738829236392, true, part-00018-64d26fa9-bc78-41a1-a6eb-57c480f9e693-c000.snappy.parquet, 14963485, {\"numRecords\":947764}, List(1738828509000018, 1738828509000018, 1738828509000018, 268435456))</td></tr><tr><td>null</td><td>null</td><td>List(false, 1738829236392, true, part-00019-1f6b9a86-33e1-4c51-8762-cb9dff60d162-c000.snappy.parquet, 24289197, {\"numRecords\":1435100}, List(1738828509000019, 1738828509000019, 1738828509000019, 268435456))</td></tr><tr><td>null</td><td>null</td><td>List(false, 1738829236392, true, part-00020-5ecd192e-fcc9-441b-8ed8-63e9d598257f-c000.snappy.parquet, 24158584, {\"numRecords\":1429485}, List(1738828509000020, 1738828509000020, 1738828509000020, 268435456))</td></tr><tr><td>null</td><td>null</td><td>List(false, 1738829236392, true, part-00021-c9936b6e-19c5-4fdb-95f2-8a27e7823506-c000.snappy.parquet, 24833179, {\"numRecords\":1432988}, List(1738828509000021, 1738828509000021, 1738828509000021, 268435456))</td></tr><tr><td>null</td><td>null</td><td>List(false, 1738829236392, true, part-00022-ab5e6019-634e-49ec-af96-22aa8e08cc3c-c000.snappy.parquet, 24372927, {\"numRecords\":1429122}, List(1738828509000022, 1738828509000022, 1738828509000022, 268435456))</td></tr><tr><td>null</td><td>null</td><td>List(false, 1738829236392, true, part-00023-aa5bada4-cde3-45d7-a57f-da2263f11172-c000.snappy.parquet, 23768456, {\"numRecords\":1402575}, List(1738828509000023, 1738828509000023, 1738828509000023, 268435456))</td></tr><tr><td>null</td><td>null</td><td>List(false, 1738829236392, true, part-00024-0a2336e7-286b-46f4-a7b6-c6747ee680cf-c000.snappy.parquet, 24921008, {\"numRecords\":1434644}, List(1738828509000024, 1738828509000024, 1738828509000024, 268435456))</td></tr><tr><td>null</td><td>null</td><td>List(false, 1738829236392, true, part-00025-253696e8-a979-4dd6-bae9-af7e0a6e011d-c000.snappy.parquet, 23667740, {\"numRecords\":1431070}, List(1738828509000025, 1738828509000025, 1738828509000025, 268435456))</td></tr><tr><td>null</td><td>null</td><td>List(false, 1738829236392, true, part-00026-07209c38-39cb-48d1-ba30-3002520445e9-c000.snappy.parquet, 24639786, {\"numRecords\":1430811}, List(1738828509000026, 1738828509000026, 1738828509000026, 268435456))</td></tr><tr><td>null</td><td>null</td><td>List(false, 1738829236392, true, part-00027-c330cde1-3686-4e3a-8b1b-24e8a926c2a3-c000.snappy.parquet, 24627693, {\"numRecords\":1430452}, List(1738828509000027, 1738828509000027, 1738828509000027, 268435456))</td></tr><tr><td>null</td><td>null</td><td>List(false, 1738829236392, true, part-00028-01e5bde0-28a3-4f44-b839-3be04f046229-c000.snappy.parquet, 24172858, {\"numRecords\":1413619}, List(1738828509000028, 1738828509000028, 1738828509000028, 268435456))</td></tr><tr><td>null</td><td>null</td><td>List(false, 1738829236392, true, part-00029-b5df9e41-7048-40fa-9043-b0b06b09a67c-c000.snappy.parquet, 25325032, {\"numRecords\":1432266}, List(1738828509000029, 1738828509000029, 1738828509000029, 268435456))</td></tr><tr><td>null</td><td>null</td><td>List(false, 1738829236392, true, part-00030-ea01f183-2aa8-45bd-acfc-98bff615a6f5-c000.snappy.parquet, 24687951, {\"numRecords\":1429189}, List(1738828509000030, 1738828509000030, 1738828509000030, 268435456))</td></tr><tr><td>null</td><td>null</td><td>List(false, 1738829236392, true, part-00031-6c1b94d4-6781-41bd-b1ea-a8db1c1159d5-c000.snappy.parquet, 25770875, {\"numRecords\":1431760}, List(1738828509000031, 1738828509000031, 1738828509000031, 268435456))</td></tr><tr><td>null</td><td>null</td><td>List(false, 1738829236392, true, part-00032-db237486-7d63-4ab1-8d21-61b37a7732de-c000.snappy.parquet, 25126743, {\"numRecords\":1425918}, List(1738828509000032, 1738828509000032, 1738828509000032, 268435456))</td></tr><tr><td>null</td><td>null</td><td>List(false, 1738829236392, true, part-00033-558c6748-93f2-47e1-9dc5-3c961109e46b-c000.snappy.parquet, 24843438, {\"numRecords\":1412613}, List(1738828509000033, 1738828509000033, 1738828509000033, 268435456))</td></tr><tr><td>null</td><td>null</td><td>List(false, 1738829236392, true, part-00034-3b81cf2c-8bcd-4f93-86b2-d5c423558abd-c000.snappy.parquet, 213796, {\"numRecords\":10176}, List(1738828509000034, 1738828509000034, 1738828509000034, 268435456))</td></tr><tr><td>null</td><td>null</td><td>List(false, 1738829236392, true, part-00035-f5bdb3cb-e16c-45c7-961f-30a3723b8856-c000.snappy.parquet, 25639112, {\"numRecords\":1430712}, List(1738828509000035, 1738828509000035, 1738828509000035, 268435456))</td></tr><tr><td>null</td><td>null</td><td>List(false, 1738829236392, true, part-00036-6982b4a0-9254-4796-af5b-92ac0fa6d09e-c000.snappy.parquet, 24893181, {\"numRecords\":1427232}, List(1738828509000036, 1738828509000036, 1738828509000036, 268435456))</td></tr><tr><td>null</td><td>null</td><td>List(false, 1738829236392, true, part-00037-6ec0b4f4-bc63-43b0-9f69-073a8057b78e-c000.snappy.parquet, 25316890, {\"numRecords\":1425988}, List(1738828509000037, 1738828509000037, 1738828509000037, 268435456))</td></tr><tr><td>null</td><td>null</td><td>List(false, 1738829236392, true, part-00038-29924230-1619-4108-b7bc-058d51d17312-c000.snappy.parquet, 25029551, {\"numRecords\":1425737}, List(1738828509000038, 1738828509000038, 1738828509000038, 268435456))</td></tr><tr><td>null</td><td>null</td><td>List(false, 1738829236392, true, part-00039-16b761d7-839a-4ec7-b5df-4bb37499d44d-c000.snappy.parquet, 24581769, {\"numRecords\":1410780}, List(1738828509000039, 1738828509000039, 1738828509000039, 268435456))</td></tr><tr><td>null</td><td>null</td><td>List(false, 1738829236392, true, part-00040-cab6b46c-30a9-4545-9834-680d44b8240a-c000.snappy.parquet, 5738387, {\"numRecords\":332766}, List(1738828509000040, 1738828509000040, 1738828509000040, 268435456))</td></tr><tr><td>null</td><td>null</td><td>List(false, 1738829236392, true, part-00041-9cb8861e-f984-4b08-8bca-c5cf48de435c-c000.snappy.parquet, 26211765, {\"numRecords\":1372003}, List(1738828509000041, 1738828509000041, 1738828509000041, 268435456))</td></tr><tr><td>null</td><td>null</td><td>List(false, 1738829236392, true, part-00042-bd67c702-cb37-4587-88f5-a9ba9acfe94d-c000.snappy.parquet, 25858602, {\"numRecords\":1368262}, List(1738828509000042, 1738828509000042, 1738828509000042, 268435456))</td></tr><tr><td>null</td><td>null</td><td>List(false, 1738829236392, true, part-00043-61a57b4c-7eea-42e8-ab28-a0005e3baeeb-c000.snappy.parquet, 25542244, {\"numRecords\":1369518}, List(1738828509000043, 1738828509000043, 1738828509000043, 268435456))</td></tr><tr><td>null</td><td>null</td><td>List(false, 1738829236392, true, part-00044-59ce16f2-92de-4dcb-a347-1b06e812dd6d-c000.snappy.parquet, 25717245, {\"numRecords\":1364642}, List(1738828509000044, 1738828509000044, 1738828509000044, 268435456))</td></tr><tr><td>null</td><td>null</td><td>List(false, 1738829236392, true, part-00045-cbf15cf4-758f-42c6-9d45-ed1aa9bce1c1-c000.snappy.parquet, 24623563, {\"numRecords\":1351102}, List(1738828509000045, 1738828509000045, 1738828509000045, 268435456))</td></tr><tr><td>null</td><td>null</td><td>List(false, 1738829236392, true, part-00046-ae92b631-331c-4ac3-b5e6-16bf3281cbf6-c000.snappy.parquet, 3150640, {\"numRecords\":184201}, List(1738828509000046, 1738828509000046, 1738828509000046, 268435456))</td></tr><tr><td>List(false, 1738830029000, part-00000-eaba37fb-967c-4a82-928b-8f86364eb0ff-c000.snappy.parquet, 322596443, {\"numRecords\":19919377,\"minValues\":{\"Year\":2000,\"Month\":1,\"DayofMonth\":1,\"DayofWeek\":1,\"DepTime\":\"1\",\"CRSDepTime\":0,\"ArrTime\":\"1\",\"CRSArrTime\":0,\"UniqueCarrier\":\"9E\",\"FlightNum\":1,\"TailNum\":\"-N037M\",\"ActualElapsedTime\":\"-1\",\"CRSElapsedTime\":\"-10\",\"AirTime\":\"-1\",\"ArrDelay\":\"-1\",\"DepDelay\":\"-1\",\"Origin\":\"ABE\",\"Dest\":\"ABE\",\"Distance\":12,\"TaxiIn\":\"0\",\"TaxiOut\":\"0\",\"Cancelled\":0,\"CancellationCode\":\"A\",\"Diverted\":0,\"CarrierDelay\":\"0\",\"WeatherDelay\":\"0\",\"NASDelay\":\"-1\",\"SecurityDelay\":\"0\",\"LateAircraftDelay\":\"0\"},\"maxValues\":{\"Year\":2008,\"Month\":12,\"DayofMonth\":31,\"DayofWeek\":7,\"DepTime\":\"NA\",\"CRSDepTime\":2400,\"ArrTime\":\"NA\",\"CRSArrTime\":2400,\"UniqueCarrier\":\"YV\",\"FlightNum\":9766,\"TailNum\":\"�NKNO�\",\"ActualElapsedTime\":\"NA\",\"CRSElapsedTime\":\"NA\",\"AirTime\":\"NA\",\"ArrDelay\":\"NA\",\"DepDelay\":\"NA\",\"Origin\":\"EYW\",\"Dest\":\"YAK\",\"Distance\":4962,\"TaxiIn\":\"NA\",\"TaxiOut\":\"NA\",\"Cancelled\":1,\"CancellationCode\":\"NA\",\"Diverted\":1,\"CarrierDelay\":\"NA\",\"WeatherDelay\":\"NA\",\"NASDelay\":\"NA\",\"SecurityDelay\":\"NA\",\"LateAircraftDelay\":\"NA\"},\"nullCount\":{\"Year\":0,\"Month\":0,\"DayofMonth\":0,\"DayofWeek\":0,\"DepTime\":0,\"CRSDepTime\":0,\"ArrTime\":0,\"CRSArrTime\":0,\"UniqueCarrier\":0,\"FlightNum\":0,\"TailNum\":49173,\"ActualElapsedTime\":0,\"CRSElapsedTime\":0,\"AirTime\":0,\"ArrDelay\":0,\"DepDelay\":0,\"Origin\":0,\"Dest\":0,\"Distance\":0,\"TaxiIn\":0,\"TaxiOut\":0,\"Cancelled\":0,\"CancellationCode\":13366989,\"Diverted\":0,\"CarrierDelay\":0,\"WeatherDelay\":0,\"NASDelay\":0,\"SecurityDelay\":0,\"LateAircraftDelay\":0}}, List(1738828509000000, 1738828509000046, 1738828509000000, 268435456, 130e3d3e-03cd-4d55-9c71-5e16b50d4102, [\"Year\",\"Origin\"], hilbert))</td><td>null</td><td>null</td></tr><tr><td>List(false, 1738830041000, part-00001-3456dff5-858f-462c-af0d-d8a35ee04c43-c000.snappy.parquet, 321334533, {\"numRecords\":19743962,\"minValues\":{\"Year\":2000,\"Month\":1,\"DayofMonth\":1,\"DayofWeek\":1,\"DepTime\":\"1\",\"CRSDepTime\":0,\"ArrTime\":\"1\",\"CRSArrTime\":0,\"UniqueCarrier\":\"9E\",\"FlightNum\":1,\"TailNum\":\"-N037M\",\"ActualElapsedTime\":\"-100\",\"CRSElapsedTime\":\"-1\",\"AirTime\":\"-1\",\"ArrDelay\":\"-1\",\"DepDelay\":\"-1\",\"Origin\":\"ELM\",\"Dest\":\"ABE\",\"Distance\":6,\"TaxiIn\":\"0\",\"TaxiOut\":\"0\",\"Cancelled\":0,\"CancellationCode\":\"A\",\"Diverted\":0,\"CarrierDelay\":\"0\",\"WeatherDelay\":\"0\",\"NASDelay\":\"-1\",\"SecurityDelay\":\"0\",\"LateAircraftDelay\":\"0\"},\"maxValues\":{\"Year\":2008,\"Month\":12,\"DayofMonth\":31,\"DayofWeek\":7,\"DepTime\":\"NA\",\"CRSDepTime\":2359,\"ArrTime\":\"NA\",\"CRSArrTime\":2400,\"UniqueCarrier\":\"YV\",\"FlightNum\":9912,\"TailNum\":\"�NKNO�\",\"ActualElapsedTime\":\"NA\",\"CRSElapsedTime\":\"NA\",\"AirTime\":\"NA\",\"ArrDelay\":\"NA\",\"DepDelay\":\"NA\",\"Origin\":\"PFN\",\"Dest\":\"YUM\",\"Distance\":4962,\"TaxiIn\":\"NA\",\"TaxiOut\":\"NA\",\"Cancelled\":1,\"CancellationCode\":\"NA\",\"Diverted\":1,\"CarrierDelay\":\"NA\",\"WeatherDelay\":\"NA\",\"NASDelay\":\"NA\",\"SecurityDelay\":\"NA\",\"LateAircraftDelay\":\"NA\"},\"nullCount\":{\"Year\":0,\"Month\":0,\"DayofMonth\":0,\"DayofWeek\":0,\"DepTime\":0,\"CRSDepTime\":0,\"ArrTime\":0,\"CRSArrTime\":0,\"UniqueCarrier\":0,\"FlightNum\":0,\"TailNum\":49845,\"ActualElapsedTime\":0,\"CRSElapsedTime\":0,\"AirTime\":0,\"ArrDelay\":0,\"DepDelay\":0,\"Origin\":0,\"Dest\":0,\"Distance\":0,\"TaxiIn\":0,\"TaxiOut\":0,\"Cancelled\":0,\"CancellationCode\":13277897,\"Diverted\":0,\"CarrierDelay\":0,\"WeatherDelay\":0,\"NASDelay\":0,\"SecurityDelay\":0,\"LateAircraftDelay\":0}}, List(1738828509000000, 1738828509000046, 1738828509000000, 268435456, 130e3d3e-03cd-4d55-9c71-5e16b50d4102, [\"Year\",\"Origin\"], hilbert))</td><td>null</td><td>null</td></tr><tr><td>List(false, 1738830036000, part-00002-d9fb0979-78b0-4430-8c36-12f91e886e36-c000.snappy.parquet, 309484081, {\"numRecords\":19622118,\"minValues\":{\"Year\":2000,\"Month\":1,\"DayofMonth\":1,\"DayofWeek\":1,\"DepTime\":\"1\",\"CRSDepTime\":0,\"ArrTime\":\"1\",\"CRSArrTime\":0,\"UniqueCarrier\":\"9E\",\"FlightNum\":1,\"TailNum\":\"-N037M\",\"ActualElapsedTime\":\"-129\",\"CRSElapsedTime\":\"-13\",\"AirTime\":\"-1\",\"ArrDelay\":\"-1\",\"DepDelay\":\"-1\",\"Origin\":\"OAJ\",\"Dest\":\"ABE\",\"Distance\":11,\"TaxiIn\":\"0\",\"TaxiOut\":\"0\",\"Cancelled\":0,\"CancellationCode\":\"A\",\"Diverted\":0,\"CarrierDelay\":\"0\",\"WeatherDelay\":\"0\",\"NASDelay\":\"-1\",\"SecurityDelay\":\"0\",\"LateAircraftDelay\":\"0\"},\"maxValues\":{\"Year\":2008,\"Month\":12,\"DayofMonth\":31,\"DayofWeek\":7,\"DepTime\":\"NA\",\"CRSDepTime\":2400,\"ArrTime\":\"NA\",\"CRSArrTime\":2400,\"UniqueCarrier\":\"YV\",\"FlightNum\":9743,\"TailNum\":\"�NKNO�\",\"ActualElapsedTime\":\"NA\",\"CRSElapsedTime\":\"NA\",\"AirTime\":\"NA\",\"ArrDelay\":\"NA\",\"DepDelay\":\"NA\",\"Origin\":\"YUM\",\"Dest\":\"YUM\",\"Distance\":4431,\"TaxiIn\":\"NA\",\"TaxiOut\":\"NA\",\"Cancelled\":1,\"CancellationCode\":\"NA\",\"Diverted\":1,\"CarrierDelay\":\"NA\",\"WeatherDelay\":\"NA\",\"NASDelay\":\"NA\",\"SecurityDelay\":\"NA\",\"LateAircraftDelay\":\"NA\"},\"nullCount\":{\"Year\":0,\"Month\":0,\"DayofMonth\":0,\"DayofWeek\":0,\"DepTime\":0,\"CRSDepTime\":0,\"ArrTime\":0,\"CRSArrTime\":0,\"UniqueCarrier\":0,\"FlightNum\":0,\"TailNum\":40756,\"ActualElapsedTime\":0,\"CRSElapsedTime\":0,\"AirTime\":0,\"ArrDelay\":0,\"DepDelay\":0,\"Origin\":0,\"Dest\":0,\"Distance\":0,\"TaxiIn\":0,\"TaxiOut\":0,\"Cancelled\":0,\"CancellationCode\":12310937,\"Diverted\":0,\"CarrierDelay\":0,\"WeatherDelay\":0,\"NASDelay\":0,\"SecurityDelay\":0,\"LateAircraftDelay\":0}}, List(1738828509000000, 1738828509000046, 1738828509000000, 268435456, 130e3d3e-03cd-4d55-9c71-5e16b50d4102, [\"Year\",\"Origin\"], hilbert))</td><td>null</td><td>null</td></tr></tbody></table></div>"
      ]
     },
     "metadata": {
      "application/vnd.databricks.v1+output": {
       "addedWidgets": {},
       "aggData": [],
       "aggError": "",
       "aggOverflow": false,
       "aggSchema": [],
       "aggSeriesLimitReached": false,
       "aggType": "",
       "arguments": {},
       "columnCustomDisplayInfos": {},
       "data": [
        [
         null,
         [
          "0206-074511-wna9kc41",
          "Databricks-Runtime/15.4.x-scala2.12",
          false,
          "SnapshotIsolation",
          [
           "4081512079520275"
          ],
          "OPTIMIZE",
          [
           "322596443",
           "309484081",
           "953415057",
           "3",
           "0",
           "940352771",
           "47",
           "309484081",
           "321334533",
           "322596443"
          ],
          [
           false,
           "0",
           "[]",
           "[]",
           "[\"Year\",\"Origin\"]"
          ],
          1,
          [
           "false"
          ],
          1738830043157,
          "57837a43-e2d6-4922-a40e-467125e85c5a",
          "5755764547042441",
          "inaya998877@gmail.com"
         ],
         null
        ],
        [
         null,
         null,
         [
          false,
          1738829236392,
          true,
          "part-00000-0ca1daff-eb28-4d7e-9bd3-a360407adbee-c000.snappy.parquet",
          16372673,
          "{\"numRecords\":1341343}",
          [
           "1738828509000000",
           "1738828509000000",
           "1738828509000000",
           "268435456"
          ]
         ]
        ],
        [
         null,
         null,
         [
          false,
          1738829236392,
          true,
          "part-00001-240819c0-9c71-46c2-8601-b57b4abfbf6b-c000.snappy.parquet",
          16604637,
          "{\"numRecords\":1341441}",
          [
           "1738828509000001",
           "1738828509000001",
           "1738828509000001",
           "268435456"
          ]
         ]
        ],
        [
         null,
         null,
         [
          false,
          1738829236392,
          true,
          "part-00002-e0b48976-9650-4467-8879-b2add0e7aff0-c000.snappy.parquet",
          16365219,
          "{\"numRecords\":1341457}",
          [
           "1738828509000002",
           "1738828509000002",
           "1738828509000002",
           "268435456"
          ]
         ]
        ],
        [
         null,
         null,
         [
          false,
          1738829236392,
          true,
          "part-00003-4557258a-5982-4c45-8f63-5b14c1f84689-c000.snappy.parquet",
          16389598,
          "{\"numRecords\":1329597}",
          [
           "1738828509000003",
           "1738828509000003",
           "1738828509000003",
           "268435456"
          ]
         ]
        ],
        [
         null,
         null,
         [
          false,
          1738829236392,
          true,
          "part-00004-b6cd5e3b-10ac-410c-8cc9-91725fb1cd97-c000.snappy.parquet",
          4108562,
          "{\"numRecords\":329209}",
          [
           "1738828509000004",
           "1738828509000004",
           "1738828509000004",
           "268435456"
          ]
         ]
        ],
        [
         null,
         null,
         [
          false,
          1738829236392,
          true,
          "part-00005-26912275-dbf0-46f1-837e-cbdc5813d40a-c000.snappy.parquet",
          16218924,
          "{\"numRecords\":1337521}",
          [
           "1738828509000005",
           "1738828509000005",
           "1738828509000005",
           "268435456"
          ]
         ]
        ],
        [
         null,
         null,
         [
          false,
          1738829236392,
          true,
          "part-00006-2f22e9e8-4e54-44ae-af83-c64fcb2072d5-c000.snappy.parquet",
          16100740,
          "{\"numRecords\":1336204}",
          [
           "1738828509000006",
           "1738828509000006",
           "1738828509000006",
           "268435456"
          ]
         ]
        ],
        [
         null,
         null,
         [
          false,
          1738829236392,
          true,
          "part-00007-76b4a7f8-88ac-4431-b7e0-7128d2b77b70-c000.snappy.parquet",
          16155979,
          "{\"numRecords\":1335997}",
          [
           "1738828509000007",
           "1738828509000007",
           "1738828509000007",
           "268435456"
          ]
         ]
        ],
        [
         null,
         null,
         [
          false,
          1738829236392,
          true,
          "part-00008-ae4bd135-ba0c-4c52-85bc-024879eac2ee-c000.snappy.parquet",
          16047557,
          "{\"numRecords\":1333645}",
          [
           "1738828509000008",
           "1738828509000008",
           "1738828509000008",
           "268435456"
          ]
         ]
        ],
        [
         null,
         null,
         [
          false,
          1738829236392,
          true,
          "part-00009-ad54b98f-47ac-45bb-a2f3-427ca146e754-c000.snappy.parquet",
          7674021,
          "{\"numRecords\":624413}",
          [
           "1738828509000009",
           "1738828509000009",
           "1738828509000009",
           "268435456"
          ]
         ]
        ],
        [
         null,
         null,
         [
          false,
          1738829236392,
          true,
          "part-00010-ea01d17a-bf6b-4740-bb19-eac3338f8e2f-c000.snappy.parquet",
          16551969,
          "{\"numRecords\":1336166}",
          [
           "1738828509000010",
           "1738828509000010",
           "1738828509000010",
           "268435456"
          ]
         ]
        ],
        [
         null,
         null,
         [
          false,
          1738829236392,
          true,
          "part-00011-f9e9eeee-1a2d-4921-a8c0-7a055e3794bb-c000.snappy.parquet",
          17861780,
          "{\"numRecords\":1338210}",
          [
           "1738828509000011",
           "1738828509000011",
           "1738828509000011",
           "268435456"
          ]
         ]
        ],
        [
         null,
         null,
         [
          false,
          1738829236392,
          true,
          "part-00012-76caef66-1da2-4dbc-8721-918124c2e052-c000.snappy.parquet",
          17660686,
          "{\"numRecords\":1335766}",
          [
           "1738828509000012",
           "1738828509000012",
           "1738828509000012",
           "268435456"
          ]
         ]
        ],
        [
         null,
         null,
         [
          false,
          1738829236392,
          true,
          "part-00013-1f944c1c-e2a3-47ed-a9f5-2019849bac7c-c000.snappy.parquet",
          16591128,
          "{\"numRecords\":1261217}",
          [
           "1738828509000013",
           "1738828509000013",
           "1738828509000013",
           "268435456"
          ]
         ]
        ],
        [
         null,
         null,
         [
          false,
          1738829236392,
          true,
          "part-00014-8fb08078-4ecb-46b3-b9e7-3181ce25f0f8-c000.snappy.parquet",
          18818172,
          "{\"numRecords\":1341171}",
          [
           "1738828509000014",
           "1738828509000014",
           "1738828509000014",
           "268435456"
          ]
         ]
        ],
        [
         null,
         null,
         [
          false,
          1738829236392,
          true,
          "part-00015-ace53a90-ab20-48ae-bc54-633936343d2a-c000.snappy.parquet",
          18633500,
          "{\"numRecords\":1335299}",
          [
           "1738828509000015",
           "1738828509000015",
           "1738828509000015",
           "268435456"
          ]
         ]
        ],
        [
         null,
         null,
         [
          false,
          1738829236392,
          true,
          "part-00016-aa8519a2-60ac-4b5e-95fb-2d3f30a2e4d7-c000.snappy.parquet",
          22520476,
          "{\"numRecords\":1436203}",
          [
           "1738828509000016",
           "1738828509000016",
           "1738828509000016",
           "268435456"
          ]
         ]
        ],
        [
         null,
         null,
         [
          false,
          1738829236392,
          true,
          "part-00017-48b6bde4-980f-47e7-8da7-db57d90a7610-c000.snappy.parquet",
          22991453,
          "{\"numRecords\":1428103}",
          [
           "1738828509000017",
           "1738828509000017",
           "1738828509000017",
           "268435456"
          ]
         ]
        ],
        [
         null,
         null,
         [
          false,
          1738829236392,
          true,
          "part-00018-64d26fa9-bc78-41a1-a6eb-57c480f9e693-c000.snappy.parquet",
          14963485,
          "{\"numRecords\":947764}",
          [
           "1738828509000018",
           "1738828509000018",
           "1738828509000018",
           "268435456"
          ]
         ]
        ],
        [
         null,
         null,
         [
          false,
          1738829236392,
          true,
          "part-00019-1f6b9a86-33e1-4c51-8762-cb9dff60d162-c000.snappy.parquet",
          24289197,
          "{\"numRecords\":1435100}",
          [
           "1738828509000019",
           "1738828509000019",
           "1738828509000019",
           "268435456"
          ]
         ]
        ],
        [
         null,
         null,
         [
          false,
          1738829236392,
          true,
          "part-00020-5ecd192e-fcc9-441b-8ed8-63e9d598257f-c000.snappy.parquet",
          24158584,
          "{\"numRecords\":1429485}",
          [
           "1738828509000020",
           "1738828509000020",
           "1738828509000020",
           "268435456"
          ]
         ]
        ],
        [
         null,
         null,
         [
          false,
          1738829236392,
          true,
          "part-00021-c9936b6e-19c5-4fdb-95f2-8a27e7823506-c000.snappy.parquet",
          24833179,
          "{\"numRecords\":1432988}",
          [
           "1738828509000021",
           "1738828509000021",
           "1738828509000021",
           "268435456"
          ]
         ]
        ],
        [
         null,
         null,
         [
          false,
          1738829236392,
          true,
          "part-00022-ab5e6019-634e-49ec-af96-22aa8e08cc3c-c000.snappy.parquet",
          24372927,
          "{\"numRecords\":1429122}",
          [
           "1738828509000022",
           "1738828509000022",
           "1738828509000022",
           "268435456"
          ]
         ]
        ],
        [
         null,
         null,
         [
          false,
          1738829236392,
          true,
          "part-00023-aa5bada4-cde3-45d7-a57f-da2263f11172-c000.snappy.parquet",
          23768456,
          "{\"numRecords\":1402575}",
          [
           "1738828509000023",
           "1738828509000023",
           "1738828509000023",
           "268435456"
          ]
         ]
        ],
        [
         null,
         null,
         [
          false,
          1738829236392,
          true,
          "part-00024-0a2336e7-286b-46f4-a7b6-c6747ee680cf-c000.snappy.parquet",
          24921008,
          "{\"numRecords\":1434644}",
          [
           "1738828509000024",
           "1738828509000024",
           "1738828509000024",
           "268435456"
          ]
         ]
        ],
        [
         null,
         null,
         [
          false,
          1738829236392,
          true,
          "part-00025-253696e8-a979-4dd6-bae9-af7e0a6e011d-c000.snappy.parquet",
          23667740,
          "{\"numRecords\":1431070}",
          [
           "1738828509000025",
           "1738828509000025",
           "1738828509000025",
           "268435456"
          ]
         ]
        ],
        [
         null,
         null,
         [
          false,
          1738829236392,
          true,
          "part-00026-07209c38-39cb-48d1-ba30-3002520445e9-c000.snappy.parquet",
          24639786,
          "{\"numRecords\":1430811}",
          [
           "1738828509000026",
           "1738828509000026",
           "1738828509000026",
           "268435456"
          ]
         ]
        ],
        [
         null,
         null,
         [
          false,
          1738829236392,
          true,
          "part-00027-c330cde1-3686-4e3a-8b1b-24e8a926c2a3-c000.snappy.parquet",
          24627693,
          "{\"numRecords\":1430452}",
          [
           "1738828509000027",
           "1738828509000027",
           "1738828509000027",
           "268435456"
          ]
         ]
        ],
        [
         null,
         null,
         [
          false,
          1738829236392,
          true,
          "part-00028-01e5bde0-28a3-4f44-b839-3be04f046229-c000.snappy.parquet",
          24172858,
          "{\"numRecords\":1413619}",
          [
           "1738828509000028",
           "1738828509000028",
           "1738828509000028",
           "268435456"
          ]
         ]
        ],
        [
         null,
         null,
         [
          false,
          1738829236392,
          true,
          "part-00029-b5df9e41-7048-40fa-9043-b0b06b09a67c-c000.snappy.parquet",
          25325032,
          "{\"numRecords\":1432266}",
          [
           "1738828509000029",
           "1738828509000029",
           "1738828509000029",
           "268435456"
          ]
         ]
        ],
        [
         null,
         null,
         [
          false,
          1738829236392,
          true,
          "part-00030-ea01f183-2aa8-45bd-acfc-98bff615a6f5-c000.snappy.parquet",
          24687951,
          "{\"numRecords\":1429189}",
          [
           "1738828509000030",
           "1738828509000030",
           "1738828509000030",
           "268435456"
          ]
         ]
        ],
        [
         null,
         null,
         [
          false,
          1738829236392,
          true,
          "part-00031-6c1b94d4-6781-41bd-b1ea-a8db1c1159d5-c000.snappy.parquet",
          25770875,
          "{\"numRecords\":1431760}",
          [
           "1738828509000031",
           "1738828509000031",
           "1738828509000031",
           "268435456"
          ]
         ]
        ],
        [
         null,
         null,
         [
          false,
          1738829236392,
          true,
          "part-00032-db237486-7d63-4ab1-8d21-61b37a7732de-c000.snappy.parquet",
          25126743,
          "{\"numRecords\":1425918}",
          [
           "1738828509000032",
           "1738828509000032",
           "1738828509000032",
           "268435456"
          ]
         ]
        ],
        [
         null,
         null,
         [
          false,
          1738829236392,
          true,
          "part-00033-558c6748-93f2-47e1-9dc5-3c961109e46b-c000.snappy.parquet",
          24843438,
          "{\"numRecords\":1412613}",
          [
           "1738828509000033",
           "1738828509000033",
           "1738828509000033",
           "268435456"
          ]
         ]
        ],
        [
         null,
         null,
         [
          false,
          1738829236392,
          true,
          "part-00034-3b81cf2c-8bcd-4f93-86b2-d5c423558abd-c000.snappy.parquet",
          213796,
          "{\"numRecords\":10176}",
          [
           "1738828509000034",
           "1738828509000034",
           "1738828509000034",
           "268435456"
          ]
         ]
        ],
        [
         null,
         null,
         [
          false,
          1738829236392,
          true,
          "part-00035-f5bdb3cb-e16c-45c7-961f-30a3723b8856-c000.snappy.parquet",
          25639112,
          "{\"numRecords\":1430712}",
          [
           "1738828509000035",
           "1738828509000035",
           "1738828509000035",
           "268435456"
          ]
         ]
        ],
        [
         null,
         null,
         [
          false,
          1738829236392,
          true,
          "part-00036-6982b4a0-9254-4796-af5b-92ac0fa6d09e-c000.snappy.parquet",
          24893181,
          "{\"numRecords\":1427232}",
          [
           "1738828509000036",
           "1738828509000036",
           "1738828509000036",
           "268435456"
          ]
         ]
        ],
        [
         null,
         null,
         [
          false,
          1738829236392,
          true,
          "part-00037-6ec0b4f4-bc63-43b0-9f69-073a8057b78e-c000.snappy.parquet",
          25316890,
          "{\"numRecords\":1425988}",
          [
           "1738828509000037",
           "1738828509000037",
           "1738828509000037",
           "268435456"
          ]
         ]
        ],
        [
         null,
         null,
         [
          false,
          1738829236392,
          true,
          "part-00038-29924230-1619-4108-b7bc-058d51d17312-c000.snappy.parquet",
          25029551,
          "{\"numRecords\":1425737}",
          [
           "1738828509000038",
           "1738828509000038",
           "1738828509000038",
           "268435456"
          ]
         ]
        ],
        [
         null,
         null,
         [
          false,
          1738829236392,
          true,
          "part-00039-16b761d7-839a-4ec7-b5df-4bb37499d44d-c000.snappy.parquet",
          24581769,
          "{\"numRecords\":1410780}",
          [
           "1738828509000039",
           "1738828509000039",
           "1738828509000039",
           "268435456"
          ]
         ]
        ],
        [
         null,
         null,
         [
          false,
          1738829236392,
          true,
          "part-00040-cab6b46c-30a9-4545-9834-680d44b8240a-c000.snappy.parquet",
          5738387,
          "{\"numRecords\":332766}",
          [
           "1738828509000040",
           "1738828509000040",
           "1738828509000040",
           "268435456"
          ]
         ]
        ],
        [
         null,
         null,
         [
          false,
          1738829236392,
          true,
          "part-00041-9cb8861e-f984-4b08-8bca-c5cf48de435c-c000.snappy.parquet",
          26211765,
          "{\"numRecords\":1372003}",
          [
           "1738828509000041",
           "1738828509000041",
           "1738828509000041",
           "268435456"
          ]
         ]
        ],
        [
         null,
         null,
         [
          false,
          1738829236392,
          true,
          "part-00042-bd67c702-cb37-4587-88f5-a9ba9acfe94d-c000.snappy.parquet",
          25858602,
          "{\"numRecords\":1368262}",
          [
           "1738828509000042",
           "1738828509000042",
           "1738828509000042",
           "268435456"
          ]
         ]
        ],
        [
         null,
         null,
         [
          false,
          1738829236392,
          true,
          "part-00043-61a57b4c-7eea-42e8-ab28-a0005e3baeeb-c000.snappy.parquet",
          25542244,
          "{\"numRecords\":1369518}",
          [
           "1738828509000043",
           "1738828509000043",
           "1738828509000043",
           "268435456"
          ]
         ]
        ],
        [
         null,
         null,
         [
          false,
          1738829236392,
          true,
          "part-00044-59ce16f2-92de-4dcb-a347-1b06e812dd6d-c000.snappy.parquet",
          25717245,
          "{\"numRecords\":1364642}",
          [
           "1738828509000044",
           "1738828509000044",
           "1738828509000044",
           "268435456"
          ]
         ]
        ],
        [
         null,
         null,
         [
          false,
          1738829236392,
          true,
          "part-00045-cbf15cf4-758f-42c6-9d45-ed1aa9bce1c1-c000.snappy.parquet",
          24623563,
          "{\"numRecords\":1351102}",
          [
           "1738828509000045",
           "1738828509000045",
           "1738828509000045",
           "268435456"
          ]
         ]
        ],
        [
         null,
         null,
         [
          false,
          1738829236392,
          true,
          "part-00046-ae92b631-331c-4ac3-b5e6-16bf3281cbf6-c000.snappy.parquet",
          3150640,
          "{\"numRecords\":184201}",
          [
           "1738828509000046",
           "1738828509000046",
           "1738828509000046",
           "268435456"
          ]
         ]
        ],
        [
         [
          false,
          1738830029000,
          "part-00000-eaba37fb-967c-4a82-928b-8f86364eb0ff-c000.snappy.parquet",
          322596443,
          "{\"numRecords\":19919377,\"minValues\":{\"Year\":2000,\"Month\":1,\"DayofMonth\":1,\"DayofWeek\":1,\"DepTime\":\"1\",\"CRSDepTime\":0,\"ArrTime\":\"1\",\"CRSArrTime\":0,\"UniqueCarrier\":\"9E\",\"FlightNum\":1,\"TailNum\":\"-N037M\",\"ActualElapsedTime\":\"-1\",\"CRSElapsedTime\":\"-10\",\"AirTime\":\"-1\",\"ArrDelay\":\"-1\",\"DepDelay\":\"-1\",\"Origin\":\"ABE\",\"Dest\":\"ABE\",\"Distance\":12,\"TaxiIn\":\"0\",\"TaxiOut\":\"0\",\"Cancelled\":0,\"CancellationCode\":\"A\",\"Diverted\":0,\"CarrierDelay\":\"0\",\"WeatherDelay\":\"0\",\"NASDelay\":\"-1\",\"SecurityDelay\":\"0\",\"LateAircraftDelay\":\"0\"},\"maxValues\":{\"Year\":2008,\"Month\":12,\"DayofMonth\":31,\"DayofWeek\":7,\"DepTime\":\"NA\",\"CRSDepTime\":2400,\"ArrTime\":\"NA\",\"CRSArrTime\":2400,\"UniqueCarrier\":\"YV\",\"FlightNum\":9766,\"TailNum\":\"�NKNO�\",\"ActualElapsedTime\":\"NA\",\"CRSElapsedTime\":\"NA\",\"AirTime\":\"NA\",\"ArrDelay\":\"NA\",\"DepDelay\":\"NA\",\"Origin\":\"EYW\",\"Dest\":\"YAK\",\"Distance\":4962,\"TaxiIn\":\"NA\",\"TaxiOut\":\"NA\",\"Cancelled\":1,\"CancellationCode\":\"NA\",\"Diverted\":1,\"CarrierDelay\":\"NA\",\"WeatherDelay\":\"NA\",\"NASDelay\":\"NA\",\"SecurityDelay\":\"NA\",\"LateAircraftDelay\":\"NA\"},\"nullCount\":{\"Year\":0,\"Month\":0,\"DayofMonth\":0,\"DayofWeek\":0,\"DepTime\":0,\"CRSDepTime\":0,\"ArrTime\":0,\"CRSArrTime\":0,\"UniqueCarrier\":0,\"FlightNum\":0,\"TailNum\":49173,\"ActualElapsedTime\":0,\"CRSElapsedTime\":0,\"AirTime\":0,\"ArrDelay\":0,\"DepDelay\":0,\"Origin\":0,\"Dest\":0,\"Distance\":0,\"TaxiIn\":0,\"TaxiOut\":0,\"Cancelled\":0,\"CancellationCode\":13366989,\"Diverted\":0,\"CarrierDelay\":0,\"WeatherDelay\":0,\"NASDelay\":0,\"SecurityDelay\":0,\"LateAircraftDelay\":0}}",
          [
           "1738828509000000",
           "1738828509000046",
           "1738828509000000",
           "268435456",
           "130e3d3e-03cd-4d55-9c71-5e16b50d4102",
           "[\"Year\",\"Origin\"]",
           "hilbert"
          ]
         ],
         null,
         null
        ],
        [
         [
          false,
          1738830041000,
          "part-00001-3456dff5-858f-462c-af0d-d8a35ee04c43-c000.snappy.parquet",
          321334533,
          "{\"numRecords\":19743962,\"minValues\":{\"Year\":2000,\"Month\":1,\"DayofMonth\":1,\"DayofWeek\":1,\"DepTime\":\"1\",\"CRSDepTime\":0,\"ArrTime\":\"1\",\"CRSArrTime\":0,\"UniqueCarrier\":\"9E\",\"FlightNum\":1,\"TailNum\":\"-N037M\",\"ActualElapsedTime\":\"-100\",\"CRSElapsedTime\":\"-1\",\"AirTime\":\"-1\",\"ArrDelay\":\"-1\",\"DepDelay\":\"-1\",\"Origin\":\"ELM\",\"Dest\":\"ABE\",\"Distance\":6,\"TaxiIn\":\"0\",\"TaxiOut\":\"0\",\"Cancelled\":0,\"CancellationCode\":\"A\",\"Diverted\":0,\"CarrierDelay\":\"0\",\"WeatherDelay\":\"0\",\"NASDelay\":\"-1\",\"SecurityDelay\":\"0\",\"LateAircraftDelay\":\"0\"},\"maxValues\":{\"Year\":2008,\"Month\":12,\"DayofMonth\":31,\"DayofWeek\":7,\"DepTime\":\"NA\",\"CRSDepTime\":2359,\"ArrTime\":\"NA\",\"CRSArrTime\":2400,\"UniqueCarrier\":\"YV\",\"FlightNum\":9912,\"TailNum\":\"�NKNO�\",\"ActualElapsedTime\":\"NA\",\"CRSElapsedTime\":\"NA\",\"AirTime\":\"NA\",\"ArrDelay\":\"NA\",\"DepDelay\":\"NA\",\"Origin\":\"PFN\",\"Dest\":\"YUM\",\"Distance\":4962,\"TaxiIn\":\"NA\",\"TaxiOut\":\"NA\",\"Cancelled\":1,\"CancellationCode\":\"NA\",\"Diverted\":1,\"CarrierDelay\":\"NA\",\"WeatherDelay\":\"NA\",\"NASDelay\":\"NA\",\"SecurityDelay\":\"NA\",\"LateAircraftDelay\":\"NA\"},\"nullCount\":{\"Year\":0,\"Month\":0,\"DayofMonth\":0,\"DayofWeek\":0,\"DepTime\":0,\"CRSDepTime\":0,\"ArrTime\":0,\"CRSArrTime\":0,\"UniqueCarrier\":0,\"FlightNum\":0,\"TailNum\":49845,\"ActualElapsedTime\":0,\"CRSElapsedTime\":0,\"AirTime\":0,\"ArrDelay\":0,\"DepDelay\":0,\"Origin\":0,\"Dest\":0,\"Distance\":0,\"TaxiIn\":0,\"TaxiOut\":0,\"Cancelled\":0,\"CancellationCode\":13277897,\"Diverted\":0,\"CarrierDelay\":0,\"WeatherDelay\":0,\"NASDelay\":0,\"SecurityDelay\":0,\"LateAircraftDelay\":0}}",
          [
           "1738828509000000",
           "1738828509000046",
           "1738828509000000",
           "268435456",
           "130e3d3e-03cd-4d55-9c71-5e16b50d4102",
           "[\"Year\",\"Origin\"]",
           "hilbert"
          ]
         ],
         null,
         null
        ],
        [
         [
          false,
          1738830036000,
          "part-00002-d9fb0979-78b0-4430-8c36-12f91e886e36-c000.snappy.parquet",
          309484081,
          "{\"numRecords\":19622118,\"minValues\":{\"Year\":2000,\"Month\":1,\"DayofMonth\":1,\"DayofWeek\":1,\"DepTime\":\"1\",\"CRSDepTime\":0,\"ArrTime\":\"1\",\"CRSArrTime\":0,\"UniqueCarrier\":\"9E\",\"FlightNum\":1,\"TailNum\":\"-N037M\",\"ActualElapsedTime\":\"-129\",\"CRSElapsedTime\":\"-13\",\"AirTime\":\"-1\",\"ArrDelay\":\"-1\",\"DepDelay\":\"-1\",\"Origin\":\"OAJ\",\"Dest\":\"ABE\",\"Distance\":11,\"TaxiIn\":\"0\",\"TaxiOut\":\"0\",\"Cancelled\":0,\"CancellationCode\":\"A\",\"Diverted\":0,\"CarrierDelay\":\"0\",\"WeatherDelay\":\"0\",\"NASDelay\":\"-1\",\"SecurityDelay\":\"0\",\"LateAircraftDelay\":\"0\"},\"maxValues\":{\"Year\":2008,\"Month\":12,\"DayofMonth\":31,\"DayofWeek\":7,\"DepTime\":\"NA\",\"CRSDepTime\":2400,\"ArrTime\":\"NA\",\"CRSArrTime\":2400,\"UniqueCarrier\":\"YV\",\"FlightNum\":9743,\"TailNum\":\"�NKNO�\",\"ActualElapsedTime\":\"NA\",\"CRSElapsedTime\":\"NA\",\"AirTime\":\"NA\",\"ArrDelay\":\"NA\",\"DepDelay\":\"NA\",\"Origin\":\"YUM\",\"Dest\":\"YUM\",\"Distance\":4431,\"TaxiIn\":\"NA\",\"TaxiOut\":\"NA\",\"Cancelled\":1,\"CancellationCode\":\"NA\",\"Diverted\":1,\"CarrierDelay\":\"NA\",\"WeatherDelay\":\"NA\",\"NASDelay\":\"NA\",\"SecurityDelay\":\"NA\",\"LateAircraftDelay\":\"NA\"},\"nullCount\":{\"Year\":0,\"Month\":0,\"DayofMonth\":0,\"DayofWeek\":0,\"DepTime\":0,\"CRSDepTime\":0,\"ArrTime\":0,\"CRSArrTime\":0,\"UniqueCarrier\":0,\"FlightNum\":0,\"TailNum\":40756,\"ActualElapsedTime\":0,\"CRSElapsedTime\":0,\"AirTime\":0,\"ArrDelay\":0,\"DepDelay\":0,\"Origin\":0,\"Dest\":0,\"Distance\":0,\"TaxiIn\":0,\"TaxiOut\":0,\"Cancelled\":0,\"CancellationCode\":12310937,\"Diverted\":0,\"CarrierDelay\":0,\"WeatherDelay\":0,\"NASDelay\":0,\"SecurityDelay\":0,\"LateAircraftDelay\":0}}",
          [
           "1738828509000000",
           "1738828509000046",
           "1738828509000000",
           "268435456",
           "130e3d3e-03cd-4d55-9c71-5e16b50d4102",
           "[\"Year\",\"Origin\"]",
           "hilbert"
          ]
         ],
         null,
         null
        ]
       ],
       "datasetInfos": [],
       "dbfsResultPath": null,
       "isJsonSchema": true,
       "metadata": {},
       "overflow": false,
       "plotOptions": {
        "customPlotOptions": {},
        "displayType": "table",
        "pivotAggregation": null,
        "pivotColumns": null,
        "xColumns": null,
        "yColumns": null
       },
       "removedWidgets": [],
       "schema": [
        {
         "metadata": "{}",
         "name": "add",
         "type": "{\"type\":\"struct\",\"fields\":[{\"name\":\"dataChange\",\"type\":\"boolean\",\"nullable\":true,\"metadata\":{}},{\"name\":\"modificationTime\",\"type\":\"long\",\"nullable\":true,\"metadata\":{}},{\"name\":\"path\",\"type\":\"string\",\"nullable\":true,\"metadata\":{}},{\"name\":\"size\",\"type\":\"long\",\"nullable\":true,\"metadata\":{}},{\"name\":\"stats\",\"type\":\"string\",\"nullable\":true,\"metadata\":{}},{\"name\":\"tags\",\"type\":{\"type\":\"struct\",\"fields\":[{\"name\":\"INSERTION_TIME\",\"type\":\"string\",\"nullable\":true,\"metadata\":{}},{\"name\":\"MAX_INSERTION_TIME\",\"type\":\"string\",\"nullable\":true,\"metadata\":{}},{\"name\":\"MIN_INSERTION_TIME\",\"type\":\"string\",\"nullable\":true,\"metadata\":{}},{\"name\":\"OPTIMIZE_TARGET_SIZE\",\"type\":\"string\",\"nullable\":true,\"metadata\":{}},{\"name\":\"ZCUBE_ID\",\"type\":\"string\",\"nullable\":true,\"metadata\":{}},{\"name\":\"ZCUBE_ZORDER_BY\",\"type\":\"string\",\"nullable\":true,\"metadata\":{}},{\"name\":\"ZCUBE_ZORDER_CURVE\",\"type\":\"string\",\"nullable\":true,\"metadata\":{}}]},\"nullable\":true,\"metadata\":{}}]}"
        },
        {
         "metadata": "{}",
         "name": "commitInfo",
         "type": "{\"type\":\"struct\",\"fields\":[{\"name\":\"clusterId\",\"type\":\"string\",\"nullable\":true,\"metadata\":{}},{\"name\":\"engineInfo\",\"type\":\"string\",\"nullable\":true,\"metadata\":{}},{\"name\":\"isBlindAppend\",\"type\":\"boolean\",\"nullable\":true,\"metadata\":{}},{\"name\":\"isolationLevel\",\"type\":\"string\",\"nullable\":true,\"metadata\":{}},{\"name\":\"notebook\",\"type\":{\"type\":\"struct\",\"fields\":[{\"name\":\"notebookId\",\"type\":\"string\",\"nullable\":true,\"metadata\":{}}]},\"nullable\":true,\"metadata\":{}},{\"name\":\"operation\",\"type\":\"string\",\"nullable\":true,\"metadata\":{}},{\"name\":\"operationMetrics\",\"type\":{\"type\":\"struct\",\"fields\":[{\"name\":\"maxFileSize\",\"type\":\"string\",\"nullable\":true,\"metadata\":{}},{\"name\":\"minFileSize\",\"type\":\"string\",\"nullable\":true,\"metadata\":{}},{\"name\":\"numAddedBytes\",\"type\":\"string\",\"nullable\":true,\"metadata\":{}},{\"name\":\"numAddedFiles\",\"type\":\"string\",\"nullable\":true,\"metadata\":{}},{\"name\":\"numDeletionVectorsRemoved\",\"type\":\"string\",\"nullable\":true,\"metadata\":{}},{\"name\":\"numRemovedBytes\",\"type\":\"string\",\"nullable\":true,\"metadata\":{}},{\"name\":\"numRemovedFiles\",\"type\":\"string\",\"nullable\":true,\"metadata\":{}},{\"name\":\"p25FileSize\",\"type\":\"string\",\"nullable\":true,\"metadata\":{}},{\"name\":\"p50FileSize\",\"type\":\"string\",\"nullable\":true,\"metadata\":{}},{\"name\":\"p75FileSize\",\"type\":\"string\",\"nullable\":true,\"metadata\":{}}]},\"nullable\":true,\"metadata\":{}},{\"name\":\"operationParameters\",\"type\":{\"type\":\"struct\",\"fields\":[{\"name\":\"auto\",\"type\":\"boolean\",\"nullable\":true,\"metadata\":{}},{\"name\":\"batchId\",\"type\":\"string\",\"nullable\":true,\"metadata\":{}},{\"name\":\"clusterBy\",\"type\":\"string\",\"nullable\":true,\"metadata\":{}},{\"name\":\"predicate\",\"type\":\"string\",\"nullable\":true,\"metadata\":{}},{\"name\":\"zOrderBy\",\"type\":\"string\",\"nullable\":true,\"metadata\":{}}]},\"nullable\":true,\"metadata\":{}},{\"name\":\"readVersion\",\"type\":\"long\",\"nullable\":true,\"metadata\":{}},{\"name\":\"tags\",\"type\":{\"type\":\"struct\",\"fields\":[{\"name\":\"delta.rowTracking.preserved\",\"type\":\"string\",\"nullable\":true,\"metadata\":{}}]},\"nullable\":true,\"metadata\":{}},{\"name\":\"timestamp\",\"type\":\"long\",\"nullable\":true,\"metadata\":{}},{\"name\":\"txnId\",\"type\":\"string\",\"nullable\":true,\"metadata\":{}},{\"name\":\"userId\",\"type\":\"string\",\"nullable\":true,\"metadata\":{}},{\"name\":\"userName\",\"type\":\"string\",\"nullable\":true,\"metadata\":{}}]}"
        },
        {
         "metadata": "{}",
         "name": "remove",
         "type": "{\"type\":\"struct\",\"fields\":[{\"name\":\"dataChange\",\"type\":\"boolean\",\"nullable\":true,\"metadata\":{}},{\"name\":\"deletionTimestamp\",\"type\":\"long\",\"nullable\":true,\"metadata\":{}},{\"name\":\"extendedFileMetadata\",\"type\":\"boolean\",\"nullable\":true,\"metadata\":{}},{\"name\":\"path\",\"type\":\"string\",\"nullable\":true,\"metadata\":{}},{\"name\":\"size\",\"type\":\"long\",\"nullable\":true,\"metadata\":{}},{\"name\":\"stats\",\"type\":\"string\",\"nullable\":true,\"metadata\":{}},{\"name\":\"tags\",\"type\":{\"type\":\"struct\",\"fields\":[{\"name\":\"INSERTION_TIME\",\"type\":\"string\",\"nullable\":true,\"metadata\":{}},{\"name\":\"MAX_INSERTION_TIME\",\"type\":\"string\",\"nullable\":true,\"metadata\":{}},{\"name\":\"MIN_INSERTION_TIME\",\"type\":\"string\",\"nullable\":true,\"metadata\":{}},{\"name\":\"OPTIMIZE_TARGET_SIZE\",\"type\":\"string\",\"nullable\":true,\"metadata\":{}}]},\"nullable\":true,\"metadata\":{}}]}"
        }
       ],
       "type": "table"
      }
     },
     "output_type": "display_data"
    }
   ],
   "source": [
    "%sql\n",
    "SELECT * FROM JSON.`dbfs:/user/hive/warehouse/flight_data_z/_delta_log/00000000000000000002.json`"
   ]
  },
  {
   "cell_type": "markdown",
   "metadata": {
    "application/vnd.databricks.v1+cell": {
     "cellMetadata": {
      "byteLimit": 2048000,
      "rowLimit": 10000
     },
     "inputWidgets": {},
     "nuid": "0c41db50-f4b5-4d0e-9d87-5042c89ef0cb",
     "showTitle": false,
     "tableResultSettingsMap": {},
     "title": ""
    }
   },
   "source": [
    "## Partition +  Z Order "
   ]
  },
  {
   "cell_type": "code",
   "execution_count": 0,
   "metadata": {
    "application/vnd.databricks.v1+cell": {
     "cellMetadata": {
      "byteLimit": 2048000,
      "rowLimit": 10000
     },
     "inputWidgets": {},
     "nuid": "22ddf8da-55cb-41f5-a75e-2e0e505a4ce2",
     "showTitle": false,
     "tableResultSettingsMap": {},
     "title": ""
    }
   },
   "outputs": [
    {
     "output_type": "execute_result",
     "data": {
      "text/plain": [
       "True"
      ]
     },
     "execution_count": 4,
     "metadata": {},
     "output_type": "execute_result"
    }
   ],
   "source": [
    "%python\n",
    "dbutils.fs.rm(\"dbfs:/user/hive/warehouse/flight_data_year_z\",True)"
   ]
  },
  {
   "cell_type": "code",
   "execution_count": 0,
   "metadata": {
    "application/vnd.databricks.v1+cell": {
     "cellMetadata": {
      "byteLimit": 2048000,
      "rowLimit": 10000
     },
     "inputWidgets": {},
     "nuid": "b2c0ebbd-029a-4532-9c39-96d2f7afe753",
     "showTitle": false,
     "tableResultSettingsMap": {},
     "title": ""
    }
   },
   "outputs": [
    {
     "output_type": "display_data",
     "data": {
      "text/html": [
       "<style scoped>\n",
       "  .table-result-container {\n",
       "    max-height: 300px;\n",
       "    overflow: auto;\n",
       "  }\n",
       "  table, th, td {\n",
       "    border: 1px solid black;\n",
       "    border-collapse: collapse;\n",
       "  }\n",
       "  th, td {\n",
       "    padding: 5px;\n",
       "  }\n",
       "  th {\n",
       "    text-align: left;\n",
       "  }\n",
       "</style><div class='table-result-container'><table class='table-result'><thead style='background-color: white'><tr></tr></thead><tbody></tbody></table></div>"
      ]
     },
     "metadata": {
      "application/vnd.databricks.v1+output": {
       "addedWidgets": {},
       "aggData": [],
       "aggError": "",
       "aggOverflow": false,
       "aggSchema": [],
       "aggSeriesLimitReached": false,
       "aggType": "",
       "arguments": {},
       "columnCustomDisplayInfos": {},
       "data": [],
       "datasetInfos": [],
       "dbfsResultPath": null,
       "isJsonSchema": true,
       "metadata": {
        "isDbfsCommandResult": false
       },
       "overflow": false,
       "plotOptions": {
        "customPlotOptions": {},
        "displayType": "table",
        "pivotAggregation": null,
        "pivotColumns": null,
        "xColumns": null,
        "yColumns": null
       },
       "removedWidgets": [],
       "schema": [],
       "type": "table"
      }
     },
     "output_type": "display_data"
    }
   ],
   "source": [
    "%sql\n",
    "DROP TABLE IF EXISTS flight_data_year_z;\n",
    "\n",
    "CREATE TABLE flight_data_year_z(\n",
    "   Year INT,Month INT,DayofMonth INT,DayofWeek INT,DepTime STRING, CRSDepTime INT,ArrTime STRING,CRSArrTime INT,UniqueCarrier STRING, FlightNum INT, TailNum STRING, ActualElapsedTime STRING,CRSElapsedTime STRING,AirTime STRING,\n",
    "  ArrDelay STRING, DepDelay STRING, Origin STRING,Dest STRING,Distance INT, TaxiIn STRING,TaxiOut STRING,Cancelled INT, CancellationCode STRING, Diverted INT,CarrierDelay STRING, WeatherDelay STRING, NASDelay STRING, SecurityDelay STRING,LateAircraftDelay STRING)\n",
    "  PARTITIONED BY (Year);"
   ]
  },
  {
   "cell_type": "code",
   "execution_count": 0,
   "metadata": {
    "application/vnd.databricks.v1+cell": {
     "cellMetadata": {
      "byteLimit": 2048000,
      "rowLimit": 10000
     },
     "inputWidgets": {},
     "nuid": "27142adc-b5a3-4a23-8401-d17cb93c1393",
     "showTitle": false,
     "tableResultSettingsMap": {},
     "title": ""
    }
   },
   "outputs": [],
   "source": [
    "%python\n",
    "spark.read.csv(\"dbfs:/databricks-datasets/asa/airlines/2*.csv\",header=True,inferSchema=True)\\\n",
    "    .write.mode(\"append\").saveAsTable(\"flight_data_year_z\")"
   ]
  },
  {
   "cell_type": "code",
   "execution_count": 0,
   "metadata": {
    "application/vnd.databricks.v1+cell": {
     "cellMetadata": {
      "byteLimit": 2048000,
      "rowLimit": 10000
     },
     "inputWidgets": {},
     "nuid": "73806cd9-0732-42ab-a644-263183d98ad4",
     "showTitle": false,
     "tableResultSettingsMap": {},
     "title": ""
    }
   },
   "outputs": [
    {
     "output_type": "display_data",
     "data": {
      "text/html": [
       "<style scoped>\n",
       "  .table-result-container {\n",
       "    max-height: 300px;\n",
       "    overflow: auto;\n",
       "  }\n",
       "  table, th, td {\n",
       "    border: 1px solid black;\n",
       "    border-collapse: collapse;\n",
       "  }\n",
       "  th, td {\n",
       "    padding: 5px;\n",
       "  }\n",
       "  th {\n",
       "    text-align: left;\n",
       "  }\n",
       "</style><div class='table-result-container'><table class='table-result'><thead style='background-color: white'><tr><th>path</th><th>name</th><th>size</th><th>modificationTime</th></tr></thead><tbody><tr><td>dbfs:/user/hive/warehouse/flight_data_year_z/Year=2008/part-00033-923e9541-9561-4855-a2c2-ee728bea064e.c000.snappy.parquet</td><td>part-00033-923e9541-9561-4855-a2c2-ee728bea064e.c000.snappy.parquet</td><td>26991104</td><td>1738831098000</td></tr><tr><td>dbfs:/user/hive/warehouse/flight_data_year_z/Year=2008/part-00034-577066c6-3777-4b40-99a7-0c6a3456f085.c000.snappy.parquet</td><td>part-00034-577066c6-3777-4b40-99a7-0c6a3456f085.c000.snappy.parquet</td><td>26843980</td><td>1738831109000</td></tr><tr><td>dbfs:/user/hive/warehouse/flight_data_year_z/Year=2008/part-00035-fbb8798f-334a-4b17-9e43-f4bd8977ef45.c000.snappy.parquet</td><td>part-00035-fbb8798f-334a-4b17-9e43-f4bd8977ef45.c000.snappy.parquet</td><td>26748290</td><td>1738831107000</td></tr><tr><td>dbfs:/user/hive/warehouse/flight_data_year_z/Year=2008/part-00036-cc46eb1f-5d1e-4665-aa68-ad8ffd657813.c000.snappy.parquet</td><td>part-00036-cc46eb1f-5d1e-4665-aa68-ad8ffd657813.c000.snappy.parquet</td><td>26157729</td><td>1738831115000</td></tr><tr><td>dbfs:/user/hive/warehouse/flight_data_year_z/Year=2008/part-00037-95f713d5-c0b4-4fd2-98e8-7fd1871bae26.c000.snappy.parquet</td><td>part-00037-95f713d5-c0b4-4fd2-98e8-7fd1871bae26.c000.snappy.parquet</td><td>25838570</td><td>1738831125000</td></tr><tr><td>dbfs:/user/hive/warehouse/flight_data_year_z/Year=2008/part-00043-e437626a-a3ae-42c4-bbc7-54a26f62812b.c000.snappy.parquet</td><td>part-00043-e437626a-a3ae-42c4-bbc7-54a26f62812b.c000.snappy.parquet</td><td>3149821</td><td>1738831156000</td></tr></tbody></table></div>"
      ]
     },
     "metadata": {
      "application/vnd.databricks.v1+output": {
       "addedWidgets": {},
       "aggData": [],
       "aggError": "",
       "aggOverflow": false,
       "aggSchema": [],
       "aggSeriesLimitReached": false,
       "aggType": "",
       "arguments": {},
       "columnCustomDisplayInfos": {},
       "data": [
        [
         "dbfs:/user/hive/warehouse/flight_data_year_z/Year=2008/part-00033-923e9541-9561-4855-a2c2-ee728bea064e.c000.snappy.parquet",
         "part-00033-923e9541-9561-4855-a2c2-ee728bea064e.c000.snappy.parquet",
         26991104,
         1738831098000
        ],
        [
         "dbfs:/user/hive/warehouse/flight_data_year_z/Year=2008/part-00034-577066c6-3777-4b40-99a7-0c6a3456f085.c000.snappy.parquet",
         "part-00034-577066c6-3777-4b40-99a7-0c6a3456f085.c000.snappy.parquet",
         26843980,
         1738831109000
        ],
        [
         "dbfs:/user/hive/warehouse/flight_data_year_z/Year=2008/part-00035-fbb8798f-334a-4b17-9e43-f4bd8977ef45.c000.snappy.parquet",
         "part-00035-fbb8798f-334a-4b17-9e43-f4bd8977ef45.c000.snappy.parquet",
         26748290,
         1738831107000
        ],
        [
         "dbfs:/user/hive/warehouse/flight_data_year_z/Year=2008/part-00036-cc46eb1f-5d1e-4665-aa68-ad8ffd657813.c000.snappy.parquet",
         "part-00036-cc46eb1f-5d1e-4665-aa68-ad8ffd657813.c000.snappy.parquet",
         26157729,
         1738831115000
        ],
        [
         "dbfs:/user/hive/warehouse/flight_data_year_z/Year=2008/part-00037-95f713d5-c0b4-4fd2-98e8-7fd1871bae26.c000.snappy.parquet",
         "part-00037-95f713d5-c0b4-4fd2-98e8-7fd1871bae26.c000.snappy.parquet",
         25838570,
         1738831125000
        ],
        [
         "dbfs:/user/hive/warehouse/flight_data_year_z/Year=2008/part-00043-e437626a-a3ae-42c4-bbc7-54a26f62812b.c000.snappy.parquet",
         "part-00043-e437626a-a3ae-42c4-bbc7-54a26f62812b.c000.snappy.parquet",
         3149821,
         1738831156000
        ]
       ],
       "datasetInfos": [],
       "dbfsResultPath": null,
       "isJsonSchema": true,
       "metadata": {
        "isDbfsCommandResult": false
       },
       "overflow": false,
       "plotOptions": {
        "customPlotOptions": {},
        "displayType": "table",
        "pivotAggregation": null,
        "pivotColumns": null,
        "xColumns": null,
        "yColumns": null
       },
       "removedWidgets": [],
       "schema": [
        {
         "metadata": "{}",
         "name": "path",
         "type": "\"string\""
        },
        {
         "metadata": "{}",
         "name": "name",
         "type": "\"string\""
        },
        {
         "metadata": "{}",
         "name": "size",
         "type": "\"long\""
        },
        {
         "metadata": "{}",
         "name": "modificationTime",
         "type": "\"long\""
        }
       ],
       "type": "table"
      }
     },
     "output_type": "display_data"
    }
   ],
   "source": [
    "%fs ls dbfs:/user/hive/warehouse/flight_data_year_z/Year=2008/"
   ]
  },
  {
   "cell_type": "markdown",
   "metadata": {
    "application/vnd.databricks.v1+cell": {
     "cellMetadata": {
      "byteLimit": 2048000,
      "rowLimit": 10000
     },
     "inputWidgets": {},
     "nuid": "449b6182-3b9c-4760-a211-20364df29fb0",
     "showTitle": false,
     "tableResultSettingsMap": {},
     "title": ""
    }
   },
   "source": [
    "we can do the z order for each partition, for each partition we can have different pattern "
   ]
  },
  {
   "cell_type": "code",
   "execution_count": 0,
   "metadata": {
    "application/vnd.databricks.v1+cell": {
     "cellMetadata": {
      "byteLimit": 2048000,
      "rowLimit": 10000
     },
     "inputWidgets": {},
     "nuid": "dca116bd-2668-48dd-841c-6ba485d9581b",
     "showTitle": false,
     "tableResultSettingsMap": {},
     "title": ""
    }
   },
   "outputs": [
    {
     "output_type": "display_data",
     "data": {
      "text/html": [
       "<style scoped>\n",
       "  .table-result-container {\n",
       "    max-height: 300px;\n",
       "    overflow: auto;\n",
       "  }\n",
       "  table, th, td {\n",
       "    border: 1px solid black;\n",
       "    border-collapse: collapse;\n",
       "  }\n",
       "  th, td {\n",
       "    padding: 5px;\n",
       "  }\n",
       "  th {\n",
       "    text-align: left;\n",
       "  }\n",
       "</style><div class='table-result-container'><table class='table-result'><thead style='background-color: white'><tr><th>path</th><th>metrics</th></tr></thead><tbody><tr><td>dbfs:/user/hive/warehouse/flight_data_year_z</td><td>List(1, 6, List(138973647, 138973647, 1.38973647E8, 1, 138973647), List(3149821, 26991104, 2.2621582333333332E7, 6, 135729494), 1, List(minCubeSize(107374182400), List(0, 0), List(6, 135729494), 0, List(6, 135729494), 1, null), null, 0, 1, 6, 0, false, 0, 0, 1738831180567, 1738831285266, 8, 1, null, List(0, 0), 29, 29, 83165, 0, null)</td></tr></tbody></table></div>"
      ]
     },
     "metadata": {
      "application/vnd.databricks.v1+output": {
       "addedWidgets": {},
       "aggData": [],
       "aggError": "",
       "aggOverflow": false,
       "aggSchema": [],
       "aggSeriesLimitReached": false,
       "aggType": "",
       "arguments": {},
       "columnCustomDisplayInfos": {},
       "data": [
        [
         "dbfs:/user/hive/warehouse/flight_data_year_z",
         [
          1,
          6,
          [
           138973647,
           138973647,
           1.38973647E8,
           1,
           138973647
          ],
          [
           3149821,
           26991104,
           2.2621582333333332E7,
           6,
           135729494
          ],
          1,
          [
           "minCubeSize(107374182400)",
           [
            0,
            0
           ],
           [
            6,
            135729494
           ],
           0,
           [
            6,
            135729494
           ],
           1,
           null
          ],
          null,
          0,
          1,
          6,
          0,
          false,
          0,
          0,
          1738831180567,
          1738831285266,
          8,
          1,
          null,
          [
           0,
           0
          ],
          29,
          29,
          83165,
          0,
          null
         ]
        ]
       ],
       "datasetInfos": [],
       "dbfsResultPath": null,
       "isJsonSchema": true,
       "metadata": {},
       "overflow": false,
       "plotOptions": {
        "customPlotOptions": {},
        "displayType": "table",
        "pivotAggregation": null,
        "pivotColumns": null,
        "xColumns": null,
        "yColumns": null
       },
       "removedWidgets": [],
       "schema": [
        {
         "metadata": "{}",
         "name": "path",
         "type": "\"string\""
        },
        {
         "metadata": "{}",
         "name": "metrics",
         "type": "{\"type\":\"struct\",\"fields\":[{\"name\":\"numFilesAdded\",\"type\":\"long\",\"nullable\":false,\"metadata\":{}},{\"name\":\"numFilesRemoved\",\"type\":\"long\",\"nullable\":false,\"metadata\":{}},{\"name\":\"filesAdded\",\"type\":{\"type\":\"struct\",\"fields\":[{\"name\":\"min\",\"type\":\"long\",\"nullable\":true,\"metadata\":{}},{\"name\":\"max\",\"type\":\"long\",\"nullable\":true,\"metadata\":{}},{\"name\":\"avg\",\"type\":\"double\",\"nullable\":false,\"metadata\":{}},{\"name\":\"totalFiles\",\"type\":\"long\",\"nullable\":false,\"metadata\":{}},{\"name\":\"totalSize\",\"type\":\"long\",\"nullable\":false,\"metadata\":{}}]},\"nullable\":true,\"metadata\":{}},{\"name\":\"filesRemoved\",\"type\":{\"type\":\"struct\",\"fields\":[{\"name\":\"min\",\"type\":\"long\",\"nullable\":true,\"metadata\":{}},{\"name\":\"max\",\"type\":\"long\",\"nullable\":true,\"metadata\":{}},{\"name\":\"avg\",\"type\":\"double\",\"nullable\":false,\"metadata\":{}},{\"name\":\"totalFiles\",\"type\":\"long\",\"nullable\":false,\"metadata\":{}},{\"name\":\"totalSize\",\"type\":\"long\",\"nullable\":false,\"metadata\":{}}]},\"nullable\":true,\"metadata\":{}},{\"name\":\"partitionsOptimized\",\"type\":\"long\",\"nullable\":false,\"metadata\":{}},{\"name\":\"zOrderStats\",\"type\":{\"type\":\"struct\",\"fields\":[{\"name\":\"strategyName\",\"type\":\"string\",\"nullable\":true,\"metadata\":{}},{\"name\":\"inputCubeFiles\",\"type\":{\"type\":\"struct\",\"fields\":[{\"name\":\"num\",\"type\":\"long\",\"nullable\":false,\"metadata\":{}},{\"name\":\"size\",\"type\":\"long\",\"nullable\":false,\"metadata\":{}}]},\"nullable\":true,\"metadata\":{}},{\"name\":\"inputOtherFiles\",\"type\":{\"type\":\"struct\",\"fields\":[{\"name\":\"num\",\"type\":\"long\",\"nullable\":false,\"metadata\":{}},{\"name\":\"size\",\"type\":\"long\",\"nullable\":false,\"metadata\":{}}]},\"nullable\":true,\"metadata\":{}},{\"name\":\"inputNumCubes\",\"type\":\"long\",\"nullable\":false,\"metadata\":{}},{\"name\":\"mergedFiles\",\"type\":{\"type\":\"struct\",\"fields\":[{\"name\":\"num\",\"type\":\"long\",\"nullable\":false,\"metadata\":{}},{\"name\":\"size\",\"type\":\"long\",\"nullable\":false,\"metadata\":{}}]},\"nullable\":true,\"metadata\":{}},{\"name\":\"numOutputCubes\",\"type\":\"long\",\"nullable\":false,\"metadata\":{}},{\"name\":\"mergedNumCubes\",\"type\":\"long\",\"nullable\":true,\"metadata\":{}}]},\"nullable\":true,\"metadata\":{}},{\"name\":\"clusteringStats\",\"type\":{\"type\":\"struct\",\"fields\":[{\"name\":\"inputZCubeFiles\",\"type\":{\"type\":\"struct\",\"fields\":[{\"name\":\"numFiles\",\"type\":\"long\",\"nullable\":false,\"metadata\":{}},{\"name\":\"size\",\"type\":\"long\",\"nullable\":false,\"metadata\":{}}]},\"nullable\":true,\"metadata\":{}},{\"name\":\"inputOtherFiles\",\"type\":{\"type\":\"struct\",\"fields\":[{\"name\":\"numFiles\",\"type\":\"long\",\"nullable\":false,\"metadata\":{}},{\"name\":\"size\",\"type\":\"long\",\"nullable\":false,\"metadata\":{}}]},\"nullable\":true,\"metadata\":{}},{\"name\":\"inputNumZCubes\",\"type\":\"long\",\"nullable\":false,\"metadata\":{}},{\"name\":\"mergedFiles\",\"type\":{\"type\":\"struct\",\"fields\":[{\"name\":\"numFiles\",\"type\":\"long\",\"nullable\":false,\"metadata\":{}},{\"name\":\"size\",\"type\":\"long\",\"nullable\":false,\"metadata\":{}}]},\"nullable\":true,\"metadata\":{}},{\"name\":\"numOutputZCubes\",\"type\":\"long\",\"nullable\":false,\"metadata\":{}}]},\"nullable\":true,\"metadata\":{}},{\"name\":\"numBins\",\"type\":\"long\",\"nullable\":false,\"metadata\":{}},{\"name\":\"numBatches\",\"type\":\"long\",\"nullable\":false,\"metadata\":{}},{\"name\":\"totalConsideredFiles\",\"type\":\"long\",\"nullable\":false,\"metadata\":{}},{\"name\":\"totalFilesSkipped\",\"type\":\"long\",\"nullable\":false,\"metadata\":{}},{\"name\":\"preserveInsertionOrder\",\"type\":\"boolean\",\"nullable\":false,\"metadata\":{}},{\"name\":\"numFilesSkippedToReduceWriteAmplification\",\"type\":\"long\",\"nullable\":false,\"metadata\":{}},{\"name\":\"numBytesSkippedToReduceWriteAmplification\",\"type\":\"long\",\"nullable\":false,\"metadata\":{}},{\"name\":\"startTimeMs\",\"type\":\"long\",\"nullable\":false,\"metadata\":{}},{\"name\":\"endTimeMs\",\"type\":\"long\",\"nullable\":false,\"metadata\":{}},{\"name\":\"totalClusterParallelism\",\"type\":\"long\",\"nullable\":false,\"metadata\":{}},{\"name\":\"totalScheduledTasks\",\"type\":\"long\",\"nullable\":false,\"metadata\":{}},{\"name\":\"autoCompactParallelismStats\",\"type\":{\"type\":\"struct\",\"fields\":[{\"name\":\"maxClusterActiveParallelism\",\"type\":\"long\",\"nullable\":true,\"metadata\":{}},{\"name\":\"minClusterActiveParallelism\",\"type\":\"long\",\"nullable\":true,\"metadata\":{}},{\"name\":\"maxSessionActiveParallelism\",\"type\":\"long\",\"nullable\":true,\"metadata\":{}},{\"name\":\"minSessionActiveParallelism\",\"type\":\"long\",\"nullable\":true,\"metadata\":{}}]},\"nullable\":true,\"metadata\":{}},{\"name\":\"deletionVectorStats\",\"type\":{\"type\":\"struct\",\"fields\":[{\"name\":\"numDeletionVectorsRemoved\",\"type\":\"long\",\"nullable\":false,\"metadata\":{}},{\"name\":\"numDeletionVectorRowsRemoved\",\"type\":\"long\",\"nullable\":false,\"metadata\":{}}]},\"nullable\":true,\"metadata\":{}},{\"name\":\"numTableColumns\",\"type\":\"long\",\"nullable\":false,\"metadata\":{}},{\"name\":\"numTableColumnsWithStats\",\"type\":\"long\",\"nullable\":false,\"metadata\":{}},{\"name\":\"totalTaskExecutionTimeMs\",\"type\":\"long\",\"nullable\":false,\"metadata\":{}},{\"name\":\"skippedArchivedFiles\",\"type\":\"long\",\"nullable\":false,\"metadata\":{}},{\"name\":\"clusteringMetrics\",\"type\":{\"type\":\"struct\",\"fields\":[{\"name\":\"sizeOfTableInBytesBeforeLazyClustering\",\"type\":\"long\",\"nullable\":false,\"metadata\":{}},{\"name\":\"isNewMetadataCreated\",\"type\":\"boolean\",\"nullable\":false,\"metadata\":{}},{\"name\":\"isPOTriggered\",\"type\":\"boolean\",\"nullable\":false,\"metadata\":{}},{\"name\":\"numFilesSkippedWithoutStats\",\"type\":\"long\",\"nullable\":false,\"metadata\":{}},{\"name\":\"numFilesClassifiedToIntermediateNodes\",\"type\":\"long\",\"nullable\":false,\"metadata\":{}},{\"name\":\"sizeOfFilesClassifiedToIntermediateNodesInBytes\",\"type\":\"long\",\"nullable\":false,\"metadata\":{}},{\"name\":\"logicalSizeOfFilesClassifiedToIntermediateNodesInBytes\",\"type\":\"long\",\"nullable\":false,\"metadata\":{}},{\"name\":\"numFilesClassifiedToLeafNodes\",\"type\":\"long\",\"nullable\":false,\"metadata\":{}},{\"name\":\"sizeOfFilesClassifiedToLeafNodesInBytes\",\"type\":\"long\",\"nullable\":false,\"metadata\":{}},{\"name\":\"logicalSizeOfFilesClassifiedToLeafNodesInBytes\",\"type\":\"long\",\"nullable\":false,\"metadata\":{}},{\"name\":\"numThreadsForClassifier\",\"type\":\"integer\",\"nullable\":true,\"metadata\":{}},{\"name\":\"clusterThresholdStrategy\",\"type\":\"string\",\"nullable\":true,\"metadata\":{}},{\"name\":\"minFileSize\",\"type\":\"long\",\"nullable\":false,\"metadata\":{}},{\"name\":\"maxFileSize\",\"type\":\"long\",\"nullable\":false,\"metadata\":{}},{\"name\":\"nodeMinNumFilesToCompact\",\"type\":\"long\",\"nullable\":false,\"metadata\":{}},{\"name\":\"numIdealFiles\",\"type\":\"long\",\"nullable\":false,\"metadata\":{}},{\"name\":\"numClusteringTasksPlanned\",\"type\":\"integer\",\"nullable\":false,\"metadata\":{}},{\"name\":\"numCompactionTasksPlanned\",\"type\":\"integer\",\"nullable\":false,\"metadata\":{}},{\"name\":\"numOptimizeBatchesPlanned\",\"type\":\"integer\",\"nullable\":false,\"metadata\":{}},{\"name\":\"numLeafNodesExpanded\",\"type\":\"long\",\"nullable\":false,\"metadata\":{}},{\"name\":\"numLeafNodesClustered\",\"type\":\"long\",\"nullable\":false,\"metadata\":{}},{\"name\":\"numGetFilesForNodeCalls\",\"type\":\"long\",\"nullable\":false,\"metadata\":{}},{\"name\":\"numSamplingJobs\",\"type\":\"long\",\"nullable\":false,\"metadata\":{}},{\"name\":\"numLeafNodesCompacted\",\"type\":\"long\",\"nullable\":false,\"metadata\":{}},{\"name\":\"numIntermediateNodesCompacted\",\"type\":\"long\",\"nullable\":false,\"metadata\":{}},{\"name\":\"totalSizeOfDataToCompactInBytes\",\"type\":\"long\",\"nullable\":false,\"metadata\":{}},{\"name\":\"totalLogicalSizeOfDataToCompactInBytes\",\"type\":\"long\",\"nullable\":false,\"metadata\":{}},{\"name\":\"numIntermediateNodesClustered\",\"type\":\"long\",\"nullable\":false,\"metadata\":{}},{\"name\":\"numFilesSkippedAfterExpansion\",\"type\":\"long\",\"nullable\":false,\"metadata\":{}},{\"name\":\"totalSizeOfFilesSkippedAfterExpansionInBytes\",\"type\":\"long\",\"nullable\":false,\"metadata\":{}},{\"name\":\"totalLogicalSizeOfFilesSkippedAfterExpansionInBytes\",\"type\":\"long\",\"nullable\":false,\"metadata\":{}},{\"name\":\"totalSizeOfDataToRewriteInBytes\",\"type\":\"long\",\"nullable\":false,\"metadata\":{}},{\"name\":\"totalLogicalSizeOfDataToRewriteInBytes\",\"type\":\"long\",\"nullable\":false,\"metadata\":{}},{\"name\":\"timeMetrics\",\"type\":{\"type\":\"struct\",\"fields\":[{\"name\":\"classifierTimeMs\",\"type\":\"long\",\"nullable\":false,\"metadata\":{}},{\"name\":\"optimizerTimeMs\",\"type\":\"long\",\"nullable\":false,\"metadata\":{}},{\"name\":\"metadataLoadTimeMs\",\"type\":\"long\",\"nullable\":false,\"metadata\":{}},{\"name\":\"totalGetFilesForNodeCallsTimeMs\",\"type\":\"long\",\"nullable\":false,\"metadata\":{}},{\"name\":\"totalSamplingTimeMs\",\"type\":\"long\",\"nullable\":false,\"metadata\":{}},{\"name\":\"metadataCreationTimeMs\",\"type\":\"long\",\"nullable\":false,\"metadata\":{}}]},\"nullable\":true,\"metadata\":{}},{\"name\":\"maxOptimizeBatchesInParallel\",\"type\":\"long\",\"nullable\":false,\"metadata\":{}},{\"name\":\"currentIteration\",\"type\":\"integer\",\"nullable\":false,\"metadata\":{}},{\"name\":\"maxIterations\",\"type\":\"integer\",\"nullable\":false,\"metadata\":{}},{\"name\":\"clusteringStrategy\",\"type\":\"string\",\"nullable\":true,\"metadata\":{}}]},\"nullable\":true,\"metadata\":{}}]}"
        }
       ],
       "type": "table"
      }
     },
     "output_type": "display_data"
    }
   ],
   "source": [
    "%sql\n",
    "OPTIMIZE flight_data_year_z\n",
    "WHERE Year=2008\n",
    "ZORDER BY (Origin);"
   ]
  },
  {
   "cell_type": "code",
   "execution_count": 0,
   "metadata": {
    "application/vnd.databricks.v1+cell": {
     "cellMetadata": {
      "byteLimit": 2048000,
      "rowLimit": 10000
     },
     "inputWidgets": {},
     "nuid": "0e11eef8-d108-4f21-bcbf-884c3c44c697",
     "showTitle": false,
     "tableResultSettingsMap": {},
     "title": ""
    }
   },
   "outputs": [
    {
     "output_type": "display_data",
     "data": {
      "text/html": [
       "<style scoped>\n",
       "  .table-result-container {\n",
       "    max-height: 300px;\n",
       "    overflow: auto;\n",
       "  }\n",
       "  table, th, td {\n",
       "    border: 1px solid black;\n",
       "    border-collapse: collapse;\n",
       "  }\n",
       "  th, td {\n",
       "    padding: 5px;\n",
       "  }\n",
       "  th {\n",
       "    text-align: left;\n",
       "  }\n",
       "</style><div class='table-result-container'><table class='table-result'><thead style='background-color: white'><tr><th>path</th></tr></thead><tbody><tr><td>dbfs:/user/hive/warehouse/flight_data_year_z</td></tr></tbody></table></div>"
      ]
     },
     "metadata": {
      "application/vnd.databricks.v1+output": {
       "addedWidgets": {},
       "aggData": [],
       "aggError": "",
       "aggOverflow": false,
       "aggSchema": [],
       "aggSeriesLimitReached": false,
       "aggType": "",
       "arguments": {},
       "columnCustomDisplayInfos": {},
       "data": [
        [
         "dbfs:/user/hive/warehouse/flight_data_year_z"
        ]
       ],
       "datasetInfos": [],
       "dbfsResultPath": null,
       "isJsonSchema": true,
       "metadata": {
        "isDbfsCommandResult": false
       },
       "overflow": false,
       "plotOptions": {
        "customPlotOptions": {},
        "displayType": "table",
        "pivotAggregation": null,
        "pivotColumns": null,
        "xColumns": null,
        "yColumns": null
       },
       "removedWidgets": [],
       "schema": [
        {
         "metadata": "{}",
         "name": "path",
         "type": "\"string\""
        }
       ],
       "type": "table"
      }
     },
     "output_type": "display_data"
    }
   ],
   "source": [
    "%sql\n",
    "SET spark.databricks.delta.retentionDurationCheck.enabled=false;\n",
    "VACUUM flight_data_year_z RETAIN 0 HOURS;"
   ]
  },
  {
   "cell_type": "code",
   "execution_count": 0,
   "metadata": {
    "application/vnd.databricks.v1+cell": {
     "cellMetadata": {
      "byteLimit": 2048000,
      "rowLimit": 10000
     },
     "inputWidgets": {},
     "nuid": "95d197ed-f327-49d6-bb1e-b24e477c8bf1",
     "showTitle": false,
     "tableResultSettingsMap": {},
     "title": ""
    }
   },
   "outputs": [
    {
     "output_type": "display_data",
     "data": {
      "text/html": [
       "<style scoped>\n",
       "  .table-result-container {\n",
       "    max-height: 300px;\n",
       "    overflow: auto;\n",
       "  }\n",
       "  table, th, td {\n",
       "    border: 1px solid black;\n",
       "    border-collapse: collapse;\n",
       "  }\n",
       "  th, td {\n",
       "    padding: 5px;\n",
       "  }\n",
       "  th {\n",
       "    text-align: left;\n",
       "  }\n",
       "</style><div class='table-result-container'><table class='table-result'><thead style='background-color: white'><tr><th>path</th><th>name</th><th>size</th><th>modificationTime</th></tr></thead><tbody><tr><td>dbfs:/user/hive/warehouse/flight_data_year_z/Year=2008/part-00000-384a5c1e-28ab-41e3-b9bd-9947627fde42.c000.snappy.parquet</td><td>part-00000-384a5c1e-28ab-41e3-b9bd-9947627fde42.c000.snappy.parquet</td><td>138973647</td><td>1738831280000</td></tr></tbody></table></div>"
      ]
     },
     "metadata": {
      "application/vnd.databricks.v1+output": {
       "addedWidgets": {},
       "aggData": [],
       "aggError": "",
       "aggOverflow": false,
       "aggSchema": [],
       "aggSeriesLimitReached": false,
       "aggType": "",
       "arguments": {},
       "columnCustomDisplayInfos": {},
       "data": [
        [
         "dbfs:/user/hive/warehouse/flight_data_year_z/Year=2008/part-00000-384a5c1e-28ab-41e3-b9bd-9947627fde42.c000.snappy.parquet",
         "part-00000-384a5c1e-28ab-41e3-b9bd-9947627fde42.c000.snappy.parquet",
         138973647,
         1738831280000
        ]
       ],
       "datasetInfos": [],
       "dbfsResultPath": null,
       "isJsonSchema": true,
       "metadata": {
        "isDbfsCommandResult": false
       },
       "overflow": false,
       "plotOptions": {
        "customPlotOptions": {},
        "displayType": "table",
        "pivotAggregation": null,
        "pivotColumns": null,
        "xColumns": null,
        "yColumns": null
       },
       "removedWidgets": [],
       "schema": [
        {
         "metadata": "{}",
         "name": "path",
         "type": "\"string\""
        },
        {
         "metadata": "{}",
         "name": "name",
         "type": "\"string\""
        },
        {
         "metadata": "{}",
         "name": "size",
         "type": "\"long\""
        },
        {
         "metadata": "{}",
         "name": "modificationTime",
         "type": "\"long\""
        }
       ],
       "type": "table"
      }
     },
     "output_type": "display_data"
    }
   ],
   "source": [
    "%fs ls dbfs:/user/hive/warehouse/flight_data_year_z/Year=2008/"
   ]
  },
  {
   "cell_type": "code",
   "execution_count": 0,
   "metadata": {
    "application/vnd.databricks.v1+cell": {
     "cellMetadata": {
      "byteLimit": 2048000,
      "rowLimit": 10000
     },
     "inputWidgets": {},
     "nuid": "7f00f6a9-6577-43b8-a551-093eeaa1ccf4",
     "showTitle": false,
     "tableResultSettingsMap": {},
     "title": ""
    }
   },
   "outputs": [
    {
     "output_type": "display_data",
     "data": {
      "text/html": [
       "<style scoped>\n",
       "  .table-result-container {\n",
       "    max-height: 300px;\n",
       "    overflow: auto;\n",
       "  }\n",
       "  table, th, td {\n",
       "    border: 1px solid black;\n",
       "    border-collapse: collapse;\n",
       "  }\n",
       "  th, td {\n",
       "    padding: 5px;\n",
       "  }\n",
       "  th {\n",
       "    text-align: left;\n",
       "  }\n",
       "</style><div class='table-result-container'><table class='table-result'><thead style='background-color: white'><tr><th>path</th><th>name</th><th>size</th><th>modificationTime</th></tr></thead><tbody><tr><td>dbfs:/user/hive/warehouse/flight_data_year_z/Year=2007/part-00028-b73e88f4-3b44-42cc-abd6-95bc4b450e7b.c000.snappy.parquet</td><td>part-00028-b73e88f4-3b44-42cc-abd6-95bc4b450e7b.c000.snappy.parquet</td><td>26983653</td><td>1738830952000</td></tr><tr><td>dbfs:/user/hive/warehouse/flight_data_year_z/Year=2007/part-00029-639e4f56-182f-49cc-b310-7d5611b373cd.c000.snappy.parquet</td><td>part-00029-639e4f56-182f-49cc-b310-7d5611b373cd.c000.snappy.parquet</td><td>26719088</td><td>1738830974000</td></tr><tr><td>dbfs:/user/hive/warehouse/flight_data_year_z/Year=2007/part-00030-30598078-d5bf-4955-b77c-2aad21c1b60f.c000.snappy.parquet</td><td>part-00030-30598078-d5bf-4955-b77c-2aad21c1b60f.c000.snappy.parquet</td><td>27034499</td><td>1738830968000</td></tr><tr><td>dbfs:/user/hive/warehouse/flight_data_year_z/Year=2007/part-00031-7f62d306-f4c7-405a-97fe-4dc998d1c496.c000.snappy.parquet</td><td>part-00031-7f62d306-f4c7-405a-97fe-4dc998d1c496.c000.snappy.parquet</td><td>26743718</td><td>1738830970000</td></tr><tr><td>dbfs:/user/hive/warehouse/flight_data_year_z/Year=2007/part-00032-f1e24736-888f-49a9-beea-4844180a1ab0.c000.snappy.parquet</td><td>part-00032-f1e24736-888f-49a9-beea-4844180a1ab0.c000.snappy.parquet</td><td>26056520</td><td>1738831101000</td></tr><tr><td>dbfs:/user/hive/warehouse/flight_data_year_z/Year=2007/part-00043-1ac1d537-0edc-40a6-9f1f-a796af657365.c000.snappy.parquet</td><td>part-00043-1ac1d537-0edc-40a6-9f1f-a796af657365.c000.snappy.parquet</td><td>5737131</td><td>1738831150000</td></tr></tbody></table></div>"
      ]
     },
     "metadata": {
      "application/vnd.databricks.v1+output": {
       "addedWidgets": {},
       "aggData": [],
       "aggError": "",
       "aggOverflow": false,
       "aggSchema": [],
       "aggSeriesLimitReached": false,
       "aggType": "",
       "arguments": {},
       "columnCustomDisplayInfos": {},
       "data": [
        [
         "dbfs:/user/hive/warehouse/flight_data_year_z/Year=2007/part-00028-b73e88f4-3b44-42cc-abd6-95bc4b450e7b.c000.snappy.parquet",
         "part-00028-b73e88f4-3b44-42cc-abd6-95bc4b450e7b.c000.snappy.parquet",
         26983653,
         1738830952000
        ],
        [
         "dbfs:/user/hive/warehouse/flight_data_year_z/Year=2007/part-00029-639e4f56-182f-49cc-b310-7d5611b373cd.c000.snappy.parquet",
         "part-00029-639e4f56-182f-49cc-b310-7d5611b373cd.c000.snappy.parquet",
         26719088,
         1738830974000
        ],
        [
         "dbfs:/user/hive/warehouse/flight_data_year_z/Year=2007/part-00030-30598078-d5bf-4955-b77c-2aad21c1b60f.c000.snappy.parquet",
         "part-00030-30598078-d5bf-4955-b77c-2aad21c1b60f.c000.snappy.parquet",
         27034499,
         1738830968000
        ],
        [
         "dbfs:/user/hive/warehouse/flight_data_year_z/Year=2007/part-00031-7f62d306-f4c7-405a-97fe-4dc998d1c496.c000.snappy.parquet",
         "part-00031-7f62d306-f4c7-405a-97fe-4dc998d1c496.c000.snappy.parquet",
         26743718,
         1738830970000
        ],
        [
         "dbfs:/user/hive/warehouse/flight_data_year_z/Year=2007/part-00032-f1e24736-888f-49a9-beea-4844180a1ab0.c000.snappy.parquet",
         "part-00032-f1e24736-888f-49a9-beea-4844180a1ab0.c000.snappy.parquet",
         26056520,
         1738831101000
        ],
        [
         "dbfs:/user/hive/warehouse/flight_data_year_z/Year=2007/part-00043-1ac1d537-0edc-40a6-9f1f-a796af657365.c000.snappy.parquet",
         "part-00043-1ac1d537-0edc-40a6-9f1f-a796af657365.c000.snappy.parquet",
         5737131,
         1738831150000
        ]
       ],
       "datasetInfos": [],
       "dbfsResultPath": null,
       "isJsonSchema": true,
       "metadata": {
        "isDbfsCommandResult": false
       },
       "overflow": false,
       "plotOptions": {
        "customPlotOptions": {},
        "displayType": "table",
        "pivotAggregation": null,
        "pivotColumns": null,
        "xColumns": null,
        "yColumns": null
       },
       "removedWidgets": [],
       "schema": [
        {
         "metadata": "{}",
         "name": "path",
         "type": "\"string\""
        },
        {
         "metadata": "{}",
         "name": "name",
         "type": "\"string\""
        },
        {
         "metadata": "{}",
         "name": "size",
         "type": "\"long\""
        },
        {
         "metadata": "{}",
         "name": "modificationTime",
         "type": "\"long\""
        }
       ],
       "type": "table"
      }
     },
     "output_type": "display_data"
    }
   ],
   "source": [
    "%fs ls dbfs:/user/hive/warehouse/flight_data_year_z/Year=2007/"
   ]
  },
  {
   "cell_type": "markdown",
   "metadata": {
    "application/vnd.databricks.v1+cell": {
     "cellMetadata": {
      "byteLimit": 2048000,
      "rowLimit": 10000
     },
     "inputWidgets": {},
     "nuid": "90ae0599-8a3b-4633-be9b-12462cd6b7a1",
     "showTitle": false,
     "tableResultSettingsMap": {},
     "title": ""
    }
   },
   "source": [
    "we can see different files for different years , many files in 2007 where we are not doing any z order and 1 file in 2008 "
   ]
  },
  {
   "cell_type": "markdown",
   "metadata": {
    "application/vnd.databricks.v1+cell": {
     "cellMetadata": {
      "byteLimit": 2048000,
      "rowLimit": 10000
     },
     "inputWidgets": {},
     "nuid": "b9a3bdc4-75af-42e5-9228-a8158c3eef20",
     "showTitle": false,
     "tableResultSettingsMap": {},
     "title": ""
    }
   },
   "source": [
    "now we can do z order for all the years"
   ]
  },
  {
   "cell_type": "code",
   "execution_count": 0,
   "metadata": {
    "application/vnd.databricks.v1+cell": {
     "cellMetadata": {
      "byteLimit": 2048000,
      "rowLimit": 10000
     },
     "inputWidgets": {},
     "nuid": "9cecbe25-e91d-4841-a311-72f1e8cffa69",
     "showTitle": false,
     "tableResultSettingsMap": {},
     "title": ""
    }
   },
   "outputs": [
    {
     "output_type": "display_data",
     "data": {
      "text/html": [
       "<style scoped>\n",
       "  .table-result-container {\n",
       "    max-height: 300px;\n",
       "    overflow: auto;\n",
       "  }\n",
       "  table, th, td {\n",
       "    border: 1px solid black;\n",
       "    border-collapse: collapse;\n",
       "  }\n",
       "  th, td {\n",
       "    padding: 5px;\n",
       "  }\n",
       "  th {\n",
       "    text-align: left;\n",
       "  }\n",
       "</style><div class='table-result-container'><table class='table-result'><thead style='background-color: white'><tr><th>path</th><th>metrics</th></tr></thead><tbody><tr><td>dbfs:/user/hive/warehouse/flight_data_year_z</td><td>List(8, 41, List(73244457, 142638158, 1.0952735675E8, 8, 876218854), List(213528, 27034499, 2.0783933658536587E7, 41, 852141280), 8, List(minCubeSize(107374182400), List(0, 0), List(41, 852141280), 0, List(41, 852141280), 8, null), null, 0, 1, 41, 0, false, 0, 0, 1738831319571, 1738831928671, 8, 8, null, List(0, 0), 29, 29, 3500575, 0, null)</td></tr></tbody></table></div>"
      ]
     },
     "metadata": {
      "application/vnd.databricks.v1+output": {
       "addedWidgets": {},
       "aggData": [],
       "aggError": "",
       "aggOverflow": false,
       "aggSchema": [],
       "aggSeriesLimitReached": false,
       "aggType": "",
       "arguments": {},
       "columnCustomDisplayInfos": {},
       "data": [
        [
         "dbfs:/user/hive/warehouse/flight_data_year_z",
         [
          8,
          41,
          [
           73244457,
           142638158,
           1.0952735675E8,
           8,
           876218854
          ],
          [
           213528,
           27034499,
           2.0783933658536587E7,
           41,
           852141280
          ],
          8,
          [
           "minCubeSize(107374182400)",
           [
            0,
            0
           ],
           [
            41,
            852141280
           ],
           0,
           [
            41,
            852141280
           ],
           8,
           null
          ],
          null,
          0,
          1,
          41,
          0,
          false,
          0,
          0,
          1738831319571,
          1738831928671,
          8,
          8,
          null,
          [
           0,
           0
          ],
          29,
          29,
          3500575,
          0,
          null
         ]
        ]
       ],
       "datasetInfos": [],
       "dbfsResultPath": null,
       "isJsonSchema": true,
       "metadata": {},
       "overflow": false,
       "plotOptions": {
        "customPlotOptions": {},
        "displayType": "table",
        "pivotAggregation": null,
        "pivotColumns": null,
        "xColumns": null,
        "yColumns": null
       },
       "removedWidgets": [],
       "schema": [
        {
         "metadata": "{}",
         "name": "path",
         "type": "\"string\""
        },
        {
         "metadata": "{}",
         "name": "metrics",
         "type": "{\"type\":\"struct\",\"fields\":[{\"name\":\"numFilesAdded\",\"type\":\"long\",\"nullable\":false,\"metadata\":{}},{\"name\":\"numFilesRemoved\",\"type\":\"long\",\"nullable\":false,\"metadata\":{}},{\"name\":\"filesAdded\",\"type\":{\"type\":\"struct\",\"fields\":[{\"name\":\"min\",\"type\":\"long\",\"nullable\":true,\"metadata\":{}},{\"name\":\"max\",\"type\":\"long\",\"nullable\":true,\"metadata\":{}},{\"name\":\"avg\",\"type\":\"double\",\"nullable\":false,\"metadata\":{}},{\"name\":\"totalFiles\",\"type\":\"long\",\"nullable\":false,\"metadata\":{}},{\"name\":\"totalSize\",\"type\":\"long\",\"nullable\":false,\"metadata\":{}}]},\"nullable\":true,\"metadata\":{}},{\"name\":\"filesRemoved\",\"type\":{\"type\":\"struct\",\"fields\":[{\"name\":\"min\",\"type\":\"long\",\"nullable\":true,\"metadata\":{}},{\"name\":\"max\",\"type\":\"long\",\"nullable\":true,\"metadata\":{}},{\"name\":\"avg\",\"type\":\"double\",\"nullable\":false,\"metadata\":{}},{\"name\":\"totalFiles\",\"type\":\"long\",\"nullable\":false,\"metadata\":{}},{\"name\":\"totalSize\",\"type\":\"long\",\"nullable\":false,\"metadata\":{}}]},\"nullable\":true,\"metadata\":{}},{\"name\":\"partitionsOptimized\",\"type\":\"long\",\"nullable\":false,\"metadata\":{}},{\"name\":\"zOrderStats\",\"type\":{\"type\":\"struct\",\"fields\":[{\"name\":\"strategyName\",\"type\":\"string\",\"nullable\":true,\"metadata\":{}},{\"name\":\"inputCubeFiles\",\"type\":{\"type\":\"struct\",\"fields\":[{\"name\":\"num\",\"type\":\"long\",\"nullable\":false,\"metadata\":{}},{\"name\":\"size\",\"type\":\"long\",\"nullable\":false,\"metadata\":{}}]},\"nullable\":true,\"metadata\":{}},{\"name\":\"inputOtherFiles\",\"type\":{\"type\":\"struct\",\"fields\":[{\"name\":\"num\",\"type\":\"long\",\"nullable\":false,\"metadata\":{}},{\"name\":\"size\",\"type\":\"long\",\"nullable\":false,\"metadata\":{}}]},\"nullable\":true,\"metadata\":{}},{\"name\":\"inputNumCubes\",\"type\":\"long\",\"nullable\":false,\"metadata\":{}},{\"name\":\"mergedFiles\",\"type\":{\"type\":\"struct\",\"fields\":[{\"name\":\"num\",\"type\":\"long\",\"nullable\":false,\"metadata\":{}},{\"name\":\"size\",\"type\":\"long\",\"nullable\":false,\"metadata\":{}}]},\"nullable\":true,\"metadata\":{}},{\"name\":\"numOutputCubes\",\"type\":\"long\",\"nullable\":false,\"metadata\":{}},{\"name\":\"mergedNumCubes\",\"type\":\"long\",\"nullable\":true,\"metadata\":{}}]},\"nullable\":true,\"metadata\":{}},{\"name\":\"clusteringStats\",\"type\":{\"type\":\"struct\",\"fields\":[{\"name\":\"inputZCubeFiles\",\"type\":{\"type\":\"struct\",\"fields\":[{\"name\":\"numFiles\",\"type\":\"long\",\"nullable\":false,\"metadata\":{}},{\"name\":\"size\",\"type\":\"long\",\"nullable\":false,\"metadata\":{}}]},\"nullable\":true,\"metadata\":{}},{\"name\":\"inputOtherFiles\",\"type\":{\"type\":\"struct\",\"fields\":[{\"name\":\"numFiles\",\"type\":\"long\",\"nullable\":false,\"metadata\":{}},{\"name\":\"size\",\"type\":\"long\",\"nullable\":false,\"metadata\":{}}]},\"nullable\":true,\"metadata\":{}},{\"name\":\"inputNumZCubes\",\"type\":\"long\",\"nullable\":false,\"metadata\":{}},{\"name\":\"mergedFiles\",\"type\":{\"type\":\"struct\",\"fields\":[{\"name\":\"numFiles\",\"type\":\"long\",\"nullable\":false,\"metadata\":{}},{\"name\":\"size\",\"type\":\"long\",\"nullable\":false,\"metadata\":{}}]},\"nullable\":true,\"metadata\":{}},{\"name\":\"numOutputZCubes\",\"type\":\"long\",\"nullable\":false,\"metadata\":{}}]},\"nullable\":true,\"metadata\":{}},{\"name\":\"numBins\",\"type\":\"long\",\"nullable\":false,\"metadata\":{}},{\"name\":\"numBatches\",\"type\":\"long\",\"nullable\":false,\"metadata\":{}},{\"name\":\"totalConsideredFiles\",\"type\":\"long\",\"nullable\":false,\"metadata\":{}},{\"name\":\"totalFilesSkipped\",\"type\":\"long\",\"nullable\":false,\"metadata\":{}},{\"name\":\"preserveInsertionOrder\",\"type\":\"boolean\",\"nullable\":false,\"metadata\":{}},{\"name\":\"numFilesSkippedToReduceWriteAmplification\",\"type\":\"long\",\"nullable\":false,\"metadata\":{}},{\"name\":\"numBytesSkippedToReduceWriteAmplification\",\"type\":\"long\",\"nullable\":false,\"metadata\":{}},{\"name\":\"startTimeMs\",\"type\":\"long\",\"nullable\":false,\"metadata\":{}},{\"name\":\"endTimeMs\",\"type\":\"long\",\"nullable\":false,\"metadata\":{}},{\"name\":\"totalClusterParallelism\",\"type\":\"long\",\"nullable\":false,\"metadata\":{}},{\"name\":\"totalScheduledTasks\",\"type\":\"long\",\"nullable\":false,\"metadata\":{}},{\"name\":\"autoCompactParallelismStats\",\"type\":{\"type\":\"struct\",\"fields\":[{\"name\":\"maxClusterActiveParallelism\",\"type\":\"long\",\"nullable\":true,\"metadata\":{}},{\"name\":\"minClusterActiveParallelism\",\"type\":\"long\",\"nullable\":true,\"metadata\":{}},{\"name\":\"maxSessionActiveParallelism\",\"type\":\"long\",\"nullable\":true,\"metadata\":{}},{\"name\":\"minSessionActiveParallelism\",\"type\":\"long\",\"nullable\":true,\"metadata\":{}}]},\"nullable\":true,\"metadata\":{}},{\"name\":\"deletionVectorStats\",\"type\":{\"type\":\"struct\",\"fields\":[{\"name\":\"numDeletionVectorsRemoved\",\"type\":\"long\",\"nullable\":false,\"metadata\":{}},{\"name\":\"numDeletionVectorRowsRemoved\",\"type\":\"long\",\"nullable\":false,\"metadata\":{}}]},\"nullable\":true,\"metadata\":{}},{\"name\":\"numTableColumns\",\"type\":\"long\",\"nullable\":false,\"metadata\":{}},{\"name\":\"numTableColumnsWithStats\",\"type\":\"long\",\"nullable\":false,\"metadata\":{}},{\"name\":\"totalTaskExecutionTimeMs\",\"type\":\"long\",\"nullable\":false,\"metadata\":{}},{\"name\":\"skippedArchivedFiles\",\"type\":\"long\",\"nullable\":false,\"metadata\":{}},{\"name\":\"clusteringMetrics\",\"type\":{\"type\":\"struct\",\"fields\":[{\"name\":\"sizeOfTableInBytesBeforeLazyClustering\",\"type\":\"long\",\"nullable\":false,\"metadata\":{}},{\"name\":\"isNewMetadataCreated\",\"type\":\"boolean\",\"nullable\":false,\"metadata\":{}},{\"name\":\"isPOTriggered\",\"type\":\"boolean\",\"nullable\":false,\"metadata\":{}},{\"name\":\"numFilesSkippedWithoutStats\",\"type\":\"long\",\"nullable\":false,\"metadata\":{}},{\"name\":\"numFilesClassifiedToIntermediateNodes\",\"type\":\"long\",\"nullable\":false,\"metadata\":{}},{\"name\":\"sizeOfFilesClassifiedToIntermediateNodesInBytes\",\"type\":\"long\",\"nullable\":false,\"metadata\":{}},{\"name\":\"logicalSizeOfFilesClassifiedToIntermediateNodesInBytes\",\"type\":\"long\",\"nullable\":false,\"metadata\":{}},{\"name\":\"numFilesClassifiedToLeafNodes\",\"type\":\"long\",\"nullable\":false,\"metadata\":{}},{\"name\":\"sizeOfFilesClassifiedToLeafNodesInBytes\",\"type\":\"long\",\"nullable\":false,\"metadata\":{}},{\"name\":\"logicalSizeOfFilesClassifiedToLeafNodesInBytes\",\"type\":\"long\",\"nullable\":false,\"metadata\":{}},{\"name\":\"numThreadsForClassifier\",\"type\":\"integer\",\"nullable\":true,\"metadata\":{}},{\"name\":\"clusterThresholdStrategy\",\"type\":\"string\",\"nullable\":true,\"metadata\":{}},{\"name\":\"minFileSize\",\"type\":\"long\",\"nullable\":false,\"metadata\":{}},{\"name\":\"maxFileSize\",\"type\":\"long\",\"nullable\":false,\"metadata\":{}},{\"name\":\"nodeMinNumFilesToCompact\",\"type\":\"long\",\"nullable\":false,\"metadata\":{}},{\"name\":\"numIdealFiles\",\"type\":\"long\",\"nullable\":false,\"metadata\":{}},{\"name\":\"numClusteringTasksPlanned\",\"type\":\"integer\",\"nullable\":false,\"metadata\":{}},{\"name\":\"numCompactionTasksPlanned\",\"type\":\"integer\",\"nullable\":false,\"metadata\":{}},{\"name\":\"numOptimizeBatchesPlanned\",\"type\":\"integer\",\"nullable\":false,\"metadata\":{}},{\"name\":\"numLeafNodesExpanded\",\"type\":\"long\",\"nullable\":false,\"metadata\":{}},{\"name\":\"numLeafNodesClustered\",\"type\":\"long\",\"nullable\":false,\"metadata\":{}},{\"name\":\"numGetFilesForNodeCalls\",\"type\":\"long\",\"nullable\":false,\"metadata\":{}},{\"name\":\"numSamplingJobs\",\"type\":\"long\",\"nullable\":false,\"metadata\":{}},{\"name\":\"numLeafNodesCompacted\",\"type\":\"long\",\"nullable\":false,\"metadata\":{}},{\"name\":\"numIntermediateNodesCompacted\",\"type\":\"long\",\"nullable\":false,\"metadata\":{}},{\"name\":\"totalSizeOfDataToCompactInBytes\",\"type\":\"long\",\"nullable\":false,\"metadata\":{}},{\"name\":\"totalLogicalSizeOfDataToCompactInBytes\",\"type\":\"long\",\"nullable\":false,\"metadata\":{}},{\"name\":\"numIntermediateNodesClustered\",\"type\":\"long\",\"nullable\":false,\"metadata\":{}},{\"name\":\"numFilesSkippedAfterExpansion\",\"type\":\"long\",\"nullable\":false,\"metadata\":{}},{\"name\":\"totalSizeOfFilesSkippedAfterExpansionInBytes\",\"type\":\"long\",\"nullable\":false,\"metadata\":{}},{\"name\":\"totalLogicalSizeOfFilesSkippedAfterExpansionInBytes\",\"type\":\"long\",\"nullable\":false,\"metadata\":{}},{\"name\":\"totalSizeOfDataToRewriteInBytes\",\"type\":\"long\",\"nullable\":false,\"metadata\":{}},{\"name\":\"totalLogicalSizeOfDataToRewriteInBytes\",\"type\":\"long\",\"nullable\":false,\"metadata\":{}},{\"name\":\"timeMetrics\",\"type\":{\"type\":\"struct\",\"fields\":[{\"name\":\"classifierTimeMs\",\"type\":\"long\",\"nullable\":false,\"metadata\":{}},{\"name\":\"optimizerTimeMs\",\"type\":\"long\",\"nullable\":false,\"metadata\":{}},{\"name\":\"metadataLoadTimeMs\",\"type\":\"long\",\"nullable\":false,\"metadata\":{}},{\"name\":\"totalGetFilesForNodeCallsTimeMs\",\"type\":\"long\",\"nullable\":false,\"metadata\":{}},{\"name\":\"totalSamplingTimeMs\",\"type\":\"long\",\"nullable\":false,\"metadata\":{}},{\"name\":\"metadataCreationTimeMs\",\"type\":\"long\",\"nullable\":false,\"metadata\":{}}]},\"nullable\":true,\"metadata\":{}},{\"name\":\"maxOptimizeBatchesInParallel\",\"type\":\"long\",\"nullable\":false,\"metadata\":{}},{\"name\":\"currentIteration\",\"type\":\"integer\",\"nullable\":false,\"metadata\":{}},{\"name\":\"maxIterations\",\"type\":\"integer\",\"nullable\":false,\"metadata\":{}},{\"name\":\"clusteringStrategy\",\"type\":\"string\",\"nullable\":true,\"metadata\":{}}]},\"nullable\":true,\"metadata\":{}}]}"
        }
       ],
       "type": "table"
      }
     },
     "output_type": "display_data"
    }
   ],
   "source": [
    "%sql\n",
    "OPTIMIZE flight_data_year_z\n",
    "WHERE Year>=2000 AND Year<=2007\n",
    "ZORDER BY (Origin);"
   ]
  },
  {
   "cell_type": "markdown",
   "metadata": {
    "application/vnd.databricks.v1+cell": {
     "cellMetadata": {
      "byteLimit": 2048000,
      "rowLimit": 10000
     },
     "inputWidgets": {},
     "nuid": "69aa7e96-4bfe-4b3c-a467-ba3b7d1fb08e",
     "showTitle": false,
     "tableResultSettingsMap": {},
     "title": ""
    }
   },
   "source": [
    "now we can see we have only one file/order"
   ]
  },
  {
   "cell_type": "markdown",
   "metadata": {
    "application/vnd.databricks.v1+cell": {
     "cellMetadata": {
      "byteLimit": 2048000,
      "rowLimit": 10000
     },
     "inputWidgets": {},
     "nuid": "d1ebdc99-9722-40c2-95e4-5df28928e3da",
     "showTitle": false,
     "tableResultSettingsMap": {},
     "title": ""
    }
   },
   "source": [
    "#Key Take Aways from Z-order\n",
    "- Z order usually more efficient than partitioning as avoid \"over partition\" and helps skip data more efficiently\n",
    "- More columns we use for Z order , it becomes more beneficial\n",
    "- Typically used for high cardinality columns\n",
    "- Columns should be in the list of first 32\n",
    "- Optimization does not happen automatically\n",
    "- As data change , we need to re-run OPTIMIZE with Z Order\n",
    "- We can Z order inside partitions\n"
   ]
  }
 ],
 "metadata": {
  "application/vnd.databricks.v1+notebook": {
   "computePreferences": null,
   "dashboards": [],
   "environmentMetadata": {
    "base_environment": "",
    "client": "1"
   },
   "language": "python",
   "notebookMetadata": {
    "mostRecentlyExecutedCommandWithImplicitDF": {
     "commandId": -1,
     "dataframes": [
      "_sqldf"
     ]
    },
    "pythonIndentUnit": 4
   },
   "notebookName": "11 Z Order",
   "widgets": {}
  }
 },
 "nbformat": 4,
 "nbformat_minor": 0
}
