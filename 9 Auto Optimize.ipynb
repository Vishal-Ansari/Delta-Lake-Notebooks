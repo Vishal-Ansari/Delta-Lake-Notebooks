{
 "cells": [
  {
   "cell_type": "code",
   "execution_count": 0,
   "metadata": {
    "application/vnd.databricks.v1+cell": {
     "cellMetadata": {
      "byteLimit": 2048000,
      "rowLimit": 10000
     },
     "inputWidgets": {},
     "nuid": "2c6554d8-4cb2-4072-8fe6-1fcec9563b6b",
     "showTitle": false,
     "tableResultSettingsMap": {},
     "title": ""
    }
   },
   "outputs": [
    {
     "output_type": "display_data",
     "data": {
      "text/html": [
       "<style scoped>\n",
       "  .table-result-container {\n",
       "    max-height: 300px;\n",
       "    overflow: auto;\n",
       "  }\n",
       "  table, th, td {\n",
       "    border: 1px solid black;\n",
       "    border-collapse: collapse;\n",
       "  }\n",
       "  th, td {\n",
       "    padding: 5px;\n",
       "  }\n",
       "  th {\n",
       "    text-align: left;\n",
       "  }\n",
       "</style><div class='table-result-container'><table class='table-result'><thead style='background-color: white'><tr><th>key</th><th>value</th></tr></thead><tbody><tr><td>spark.databricks.delta.autoCompact.enabled</td><td>true</td></tr></tbody></table></div>"
      ]
     },
     "metadata": {
      "application/vnd.databricks.v1+output": {
       "addedWidgets": {},
       "aggData": [],
       "aggError": "",
       "aggOverflow": false,
       "aggSchema": [],
       "aggSeriesLimitReached": false,
       "aggType": "",
       "arguments": {},
       "columnCustomDisplayInfos": {},
       "data": [
        [
         "spark.databricks.delta.autoCompact.enabled",
         "true"
        ]
       ],
       "datasetInfos": [],
       "dbfsResultPath": null,
       "isJsonSchema": true,
       "metadata": {
        "isDbfsCommandResult": false
       },
       "overflow": false,
       "plotOptions": {
        "customPlotOptions": {},
        "displayType": "table",
        "pivotAggregation": null,
        "pivotColumns": null,
        "xColumns": null,
        "yColumns": null
       },
       "removedWidgets": [],
       "schema": [
        {
         "metadata": "{}",
         "name": "key",
         "type": "\"string\""
        },
        {
         "metadata": "{}",
         "name": "value",
         "type": "\"string\""
        }
       ],
       "type": "table"
      }
     },
     "output_type": "display_data"
    }
   ],
   "source": [
    "%sql\n",
    "SET spark.databricks.delta.autoCompact.enabled=true;"
   ]
  },
  {
   "cell_type": "code",
   "execution_count": 0,
   "metadata": {
    "application/vnd.databricks.v1+cell": {
     "cellMetadata": {
      "byteLimit": 2048000,
      "rowLimit": 10000
     },
     "inputWidgets": {},
     "nuid": "f4169054-c90f-44c3-8ce0-886fe2752f52",
     "showTitle": false,
     "tableResultSettingsMap": {},
     "title": ""
    }
   },
   "outputs": [
    {
     "output_type": "execute_result",
     "data": {
      "text/plain": [
       "'50'"
      ]
     },
     "execution_count": 2,
     "metadata": {},
     "output_type": "execute_result"
    }
   ],
   "source": [
    "%python\n",
    "spark.conf.get(\"spark.databricks.delta.autoCompact.minNumFiles\")"
   ]
  },
  {
   "cell_type": "code",
   "execution_count": 0,
   "metadata": {
    "application/vnd.databricks.v1+cell": {
     "cellMetadata": {
      "byteLimit": 2048000,
      "rowLimit": 10000
     },
     "inputWidgets": {},
     "nuid": "e60b152e-970b-45bd-945c-135ff733fe50",
     "showTitle": false,
     "tableResultSettingsMap": {},
     "title": ""
    }
   },
   "outputs": [
    {
     "output_type": "execute_result",
     "data": {
      "text/plain": [
       "True"
      ]
     },
     "execution_count": 3,
     "metadata": {},
     "output_type": "execute_result"
    }
   ],
   "source": [
    "%python\n",
    "dbutils.fs.rm(\"dbfs:/user/hive/warehouse/small_files_auto\",True)"
   ]
  },
  {
   "cell_type": "code",
   "execution_count": 0,
   "metadata": {
    "application/vnd.databricks.v1+cell": {
     "cellMetadata": {
      "byteLimit": 2048000,
      "rowLimit": 10000
     },
     "inputWidgets": {},
     "nuid": "ae41ee95-938c-47f6-9f7a-f164bca36421",
     "showTitle": false,
     "tableResultSettingsMap": {},
     "title": ""
    }
   },
   "outputs": [
    {
     "output_type": "display_data",
     "data": {
      "text/html": [
       "<style scoped>\n",
       "  .table-result-container {\n",
       "    max-height: 300px;\n",
       "    overflow: auto;\n",
       "  }\n",
       "  table, th, td {\n",
       "    border: 1px solid black;\n",
       "    border-collapse: collapse;\n",
       "  }\n",
       "  th, td {\n",
       "    padding: 5px;\n",
       "  }\n",
       "  th {\n",
       "    text-align: left;\n",
       "  }\n",
       "</style><div class='table-result-container'><table class='table-result'><thead style='background-color: white'><tr></tr></thead><tbody></tbody></table></div>"
      ]
     },
     "metadata": {
      "application/vnd.databricks.v1+output": {
       "addedWidgets": {},
       "aggData": [],
       "aggError": "",
       "aggOverflow": false,
       "aggSchema": [],
       "aggSeriesLimitReached": false,
       "aggType": "",
       "arguments": {},
       "columnCustomDisplayInfos": {},
       "data": [],
       "datasetInfos": [],
       "dbfsResultPath": null,
       "isJsonSchema": true,
       "metadata": {
        "isDbfsCommandResult": false
       },
       "overflow": false,
       "plotOptions": {
        "customPlotOptions": {},
        "displayType": "table",
        "pivotAggregation": null,
        "pivotColumns": null,
        "xColumns": null,
        "yColumns": null
       },
       "removedWidgets": [],
       "schema": [],
       "type": "table"
      }
     },
     "output_type": "display_data"
    }
   ],
   "source": [
    "%sql\n",
    "DROP TABLE IF EXISTS small_files_auto;\n",
    "\n",
    "CREATE OR REPLACE TABLE small_files_auto (id INT, data STRING );"
   ]
  },
  {
   "cell_type": "markdown",
   "metadata": {
    "application/vnd.databricks.v1+cell": {
     "cellMetadata": {
      "byteLimit": 2048000,
      "rowLimit": 10000
     },
     "inputWidgets": {},
     "nuid": "d2728c2d-0842-4a89-896a-4c38303a3aa1",
     "showTitle": false,
     "tableResultSettingsMap": {},
     "title": ""
    }
   },
   "source": [
    "trying to replicating small files problem"
   ]
  },
  {
   "cell_type": "code",
   "execution_count": 0,
   "metadata": {
    "application/vnd.databricks.v1+cell": {
     "cellMetadata": {
      "byteLimit": 2048000,
      "rowLimit": 10000
     },
     "inputWidgets": {},
     "nuid": "7898445e-5176-478c-908a-96c8d34955e7",
     "showTitle": false,
     "tableResultSettingsMap": {},
     "title": ""
    }
   },
   "outputs": [],
   "source": [
    "%python \n",
    "for x in range (1,100):\n",
    "    query=f'''\n",
    "    INSERT INTO small_files_auto VALUES ( {x},\"name{x}\" )\n",
    "    '''\n",
    "\n",
    "    spark.sql(query)"
   ]
  },
  {
   "cell_type": "code",
   "execution_count": 0,
   "metadata": {
    "application/vnd.databricks.v1+cell": {
     "cellMetadata": {
      "byteLimit": 2048000,
      "rowLimit": 10000
     },
     "inputWidgets": {},
     "nuid": "0c1c11bf-47d3-45a6-bd58-a92fa0e0a307",
     "showTitle": false,
     "tableResultSettingsMap": {},
     "title": ""
    }
   },
   "outputs": [
    {
     "output_type": "display_data",
     "data": {
      "text/html": [
       "<style scoped>\n",
       "  .table-result-container {\n",
       "    max-height: 300px;\n",
       "    overflow: auto;\n",
       "  }\n",
       "  table, th, td {\n",
       "    border: 1px solid black;\n",
       "    border-collapse: collapse;\n",
       "  }\n",
       "  th, td {\n",
       "    padding: 5px;\n",
       "  }\n",
       "  th {\n",
       "    text-align: left;\n",
       "  }\n",
       "</style><div class='table-result-container'><table class='table-result'><thead style='background-color: white'><tr><th>version</th><th>timestamp</th><th>userId</th><th>userName</th><th>operation</th><th>operationParameters</th><th>job</th><th>notebook</th><th>clusterId</th><th>readVersion</th><th>isolationLevel</th><th>isBlindAppend</th><th>operationMetrics</th><th>userMetadata</th><th>engineInfo</th></tr></thead><tbody><tr><td>101</td><td>2025-02-03T09:36:28Z</td><td>5755764547042441</td><td>inaya998877@gmail.com</td><td>OPTIMIZE</td><td>Map(predicate -> [], auto -> true, clusterBy -> [], zOrderBy -> [], batchId -> 0)</td><td>null</td><td>List(2879899354628678)</td><td>0203-052121-nggyovx3</td><td>100</td><td>SnapshotIsolation</td><td>false</td><td>Map(numRemovedFiles -> 50, numRemovedBytes -> 36236, p25FileSize -> 1515, numDeletionVectorsRemoved -> 0, minFileSize -> 1515, numAddedFiles -> 1, maxFileSize -> 1515, p75FileSize -> 1515, p50FileSize -> 1515, numAddedBytes -> 1515)</td><td>null</td><td>Databricks-Runtime/15.4.x-scala2.12</td></tr><tr><td>100</td><td>2025-02-03T09:36:16Z</td><td>5755764547042441</td><td>inaya998877@gmail.com</td><td>WRITE</td><td>Map(mode -> Append, statsOnLoad -> false, partitionBy -> [])</td><td>null</td><td>List(2879899354628678)</td><td>0203-052121-nggyovx3</td><td>99</td><td>WriteSerializable</td><td>true</td><td>Map(numFiles -> 1, numOutputRows -> 1, numOutputBytes -> 717)</td><td>null</td><td>Databricks-Runtime/15.4.x-scala2.12</td></tr><tr><td>99</td><td>2025-02-03T09:36:14Z</td><td>5755764547042441</td><td>inaya998877@gmail.com</td><td>WRITE</td><td>Map(mode -> Append, statsOnLoad -> false, partitionBy -> [])</td><td>null</td><td>List(2879899354628678)</td><td>0203-052121-nggyovx3</td><td>98</td><td>WriteSerializable</td><td>true</td><td>Map(numFiles -> 1, numOutputRows -> 1, numOutputBytes -> 717)</td><td>null</td><td>Databricks-Runtime/15.4.x-scala2.12</td></tr><tr><td>98</td><td>2025-02-03T09:36:12Z</td><td>5755764547042441</td><td>inaya998877@gmail.com</td><td>WRITE</td><td>Map(mode -> Append, statsOnLoad -> false, partitionBy -> [])</td><td>null</td><td>List(2879899354628678)</td><td>0203-052121-nggyovx3</td><td>97</td><td>WriteSerializable</td><td>true</td><td>Map(numFiles -> 1, numOutputRows -> 1, numOutputBytes -> 717)</td><td>null</td><td>Databricks-Runtime/15.4.x-scala2.12</td></tr><tr><td>97</td><td>2025-02-03T09:36:10Z</td><td>5755764547042441</td><td>inaya998877@gmail.com</td><td>WRITE</td><td>Map(mode -> Append, statsOnLoad -> false, partitionBy -> [])</td><td>null</td><td>List(2879899354628678)</td><td>0203-052121-nggyovx3</td><td>96</td><td>WriteSerializable</td><td>true</td><td>Map(numFiles -> 1, numOutputRows -> 1, numOutputBytes -> 717)</td><td>null</td><td>Databricks-Runtime/15.4.x-scala2.12</td></tr><tr><td>96</td><td>2025-02-03T09:36:08Z</td><td>5755764547042441</td><td>inaya998877@gmail.com</td><td>WRITE</td><td>Map(mode -> Append, statsOnLoad -> false, partitionBy -> [])</td><td>null</td><td>List(2879899354628678)</td><td>0203-052121-nggyovx3</td><td>95</td><td>WriteSerializable</td><td>true</td><td>Map(numFiles -> 1, numOutputRows -> 1, numOutputBytes -> 717)</td><td>null</td><td>Databricks-Runtime/15.4.x-scala2.12</td></tr><tr><td>95</td><td>2025-02-03T09:36:06Z</td><td>5755764547042441</td><td>inaya998877@gmail.com</td><td>WRITE</td><td>Map(mode -> Append, statsOnLoad -> false, partitionBy -> [])</td><td>null</td><td>List(2879899354628678)</td><td>0203-052121-nggyovx3</td><td>94</td><td>WriteSerializable</td><td>true</td><td>Map(numFiles -> 1, numOutputRows -> 1, numOutputBytes -> 717)</td><td>null</td><td>Databricks-Runtime/15.4.x-scala2.12</td></tr><tr><td>94</td><td>2025-02-03T09:36:04Z</td><td>5755764547042441</td><td>inaya998877@gmail.com</td><td>WRITE</td><td>Map(mode -> Append, statsOnLoad -> false, partitionBy -> [])</td><td>null</td><td>List(2879899354628678)</td><td>0203-052121-nggyovx3</td><td>93</td><td>WriteSerializable</td><td>true</td><td>Map(numFiles -> 1, numOutputRows -> 1, numOutputBytes -> 717)</td><td>null</td><td>Databricks-Runtime/15.4.x-scala2.12</td></tr><tr><td>93</td><td>2025-02-03T09:36:02Z</td><td>5755764547042441</td><td>inaya998877@gmail.com</td><td>WRITE</td><td>Map(mode -> Append, statsOnLoad -> false, partitionBy -> [])</td><td>null</td><td>List(2879899354628678)</td><td>0203-052121-nggyovx3</td><td>92</td><td>WriteSerializable</td><td>true</td><td>Map(numFiles -> 1, numOutputRows -> 1, numOutputBytes -> 717)</td><td>null</td><td>Databricks-Runtime/15.4.x-scala2.12</td></tr><tr><td>92</td><td>2025-02-03T09:36:00Z</td><td>5755764547042441</td><td>inaya998877@gmail.com</td><td>WRITE</td><td>Map(mode -> Append, statsOnLoad -> false, partitionBy -> [])</td><td>null</td><td>List(2879899354628678)</td><td>0203-052121-nggyovx3</td><td>91</td><td>WriteSerializable</td><td>true</td><td>Map(numFiles -> 1, numOutputRows -> 1, numOutputBytes -> 716)</td><td>null</td><td>Databricks-Runtime/15.4.x-scala2.12</td></tr><tr><td>91</td><td>2025-02-03T09:35:58Z</td><td>5755764547042441</td><td>inaya998877@gmail.com</td><td>WRITE</td><td>Map(mode -> Append, statsOnLoad -> false, partitionBy -> [])</td><td>null</td><td>List(2879899354628678)</td><td>0203-052121-nggyovx3</td><td>90</td><td>WriteSerializable</td><td>true</td><td>Map(numFiles -> 1, numOutputRows -> 1, numOutputBytes -> 717)</td><td>null</td><td>Databricks-Runtime/15.4.x-scala2.12</td></tr><tr><td>90</td><td>2025-02-03T09:35:57Z</td><td>5755764547042441</td><td>inaya998877@gmail.com</td><td>WRITE</td><td>Map(mode -> Append, statsOnLoad -> false, partitionBy -> [])</td><td>null</td><td>List(2879899354628678)</td><td>0203-052121-nggyovx3</td><td>89</td><td>WriteSerializable</td><td>true</td><td>Map(numFiles -> 1, numOutputRows -> 1, numOutputBytes -> 717)</td><td>null</td><td>Databricks-Runtime/15.4.x-scala2.12</td></tr><tr><td>89</td><td>2025-02-03T09:35:55Z</td><td>5755764547042441</td><td>inaya998877@gmail.com</td><td>WRITE</td><td>Map(mode -> Append, statsOnLoad -> false, partitionBy -> [])</td><td>null</td><td>List(2879899354628678)</td><td>0203-052121-nggyovx3</td><td>88</td><td>WriteSerializable</td><td>true</td><td>Map(numFiles -> 1, numOutputRows -> 1, numOutputBytes -> 717)</td><td>null</td><td>Databricks-Runtime/15.4.x-scala2.12</td></tr><tr><td>88</td><td>2025-02-03T09:35:53Z</td><td>5755764547042441</td><td>inaya998877@gmail.com</td><td>WRITE</td><td>Map(mode -> Append, statsOnLoad -> false, partitionBy -> [])</td><td>null</td><td>List(2879899354628678)</td><td>0203-052121-nggyovx3</td><td>87</td><td>WriteSerializable</td><td>true</td><td>Map(numFiles -> 1, numOutputRows -> 1, numOutputBytes -> 717)</td><td>null</td><td>Databricks-Runtime/15.4.x-scala2.12</td></tr><tr><td>87</td><td>2025-02-03T09:35:51Z</td><td>5755764547042441</td><td>inaya998877@gmail.com</td><td>WRITE</td><td>Map(mode -> Append, statsOnLoad -> false, partitionBy -> [])</td><td>null</td><td>List(2879899354628678)</td><td>0203-052121-nggyovx3</td><td>86</td><td>WriteSerializable</td><td>true</td><td>Map(numFiles -> 1, numOutputRows -> 1, numOutputBytes -> 717)</td><td>null</td><td>Databricks-Runtime/15.4.x-scala2.12</td></tr><tr><td>86</td><td>2025-02-03T09:35:50Z</td><td>5755764547042441</td><td>inaya998877@gmail.com</td><td>WRITE</td><td>Map(mode -> Append, statsOnLoad -> false, partitionBy -> [])</td><td>null</td><td>List(2879899354628678)</td><td>0203-052121-nggyovx3</td><td>85</td><td>WriteSerializable</td><td>true</td><td>Map(numFiles -> 1, numOutputRows -> 1, numOutputBytes -> 717)</td><td>null</td><td>Databricks-Runtime/15.4.x-scala2.12</td></tr><tr><td>85</td><td>2025-02-03T09:35:48Z</td><td>5755764547042441</td><td>inaya998877@gmail.com</td><td>WRITE</td><td>Map(mode -> Append, statsOnLoad -> false, partitionBy -> [])</td><td>null</td><td>List(2879899354628678)</td><td>0203-052121-nggyovx3</td><td>84</td><td>WriteSerializable</td><td>true</td><td>Map(numFiles -> 1, numOutputRows -> 1, numOutputBytes -> 716)</td><td>null</td><td>Databricks-Runtime/15.4.x-scala2.12</td></tr><tr><td>84</td><td>2025-02-03T09:35:46Z</td><td>5755764547042441</td><td>inaya998877@gmail.com</td><td>WRITE</td><td>Map(mode -> Append, statsOnLoad -> false, partitionBy -> [])</td><td>null</td><td>List(2879899354628678)</td><td>0203-052121-nggyovx3</td><td>83</td><td>WriteSerializable</td><td>true</td><td>Map(numFiles -> 1, numOutputRows -> 1, numOutputBytes -> 717)</td><td>null</td><td>Databricks-Runtime/15.4.x-scala2.12</td></tr><tr><td>83</td><td>2025-02-03T09:35:45Z</td><td>5755764547042441</td><td>inaya998877@gmail.com</td><td>WRITE</td><td>Map(mode -> Append, statsOnLoad -> false, partitionBy -> [])</td><td>null</td><td>List(2879899354628678)</td><td>0203-052121-nggyovx3</td><td>82</td><td>WriteSerializable</td><td>true</td><td>Map(numFiles -> 1, numOutputRows -> 1, numOutputBytes -> 717)</td><td>null</td><td>Databricks-Runtime/15.4.x-scala2.12</td></tr><tr><td>82</td><td>2025-02-03T09:35:43Z</td><td>5755764547042441</td><td>inaya998877@gmail.com</td><td>WRITE</td><td>Map(mode -> Append, statsOnLoad -> false, partitionBy -> [])</td><td>null</td><td>List(2879899354628678)</td><td>0203-052121-nggyovx3</td><td>81</td><td>WriteSerializable</td><td>true</td><td>Map(numFiles -> 1, numOutputRows -> 1, numOutputBytes -> 717)</td><td>null</td><td>Databricks-Runtime/15.4.x-scala2.12</td></tr><tr><td>81</td><td>2025-02-03T09:35:41Z</td><td>5755764547042441</td><td>inaya998877@gmail.com</td><td>WRITE</td><td>Map(mode -> Append, statsOnLoad -> false, partitionBy -> [])</td><td>null</td><td>List(2879899354628678)</td><td>0203-052121-nggyovx3</td><td>80</td><td>WriteSerializable</td><td>true</td><td>Map(numFiles -> 1, numOutputRows -> 1, numOutputBytes -> 716)</td><td>null</td><td>Databricks-Runtime/15.4.x-scala2.12</td></tr><tr><td>80</td><td>2025-02-03T09:35:39Z</td><td>5755764547042441</td><td>inaya998877@gmail.com</td><td>WRITE</td><td>Map(mode -> Append, statsOnLoad -> false, partitionBy -> [])</td><td>null</td><td>List(2879899354628678)</td><td>0203-052121-nggyovx3</td><td>79</td><td>WriteSerializable</td><td>true</td><td>Map(numFiles -> 1, numOutputRows -> 1, numOutputBytes -> 716)</td><td>null</td><td>Databricks-Runtime/15.4.x-scala2.12</td></tr><tr><td>79</td><td>2025-02-03T09:35:37Z</td><td>5755764547042441</td><td>inaya998877@gmail.com</td><td>WRITE</td><td>Map(mode -> Append, statsOnLoad -> false, partitionBy -> [])</td><td>null</td><td>List(2879899354628678)</td><td>0203-052121-nggyovx3</td><td>78</td><td>WriteSerializable</td><td>true</td><td>Map(numFiles -> 1, numOutputRows -> 1, numOutputBytes -> 717)</td><td>null</td><td>Databricks-Runtime/15.4.x-scala2.12</td></tr><tr><td>78</td><td>2025-02-03T09:35:36Z</td><td>5755764547042441</td><td>inaya998877@gmail.com</td><td>WRITE</td><td>Map(mode -> Append, statsOnLoad -> false, partitionBy -> [])</td><td>null</td><td>List(2879899354628678)</td><td>0203-052121-nggyovx3</td><td>77</td><td>WriteSerializable</td><td>true</td><td>Map(numFiles -> 1, numOutputRows -> 1, numOutputBytes -> 717)</td><td>null</td><td>Databricks-Runtime/15.4.x-scala2.12</td></tr><tr><td>77</td><td>2025-02-03T09:35:34Z</td><td>5755764547042441</td><td>inaya998877@gmail.com</td><td>WRITE</td><td>Map(mode -> Append, statsOnLoad -> false, partitionBy -> [])</td><td>null</td><td>List(2879899354628678)</td><td>0203-052121-nggyovx3</td><td>76</td><td>WriteSerializable</td><td>true</td><td>Map(numFiles -> 1, numOutputRows -> 1, numOutputBytes -> 717)</td><td>null</td><td>Databricks-Runtime/15.4.x-scala2.12</td></tr><tr><td>76</td><td>2025-02-03T09:35:32Z</td><td>5755764547042441</td><td>inaya998877@gmail.com</td><td>WRITE</td><td>Map(mode -> Append, statsOnLoad -> false, partitionBy -> [])</td><td>null</td><td>List(2879899354628678)</td><td>0203-052121-nggyovx3</td><td>75</td><td>WriteSerializable</td><td>true</td><td>Map(numFiles -> 1, numOutputRows -> 1, numOutputBytes -> 717)</td><td>null</td><td>Databricks-Runtime/15.4.x-scala2.12</td></tr><tr><td>75</td><td>2025-02-03T09:35:31Z</td><td>5755764547042441</td><td>inaya998877@gmail.com</td><td>WRITE</td><td>Map(mode -> Append, statsOnLoad -> false, partitionBy -> [])</td><td>null</td><td>List(2879899354628678)</td><td>0203-052121-nggyovx3</td><td>74</td><td>WriteSerializable</td><td>true</td><td>Map(numFiles -> 1, numOutputRows -> 1, numOutputBytes -> 717)</td><td>null</td><td>Databricks-Runtime/15.4.x-scala2.12</td></tr><tr><td>74</td><td>2025-02-03T09:35:29Z</td><td>5755764547042441</td><td>inaya998877@gmail.com</td><td>WRITE</td><td>Map(mode -> Append, statsOnLoad -> false, partitionBy -> [])</td><td>null</td><td>List(2879899354628678)</td><td>0203-052121-nggyovx3</td><td>73</td><td>WriteSerializable</td><td>true</td><td>Map(numFiles -> 1, numOutputRows -> 1, numOutputBytes -> 716)</td><td>null</td><td>Databricks-Runtime/15.4.x-scala2.12</td></tr><tr><td>73</td><td>2025-02-03T09:35:28Z</td><td>5755764547042441</td><td>inaya998877@gmail.com</td><td>WRITE</td><td>Map(mode -> Append, statsOnLoad -> false, partitionBy -> [])</td><td>null</td><td>List(2879899354628678)</td><td>0203-052121-nggyovx3</td><td>72</td><td>WriteSerializable</td><td>true</td><td>Map(numFiles -> 1, numOutputRows -> 1, numOutputBytes -> 717)</td><td>null</td><td>Databricks-Runtime/15.4.x-scala2.12</td></tr><tr><td>72</td><td>2025-02-03T09:35:26Z</td><td>5755764547042441</td><td>inaya998877@gmail.com</td><td>WRITE</td><td>Map(mode -> Append, statsOnLoad -> false, partitionBy -> [])</td><td>null</td><td>List(2879899354628678)</td><td>0203-052121-nggyovx3</td><td>71</td><td>WriteSerializable</td><td>true</td><td>Map(numFiles -> 1, numOutputRows -> 1, numOutputBytes -> 717)</td><td>null</td><td>Databricks-Runtime/15.4.x-scala2.12</td></tr><tr><td>71</td><td>2025-02-03T09:35:24Z</td><td>5755764547042441</td><td>inaya998877@gmail.com</td><td>WRITE</td><td>Map(mode -> Append, statsOnLoad -> false, partitionBy -> [])</td><td>null</td><td>List(2879899354628678)</td><td>0203-052121-nggyovx3</td><td>70</td><td>WriteSerializable</td><td>true</td><td>Map(numFiles -> 1, numOutputRows -> 1, numOutputBytes -> 717)</td><td>null</td><td>Databricks-Runtime/15.4.x-scala2.12</td></tr><tr><td>70</td><td>2025-02-03T09:35:23Z</td><td>5755764547042441</td><td>inaya998877@gmail.com</td><td>WRITE</td><td>Map(mode -> Append, statsOnLoad -> false, partitionBy -> [])</td><td>null</td><td>List(2879899354628678)</td><td>0203-052121-nggyovx3</td><td>69</td><td>WriteSerializable</td><td>true</td><td>Map(numFiles -> 1, numOutputRows -> 1, numOutputBytes -> 717)</td><td>null</td><td>Databricks-Runtime/15.4.x-scala2.12</td></tr><tr><td>69</td><td>2025-02-03T09:35:21Z</td><td>5755764547042441</td><td>inaya998877@gmail.com</td><td>WRITE</td><td>Map(mode -> Append, statsOnLoad -> false, partitionBy -> [])</td><td>null</td><td>List(2879899354628678)</td><td>0203-052121-nggyovx3</td><td>68</td><td>WriteSerializable</td><td>true</td><td>Map(numFiles -> 1, numOutputRows -> 1, numOutputBytes -> 717)</td><td>null</td><td>Databricks-Runtime/15.4.x-scala2.12</td></tr><tr><td>68</td><td>2025-02-03T09:35:20Z</td><td>5755764547042441</td><td>inaya998877@gmail.com</td><td>WRITE</td><td>Map(mode -> Append, statsOnLoad -> false, partitionBy -> [])</td><td>null</td><td>List(2879899354628678)</td><td>0203-052121-nggyovx3</td><td>67</td><td>WriteSerializable</td><td>true</td><td>Map(numFiles -> 1, numOutputRows -> 1, numOutputBytes -> 716)</td><td>null</td><td>Databricks-Runtime/15.4.x-scala2.12</td></tr><tr><td>67</td><td>2025-02-03T09:35:18Z</td><td>5755764547042441</td><td>inaya998877@gmail.com</td><td>WRITE</td><td>Map(mode -> Append, statsOnLoad -> false, partitionBy -> [])</td><td>null</td><td>List(2879899354628678)</td><td>0203-052121-nggyovx3</td><td>66</td><td>WriteSerializable</td><td>true</td><td>Map(numFiles -> 1, numOutputRows -> 1, numOutputBytes -> 717)</td><td>null</td><td>Databricks-Runtime/15.4.x-scala2.12</td></tr><tr><td>66</td><td>2025-02-03T09:35:17Z</td><td>5755764547042441</td><td>inaya998877@gmail.com</td><td>WRITE</td><td>Map(mode -> Append, statsOnLoad -> false, partitionBy -> [])</td><td>null</td><td>List(2879899354628678)</td><td>0203-052121-nggyovx3</td><td>65</td><td>WriteSerializable</td><td>true</td><td>Map(numFiles -> 1, numOutputRows -> 1, numOutputBytes -> 717)</td><td>null</td><td>Databricks-Runtime/15.4.x-scala2.12</td></tr><tr><td>65</td><td>2025-02-03T09:35:15Z</td><td>5755764547042441</td><td>inaya998877@gmail.com</td><td>WRITE</td><td>Map(mode -> Append, statsOnLoad -> false, partitionBy -> [])</td><td>null</td><td>List(2879899354628678)</td><td>0203-052121-nggyovx3</td><td>64</td><td>WriteSerializable</td><td>true</td><td>Map(numFiles -> 1, numOutputRows -> 1, numOutputBytes -> 717)</td><td>null</td><td>Databricks-Runtime/15.4.x-scala2.12</td></tr><tr><td>64</td><td>2025-02-03T09:35:14Z</td><td>5755764547042441</td><td>inaya998877@gmail.com</td><td>WRITE</td><td>Map(mode -> Append, statsOnLoad -> false, partitionBy -> [])</td><td>null</td><td>List(2879899354628678)</td><td>0203-052121-nggyovx3</td><td>63</td><td>WriteSerializable</td><td>true</td><td>Map(numFiles -> 1, numOutputRows -> 1, numOutputBytes -> 716)</td><td>null</td><td>Databricks-Runtime/15.4.x-scala2.12</td></tr><tr><td>63</td><td>2025-02-03T09:35:12Z</td><td>5755764547042441</td><td>inaya998877@gmail.com</td><td>WRITE</td><td>Map(mode -> Append, statsOnLoad -> false, partitionBy -> [])</td><td>null</td><td>List(2879899354628678)</td><td>0203-052121-nggyovx3</td><td>62</td><td>WriteSerializable</td><td>true</td><td>Map(numFiles -> 1, numOutputRows -> 1, numOutputBytes -> 717)</td><td>null</td><td>Databricks-Runtime/15.4.x-scala2.12</td></tr><tr><td>62</td><td>2025-02-03T09:35:11Z</td><td>5755764547042441</td><td>inaya998877@gmail.com</td><td>WRITE</td><td>Map(mode -> Append, statsOnLoad -> false, partitionBy -> [])</td><td>null</td><td>List(2879899354628678)</td><td>0203-052121-nggyovx3</td><td>61</td><td>WriteSerializable</td><td>true</td><td>Map(numFiles -> 1, numOutputRows -> 1, numOutputBytes -> 717)</td><td>null</td><td>Databricks-Runtime/15.4.x-scala2.12</td></tr><tr><td>61</td><td>2025-02-03T09:35:09Z</td><td>5755764547042441</td><td>inaya998877@gmail.com</td><td>WRITE</td><td>Map(mode -> Append, statsOnLoad -> false, partitionBy -> [])</td><td>null</td><td>List(2879899354628678)</td><td>0203-052121-nggyovx3</td><td>60</td><td>WriteSerializable</td><td>true</td><td>Map(numFiles -> 1, numOutputRows -> 1, numOutputBytes -> 717)</td><td>null</td><td>Databricks-Runtime/15.4.x-scala2.12</td></tr><tr><td>60</td><td>2025-02-03T09:35:08Z</td><td>5755764547042441</td><td>inaya998877@gmail.com</td><td>WRITE</td><td>Map(mode -> Append, statsOnLoad -> false, partitionBy -> [])</td><td>null</td><td>List(2879899354628678)</td><td>0203-052121-nggyovx3</td><td>59</td><td>WriteSerializable</td><td>true</td><td>Map(numFiles -> 1, numOutputRows -> 1, numOutputBytes -> 717)</td><td>null</td><td>Databricks-Runtime/15.4.x-scala2.12</td></tr><tr><td>59</td><td>2025-02-03T09:35:06Z</td><td>5755764547042441</td><td>inaya998877@gmail.com</td><td>WRITE</td><td>Map(mode -> Append, statsOnLoad -> false, partitionBy -> [])</td><td>null</td><td>List(2879899354628678)</td><td>0203-052121-nggyovx3</td><td>58</td><td>WriteSerializable</td><td>true</td><td>Map(numFiles -> 1, numOutputRows -> 1, numOutputBytes -> 717)</td><td>null</td><td>Databricks-Runtime/15.4.x-scala2.12</td></tr><tr><td>58</td><td>2025-02-03T09:35:05Z</td><td>5755764547042441</td><td>inaya998877@gmail.com</td><td>WRITE</td><td>Map(mode -> Append, statsOnLoad -> false, partitionBy -> [])</td><td>null</td><td>List(2879899354628678)</td><td>0203-052121-nggyovx3</td><td>57</td><td>WriteSerializable</td><td>true</td><td>Map(numFiles -> 1, numOutputRows -> 1, numOutputBytes -> 717)</td><td>null</td><td>Databricks-Runtime/15.4.x-scala2.12</td></tr><tr><td>57</td><td>2025-02-03T09:35:04Z</td><td>5755764547042441</td><td>inaya998877@gmail.com</td><td>WRITE</td><td>Map(mode -> Append, statsOnLoad -> false, partitionBy -> [])</td><td>null</td><td>List(2879899354628678)</td><td>0203-052121-nggyovx3</td><td>56</td><td>WriteSerializable</td><td>true</td><td>Map(numFiles -> 1, numOutputRows -> 1, numOutputBytes -> 717)</td><td>null</td><td>Databricks-Runtime/15.4.x-scala2.12</td></tr><tr><td>56</td><td>2025-02-03T09:35:02Z</td><td>5755764547042441</td><td>inaya998877@gmail.com</td><td>WRITE</td><td>Map(mode -> Append, statsOnLoad -> false, partitionBy -> [])</td><td>null</td><td>List(2879899354628678)</td><td>0203-052121-nggyovx3</td><td>55</td><td>WriteSerializable</td><td>true</td><td>Map(numFiles -> 1, numOutputRows -> 1, numOutputBytes -> 717)</td><td>null</td><td>Databricks-Runtime/15.4.x-scala2.12</td></tr><tr><td>55</td><td>2025-02-03T09:35:01Z</td><td>5755764547042441</td><td>inaya998877@gmail.com</td><td>WRITE</td><td>Map(mode -> Append, statsOnLoad -> false, partitionBy -> [])</td><td>null</td><td>List(2879899354628678)</td><td>0203-052121-nggyovx3</td><td>54</td><td>WriteSerializable</td><td>true</td><td>Map(numFiles -> 1, numOutputRows -> 1, numOutputBytes -> 717)</td><td>null</td><td>Databricks-Runtime/15.4.x-scala2.12</td></tr><tr><td>54</td><td>2025-02-03T09:34:59Z</td><td>5755764547042441</td><td>inaya998877@gmail.com</td><td>WRITE</td><td>Map(mode -> Append, statsOnLoad -> false, partitionBy -> [])</td><td>null</td><td>List(2879899354628678)</td><td>0203-052121-nggyovx3</td><td>53</td><td>WriteSerializable</td><td>true</td><td>Map(numFiles -> 1, numOutputRows -> 1, numOutputBytes -> 717)</td><td>null</td><td>Databricks-Runtime/15.4.x-scala2.12</td></tr><tr><td>53</td><td>2025-02-03T09:34:58Z</td><td>5755764547042441</td><td>inaya998877@gmail.com</td><td>WRITE</td><td>Map(mode -> Append, statsOnLoad -> false, partitionBy -> [])</td><td>null</td><td>List(2879899354628678)</td><td>0203-052121-nggyovx3</td><td>52</td><td>WriteSerializable</td><td>true</td><td>Map(numFiles -> 1, numOutputRows -> 1, numOutputBytes -> 717)</td><td>null</td><td>Databricks-Runtime/15.4.x-scala2.12</td></tr><tr><td>52</td><td>2025-02-03T09:34:57Z</td><td>5755764547042441</td><td>inaya998877@gmail.com</td><td>WRITE</td><td>Map(mode -> Append, statsOnLoad -> false, partitionBy -> [])</td><td>null</td><td>List(2879899354628678)</td><td>0203-052121-nggyovx3</td><td>51</td><td>WriteSerializable</td><td>true</td><td>Map(numFiles -> 1, numOutputRows -> 1, numOutputBytes -> 716)</td><td>null</td><td>Databricks-Runtime/15.4.x-scala2.12</td></tr><tr><td>51</td><td>2025-02-03T09:34:55Z</td><td>5755764547042441</td><td>inaya998877@gmail.com</td><td>OPTIMIZE</td><td>Map(predicate -> [], auto -> true, clusterBy -> [], zOrderBy -> [], batchId -> 0)</td><td>null</td><td>List(2879899354628678)</td><td>0203-052121-nggyovx3</td><td>50</td><td>SnapshotIsolation</td><td>false</td><td>Map(numRemovedFiles -> 50, numRemovedBytes -> 35782, p25FileSize -> 1111, numDeletionVectorsRemoved -> 0, minFileSize -> 1111, numAddedFiles -> 1, maxFileSize -> 1111, p75FileSize -> 1111, p50FileSize -> 1111, numAddedBytes -> 1111)</td><td>null</td><td>Databricks-Runtime/15.4.x-scala2.12</td></tr><tr><td>50</td><td>2025-02-03T09:34:42Z</td><td>5755764547042441</td><td>inaya998877@gmail.com</td><td>WRITE</td><td>Map(mode -> Append, statsOnLoad -> false, partitionBy -> [])</td><td>null</td><td>List(2879899354628678)</td><td>0203-052121-nggyovx3</td><td>49</td><td>WriteSerializable</td><td>true</td><td>Map(numFiles -> 1, numOutputRows -> 1, numOutputBytes -> 717)</td><td>null</td><td>Databricks-Runtime/15.4.x-scala2.12</td></tr><tr><td>49</td><td>2025-02-03T09:34:39Z</td><td>5755764547042441</td><td>inaya998877@gmail.com</td><td>WRITE</td><td>Map(mode -> Append, statsOnLoad -> false, partitionBy -> [])</td><td>null</td><td>List(2879899354628678)</td><td>0203-052121-nggyovx3</td><td>48</td><td>WriteSerializable</td><td>true</td><td>Map(numFiles -> 1, numOutputRows -> 1, numOutputBytes -> 717)</td><td>null</td><td>Databricks-Runtime/15.4.x-scala2.12</td></tr><tr><td>48</td><td>2025-02-03T09:34:38Z</td><td>5755764547042441</td><td>inaya998877@gmail.com</td><td>WRITE</td><td>Map(mode -> Append, statsOnLoad -> false, partitionBy -> [])</td><td>null</td><td>List(2879899354628678)</td><td>0203-052121-nggyovx3</td><td>47</td><td>WriteSerializable</td><td>true</td><td>Map(numFiles -> 1, numOutputRows -> 1, numOutputBytes -> 717)</td><td>null</td><td>Databricks-Runtime/15.4.x-scala2.12</td></tr><tr><td>47</td><td>2025-02-03T09:34:36Z</td><td>5755764547042441</td><td>inaya998877@gmail.com</td><td>WRITE</td><td>Map(mode -> Append, statsOnLoad -> false, partitionBy -> [])</td><td>null</td><td>List(2879899354628678)</td><td>0203-052121-nggyovx3</td><td>46</td><td>WriteSerializable</td><td>true</td><td>Map(numFiles -> 1, numOutputRows -> 1, numOutputBytes -> 717)</td><td>null</td><td>Databricks-Runtime/15.4.x-scala2.12</td></tr><tr><td>46</td><td>2025-02-03T09:34:34Z</td><td>5755764547042441</td><td>inaya998877@gmail.com</td><td>WRITE</td><td>Map(mode -> Append, statsOnLoad -> false, partitionBy -> [])</td><td>null</td><td>List(2879899354628678)</td><td>0203-052121-nggyovx3</td><td>45</td><td>WriteSerializable</td><td>true</td><td>Map(numFiles -> 1, numOutputRows -> 1, numOutputBytes -> 717)</td><td>null</td><td>Databricks-Runtime/15.4.x-scala2.12</td></tr><tr><td>45</td><td>2025-02-03T09:34:31Z</td><td>5755764547042441</td><td>inaya998877@gmail.com</td><td>WRITE</td><td>Map(mode -> Append, statsOnLoad -> false, partitionBy -> [])</td><td>null</td><td>List(2879899354628678)</td><td>0203-052121-nggyovx3</td><td>44</td><td>WriteSerializable</td><td>true</td><td>Map(numFiles -> 1, numOutputRows -> 1, numOutputBytes -> 717)</td><td>null</td><td>Databricks-Runtime/15.4.x-scala2.12</td></tr><tr><td>44</td><td>2025-02-03T09:34:29Z</td><td>5755764547042441</td><td>inaya998877@gmail.com</td><td>WRITE</td><td>Map(mode -> Append, statsOnLoad -> false, partitionBy -> [])</td><td>null</td><td>List(2879899354628678)</td><td>0203-052121-nggyovx3</td><td>43</td><td>WriteSerializable</td><td>true</td><td>Map(numFiles -> 1, numOutputRows -> 1, numOutputBytes -> 717)</td><td>null</td><td>Databricks-Runtime/15.4.x-scala2.12</td></tr><tr><td>43</td><td>2025-02-03T09:34:28Z</td><td>5755764547042441</td><td>inaya998877@gmail.com</td><td>WRITE</td><td>Map(mode -> Append, statsOnLoad -> false, partitionBy -> [])</td><td>null</td><td>List(2879899354628678)</td><td>0203-052121-nggyovx3</td><td>42</td><td>WriteSerializable</td><td>true</td><td>Map(numFiles -> 1, numOutputRows -> 1, numOutputBytes -> 717)</td><td>null</td><td>Databricks-Runtime/15.4.x-scala2.12</td></tr><tr><td>42</td><td>2025-02-03T09:34:26Z</td><td>5755764547042441</td><td>inaya998877@gmail.com</td><td>WRITE</td><td>Map(mode -> Append, statsOnLoad -> false, partitionBy -> [])</td><td>null</td><td>List(2879899354628678)</td><td>0203-052121-nggyovx3</td><td>41</td><td>WriteSerializable</td><td>true</td><td>Map(numFiles -> 1, numOutputRows -> 1, numOutputBytes -> 717)</td><td>null</td><td>Databricks-Runtime/15.4.x-scala2.12</td></tr><tr><td>41</td><td>2025-02-03T09:34:23Z</td><td>5755764547042441</td><td>inaya998877@gmail.com</td><td>WRITE</td><td>Map(mode -> Append, statsOnLoad -> false, partitionBy -> [])</td><td>null</td><td>List(2879899354628678)</td><td>0203-052121-nggyovx3</td><td>40</td><td>WriteSerializable</td><td>true</td><td>Map(numFiles -> 1, numOutputRows -> 1, numOutputBytes -> 717)</td><td>null</td><td>Databricks-Runtime/15.4.x-scala2.12</td></tr><tr><td>40</td><td>2025-02-03T09:34:22Z</td><td>5755764547042441</td><td>inaya998877@gmail.com</td><td>WRITE</td><td>Map(mode -> Append, statsOnLoad -> false, partitionBy -> [])</td><td>null</td><td>List(2879899354628678)</td><td>0203-052121-nggyovx3</td><td>39</td><td>WriteSerializable</td><td>true</td><td>Map(numFiles -> 1, numOutputRows -> 1, numOutputBytes -> 717)</td><td>null</td><td>Databricks-Runtime/15.4.x-scala2.12</td></tr><tr><td>39</td><td>2025-02-03T09:34:20Z</td><td>5755764547042441</td><td>inaya998877@gmail.com</td><td>WRITE</td><td>Map(mode -> Append, statsOnLoad -> false, partitionBy -> [])</td><td>null</td><td>List(2879899354628678)</td><td>0203-052121-nggyovx3</td><td>38</td><td>WriteSerializable</td><td>true</td><td>Map(numFiles -> 1, numOutputRows -> 1, numOutputBytes -> 717)</td><td>null</td><td>Databricks-Runtime/15.4.x-scala2.12</td></tr><tr><td>38</td><td>2025-02-03T09:34:17Z</td><td>5755764547042441</td><td>inaya998877@gmail.com</td><td>WRITE</td><td>Map(mode -> Append, statsOnLoad -> false, partitionBy -> [])</td><td>null</td><td>List(2879899354628678)</td><td>0203-052121-nggyovx3</td><td>37</td><td>WriteSerializable</td><td>true</td><td>Map(numFiles -> 1, numOutputRows -> 1, numOutputBytes -> 717)</td><td>null</td><td>Databricks-Runtime/15.4.x-scala2.12</td></tr><tr><td>37</td><td>2025-02-03T09:34:15Z</td><td>5755764547042441</td><td>inaya998877@gmail.com</td><td>WRITE</td><td>Map(mode -> Append, statsOnLoad -> false, partitionBy -> [])</td><td>null</td><td>List(2879899354628678)</td><td>0203-052121-nggyovx3</td><td>36</td><td>WriteSerializable</td><td>true</td><td>Map(numFiles -> 1, numOutputRows -> 1, numOutputBytes -> 717)</td><td>null</td><td>Databricks-Runtime/15.4.x-scala2.12</td></tr><tr><td>36</td><td>2025-02-03T09:34:14Z</td><td>5755764547042441</td><td>inaya998877@gmail.com</td><td>WRITE</td><td>Map(mode -> Append, statsOnLoad -> false, partitionBy -> [])</td><td>null</td><td>List(2879899354628678)</td><td>0203-052121-nggyovx3</td><td>35</td><td>WriteSerializable</td><td>true</td><td>Map(numFiles -> 1, numOutputRows -> 1, numOutputBytes -> 717)</td><td>null</td><td>Databricks-Runtime/15.4.x-scala2.12</td></tr><tr><td>35</td><td>2025-02-03T09:34:12Z</td><td>5755764547042441</td><td>inaya998877@gmail.com</td><td>WRITE</td><td>Map(mode -> Append, statsOnLoad -> false, partitionBy -> [])</td><td>null</td><td>List(2879899354628678)</td><td>0203-052121-nggyovx3</td><td>34</td><td>WriteSerializable</td><td>true</td><td>Map(numFiles -> 1, numOutputRows -> 1, numOutputBytes -> 717)</td><td>null</td><td>Databricks-Runtime/15.4.x-scala2.12</td></tr><tr><td>34</td><td>2025-02-03T09:34:09Z</td><td>5755764547042441</td><td>inaya998877@gmail.com</td><td>WRITE</td><td>Map(mode -> Append, statsOnLoad -> false, partitionBy -> [])</td><td>null</td><td>List(2879899354628678)</td><td>0203-052121-nggyovx3</td><td>33</td><td>WriteSerializable</td><td>true</td><td>Map(numFiles -> 1, numOutputRows -> 1, numOutputBytes -> 717)</td><td>null</td><td>Databricks-Runtime/15.4.x-scala2.12</td></tr><tr><td>33</td><td>2025-02-03T09:34:08Z</td><td>5755764547042441</td><td>inaya998877@gmail.com</td><td>WRITE</td><td>Map(mode -> Append, statsOnLoad -> false, partitionBy -> [])</td><td>null</td><td>List(2879899354628678)</td><td>0203-052121-nggyovx3</td><td>32</td><td>WriteSerializable</td><td>true</td><td>Map(numFiles -> 1, numOutputRows -> 1, numOutputBytes -> 716)</td><td>null</td><td>Databricks-Runtime/15.4.x-scala2.12</td></tr><tr><td>32</td><td>2025-02-03T09:34:06Z</td><td>5755764547042441</td><td>inaya998877@gmail.com</td><td>WRITE</td><td>Map(mode -> Append, statsOnLoad -> false, partitionBy -> [])</td><td>null</td><td>List(2879899354628678)</td><td>0203-052121-nggyovx3</td><td>31</td><td>WriteSerializable</td><td>true</td><td>Map(numFiles -> 1, numOutputRows -> 1, numOutputBytes -> 717)</td><td>null</td><td>Databricks-Runtime/15.4.x-scala2.12</td></tr><tr><td>31</td><td>2025-02-03T09:34:05Z</td><td>5755764547042441</td><td>inaya998877@gmail.com</td><td>WRITE</td><td>Map(mode -> Append, statsOnLoad -> false, partitionBy -> [])</td><td>null</td><td>List(2879899354628678)</td><td>0203-052121-nggyovx3</td><td>30</td><td>WriteSerializable</td><td>true</td><td>Map(numFiles -> 1, numOutputRows -> 1, numOutputBytes -> 717)</td><td>null</td><td>Databricks-Runtime/15.4.x-scala2.12</td></tr><tr><td>30</td><td>2025-02-03T09:34:02Z</td><td>5755764547042441</td><td>inaya998877@gmail.com</td><td>WRITE</td><td>Map(mode -> Append, statsOnLoad -> false, partitionBy -> [])</td><td>null</td><td>List(2879899354628678)</td><td>0203-052121-nggyovx3</td><td>29</td><td>WriteSerializable</td><td>true</td><td>Map(numFiles -> 1, numOutputRows -> 1, numOutputBytes -> 717)</td><td>null</td><td>Databricks-Runtime/15.4.x-scala2.12</td></tr><tr><td>29</td><td>2025-02-03T09:34:01Z</td><td>5755764547042441</td><td>inaya998877@gmail.com</td><td>WRITE</td><td>Map(mode -> Append, statsOnLoad -> false, partitionBy -> [])</td><td>null</td><td>List(2879899354628678)</td><td>0203-052121-nggyovx3</td><td>28</td><td>WriteSerializable</td><td>true</td><td>Map(numFiles -> 1, numOutputRows -> 1, numOutputBytes -> 717)</td><td>null</td><td>Databricks-Runtime/15.4.x-scala2.12</td></tr><tr><td>28</td><td>2025-02-03T09:33:59Z</td><td>5755764547042441</td><td>inaya998877@gmail.com</td><td>WRITE</td><td>Map(mode -> Append, statsOnLoad -> false, partitionBy -> [])</td><td>null</td><td>List(2879899354628678)</td><td>0203-052121-nggyovx3</td><td>27</td><td>WriteSerializable</td><td>true</td><td>Map(numFiles -> 1, numOutputRows -> 1, numOutputBytes -> 716)</td><td>null</td><td>Databricks-Runtime/15.4.x-scala2.12</td></tr><tr><td>27</td><td>2025-02-03T09:33:58Z</td><td>5755764547042441</td><td>inaya998877@gmail.com</td><td>WRITE</td><td>Map(mode -> Append, statsOnLoad -> false, partitionBy -> [])</td><td>null</td><td>List(2879899354628678)</td><td>0203-052121-nggyovx3</td><td>26</td><td>WriteSerializable</td><td>true</td><td>Map(numFiles -> 1, numOutputRows -> 1, numOutputBytes -> 717)</td><td>null</td><td>Databricks-Runtime/15.4.x-scala2.12</td></tr><tr><td>26</td><td>2025-02-03T09:33:55Z</td><td>5755764547042441</td><td>inaya998877@gmail.com</td><td>WRITE</td><td>Map(mode -> Append, statsOnLoad -> false, partitionBy -> [])</td><td>null</td><td>List(2879899354628678)</td><td>0203-052121-nggyovx3</td><td>25</td><td>WriteSerializable</td><td>true</td><td>Map(numFiles -> 1, numOutputRows -> 1, numOutputBytes -> 717)</td><td>null</td><td>Databricks-Runtime/15.4.x-scala2.12</td></tr><tr><td>25</td><td>2025-02-03T09:33:54Z</td><td>5755764547042441</td><td>inaya998877@gmail.com</td><td>WRITE</td><td>Map(mode -> Append, statsOnLoad -> false, partitionBy -> [])</td><td>null</td><td>List(2879899354628678)</td><td>0203-052121-nggyovx3</td><td>24</td><td>WriteSerializable</td><td>true</td><td>Map(numFiles -> 1, numOutputRows -> 1, numOutputBytes -> 717)</td><td>null</td><td>Databricks-Runtime/15.4.x-scala2.12</td></tr><tr><td>24</td><td>2025-02-03T09:33:52Z</td><td>5755764547042441</td><td>inaya998877@gmail.com</td><td>WRITE</td><td>Map(mode -> Append, statsOnLoad -> false, partitionBy -> [])</td><td>null</td><td>List(2879899354628678)</td><td>0203-052121-nggyovx3</td><td>23</td><td>WriteSerializable</td><td>true</td><td>Map(numFiles -> 1, numOutputRows -> 1, numOutputBytes -> 716)</td><td>null</td><td>Databricks-Runtime/15.4.x-scala2.12</td></tr><tr><td>23</td><td>2025-02-03T09:33:51Z</td><td>5755764547042441</td><td>inaya998877@gmail.com</td><td>WRITE</td><td>Map(mode -> Append, statsOnLoad -> false, partitionBy -> [])</td><td>null</td><td>List(2879899354628678)</td><td>0203-052121-nggyovx3</td><td>22</td><td>WriteSerializable</td><td>true</td><td>Map(numFiles -> 1, numOutputRows -> 1, numOutputBytes -> 717)</td><td>null</td><td>Databricks-Runtime/15.4.x-scala2.12</td></tr><tr><td>22</td><td>2025-02-03T09:33:49Z</td><td>5755764547042441</td><td>inaya998877@gmail.com</td><td>WRITE</td><td>Map(mode -> Append, statsOnLoad -> false, partitionBy -> [])</td><td>null</td><td>List(2879899354628678)</td><td>0203-052121-nggyovx3</td><td>21</td><td>WriteSerializable</td><td>true</td><td>Map(numFiles -> 1, numOutputRows -> 1, numOutputBytes -> 717)</td><td>null</td><td>Databricks-Runtime/15.4.x-scala2.12</td></tr><tr><td>21</td><td>2025-02-03T09:33:47Z</td><td>5755764547042441</td><td>inaya998877@gmail.com</td><td>WRITE</td><td>Map(mode -> Append, statsOnLoad -> false, partitionBy -> [])</td><td>null</td><td>List(2879899354628678)</td><td>0203-052121-nggyovx3</td><td>20</td><td>WriteSerializable</td><td>true</td><td>Map(numFiles -> 1, numOutputRows -> 1, numOutputBytes -> 717)</td><td>null</td><td>Databricks-Runtime/15.4.x-scala2.12</td></tr><tr><td>20</td><td>2025-02-03T09:33:46Z</td><td>5755764547042441</td><td>inaya998877@gmail.com</td><td>WRITE</td><td>Map(mode -> Append, statsOnLoad -> false, partitionBy -> [])</td><td>null</td><td>List(2879899354628678)</td><td>0203-052121-nggyovx3</td><td>19</td><td>WriteSerializable</td><td>true</td><td>Map(numFiles -> 1, numOutputRows -> 1, numOutputBytes -> 716)</td><td>null</td><td>Databricks-Runtime/15.4.x-scala2.12</td></tr><tr><td>19</td><td>2025-02-03T09:33:44Z</td><td>5755764547042441</td><td>inaya998877@gmail.com</td><td>WRITE</td><td>Map(mode -> Append, statsOnLoad -> false, partitionBy -> [])</td><td>null</td><td>List(2879899354628678)</td><td>0203-052121-nggyovx3</td><td>18</td><td>WriteSerializable</td><td>true</td><td>Map(numFiles -> 1, numOutputRows -> 1, numOutputBytes -> 717)</td><td>null</td><td>Databricks-Runtime/15.4.x-scala2.12</td></tr><tr><td>18</td><td>2025-02-03T09:33:42Z</td><td>5755764547042441</td><td>inaya998877@gmail.com</td><td>WRITE</td><td>Map(mode -> Append, statsOnLoad -> false, partitionBy -> [])</td><td>null</td><td>List(2879899354628678)</td><td>0203-052121-nggyovx3</td><td>17</td><td>WriteSerializable</td><td>true</td><td>Map(numFiles -> 1, numOutputRows -> 1, numOutputBytes -> 717)</td><td>null</td><td>Databricks-Runtime/15.4.x-scala2.12</td></tr><tr><td>17</td><td>2025-02-03T09:33:41Z</td><td>5755764547042441</td><td>inaya998877@gmail.com</td><td>WRITE</td><td>Map(mode -> Append, statsOnLoad -> false, partitionBy -> [])</td><td>null</td><td>List(2879899354628678)</td><td>0203-052121-nggyovx3</td><td>16</td><td>WriteSerializable</td><td>true</td><td>Map(numFiles -> 1, numOutputRows -> 1, numOutputBytes -> 717)</td><td>null</td><td>Databricks-Runtime/15.4.x-scala2.12</td></tr><tr><td>16</td><td>2025-02-03T09:33:39Z</td><td>5755764547042441</td><td>inaya998877@gmail.com</td><td>WRITE</td><td>Map(mode -> Append, statsOnLoad -> false, partitionBy -> [])</td><td>null</td><td>List(2879899354628678)</td><td>0203-052121-nggyovx3</td><td>15</td><td>WriteSerializable</td><td>true</td><td>Map(numFiles -> 1, numOutputRows -> 1, numOutputBytes -> 717)</td><td>null</td><td>Databricks-Runtime/15.4.x-scala2.12</td></tr><tr><td>15</td><td>2025-02-03T09:33:38Z</td><td>5755764547042441</td><td>inaya998877@gmail.com</td><td>WRITE</td><td>Map(mode -> Append, statsOnLoad -> false, partitionBy -> [])</td><td>null</td><td>List(2879899354628678)</td><td>0203-052121-nggyovx3</td><td>14</td><td>WriteSerializable</td><td>true</td><td>Map(numFiles -> 1, numOutputRows -> 1, numOutputBytes -> 717)</td><td>null</td><td>Databricks-Runtime/15.4.x-scala2.12</td></tr><tr><td>14</td><td>2025-02-03T09:33:36Z</td><td>5755764547042441</td><td>inaya998877@gmail.com</td><td>WRITE</td><td>Map(mode -> Append, statsOnLoad -> false, partitionBy -> [])</td><td>null</td><td>List(2879899354628678)</td><td>0203-052121-nggyovx3</td><td>13</td><td>WriteSerializable</td><td>true</td><td>Map(numFiles -> 1, numOutputRows -> 1, numOutputBytes -> 716)</td><td>null</td><td>Databricks-Runtime/15.4.x-scala2.12</td></tr><tr><td>13</td><td>2025-02-03T09:33:34Z</td><td>5755764547042441</td><td>inaya998877@gmail.com</td><td>WRITE</td><td>Map(mode -> Append, statsOnLoad -> false, partitionBy -> [])</td><td>null</td><td>List(2879899354628678)</td><td>0203-052121-nggyovx3</td><td>12</td><td>WriteSerializable</td><td>true</td><td>Map(numFiles -> 1, numOutputRows -> 1, numOutputBytes -> 717)</td><td>null</td><td>Databricks-Runtime/15.4.x-scala2.12</td></tr><tr><td>12</td><td>2025-02-03T09:33:33Z</td><td>5755764547042441</td><td>inaya998877@gmail.com</td><td>WRITE</td><td>Map(mode -> Append, statsOnLoad -> false, partitionBy -> [])</td><td>null</td><td>List(2879899354628678)</td><td>0203-052121-nggyovx3</td><td>11</td><td>WriteSerializable</td><td>true</td><td>Map(numFiles -> 1, numOutputRows -> 1, numOutputBytes -> 717)</td><td>null</td><td>Databricks-Runtime/15.4.x-scala2.12</td></tr><tr><td>11</td><td>2025-02-03T09:33:32Z</td><td>5755764547042441</td><td>inaya998877@gmail.com</td><td>WRITE</td><td>Map(mode -> Append, statsOnLoad -> false, partitionBy -> [])</td><td>null</td><td>List(2879899354628678)</td><td>0203-052121-nggyovx3</td><td>10</td><td>WriteSerializable</td><td>true</td><td>Map(numFiles -> 1, numOutputRows -> 1, numOutputBytes -> 717)</td><td>null</td><td>Databricks-Runtime/15.4.x-scala2.12</td></tr><tr><td>10</td><td>2025-02-03T09:33:30Z</td><td>5755764547042441</td><td>inaya998877@gmail.com</td><td>WRITE</td><td>Map(mode -> Append, statsOnLoad -> false, partitionBy -> [])</td><td>null</td><td>List(2879899354628678)</td><td>0203-052121-nggyovx3</td><td>9</td><td>WriteSerializable</td><td>true</td><td>Map(numFiles -> 1, numOutputRows -> 1, numOutputBytes -> 717)</td><td>null</td><td>Databricks-Runtime/15.4.x-scala2.12</td></tr><tr><td>9</td><td>2025-02-03T09:33:28Z</td><td>5755764547042441</td><td>inaya998877@gmail.com</td><td>WRITE</td><td>Map(mode -> Append, statsOnLoad -> false, partitionBy -> [])</td><td>null</td><td>List(2879899354628678)</td><td>0203-052121-nggyovx3</td><td>8</td><td>WriteSerializable</td><td>true</td><td>Map(numFiles -> 1, numOutputRows -> 1, numOutputBytes -> 710)</td><td>null</td><td>Databricks-Runtime/15.4.x-scala2.12</td></tr><tr><td>8</td><td>2025-02-03T09:33:27Z</td><td>5755764547042441</td><td>inaya998877@gmail.com</td><td>WRITE</td><td>Map(mode -> Append, statsOnLoad -> false, partitionBy -> [])</td><td>null</td><td>List(2879899354628678)</td><td>0203-052121-nggyovx3</td><td>7</td><td>WriteSerializable</td><td>true</td><td>Map(numFiles -> 1, numOutputRows -> 1, numOutputBytes -> 710)</td><td>null</td><td>Databricks-Runtime/15.4.x-scala2.12</td></tr><tr><td>7</td><td>2025-02-03T09:33:26Z</td><td>5755764547042441</td><td>inaya998877@gmail.com</td><td>WRITE</td><td>Map(mode -> Append, statsOnLoad -> false, partitionBy -> [])</td><td>null</td><td>List(2879899354628678)</td><td>0203-052121-nggyovx3</td><td>6</td><td>WriteSerializable</td><td>true</td><td>Map(numFiles -> 1, numOutputRows -> 1, numOutputBytes -> 710)</td><td>null</td><td>Databricks-Runtime/15.4.x-scala2.12</td></tr><tr><td>6</td><td>2025-02-03T09:33:24Z</td><td>5755764547042441</td><td>inaya998877@gmail.com</td><td>WRITE</td><td>Map(mode -> Append, statsOnLoad -> false, partitionBy -> [])</td><td>null</td><td>List(2879899354628678)</td><td>0203-052121-nggyovx3</td><td>5</td><td>WriteSerializable</td><td>true</td><td>Map(numFiles -> 1, numOutputRows -> 1, numOutputBytes -> 710)</td><td>null</td><td>Databricks-Runtime/15.4.x-scala2.12</td></tr><tr><td>5</td><td>2025-02-03T09:33:22Z</td><td>5755764547042441</td><td>inaya998877@gmail.com</td><td>WRITE</td><td>Map(mode -> Append, statsOnLoad -> false, partitionBy -> [])</td><td>null</td><td>List(2879899354628678)</td><td>0203-052121-nggyovx3</td><td>4</td><td>WriteSerializable</td><td>true</td><td>Map(numFiles -> 1, numOutputRows -> 1, numOutputBytes -> 710)</td><td>null</td><td>Databricks-Runtime/15.4.x-scala2.12</td></tr><tr><td>4</td><td>2025-02-03T09:33:21Z</td><td>5755764547042441</td><td>inaya998877@gmail.com</td><td>WRITE</td><td>Map(mode -> Append, statsOnLoad -> false, partitionBy -> [])</td><td>null</td><td>List(2879899354628678)</td><td>0203-052121-nggyovx3</td><td>3</td><td>WriteSerializable</td><td>true</td><td>Map(numFiles -> 1, numOutputRows -> 1, numOutputBytes -> 710)</td><td>null</td><td>Databricks-Runtime/15.4.x-scala2.12</td></tr><tr><td>3</td><td>2025-02-03T09:33:19Z</td><td>5755764547042441</td><td>inaya998877@gmail.com</td><td>WRITE</td><td>Map(mode -> Append, statsOnLoad -> false, partitionBy -> [])</td><td>null</td><td>List(2879899354628678)</td><td>0203-052121-nggyovx3</td><td>2</td><td>WriteSerializable</td><td>true</td><td>Map(numFiles -> 1, numOutputRows -> 1, numOutputBytes -> 710)</td><td>null</td><td>Databricks-Runtime/15.4.x-scala2.12</td></tr><tr><td>2</td><td>2025-02-03T09:33:18Z</td><td>5755764547042441</td><td>inaya998877@gmail.com</td><td>WRITE</td><td>Map(mode -> Append, statsOnLoad -> false, partitionBy -> [])</td><td>null</td><td>List(2879899354628678)</td><td>0203-052121-nggyovx3</td><td>1</td><td>WriteSerializable</td><td>true</td><td>Map(numFiles -> 1, numOutputRows -> 1, numOutputBytes -> 710)</td><td>null</td><td>Databricks-Runtime/15.4.x-scala2.12</td></tr><tr><td>1</td><td>2025-02-03T09:33:16Z</td><td>5755764547042441</td><td>inaya998877@gmail.com</td><td>WRITE</td><td>Map(mode -> Append, statsOnLoad -> false, partitionBy -> [])</td><td>null</td><td>List(2879899354628678)</td><td>0203-052121-nggyovx3</td><td>0</td><td>WriteSerializable</td><td>true</td><td>Map(numFiles -> 1, numOutputRows -> 1, numOutputBytes -> 710)</td><td>null</td><td>Databricks-Runtime/15.4.x-scala2.12</td></tr><tr><td>0</td><td>2025-02-03T09:33:14Z</td><td>5755764547042441</td><td>inaya998877@gmail.com</td><td>CREATE OR REPLACE TABLE</td><td>Map(partitionBy -> [], clusterBy -> [], description -> null, isManaged -> true, properties -> {}, statsOnLoad -> false)</td><td>null</td><td>List(2879899354628678)</td><td>0203-052121-nggyovx3</td><td>null</td><td>WriteSerializable</td><td>true</td><td>Map()</td><td>null</td><td>Databricks-Runtime/15.4.x-scala2.12</td></tr></tbody></table></div>"
      ]
     },
     "metadata": {
      "application/vnd.databricks.v1+output": {
       "addedWidgets": {},
       "aggData": [],
       "aggError": "",
       "aggOverflow": false,
       "aggSchema": [],
       "aggSeriesLimitReached": false,
       "aggType": "",
       "arguments": {},
       "columnCustomDisplayInfos": {},
       "data": [
        [
         101,
         "2025-02-03T09:36:28Z",
         "5755764547042441",
         "inaya998877@gmail.com",
         "OPTIMIZE",
         {
          "auto": "true",
          "batchId": "0",
          "clusterBy": "[]",
          "predicate": "[]",
          "zOrderBy": "[]"
         },
         null,
         [
          "2879899354628678"
         ],
         "0203-052121-nggyovx3",
         100,
         "SnapshotIsolation",
         false,
         {
          "maxFileSize": "1515",
          "minFileSize": "1515",
          "numAddedBytes": "1515",
          "numAddedFiles": "1",
          "numDeletionVectorsRemoved": "0",
          "numRemovedBytes": "36236",
          "numRemovedFiles": "50",
          "p25FileSize": "1515",
          "p50FileSize": "1515",
          "p75FileSize": "1515"
         },
         null,
         "Databricks-Runtime/15.4.x-scala2.12"
        ],
        [
         100,
         "2025-02-03T09:36:16Z",
         "5755764547042441",
         "inaya998877@gmail.com",
         "WRITE",
         {
          "mode": "Append",
          "partitionBy": "[]",
          "statsOnLoad": "false"
         },
         null,
         [
          "2879899354628678"
         ],
         "0203-052121-nggyovx3",
         99,
         "WriteSerializable",
         true,
         {
          "numFiles": "1",
          "numOutputBytes": "717",
          "numOutputRows": "1"
         },
         null,
         "Databricks-Runtime/15.4.x-scala2.12"
        ],
        [
         99,
         "2025-02-03T09:36:14Z",
         "5755764547042441",
         "inaya998877@gmail.com",
         "WRITE",
         {
          "mode": "Append",
          "partitionBy": "[]",
          "statsOnLoad": "false"
         },
         null,
         [
          "2879899354628678"
         ],
         "0203-052121-nggyovx3",
         98,
         "WriteSerializable",
         true,
         {
          "numFiles": "1",
          "numOutputBytes": "717",
          "numOutputRows": "1"
         },
         null,
         "Databricks-Runtime/15.4.x-scala2.12"
        ],
        [
         98,
         "2025-02-03T09:36:12Z",
         "5755764547042441",
         "inaya998877@gmail.com",
         "WRITE",
         {
          "mode": "Append",
          "partitionBy": "[]",
          "statsOnLoad": "false"
         },
         null,
         [
          "2879899354628678"
         ],
         "0203-052121-nggyovx3",
         97,
         "WriteSerializable",
         true,
         {
          "numFiles": "1",
          "numOutputBytes": "717",
          "numOutputRows": "1"
         },
         null,
         "Databricks-Runtime/15.4.x-scala2.12"
        ],
        [
         97,
         "2025-02-03T09:36:10Z",
         "5755764547042441",
         "inaya998877@gmail.com",
         "WRITE",
         {
          "mode": "Append",
          "partitionBy": "[]",
          "statsOnLoad": "false"
         },
         null,
         [
          "2879899354628678"
         ],
         "0203-052121-nggyovx3",
         96,
         "WriteSerializable",
         true,
         {
          "numFiles": "1",
          "numOutputBytes": "717",
          "numOutputRows": "1"
         },
         null,
         "Databricks-Runtime/15.4.x-scala2.12"
        ],
        [
         96,
         "2025-02-03T09:36:08Z",
         "5755764547042441",
         "inaya998877@gmail.com",
         "WRITE",
         {
          "mode": "Append",
          "partitionBy": "[]",
          "statsOnLoad": "false"
         },
         null,
         [
          "2879899354628678"
         ],
         "0203-052121-nggyovx3",
         95,
         "WriteSerializable",
         true,
         {
          "numFiles": "1",
          "numOutputBytes": "717",
          "numOutputRows": "1"
         },
         null,
         "Databricks-Runtime/15.4.x-scala2.12"
        ],
        [
         95,
         "2025-02-03T09:36:06Z",
         "5755764547042441",
         "inaya998877@gmail.com",
         "WRITE",
         {
          "mode": "Append",
          "partitionBy": "[]",
          "statsOnLoad": "false"
         },
         null,
         [
          "2879899354628678"
         ],
         "0203-052121-nggyovx3",
         94,
         "WriteSerializable",
         true,
         {
          "numFiles": "1",
          "numOutputBytes": "717",
          "numOutputRows": "1"
         },
         null,
         "Databricks-Runtime/15.4.x-scala2.12"
        ],
        [
         94,
         "2025-02-03T09:36:04Z",
         "5755764547042441",
         "inaya998877@gmail.com",
         "WRITE",
         {
          "mode": "Append",
          "partitionBy": "[]",
          "statsOnLoad": "false"
         },
         null,
         [
          "2879899354628678"
         ],
         "0203-052121-nggyovx3",
         93,
         "WriteSerializable",
         true,
         {
          "numFiles": "1",
          "numOutputBytes": "717",
          "numOutputRows": "1"
         },
         null,
         "Databricks-Runtime/15.4.x-scala2.12"
        ],
        [
         93,
         "2025-02-03T09:36:02Z",
         "5755764547042441",
         "inaya998877@gmail.com",
         "WRITE",
         {
          "mode": "Append",
          "partitionBy": "[]",
          "statsOnLoad": "false"
         },
         null,
         [
          "2879899354628678"
         ],
         "0203-052121-nggyovx3",
         92,
         "WriteSerializable",
         true,
         {
          "numFiles": "1",
          "numOutputBytes": "717",
          "numOutputRows": "1"
         },
         null,
         "Databricks-Runtime/15.4.x-scala2.12"
        ],
        [
         92,
         "2025-02-03T09:36:00Z",
         "5755764547042441",
         "inaya998877@gmail.com",
         "WRITE",
         {
          "mode": "Append",
          "partitionBy": "[]",
          "statsOnLoad": "false"
         },
         null,
         [
          "2879899354628678"
         ],
         "0203-052121-nggyovx3",
         91,
         "WriteSerializable",
         true,
         {
          "numFiles": "1",
          "numOutputBytes": "716",
          "numOutputRows": "1"
         },
         null,
         "Databricks-Runtime/15.4.x-scala2.12"
        ],
        [
         91,
         "2025-02-03T09:35:58Z",
         "5755764547042441",
         "inaya998877@gmail.com",
         "WRITE",
         {
          "mode": "Append",
          "partitionBy": "[]",
          "statsOnLoad": "false"
         },
         null,
         [
          "2879899354628678"
         ],
         "0203-052121-nggyovx3",
         90,
         "WriteSerializable",
         true,
         {
          "numFiles": "1",
          "numOutputBytes": "717",
          "numOutputRows": "1"
         },
         null,
         "Databricks-Runtime/15.4.x-scala2.12"
        ],
        [
         90,
         "2025-02-03T09:35:57Z",
         "5755764547042441",
         "inaya998877@gmail.com",
         "WRITE",
         {
          "mode": "Append",
          "partitionBy": "[]",
          "statsOnLoad": "false"
         },
         null,
         [
          "2879899354628678"
         ],
         "0203-052121-nggyovx3",
         89,
         "WriteSerializable",
         true,
         {
          "numFiles": "1",
          "numOutputBytes": "717",
          "numOutputRows": "1"
         },
         null,
         "Databricks-Runtime/15.4.x-scala2.12"
        ],
        [
         89,
         "2025-02-03T09:35:55Z",
         "5755764547042441",
         "inaya998877@gmail.com",
         "WRITE",
         {
          "mode": "Append",
          "partitionBy": "[]",
          "statsOnLoad": "false"
         },
         null,
         [
          "2879899354628678"
         ],
         "0203-052121-nggyovx3",
         88,
         "WriteSerializable",
         true,
         {
          "numFiles": "1",
          "numOutputBytes": "717",
          "numOutputRows": "1"
         },
         null,
         "Databricks-Runtime/15.4.x-scala2.12"
        ],
        [
         88,
         "2025-02-03T09:35:53Z",
         "5755764547042441",
         "inaya998877@gmail.com",
         "WRITE",
         {
          "mode": "Append",
          "partitionBy": "[]",
          "statsOnLoad": "false"
         },
         null,
         [
          "2879899354628678"
         ],
         "0203-052121-nggyovx3",
         87,
         "WriteSerializable",
         true,
         {
          "numFiles": "1",
          "numOutputBytes": "717",
          "numOutputRows": "1"
         },
         null,
         "Databricks-Runtime/15.4.x-scala2.12"
        ],
        [
         87,
         "2025-02-03T09:35:51Z",
         "5755764547042441",
         "inaya998877@gmail.com",
         "WRITE",
         {
          "mode": "Append",
          "partitionBy": "[]",
          "statsOnLoad": "false"
         },
         null,
         [
          "2879899354628678"
         ],
         "0203-052121-nggyovx3",
         86,
         "WriteSerializable",
         true,
         {
          "numFiles": "1",
          "numOutputBytes": "717",
          "numOutputRows": "1"
         },
         null,
         "Databricks-Runtime/15.4.x-scala2.12"
        ],
        [
         86,
         "2025-02-03T09:35:50Z",
         "5755764547042441",
         "inaya998877@gmail.com",
         "WRITE",
         {
          "mode": "Append",
          "partitionBy": "[]",
          "statsOnLoad": "false"
         },
         null,
         [
          "2879899354628678"
         ],
         "0203-052121-nggyovx3",
         85,
         "WriteSerializable",
         true,
         {
          "numFiles": "1",
          "numOutputBytes": "717",
          "numOutputRows": "1"
         },
         null,
         "Databricks-Runtime/15.4.x-scala2.12"
        ],
        [
         85,
         "2025-02-03T09:35:48Z",
         "5755764547042441",
         "inaya998877@gmail.com",
         "WRITE",
         {
          "mode": "Append",
          "partitionBy": "[]",
          "statsOnLoad": "false"
         },
         null,
         [
          "2879899354628678"
         ],
         "0203-052121-nggyovx3",
         84,
         "WriteSerializable",
         true,
         {
          "numFiles": "1",
          "numOutputBytes": "716",
          "numOutputRows": "1"
         },
         null,
         "Databricks-Runtime/15.4.x-scala2.12"
        ],
        [
         84,
         "2025-02-03T09:35:46Z",
         "5755764547042441",
         "inaya998877@gmail.com",
         "WRITE",
         {
          "mode": "Append",
          "partitionBy": "[]",
          "statsOnLoad": "false"
         },
         null,
         [
          "2879899354628678"
         ],
         "0203-052121-nggyovx3",
         83,
         "WriteSerializable",
         true,
         {
          "numFiles": "1",
          "numOutputBytes": "717",
          "numOutputRows": "1"
         },
         null,
         "Databricks-Runtime/15.4.x-scala2.12"
        ],
        [
         83,
         "2025-02-03T09:35:45Z",
         "5755764547042441",
         "inaya998877@gmail.com",
         "WRITE",
         {
          "mode": "Append",
          "partitionBy": "[]",
          "statsOnLoad": "false"
         },
         null,
         [
          "2879899354628678"
         ],
         "0203-052121-nggyovx3",
         82,
         "WriteSerializable",
         true,
         {
          "numFiles": "1",
          "numOutputBytes": "717",
          "numOutputRows": "1"
         },
         null,
         "Databricks-Runtime/15.4.x-scala2.12"
        ],
        [
         82,
         "2025-02-03T09:35:43Z",
         "5755764547042441",
         "inaya998877@gmail.com",
         "WRITE",
         {
          "mode": "Append",
          "partitionBy": "[]",
          "statsOnLoad": "false"
         },
         null,
         [
          "2879899354628678"
         ],
         "0203-052121-nggyovx3",
         81,
         "WriteSerializable",
         true,
         {
          "numFiles": "1",
          "numOutputBytes": "717",
          "numOutputRows": "1"
         },
         null,
         "Databricks-Runtime/15.4.x-scala2.12"
        ],
        [
         81,
         "2025-02-03T09:35:41Z",
         "5755764547042441",
         "inaya998877@gmail.com",
         "WRITE",
         {
          "mode": "Append",
          "partitionBy": "[]",
          "statsOnLoad": "false"
         },
         null,
         [
          "2879899354628678"
         ],
         "0203-052121-nggyovx3",
         80,
         "WriteSerializable",
         true,
         {
          "numFiles": "1",
          "numOutputBytes": "716",
          "numOutputRows": "1"
         },
         null,
         "Databricks-Runtime/15.4.x-scala2.12"
        ],
        [
         80,
         "2025-02-03T09:35:39Z",
         "5755764547042441",
         "inaya998877@gmail.com",
         "WRITE",
         {
          "mode": "Append",
          "partitionBy": "[]",
          "statsOnLoad": "false"
         },
         null,
         [
          "2879899354628678"
         ],
         "0203-052121-nggyovx3",
         79,
         "WriteSerializable",
         true,
         {
          "numFiles": "1",
          "numOutputBytes": "716",
          "numOutputRows": "1"
         },
         null,
         "Databricks-Runtime/15.4.x-scala2.12"
        ],
        [
         79,
         "2025-02-03T09:35:37Z",
         "5755764547042441",
         "inaya998877@gmail.com",
         "WRITE",
         {
          "mode": "Append",
          "partitionBy": "[]",
          "statsOnLoad": "false"
         },
         null,
         [
          "2879899354628678"
         ],
         "0203-052121-nggyovx3",
         78,
         "WriteSerializable",
         true,
         {
          "numFiles": "1",
          "numOutputBytes": "717",
          "numOutputRows": "1"
         },
         null,
         "Databricks-Runtime/15.4.x-scala2.12"
        ],
        [
         78,
         "2025-02-03T09:35:36Z",
         "5755764547042441",
         "inaya998877@gmail.com",
         "WRITE",
         {
          "mode": "Append",
          "partitionBy": "[]",
          "statsOnLoad": "false"
         },
         null,
         [
          "2879899354628678"
         ],
         "0203-052121-nggyovx3",
         77,
         "WriteSerializable",
         true,
         {
          "numFiles": "1",
          "numOutputBytes": "717",
          "numOutputRows": "1"
         },
         null,
         "Databricks-Runtime/15.4.x-scala2.12"
        ],
        [
         77,
         "2025-02-03T09:35:34Z",
         "5755764547042441",
         "inaya998877@gmail.com",
         "WRITE",
         {
          "mode": "Append",
          "partitionBy": "[]",
          "statsOnLoad": "false"
         },
         null,
         [
          "2879899354628678"
         ],
         "0203-052121-nggyovx3",
         76,
         "WriteSerializable",
         true,
         {
          "numFiles": "1",
          "numOutputBytes": "717",
          "numOutputRows": "1"
         },
         null,
         "Databricks-Runtime/15.4.x-scala2.12"
        ],
        [
         76,
         "2025-02-03T09:35:32Z",
         "5755764547042441",
         "inaya998877@gmail.com",
         "WRITE",
         {
          "mode": "Append",
          "partitionBy": "[]",
          "statsOnLoad": "false"
         },
         null,
         [
          "2879899354628678"
         ],
         "0203-052121-nggyovx3",
         75,
         "WriteSerializable",
         true,
         {
          "numFiles": "1",
          "numOutputBytes": "717",
          "numOutputRows": "1"
         },
         null,
         "Databricks-Runtime/15.4.x-scala2.12"
        ],
        [
         75,
         "2025-02-03T09:35:31Z",
         "5755764547042441",
         "inaya998877@gmail.com",
         "WRITE",
         {
          "mode": "Append",
          "partitionBy": "[]",
          "statsOnLoad": "false"
         },
         null,
         [
          "2879899354628678"
         ],
         "0203-052121-nggyovx3",
         74,
         "WriteSerializable",
         true,
         {
          "numFiles": "1",
          "numOutputBytes": "717",
          "numOutputRows": "1"
         },
         null,
         "Databricks-Runtime/15.4.x-scala2.12"
        ],
        [
         74,
         "2025-02-03T09:35:29Z",
         "5755764547042441",
         "inaya998877@gmail.com",
         "WRITE",
         {
          "mode": "Append",
          "partitionBy": "[]",
          "statsOnLoad": "false"
         },
         null,
         [
          "2879899354628678"
         ],
         "0203-052121-nggyovx3",
         73,
         "WriteSerializable",
         true,
         {
          "numFiles": "1",
          "numOutputBytes": "716",
          "numOutputRows": "1"
         },
         null,
         "Databricks-Runtime/15.4.x-scala2.12"
        ],
        [
         73,
         "2025-02-03T09:35:28Z",
         "5755764547042441",
         "inaya998877@gmail.com",
         "WRITE",
         {
          "mode": "Append",
          "partitionBy": "[]",
          "statsOnLoad": "false"
         },
         null,
         [
          "2879899354628678"
         ],
         "0203-052121-nggyovx3",
         72,
         "WriteSerializable",
         true,
         {
          "numFiles": "1",
          "numOutputBytes": "717",
          "numOutputRows": "1"
         },
         null,
         "Databricks-Runtime/15.4.x-scala2.12"
        ],
        [
         72,
         "2025-02-03T09:35:26Z",
         "5755764547042441",
         "inaya998877@gmail.com",
         "WRITE",
         {
          "mode": "Append",
          "partitionBy": "[]",
          "statsOnLoad": "false"
         },
         null,
         [
          "2879899354628678"
         ],
         "0203-052121-nggyovx3",
         71,
         "WriteSerializable",
         true,
         {
          "numFiles": "1",
          "numOutputBytes": "717",
          "numOutputRows": "1"
         },
         null,
         "Databricks-Runtime/15.4.x-scala2.12"
        ],
        [
         71,
         "2025-02-03T09:35:24Z",
         "5755764547042441",
         "inaya998877@gmail.com",
         "WRITE",
         {
          "mode": "Append",
          "partitionBy": "[]",
          "statsOnLoad": "false"
         },
         null,
         [
          "2879899354628678"
         ],
         "0203-052121-nggyovx3",
         70,
         "WriteSerializable",
         true,
         {
          "numFiles": "1",
          "numOutputBytes": "717",
          "numOutputRows": "1"
         },
         null,
         "Databricks-Runtime/15.4.x-scala2.12"
        ],
        [
         70,
         "2025-02-03T09:35:23Z",
         "5755764547042441",
         "inaya998877@gmail.com",
         "WRITE",
         {
          "mode": "Append",
          "partitionBy": "[]",
          "statsOnLoad": "false"
         },
         null,
         [
          "2879899354628678"
         ],
         "0203-052121-nggyovx3",
         69,
         "WriteSerializable",
         true,
         {
          "numFiles": "1",
          "numOutputBytes": "717",
          "numOutputRows": "1"
         },
         null,
         "Databricks-Runtime/15.4.x-scala2.12"
        ],
        [
         69,
         "2025-02-03T09:35:21Z",
         "5755764547042441",
         "inaya998877@gmail.com",
         "WRITE",
         {
          "mode": "Append",
          "partitionBy": "[]",
          "statsOnLoad": "false"
         },
         null,
         [
          "2879899354628678"
         ],
         "0203-052121-nggyovx3",
         68,
         "WriteSerializable",
         true,
         {
          "numFiles": "1",
          "numOutputBytes": "717",
          "numOutputRows": "1"
         },
         null,
         "Databricks-Runtime/15.4.x-scala2.12"
        ],
        [
         68,
         "2025-02-03T09:35:20Z",
         "5755764547042441",
         "inaya998877@gmail.com",
         "WRITE",
         {
          "mode": "Append",
          "partitionBy": "[]",
          "statsOnLoad": "false"
         },
         null,
         [
          "2879899354628678"
         ],
         "0203-052121-nggyovx3",
         67,
         "WriteSerializable",
         true,
         {
          "numFiles": "1",
          "numOutputBytes": "716",
          "numOutputRows": "1"
         },
         null,
         "Databricks-Runtime/15.4.x-scala2.12"
        ],
        [
         67,
         "2025-02-03T09:35:18Z",
         "5755764547042441",
         "inaya998877@gmail.com",
         "WRITE",
         {
          "mode": "Append",
          "partitionBy": "[]",
          "statsOnLoad": "false"
         },
         null,
         [
          "2879899354628678"
         ],
         "0203-052121-nggyovx3",
         66,
         "WriteSerializable",
         true,
         {
          "numFiles": "1",
          "numOutputBytes": "717",
          "numOutputRows": "1"
         },
         null,
         "Databricks-Runtime/15.4.x-scala2.12"
        ],
        [
         66,
         "2025-02-03T09:35:17Z",
         "5755764547042441",
         "inaya998877@gmail.com",
         "WRITE",
         {
          "mode": "Append",
          "partitionBy": "[]",
          "statsOnLoad": "false"
         },
         null,
         [
          "2879899354628678"
         ],
         "0203-052121-nggyovx3",
         65,
         "WriteSerializable",
         true,
         {
          "numFiles": "1",
          "numOutputBytes": "717",
          "numOutputRows": "1"
         },
         null,
         "Databricks-Runtime/15.4.x-scala2.12"
        ],
        [
         65,
         "2025-02-03T09:35:15Z",
         "5755764547042441",
         "inaya998877@gmail.com",
         "WRITE",
         {
          "mode": "Append",
          "partitionBy": "[]",
          "statsOnLoad": "false"
         },
         null,
         [
          "2879899354628678"
         ],
         "0203-052121-nggyovx3",
         64,
         "WriteSerializable",
         true,
         {
          "numFiles": "1",
          "numOutputBytes": "717",
          "numOutputRows": "1"
         },
         null,
         "Databricks-Runtime/15.4.x-scala2.12"
        ],
        [
         64,
         "2025-02-03T09:35:14Z",
         "5755764547042441",
         "inaya998877@gmail.com",
         "WRITE",
         {
          "mode": "Append",
          "partitionBy": "[]",
          "statsOnLoad": "false"
         },
         null,
         [
          "2879899354628678"
         ],
         "0203-052121-nggyovx3",
         63,
         "WriteSerializable",
         true,
         {
          "numFiles": "1",
          "numOutputBytes": "716",
          "numOutputRows": "1"
         },
         null,
         "Databricks-Runtime/15.4.x-scala2.12"
        ],
        [
         63,
         "2025-02-03T09:35:12Z",
         "5755764547042441",
         "inaya998877@gmail.com",
         "WRITE",
         {
          "mode": "Append",
          "partitionBy": "[]",
          "statsOnLoad": "false"
         },
         null,
         [
          "2879899354628678"
         ],
         "0203-052121-nggyovx3",
         62,
         "WriteSerializable",
         true,
         {
          "numFiles": "1",
          "numOutputBytes": "717",
          "numOutputRows": "1"
         },
         null,
         "Databricks-Runtime/15.4.x-scala2.12"
        ],
        [
         62,
         "2025-02-03T09:35:11Z",
         "5755764547042441",
         "inaya998877@gmail.com",
         "WRITE",
         {
          "mode": "Append",
          "partitionBy": "[]",
          "statsOnLoad": "false"
         },
         null,
         [
          "2879899354628678"
         ],
         "0203-052121-nggyovx3",
         61,
         "WriteSerializable",
         true,
         {
          "numFiles": "1",
          "numOutputBytes": "717",
          "numOutputRows": "1"
         },
         null,
         "Databricks-Runtime/15.4.x-scala2.12"
        ],
        [
         61,
         "2025-02-03T09:35:09Z",
         "5755764547042441",
         "inaya998877@gmail.com",
         "WRITE",
         {
          "mode": "Append",
          "partitionBy": "[]",
          "statsOnLoad": "false"
         },
         null,
         [
          "2879899354628678"
         ],
         "0203-052121-nggyovx3",
         60,
         "WriteSerializable",
         true,
         {
          "numFiles": "1",
          "numOutputBytes": "717",
          "numOutputRows": "1"
         },
         null,
         "Databricks-Runtime/15.4.x-scala2.12"
        ],
        [
         60,
         "2025-02-03T09:35:08Z",
         "5755764547042441",
         "inaya998877@gmail.com",
         "WRITE",
         {
          "mode": "Append",
          "partitionBy": "[]",
          "statsOnLoad": "false"
         },
         null,
         [
          "2879899354628678"
         ],
         "0203-052121-nggyovx3",
         59,
         "WriteSerializable",
         true,
         {
          "numFiles": "1",
          "numOutputBytes": "717",
          "numOutputRows": "1"
         },
         null,
         "Databricks-Runtime/15.4.x-scala2.12"
        ],
        [
         59,
         "2025-02-03T09:35:06Z",
         "5755764547042441",
         "inaya998877@gmail.com",
         "WRITE",
         {
          "mode": "Append",
          "partitionBy": "[]",
          "statsOnLoad": "false"
         },
         null,
         [
          "2879899354628678"
         ],
         "0203-052121-nggyovx3",
         58,
         "WriteSerializable",
         true,
         {
          "numFiles": "1",
          "numOutputBytes": "717",
          "numOutputRows": "1"
         },
         null,
         "Databricks-Runtime/15.4.x-scala2.12"
        ],
        [
         58,
         "2025-02-03T09:35:05Z",
         "5755764547042441",
         "inaya998877@gmail.com",
         "WRITE",
         {
          "mode": "Append",
          "partitionBy": "[]",
          "statsOnLoad": "false"
         },
         null,
         [
          "2879899354628678"
         ],
         "0203-052121-nggyovx3",
         57,
         "WriteSerializable",
         true,
         {
          "numFiles": "1",
          "numOutputBytes": "717",
          "numOutputRows": "1"
         },
         null,
         "Databricks-Runtime/15.4.x-scala2.12"
        ],
        [
         57,
         "2025-02-03T09:35:04Z",
         "5755764547042441",
         "inaya998877@gmail.com",
         "WRITE",
         {
          "mode": "Append",
          "partitionBy": "[]",
          "statsOnLoad": "false"
         },
         null,
         [
          "2879899354628678"
         ],
         "0203-052121-nggyovx3",
         56,
         "WriteSerializable",
         true,
         {
          "numFiles": "1",
          "numOutputBytes": "717",
          "numOutputRows": "1"
         },
         null,
         "Databricks-Runtime/15.4.x-scala2.12"
        ],
        [
         56,
         "2025-02-03T09:35:02Z",
         "5755764547042441",
         "inaya998877@gmail.com",
         "WRITE",
         {
          "mode": "Append",
          "partitionBy": "[]",
          "statsOnLoad": "false"
         },
         null,
         [
          "2879899354628678"
         ],
         "0203-052121-nggyovx3",
         55,
         "WriteSerializable",
         true,
         {
          "numFiles": "1",
          "numOutputBytes": "717",
          "numOutputRows": "1"
         },
         null,
         "Databricks-Runtime/15.4.x-scala2.12"
        ],
        [
         55,
         "2025-02-03T09:35:01Z",
         "5755764547042441",
         "inaya998877@gmail.com",
         "WRITE",
         {
          "mode": "Append",
          "partitionBy": "[]",
          "statsOnLoad": "false"
         },
         null,
         [
          "2879899354628678"
         ],
         "0203-052121-nggyovx3",
         54,
         "WriteSerializable",
         true,
         {
          "numFiles": "1",
          "numOutputBytes": "717",
          "numOutputRows": "1"
         },
         null,
         "Databricks-Runtime/15.4.x-scala2.12"
        ],
        [
         54,
         "2025-02-03T09:34:59Z",
         "5755764547042441",
         "inaya998877@gmail.com",
         "WRITE",
         {
          "mode": "Append",
          "partitionBy": "[]",
          "statsOnLoad": "false"
         },
         null,
         [
          "2879899354628678"
         ],
         "0203-052121-nggyovx3",
         53,
         "WriteSerializable",
         true,
         {
          "numFiles": "1",
          "numOutputBytes": "717",
          "numOutputRows": "1"
         },
         null,
         "Databricks-Runtime/15.4.x-scala2.12"
        ],
        [
         53,
         "2025-02-03T09:34:58Z",
         "5755764547042441",
         "inaya998877@gmail.com",
         "WRITE",
         {
          "mode": "Append",
          "partitionBy": "[]",
          "statsOnLoad": "false"
         },
         null,
         [
          "2879899354628678"
         ],
         "0203-052121-nggyovx3",
         52,
         "WriteSerializable",
         true,
         {
          "numFiles": "1",
          "numOutputBytes": "717",
          "numOutputRows": "1"
         },
         null,
         "Databricks-Runtime/15.4.x-scala2.12"
        ],
        [
         52,
         "2025-02-03T09:34:57Z",
         "5755764547042441",
         "inaya998877@gmail.com",
         "WRITE",
         {
          "mode": "Append",
          "partitionBy": "[]",
          "statsOnLoad": "false"
         },
         null,
         [
          "2879899354628678"
         ],
         "0203-052121-nggyovx3",
         51,
         "WriteSerializable",
         true,
         {
          "numFiles": "1",
          "numOutputBytes": "716",
          "numOutputRows": "1"
         },
         null,
         "Databricks-Runtime/15.4.x-scala2.12"
        ],
        [
         51,
         "2025-02-03T09:34:55Z",
         "5755764547042441",
         "inaya998877@gmail.com",
         "OPTIMIZE",
         {
          "auto": "true",
          "batchId": "0",
          "clusterBy": "[]",
          "predicate": "[]",
          "zOrderBy": "[]"
         },
         null,
         [
          "2879899354628678"
         ],
         "0203-052121-nggyovx3",
         50,
         "SnapshotIsolation",
         false,
         {
          "maxFileSize": "1111",
          "minFileSize": "1111",
          "numAddedBytes": "1111",
          "numAddedFiles": "1",
          "numDeletionVectorsRemoved": "0",
          "numRemovedBytes": "35782",
          "numRemovedFiles": "50",
          "p25FileSize": "1111",
          "p50FileSize": "1111",
          "p75FileSize": "1111"
         },
         null,
         "Databricks-Runtime/15.4.x-scala2.12"
        ],
        [
         50,
         "2025-02-03T09:34:42Z",
         "5755764547042441",
         "inaya998877@gmail.com",
         "WRITE",
         {
          "mode": "Append",
          "partitionBy": "[]",
          "statsOnLoad": "false"
         },
         null,
         [
          "2879899354628678"
         ],
         "0203-052121-nggyovx3",
         49,
         "WriteSerializable",
         true,
         {
          "numFiles": "1",
          "numOutputBytes": "717",
          "numOutputRows": "1"
         },
         null,
         "Databricks-Runtime/15.4.x-scala2.12"
        ],
        [
         49,
         "2025-02-03T09:34:39Z",
         "5755764547042441",
         "inaya998877@gmail.com",
         "WRITE",
         {
          "mode": "Append",
          "partitionBy": "[]",
          "statsOnLoad": "false"
         },
         null,
         [
          "2879899354628678"
         ],
         "0203-052121-nggyovx3",
         48,
         "WriteSerializable",
         true,
         {
          "numFiles": "1",
          "numOutputBytes": "717",
          "numOutputRows": "1"
         },
         null,
         "Databricks-Runtime/15.4.x-scala2.12"
        ],
        [
         48,
         "2025-02-03T09:34:38Z",
         "5755764547042441",
         "inaya998877@gmail.com",
         "WRITE",
         {
          "mode": "Append",
          "partitionBy": "[]",
          "statsOnLoad": "false"
         },
         null,
         [
          "2879899354628678"
         ],
         "0203-052121-nggyovx3",
         47,
         "WriteSerializable",
         true,
         {
          "numFiles": "1",
          "numOutputBytes": "717",
          "numOutputRows": "1"
         },
         null,
         "Databricks-Runtime/15.4.x-scala2.12"
        ],
        [
         47,
         "2025-02-03T09:34:36Z",
         "5755764547042441",
         "inaya998877@gmail.com",
         "WRITE",
         {
          "mode": "Append",
          "partitionBy": "[]",
          "statsOnLoad": "false"
         },
         null,
         [
          "2879899354628678"
         ],
         "0203-052121-nggyovx3",
         46,
         "WriteSerializable",
         true,
         {
          "numFiles": "1",
          "numOutputBytes": "717",
          "numOutputRows": "1"
         },
         null,
         "Databricks-Runtime/15.4.x-scala2.12"
        ],
        [
         46,
         "2025-02-03T09:34:34Z",
         "5755764547042441",
         "inaya998877@gmail.com",
         "WRITE",
         {
          "mode": "Append",
          "partitionBy": "[]",
          "statsOnLoad": "false"
         },
         null,
         [
          "2879899354628678"
         ],
         "0203-052121-nggyovx3",
         45,
         "WriteSerializable",
         true,
         {
          "numFiles": "1",
          "numOutputBytes": "717",
          "numOutputRows": "1"
         },
         null,
         "Databricks-Runtime/15.4.x-scala2.12"
        ],
        [
         45,
         "2025-02-03T09:34:31Z",
         "5755764547042441",
         "inaya998877@gmail.com",
         "WRITE",
         {
          "mode": "Append",
          "partitionBy": "[]",
          "statsOnLoad": "false"
         },
         null,
         [
          "2879899354628678"
         ],
         "0203-052121-nggyovx3",
         44,
         "WriteSerializable",
         true,
         {
          "numFiles": "1",
          "numOutputBytes": "717",
          "numOutputRows": "1"
         },
         null,
         "Databricks-Runtime/15.4.x-scala2.12"
        ],
        [
         44,
         "2025-02-03T09:34:29Z",
         "5755764547042441",
         "inaya998877@gmail.com",
         "WRITE",
         {
          "mode": "Append",
          "partitionBy": "[]",
          "statsOnLoad": "false"
         },
         null,
         [
          "2879899354628678"
         ],
         "0203-052121-nggyovx3",
         43,
         "WriteSerializable",
         true,
         {
          "numFiles": "1",
          "numOutputBytes": "717",
          "numOutputRows": "1"
         },
         null,
         "Databricks-Runtime/15.4.x-scala2.12"
        ],
        [
         43,
         "2025-02-03T09:34:28Z",
         "5755764547042441",
         "inaya998877@gmail.com",
         "WRITE",
         {
          "mode": "Append",
          "partitionBy": "[]",
          "statsOnLoad": "false"
         },
         null,
         [
          "2879899354628678"
         ],
         "0203-052121-nggyovx3",
         42,
         "WriteSerializable",
         true,
         {
          "numFiles": "1",
          "numOutputBytes": "717",
          "numOutputRows": "1"
         },
         null,
         "Databricks-Runtime/15.4.x-scala2.12"
        ],
        [
         42,
         "2025-02-03T09:34:26Z",
         "5755764547042441",
         "inaya998877@gmail.com",
         "WRITE",
         {
          "mode": "Append",
          "partitionBy": "[]",
          "statsOnLoad": "false"
         },
         null,
         [
          "2879899354628678"
         ],
         "0203-052121-nggyovx3",
         41,
         "WriteSerializable",
         true,
         {
          "numFiles": "1",
          "numOutputBytes": "717",
          "numOutputRows": "1"
         },
         null,
         "Databricks-Runtime/15.4.x-scala2.12"
        ],
        [
         41,
         "2025-02-03T09:34:23Z",
         "5755764547042441",
         "inaya998877@gmail.com",
         "WRITE",
         {
          "mode": "Append",
          "partitionBy": "[]",
          "statsOnLoad": "false"
         },
         null,
         [
          "2879899354628678"
         ],
         "0203-052121-nggyovx3",
         40,
         "WriteSerializable",
         true,
         {
          "numFiles": "1",
          "numOutputBytes": "717",
          "numOutputRows": "1"
         },
         null,
         "Databricks-Runtime/15.4.x-scala2.12"
        ],
        [
         40,
         "2025-02-03T09:34:22Z",
         "5755764547042441",
         "inaya998877@gmail.com",
         "WRITE",
         {
          "mode": "Append",
          "partitionBy": "[]",
          "statsOnLoad": "false"
         },
         null,
         [
          "2879899354628678"
         ],
         "0203-052121-nggyovx3",
         39,
         "WriteSerializable",
         true,
         {
          "numFiles": "1",
          "numOutputBytes": "717",
          "numOutputRows": "1"
         },
         null,
         "Databricks-Runtime/15.4.x-scala2.12"
        ],
        [
         39,
         "2025-02-03T09:34:20Z",
         "5755764547042441",
         "inaya998877@gmail.com",
         "WRITE",
         {
          "mode": "Append",
          "partitionBy": "[]",
          "statsOnLoad": "false"
         },
         null,
         [
          "2879899354628678"
         ],
         "0203-052121-nggyovx3",
         38,
         "WriteSerializable",
         true,
         {
          "numFiles": "1",
          "numOutputBytes": "717",
          "numOutputRows": "1"
         },
         null,
         "Databricks-Runtime/15.4.x-scala2.12"
        ],
        [
         38,
         "2025-02-03T09:34:17Z",
         "5755764547042441",
         "inaya998877@gmail.com",
         "WRITE",
         {
          "mode": "Append",
          "partitionBy": "[]",
          "statsOnLoad": "false"
         },
         null,
         [
          "2879899354628678"
         ],
         "0203-052121-nggyovx3",
         37,
         "WriteSerializable",
         true,
         {
          "numFiles": "1",
          "numOutputBytes": "717",
          "numOutputRows": "1"
         },
         null,
         "Databricks-Runtime/15.4.x-scala2.12"
        ],
        [
         37,
         "2025-02-03T09:34:15Z",
         "5755764547042441",
         "inaya998877@gmail.com",
         "WRITE",
         {
          "mode": "Append",
          "partitionBy": "[]",
          "statsOnLoad": "false"
         },
         null,
         [
          "2879899354628678"
         ],
         "0203-052121-nggyovx3",
         36,
         "WriteSerializable",
         true,
         {
          "numFiles": "1",
          "numOutputBytes": "717",
          "numOutputRows": "1"
         },
         null,
         "Databricks-Runtime/15.4.x-scala2.12"
        ],
        [
         36,
         "2025-02-03T09:34:14Z",
         "5755764547042441",
         "inaya998877@gmail.com",
         "WRITE",
         {
          "mode": "Append",
          "partitionBy": "[]",
          "statsOnLoad": "false"
         },
         null,
         [
          "2879899354628678"
         ],
         "0203-052121-nggyovx3",
         35,
         "WriteSerializable",
         true,
         {
          "numFiles": "1",
          "numOutputBytes": "717",
          "numOutputRows": "1"
         },
         null,
         "Databricks-Runtime/15.4.x-scala2.12"
        ],
        [
         35,
         "2025-02-03T09:34:12Z",
         "5755764547042441",
         "inaya998877@gmail.com",
         "WRITE",
         {
          "mode": "Append",
          "partitionBy": "[]",
          "statsOnLoad": "false"
         },
         null,
         [
          "2879899354628678"
         ],
         "0203-052121-nggyovx3",
         34,
         "WriteSerializable",
         true,
         {
          "numFiles": "1",
          "numOutputBytes": "717",
          "numOutputRows": "1"
         },
         null,
         "Databricks-Runtime/15.4.x-scala2.12"
        ],
        [
         34,
         "2025-02-03T09:34:09Z",
         "5755764547042441",
         "inaya998877@gmail.com",
         "WRITE",
         {
          "mode": "Append",
          "partitionBy": "[]",
          "statsOnLoad": "false"
         },
         null,
         [
          "2879899354628678"
         ],
         "0203-052121-nggyovx3",
         33,
         "WriteSerializable",
         true,
         {
          "numFiles": "1",
          "numOutputBytes": "717",
          "numOutputRows": "1"
         },
         null,
         "Databricks-Runtime/15.4.x-scala2.12"
        ],
        [
         33,
         "2025-02-03T09:34:08Z",
         "5755764547042441",
         "inaya998877@gmail.com",
         "WRITE",
         {
          "mode": "Append",
          "partitionBy": "[]",
          "statsOnLoad": "false"
         },
         null,
         [
          "2879899354628678"
         ],
         "0203-052121-nggyovx3",
         32,
         "WriteSerializable",
         true,
         {
          "numFiles": "1",
          "numOutputBytes": "716",
          "numOutputRows": "1"
         },
         null,
         "Databricks-Runtime/15.4.x-scala2.12"
        ],
        [
         32,
         "2025-02-03T09:34:06Z",
         "5755764547042441",
         "inaya998877@gmail.com",
         "WRITE",
         {
          "mode": "Append",
          "partitionBy": "[]",
          "statsOnLoad": "false"
         },
         null,
         [
          "2879899354628678"
         ],
         "0203-052121-nggyovx3",
         31,
         "WriteSerializable",
         true,
         {
          "numFiles": "1",
          "numOutputBytes": "717",
          "numOutputRows": "1"
         },
         null,
         "Databricks-Runtime/15.4.x-scala2.12"
        ],
        [
         31,
         "2025-02-03T09:34:05Z",
         "5755764547042441",
         "inaya998877@gmail.com",
         "WRITE",
         {
          "mode": "Append",
          "partitionBy": "[]",
          "statsOnLoad": "false"
         },
         null,
         [
          "2879899354628678"
         ],
         "0203-052121-nggyovx3",
         30,
         "WriteSerializable",
         true,
         {
          "numFiles": "1",
          "numOutputBytes": "717",
          "numOutputRows": "1"
         },
         null,
         "Databricks-Runtime/15.4.x-scala2.12"
        ],
        [
         30,
         "2025-02-03T09:34:02Z",
         "5755764547042441",
         "inaya998877@gmail.com",
         "WRITE",
         {
          "mode": "Append",
          "partitionBy": "[]",
          "statsOnLoad": "false"
         },
         null,
         [
          "2879899354628678"
         ],
         "0203-052121-nggyovx3",
         29,
         "WriteSerializable",
         true,
         {
          "numFiles": "1",
          "numOutputBytes": "717",
          "numOutputRows": "1"
         },
         null,
         "Databricks-Runtime/15.4.x-scala2.12"
        ],
        [
         29,
         "2025-02-03T09:34:01Z",
         "5755764547042441",
         "inaya998877@gmail.com",
         "WRITE",
         {
          "mode": "Append",
          "partitionBy": "[]",
          "statsOnLoad": "false"
         },
         null,
         [
          "2879899354628678"
         ],
         "0203-052121-nggyovx3",
         28,
         "WriteSerializable",
         true,
         {
          "numFiles": "1",
          "numOutputBytes": "717",
          "numOutputRows": "1"
         },
         null,
         "Databricks-Runtime/15.4.x-scala2.12"
        ],
        [
         28,
         "2025-02-03T09:33:59Z",
         "5755764547042441",
         "inaya998877@gmail.com",
         "WRITE",
         {
          "mode": "Append",
          "partitionBy": "[]",
          "statsOnLoad": "false"
         },
         null,
         [
          "2879899354628678"
         ],
         "0203-052121-nggyovx3",
         27,
         "WriteSerializable",
         true,
         {
          "numFiles": "1",
          "numOutputBytes": "716",
          "numOutputRows": "1"
         },
         null,
         "Databricks-Runtime/15.4.x-scala2.12"
        ],
        [
         27,
         "2025-02-03T09:33:58Z",
         "5755764547042441",
         "inaya998877@gmail.com",
         "WRITE",
         {
          "mode": "Append",
          "partitionBy": "[]",
          "statsOnLoad": "false"
         },
         null,
         [
          "2879899354628678"
         ],
         "0203-052121-nggyovx3",
         26,
         "WriteSerializable",
         true,
         {
          "numFiles": "1",
          "numOutputBytes": "717",
          "numOutputRows": "1"
         },
         null,
         "Databricks-Runtime/15.4.x-scala2.12"
        ],
        [
         26,
         "2025-02-03T09:33:55Z",
         "5755764547042441",
         "inaya998877@gmail.com",
         "WRITE",
         {
          "mode": "Append",
          "partitionBy": "[]",
          "statsOnLoad": "false"
         },
         null,
         [
          "2879899354628678"
         ],
         "0203-052121-nggyovx3",
         25,
         "WriteSerializable",
         true,
         {
          "numFiles": "1",
          "numOutputBytes": "717",
          "numOutputRows": "1"
         },
         null,
         "Databricks-Runtime/15.4.x-scala2.12"
        ],
        [
         25,
         "2025-02-03T09:33:54Z",
         "5755764547042441",
         "inaya998877@gmail.com",
         "WRITE",
         {
          "mode": "Append",
          "partitionBy": "[]",
          "statsOnLoad": "false"
         },
         null,
         [
          "2879899354628678"
         ],
         "0203-052121-nggyovx3",
         24,
         "WriteSerializable",
         true,
         {
          "numFiles": "1",
          "numOutputBytes": "717",
          "numOutputRows": "1"
         },
         null,
         "Databricks-Runtime/15.4.x-scala2.12"
        ],
        [
         24,
         "2025-02-03T09:33:52Z",
         "5755764547042441",
         "inaya998877@gmail.com",
         "WRITE",
         {
          "mode": "Append",
          "partitionBy": "[]",
          "statsOnLoad": "false"
         },
         null,
         [
          "2879899354628678"
         ],
         "0203-052121-nggyovx3",
         23,
         "WriteSerializable",
         true,
         {
          "numFiles": "1",
          "numOutputBytes": "716",
          "numOutputRows": "1"
         },
         null,
         "Databricks-Runtime/15.4.x-scala2.12"
        ],
        [
         23,
         "2025-02-03T09:33:51Z",
         "5755764547042441",
         "inaya998877@gmail.com",
         "WRITE",
         {
          "mode": "Append",
          "partitionBy": "[]",
          "statsOnLoad": "false"
         },
         null,
         [
          "2879899354628678"
         ],
         "0203-052121-nggyovx3",
         22,
         "WriteSerializable",
         true,
         {
          "numFiles": "1",
          "numOutputBytes": "717",
          "numOutputRows": "1"
         },
         null,
         "Databricks-Runtime/15.4.x-scala2.12"
        ],
        [
         22,
         "2025-02-03T09:33:49Z",
         "5755764547042441",
         "inaya998877@gmail.com",
         "WRITE",
         {
          "mode": "Append",
          "partitionBy": "[]",
          "statsOnLoad": "false"
         },
         null,
         [
          "2879899354628678"
         ],
         "0203-052121-nggyovx3",
         21,
         "WriteSerializable",
         true,
         {
          "numFiles": "1",
          "numOutputBytes": "717",
          "numOutputRows": "1"
         },
         null,
         "Databricks-Runtime/15.4.x-scala2.12"
        ],
        [
         21,
         "2025-02-03T09:33:47Z",
         "5755764547042441",
         "inaya998877@gmail.com",
         "WRITE",
         {
          "mode": "Append",
          "partitionBy": "[]",
          "statsOnLoad": "false"
         },
         null,
         [
          "2879899354628678"
         ],
         "0203-052121-nggyovx3",
         20,
         "WriteSerializable",
         true,
         {
          "numFiles": "1",
          "numOutputBytes": "717",
          "numOutputRows": "1"
         },
         null,
         "Databricks-Runtime/15.4.x-scala2.12"
        ],
        [
         20,
         "2025-02-03T09:33:46Z",
         "5755764547042441",
         "inaya998877@gmail.com",
         "WRITE",
         {
          "mode": "Append",
          "partitionBy": "[]",
          "statsOnLoad": "false"
         },
         null,
         [
          "2879899354628678"
         ],
         "0203-052121-nggyovx3",
         19,
         "WriteSerializable",
         true,
         {
          "numFiles": "1",
          "numOutputBytes": "716",
          "numOutputRows": "1"
         },
         null,
         "Databricks-Runtime/15.4.x-scala2.12"
        ],
        [
         19,
         "2025-02-03T09:33:44Z",
         "5755764547042441",
         "inaya998877@gmail.com",
         "WRITE",
         {
          "mode": "Append",
          "partitionBy": "[]",
          "statsOnLoad": "false"
         },
         null,
         [
          "2879899354628678"
         ],
         "0203-052121-nggyovx3",
         18,
         "WriteSerializable",
         true,
         {
          "numFiles": "1",
          "numOutputBytes": "717",
          "numOutputRows": "1"
         },
         null,
         "Databricks-Runtime/15.4.x-scala2.12"
        ],
        [
         18,
         "2025-02-03T09:33:42Z",
         "5755764547042441",
         "inaya998877@gmail.com",
         "WRITE",
         {
          "mode": "Append",
          "partitionBy": "[]",
          "statsOnLoad": "false"
         },
         null,
         [
          "2879899354628678"
         ],
         "0203-052121-nggyovx3",
         17,
         "WriteSerializable",
         true,
         {
          "numFiles": "1",
          "numOutputBytes": "717",
          "numOutputRows": "1"
         },
         null,
         "Databricks-Runtime/15.4.x-scala2.12"
        ],
        [
         17,
         "2025-02-03T09:33:41Z",
         "5755764547042441",
         "inaya998877@gmail.com",
         "WRITE",
         {
          "mode": "Append",
          "partitionBy": "[]",
          "statsOnLoad": "false"
         },
         null,
         [
          "2879899354628678"
         ],
         "0203-052121-nggyovx3",
         16,
         "WriteSerializable",
         true,
         {
          "numFiles": "1",
          "numOutputBytes": "717",
          "numOutputRows": "1"
         },
         null,
         "Databricks-Runtime/15.4.x-scala2.12"
        ],
        [
         16,
         "2025-02-03T09:33:39Z",
         "5755764547042441",
         "inaya998877@gmail.com",
         "WRITE",
         {
          "mode": "Append",
          "partitionBy": "[]",
          "statsOnLoad": "false"
         },
         null,
         [
          "2879899354628678"
         ],
         "0203-052121-nggyovx3",
         15,
         "WriteSerializable",
         true,
         {
          "numFiles": "1",
          "numOutputBytes": "717",
          "numOutputRows": "1"
         },
         null,
         "Databricks-Runtime/15.4.x-scala2.12"
        ],
        [
         15,
         "2025-02-03T09:33:38Z",
         "5755764547042441",
         "inaya998877@gmail.com",
         "WRITE",
         {
          "mode": "Append",
          "partitionBy": "[]",
          "statsOnLoad": "false"
         },
         null,
         [
          "2879899354628678"
         ],
         "0203-052121-nggyovx3",
         14,
         "WriteSerializable",
         true,
         {
          "numFiles": "1",
          "numOutputBytes": "717",
          "numOutputRows": "1"
         },
         null,
         "Databricks-Runtime/15.4.x-scala2.12"
        ],
        [
         14,
         "2025-02-03T09:33:36Z",
         "5755764547042441",
         "inaya998877@gmail.com",
         "WRITE",
         {
          "mode": "Append",
          "partitionBy": "[]",
          "statsOnLoad": "false"
         },
         null,
         [
          "2879899354628678"
         ],
         "0203-052121-nggyovx3",
         13,
         "WriteSerializable",
         true,
         {
          "numFiles": "1",
          "numOutputBytes": "716",
          "numOutputRows": "1"
         },
         null,
         "Databricks-Runtime/15.4.x-scala2.12"
        ],
        [
         13,
         "2025-02-03T09:33:34Z",
         "5755764547042441",
         "inaya998877@gmail.com",
         "WRITE",
         {
          "mode": "Append",
          "partitionBy": "[]",
          "statsOnLoad": "false"
         },
         null,
         [
          "2879899354628678"
         ],
         "0203-052121-nggyovx3",
         12,
         "WriteSerializable",
         true,
         {
          "numFiles": "1",
          "numOutputBytes": "717",
          "numOutputRows": "1"
         },
         null,
         "Databricks-Runtime/15.4.x-scala2.12"
        ],
        [
         12,
         "2025-02-03T09:33:33Z",
         "5755764547042441",
         "inaya998877@gmail.com",
         "WRITE",
         {
          "mode": "Append",
          "partitionBy": "[]",
          "statsOnLoad": "false"
         },
         null,
         [
          "2879899354628678"
         ],
         "0203-052121-nggyovx3",
         11,
         "WriteSerializable",
         true,
         {
          "numFiles": "1",
          "numOutputBytes": "717",
          "numOutputRows": "1"
         },
         null,
         "Databricks-Runtime/15.4.x-scala2.12"
        ],
        [
         11,
         "2025-02-03T09:33:32Z",
         "5755764547042441",
         "inaya998877@gmail.com",
         "WRITE",
         {
          "mode": "Append",
          "partitionBy": "[]",
          "statsOnLoad": "false"
         },
         null,
         [
          "2879899354628678"
         ],
         "0203-052121-nggyovx3",
         10,
         "WriteSerializable",
         true,
         {
          "numFiles": "1",
          "numOutputBytes": "717",
          "numOutputRows": "1"
         },
         null,
         "Databricks-Runtime/15.4.x-scala2.12"
        ],
        [
         10,
         "2025-02-03T09:33:30Z",
         "5755764547042441",
         "inaya998877@gmail.com",
         "WRITE",
         {
          "mode": "Append",
          "partitionBy": "[]",
          "statsOnLoad": "false"
         },
         null,
         [
          "2879899354628678"
         ],
         "0203-052121-nggyovx3",
         9,
         "WriteSerializable",
         true,
         {
          "numFiles": "1",
          "numOutputBytes": "717",
          "numOutputRows": "1"
         },
         null,
         "Databricks-Runtime/15.4.x-scala2.12"
        ],
        [
         9,
         "2025-02-03T09:33:28Z",
         "5755764547042441",
         "inaya998877@gmail.com",
         "WRITE",
         {
          "mode": "Append",
          "partitionBy": "[]",
          "statsOnLoad": "false"
         },
         null,
         [
          "2879899354628678"
         ],
         "0203-052121-nggyovx3",
         8,
         "WriteSerializable",
         true,
         {
          "numFiles": "1",
          "numOutputBytes": "710",
          "numOutputRows": "1"
         },
         null,
         "Databricks-Runtime/15.4.x-scala2.12"
        ],
        [
         8,
         "2025-02-03T09:33:27Z",
         "5755764547042441",
         "inaya998877@gmail.com",
         "WRITE",
         {
          "mode": "Append",
          "partitionBy": "[]",
          "statsOnLoad": "false"
         },
         null,
         [
          "2879899354628678"
         ],
         "0203-052121-nggyovx3",
         7,
         "WriteSerializable",
         true,
         {
          "numFiles": "1",
          "numOutputBytes": "710",
          "numOutputRows": "1"
         },
         null,
         "Databricks-Runtime/15.4.x-scala2.12"
        ],
        [
         7,
         "2025-02-03T09:33:26Z",
         "5755764547042441",
         "inaya998877@gmail.com",
         "WRITE",
         {
          "mode": "Append",
          "partitionBy": "[]",
          "statsOnLoad": "false"
         },
         null,
         [
          "2879899354628678"
         ],
         "0203-052121-nggyovx3",
         6,
         "WriteSerializable",
         true,
         {
          "numFiles": "1",
          "numOutputBytes": "710",
          "numOutputRows": "1"
         },
         null,
         "Databricks-Runtime/15.4.x-scala2.12"
        ],
        [
         6,
         "2025-02-03T09:33:24Z",
         "5755764547042441",
         "inaya998877@gmail.com",
         "WRITE",
         {
          "mode": "Append",
          "partitionBy": "[]",
          "statsOnLoad": "false"
         },
         null,
         [
          "2879899354628678"
         ],
         "0203-052121-nggyovx3",
         5,
         "WriteSerializable",
         true,
         {
          "numFiles": "1",
          "numOutputBytes": "710",
          "numOutputRows": "1"
         },
         null,
         "Databricks-Runtime/15.4.x-scala2.12"
        ],
        [
         5,
         "2025-02-03T09:33:22Z",
         "5755764547042441",
         "inaya998877@gmail.com",
         "WRITE",
         {
          "mode": "Append",
          "partitionBy": "[]",
          "statsOnLoad": "false"
         },
         null,
         [
          "2879899354628678"
         ],
         "0203-052121-nggyovx3",
         4,
         "WriteSerializable",
         true,
         {
          "numFiles": "1",
          "numOutputBytes": "710",
          "numOutputRows": "1"
         },
         null,
         "Databricks-Runtime/15.4.x-scala2.12"
        ],
        [
         4,
         "2025-02-03T09:33:21Z",
         "5755764547042441",
         "inaya998877@gmail.com",
         "WRITE",
         {
          "mode": "Append",
          "partitionBy": "[]",
          "statsOnLoad": "false"
         },
         null,
         [
          "2879899354628678"
         ],
         "0203-052121-nggyovx3",
         3,
         "WriteSerializable",
         true,
         {
          "numFiles": "1",
          "numOutputBytes": "710",
          "numOutputRows": "1"
         },
         null,
         "Databricks-Runtime/15.4.x-scala2.12"
        ],
        [
         3,
         "2025-02-03T09:33:19Z",
         "5755764547042441",
         "inaya998877@gmail.com",
         "WRITE",
         {
          "mode": "Append",
          "partitionBy": "[]",
          "statsOnLoad": "false"
         },
         null,
         [
          "2879899354628678"
         ],
         "0203-052121-nggyovx3",
         2,
         "WriteSerializable",
         true,
         {
          "numFiles": "1",
          "numOutputBytes": "710",
          "numOutputRows": "1"
         },
         null,
         "Databricks-Runtime/15.4.x-scala2.12"
        ],
        [
         2,
         "2025-02-03T09:33:18Z",
         "5755764547042441",
         "inaya998877@gmail.com",
         "WRITE",
         {
          "mode": "Append",
          "partitionBy": "[]",
          "statsOnLoad": "false"
         },
         null,
         [
          "2879899354628678"
         ],
         "0203-052121-nggyovx3",
         1,
         "WriteSerializable",
         true,
         {
          "numFiles": "1",
          "numOutputBytes": "710",
          "numOutputRows": "1"
         },
         null,
         "Databricks-Runtime/15.4.x-scala2.12"
        ],
        [
         1,
         "2025-02-03T09:33:16Z",
         "5755764547042441",
         "inaya998877@gmail.com",
         "WRITE",
         {
          "mode": "Append",
          "partitionBy": "[]",
          "statsOnLoad": "false"
         },
         null,
         [
          "2879899354628678"
         ],
         "0203-052121-nggyovx3",
         0,
         "WriteSerializable",
         true,
         {
          "numFiles": "1",
          "numOutputBytes": "710",
          "numOutputRows": "1"
         },
         null,
         "Databricks-Runtime/15.4.x-scala2.12"
        ],
        [
         0,
         "2025-02-03T09:33:14Z",
         "5755764547042441",
         "inaya998877@gmail.com",
         "CREATE OR REPLACE TABLE",
         {
          "clusterBy": "[]",
          "description": null,
          "isManaged": "true",
          "partitionBy": "[]",
          "properties": "{}",
          "statsOnLoad": "false"
         },
         null,
         [
          "2879899354628678"
         ],
         "0203-052121-nggyovx3",
         null,
         "WriteSerializable",
         true,
         {},
         null,
         "Databricks-Runtime/15.4.x-scala2.12"
        ]
       ],
       "datasetInfos": [],
       "dbfsResultPath": null,
       "isJsonSchema": true,
       "metadata": {},
       "overflow": false,
       "plotOptions": {
        "customPlotOptions": {},
        "displayType": "table",
        "pivotAggregation": null,
        "pivotColumns": null,
        "xColumns": null,
        "yColumns": null
       },
       "removedWidgets": [],
       "schema": [
        {
         "metadata": "{}",
         "name": "version",
         "type": "\"long\""
        },
        {
         "metadata": "{}",
         "name": "timestamp",
         "type": "\"timestamp\""
        },
        {
         "metadata": "{}",
         "name": "userId",
         "type": "\"string\""
        },
        {
         "metadata": "{}",
         "name": "userName",
         "type": "\"string\""
        },
        {
         "metadata": "{}",
         "name": "operation",
         "type": "\"string\""
        },
        {
         "metadata": "{}",
         "name": "operationParameters",
         "type": "{\"type\":\"map\",\"keyType\":\"string\",\"valueType\":\"string\",\"valueContainsNull\":true}"
        },
        {
         "metadata": "{}",
         "name": "job",
         "type": "{\"type\":\"struct\",\"fields\":[{\"name\":\"jobId\",\"type\":\"string\",\"nullable\":true,\"metadata\":{}},{\"name\":\"jobName\",\"type\":\"string\",\"nullable\":true,\"metadata\":{}},{\"name\":\"jobRunId\",\"type\":\"string\",\"nullable\":true,\"metadata\":{}},{\"name\":\"runId\",\"type\":\"string\",\"nullable\":true,\"metadata\":{}},{\"name\":\"jobOwnerId\",\"type\":\"string\",\"nullable\":true,\"metadata\":{}},{\"name\":\"triggerType\",\"type\":\"string\",\"nullable\":true,\"metadata\":{}}]}"
        },
        {
         "metadata": "{}",
         "name": "notebook",
         "type": "{\"type\":\"struct\",\"fields\":[{\"name\":\"notebookId\",\"type\":\"string\",\"nullable\":true,\"metadata\":{}}]}"
        },
        {
         "metadata": "{}",
         "name": "clusterId",
         "type": "\"string\""
        },
        {
         "metadata": "{}",
         "name": "readVersion",
         "type": "\"long\""
        },
        {
         "metadata": "{}",
         "name": "isolationLevel",
         "type": "\"string\""
        },
        {
         "metadata": "{}",
         "name": "isBlindAppend",
         "type": "\"boolean\""
        },
        {
         "metadata": "{}",
         "name": "operationMetrics",
         "type": "{\"type\":\"map\",\"keyType\":\"string\",\"valueType\":\"string\",\"valueContainsNull\":true}"
        },
        {
         "metadata": "{}",
         "name": "userMetadata",
         "type": "\"string\""
        },
        {
         "metadata": "{}",
         "name": "engineInfo",
         "type": "\"string\""
        }
       ],
       "type": "table"
      }
     },
     "output_type": "display_data"
    }
   ],
   "source": [
    "%sql\n",
    "DESC HISTORY small_files_auto\n",
    "-- we can see after every 50 data there is optimized file in which we can see 50 files removed and 1 optimized file added"
   ]
  },
  {
   "cell_type": "markdown",
   "metadata": {
    "application/vnd.databricks.v1+cell": {
     "cellMetadata": {
      "byteLimit": 2048000,
      "rowLimit": 10000
     },
     "inputWidgets": {},
     "nuid": "e7496acb-a4b9-481c-895c-044604a8c5cc",
     "showTitle": false,
     "tableResultSettingsMap": {},
     "title": ""
    }
   },
   "source": [
    "#When predictive optimization is enabled on account level\n",
    "Then Databricks kick off 2 optimizations for u\n",
    "- **Optimize**\n",
    "  - Triggers incremental clustering\n",
    "  - optimize file sizes\n",
    "- **Vaccum**\n",
    "  - Delete data files no longer references by table"
   ]
  },
  {
   "cell_type": "markdown",
   "metadata": {
    "application/vnd.databricks.v1+cell": {
     "cellMetadata": {
      "byteLimit": 2048000,
      "rowLimit": 10000
     },
     "inputWidgets": {},
     "nuid": "aebda0e7-33b7-4e53-831e-bfc4eef3ebf9",
     "showTitle": false,
     "tableResultSettingsMap": {},
     "title": ""
    }
   },
   "source": []
  }
 ],
 "metadata": {
  "application/vnd.databricks.v1+notebook": {
   "computePreferences": null,
   "dashboards": [],
   "environmentMetadata": {
    "base_environment": "",
    "client": "1"
   },
   "language": "python",
   "notebookMetadata": {
    "pythonIndentUnit": 4
   },
   "notebookName": "9 Auto Optimize",
   "widgets": {}
  }
 },
 "nbformat": 4,
 "nbformat_minor": 0
}
